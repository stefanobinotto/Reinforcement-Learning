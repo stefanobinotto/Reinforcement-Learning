{
 "cells": [
  {
   "cell_type": "markdown",
   "metadata": {
    "collapsed": true,
    "pycharm": {
     "name": "#%% md\n"
    }
   },
   "source": [
    "# Temporal Difference Learning\n",
    "\n",
    "In this tutorial lecture we will look at several examples and implementation of algorithms, all related to the idea of\n",
    "_temporal difference learning_.\n",
    "\n",
    "Temporal difference refers to a class of model-free Reinforcement Learning algorithms methods which learns by\n",
    "_bootstrapping_. To get started, let's recall the TD[0] update for the value-function:\n",
    "\n",
    "$$V(s) \\leftarrow V(s) + \\alpha[\\overbrace{r+\\gamma \\underbrace{V(s')}_{\\text{bootstrapping}}}^{\\text{TD target}}-V(s)]$$\n",
    "\n",
    "in which becomes clear that we use the current estimate of the value-function to perform the update, thus resulting in\n",
    "a _biased_ procedure.\n",
    "\n",
    "This update is a special case of the more general TD[n], which instead suggests to collect more than only 1 reward\n",
    "sample, in order to find a \"more reliable\" update:\n",
    "\n",
    "$$V(s) \\leftarrow V(s) + \\alpha[\\overbrace{\\underbrace{r+\\gamma r'+\\gamma^2 r''+\\dots}_{n\\text{ future rewards}}+\\gamma^{n}\\underbrace{V(s^{(n)})}_{\\text{bootstrapping}}}^{\\text{TD target}}-V(s)]$$\n",
    "\n",
    "where you can see that the role of bootstrapping is milder, but this comes at the price of having to wait more steps\n",
    "before updating the value-function estimate.\n",
    "\n",
    "In its other limit case, where $n$ equals the number of steps in the episode, this is the Monte Carlo algorithm.\n",
    "\n",
    "Therefore the Temporal Difference framework is very important and makes use of all the concepts you studied so far."
   ]
  },
  {
   "cell_type": "markdown",
   "metadata": {
    "pycharm": {
     "name": "#%% md\n"
    }
   },
   "source": [
    "## Today's topics\n",
    "\n",
    "- SARSA VS Q-learning\n",
    "- TD fixed point\n",
    "- Mountain Car environment & SARSA($\\lambda$)"
   ]
  },
  {
   "cell_type": "markdown",
   "metadata": {
    "pycharm": {
     "name": "#%% md\n"
    }
   },
   "source": [
    "### Usual credits and imports\n"
   ]
  },
  {
   "cell_type": "code",
   "execution_count": 1,
   "metadata": {
    "pycharm": {
     "name": "#%%\n"
    }
   },
   "outputs": [],
   "source": [
    "#######################################################################\n",
    "# Copyright (C)                                                       #\n",
    "# 2016-2018 Shangtong Zhang(zhangshangtong.cpp@gmail.com)             #\n",
    "# 2016 Kenta Shimada(hyperkentakun@gmail.com)                         #\n",
    "# Permission given to modify the code as long as you keep this        #\n",
    "# declaration at the top                                              #\n",
    "#######################################################################\n",
    "\n",
    "import numpy as np\n",
    "import matplotlib\n",
    "import matplotlib.pyplot as plt\n",
    "from tqdm import tqdm"
   ]
  },
  {
   "cell_type": "markdown",
   "metadata": {
    "pycharm": {
     "name": "#%% md\n"
    }
   },
   "source": [
    "## TD[0] for q-functions: on-policy VS off-policy\n",
    "\n",
    "In this section we will take a closer look at two very important algorithms, which are built around the q-function\n",
    "estimation instead of the value-function. Those are examples of TD[0], hence they will use only 1 reward sample for the\n",
    "update. The on-policy and off-policy versions of this algorithm are called respectively **SARSA** and **Q-learning**.\n",
    "\n",
    "We will witness their main differences by solving the _Cliff Walking_ environment. This is a gridworld environment, with\n",
    "a standard undiscounted ($\\gamma = 1$) episodic task, in which there are 2 different regions:\n",
    "- Walking region: any transition ending in one of the states in this region result in a reward of $-1$. Two states of\n",
    "this region are marked as \"start\" and \"goal\": it is there that the episode _always_ begins and ends, respectively.\n",
    "- The Cliff: any transition ending in one of the states in this region result in a reward of $-100$ and sends the agent\n",
    "back to the \"start\" state.\n",
    "\n",
    "Let's see the performance of the agents following SARSA and Q-learning algorithm, with $\\epsilon$-greedy action\n",
    "selection, $\\epsilon=0.1$.\n"
   ]
  },
  {
   "cell_type": "markdown",
   "metadata": {
    "pycharm": {
     "name": "#%% md\n"
    }
   },
   "source": [
    "Definition of the parameters and size of the environment, setting start and goal states (y-axis reversed).\n"
   ]
  },
  {
   "cell_type": "code",
   "execution_count": 2,
   "metadata": {
    "pycharm": {
     "name": "#%%\n"
    }
   },
   "outputs": [],
   "source": [
    "# world height\n",
    "WORLD_HEIGHT = 4\n",
    "\n",
    "# world width\n",
    "WORLD_WIDTH = 12\n",
    "\n",
    "# probability for exploration\n",
    "EPSILON = 0.1\n",
    "\n",
    "# step size\n",
    "ALPHA = 0.5\n",
    "\n",
    "# gamma for Q-Learning and Expected Sarsa\n",
    "GAMMA = 1\n",
    "\n",
    "# all possible actions\n",
    "ACTION_UP = 0\n",
    "ACTION_DOWN = 1\n",
    "ACTION_LEFT = 2\n",
    "ACTION_RIGHT = 3\n",
    "ACTIONS = [ACTION_UP, ACTION_DOWN, ACTION_LEFT, ACTION_RIGHT]\n",
    "\n",
    "# initial state action pair values\n",
    "START = [3, 0]\n",
    "GOAL = [3, 11]"
   ]
  },
  {
   "cell_type": "markdown",
   "metadata": {
    "pycharm": {
     "name": "#%% md\n"
    }
   },
   "source": [
    "- `step` function: definition of the Cliff region, placed in the lowest row (start and goal states excluded).\n",
    "\n",
    "- `choose_action` implements the $\\epsilon$-greedy strategy.\n"
   ]
  },
  {
   "cell_type": "code",
   "execution_count": 3,
   "metadata": {
    "pycharm": {
     "name": "#%%\n"
    }
   },
   "outputs": [],
   "source": [
    "def step(state, action):\n",
    "    i, j = state\n",
    "    if action == ACTION_UP:\n",
    "        next_state = [max(i - 1, 0), j]\n",
    "    elif action == ACTION_LEFT:\n",
    "        next_state = [i, max(j - 1, 0)]\n",
    "    elif action == ACTION_RIGHT:\n",
    "        next_state = [i, min(j + 1, WORLD_WIDTH - 1)]\n",
    "    elif action == ACTION_DOWN:\n",
    "        next_state = [min(i + 1, WORLD_HEIGHT - 1), j]\n",
    "    else:\n",
    "        assert False\n",
    "\n",
    "    reward = -1\n",
    "    # Hard-coded Cliff! - not the best...\n",
    "    if (action == ACTION_DOWN and i == 2 and 1 <= j <= 10) or (action == ACTION_RIGHT and state == START):\n",
    "        reward = -100\n",
    "        next_state = START\n",
    "\n",
    "    return next_state, reward\n",
    "\n",
    "\n",
    "# choose an action based on epsilon greedy algorithm\n",
    "def choose_action(state, q_value):\n",
    "    if np.random.binomial(1, EPSILON) == 1:\n",
    "        return np.random.choice(ACTIONS)\n",
    "    else:\n",
    "        # q_value is indexed by [row, column, action]\n",
    "        values_ = q_value[state[0], state[1], :]\n",
    "        # breaking ties randomly\n",
    "        return np.random.choice([action_ for action_, value_ in enumerate(values_) if value_ == np.max(values_)])"
   ]
  },
  {
   "cell_type": "markdown",
   "metadata": {
    "pycharm": {
     "name": "#%% md\n"
    }
   },
   "source": [
    "SARSA implementation: also _expected SARSA_ algorithm can be chosen.\n",
    "\n",
    "**SARSA** update rule:\n",
    "\n",
    "$$ Q(s, a) \\leftarrow Q(s, a) + \\alpha[r + \\gamma Q(s', a') - Q(s, a)] $$\n",
    "\n",
    "where $a'=\\begin{cases} \\text{random action } \\qquad \\text{w. p. } \\epsilon \\\\ \\arg\\max_x{Q(s', x)} \\quad \\text{w. p. } 1-\\epsilon\\end{cases}$\n",
    "\n",
    "**Expected SARSA** update rule:\n",
    "\n",
    "$$ Q(s, a) \\leftarrow Q(s, a) + \\alpha[r + \\gamma \\underbrace{\\mathbb{E}_{a'}[Q(s', a')]}_{V(s')} - Q(s, a)] $$\n"
   ]
  },
  {
   "cell_type": "code",
   "execution_count": 4,
   "metadata": {
    "pycharm": {
     "name": "#%%\n"
    }
   },
   "outputs": [],
   "source": [
    "# an episode with Sarsa\n",
    "# @q_value: values for state action pair, will be updated\n",
    "# @expected: if True, will use expected Sarsa algorithm\n",
    "# @step_size: step size for updating\n",
    "# @return: total rewards within this episode\n",
    "def sarsa(q_value, expected=False, step_size=ALPHA):\n",
    "    state = START\n",
    "    action = choose_action(state, q_value)\n",
    "    rewards = 0.0\n",
    "    while state != GOAL:\n",
    "        next_state, reward = step(state, action)\n",
    "        next_action = choose_action(next_state, q_value)\n",
    "        rewards += reward\n",
    "        if not expected:\n",
    "            target = q_value[next_state[0], next_state[1], next_action]\n",
    "        else:\n",
    "            # calculate the expected value of new state\n",
    "            target = 0.0\n",
    "            q_next = q_value[next_state[0], next_state[1], :]\n",
    "            best_actions = np.argwhere(q_next == np.max(q_next))\n",
    "            for action_ in ACTIONS:\n",
    "                if action_ in best_actions:\n",
    "                    # probability of optimal action: (1-eps)/(# of optimal actions) + eps/(# of actions)\n",
    "                    target += ((1.0 - EPSILON) / len(best_actions) + EPSILON / len(ACTIONS)) * q_value[next_state[0], next_state[1], action_]\n",
    "                else:\n",
    "                    # probability of non-optimal action: eps/(# of actions)\n",
    "                    target += EPSILON / len(ACTIONS) * q_value[next_state[0], next_state[1], action_]\n",
    "        target *= GAMMA\n",
    "        q_value[state[0], state[1], action] += step_size * (\n",
    "                reward + target - q_value[state[0], state[1], action])\n",
    "        state = next_state\n",
    "        action = next_action\n",
    "    return rewards"
   ]
  },
  {
   "cell_type": "markdown",
   "metadata": {
    "pycharm": {
     "name": "#%% md\n"
    }
   },
   "source": [
    "**Q-learning** update rule:\n",
    "\n",
    "$$ Q(s, a) \\leftarrow Q(s, a) + \\alpha[r + \\max_{a'}[\\gamma Q(s', a')] - Q(s, a)] $$\n"
   ]
  },
  {
   "cell_type": "code",
   "execution_count": 5,
   "metadata": {
    "pycharm": {
     "name": "#%%\n"
    }
   },
   "outputs": [],
   "source": [
    "# an episode with Q-Learning\n",
    "# @q_value: values for state action pair, will be updated\n",
    "# @step_size: step size for updating\n",
    "# @return: total rewards within this episode\n",
    "def q_learning(q_value, step_size=ALPHA):\n",
    "    state = START\n",
    "    rewards = 0.0\n",
    "    while state != GOAL:\n",
    "        action = choose_action(state, q_value)\n",
    "        next_state, reward = step(state, action)\n",
    "        rewards += reward\n",
    "        # Q-Learning update\n",
    "        q_value[state[0], state[1], action] += step_size * (\n",
    "                reward + GAMMA * np.max(q_value[next_state[0], next_state[1], :]) -\n",
    "                q_value[state[0], state[1], action])\n",
    "        state = next_state\n",
    "    return rewards"
   ]
  },
  {
   "cell_type": "markdown",
   "metadata": {
    "pycharm": {
     "name": "#%% md\n"
    }
   },
   "source": [
    "Function that prints the optimal action for each state, as given by the learned q-table.\n",
    "\n",
    "It has been modified to return `optimal_policy`.\n"
   ]
  },
  {
   "cell_type": "code",
   "execution_count": 6,
   "metadata": {
    "pycharm": {
     "name": "#%%\n"
    }
   },
   "outputs": [],
   "source": [
    "# print optimal policy\n",
    "def print_optimal_policy(q_value):\n",
    "    optimal_policy = []  # empty list\n",
    "    for i in range(0, WORLD_HEIGHT):\n",
    "        optimal_policy.append([])  # empty list for each row\n",
    "        for j in range(0, WORLD_WIDTH):  # for each column append the best action or 'G'\n",
    "            if [i, j] == GOAL:\n",
    "                optimal_policy[-1].append('G')\n",
    "                continue\n",
    "            bestAction = np.argmax(q_value[i, j, :])\n",
    "            if bestAction == ACTION_UP:\n",
    "                optimal_policy[-1].append('U')\n",
    "            elif bestAction == ACTION_DOWN:\n",
    "                optimal_policy[-1].append('D')\n",
    "            elif bestAction == ACTION_LEFT:\n",
    "                optimal_policy[-1].append('L')\n",
    "            elif bestAction == ACTION_RIGHT:\n",
    "                optimal_policy[-1].append('R')\n",
    "    for row in optimal_policy:\n",
    "        print(row)\n",
    "    # return the optimal policy (according to the given q_value!)\n",
    "    return optimal_policy"
   ]
  },
  {
   "cell_type": "markdown",
   "metadata": {
    "pycharm": {
     "name": "#%% md\n"
    }
   },
   "source": [
    "New function that prints the environment (in a very simple way).\n",
    "\n",
    "It can also plot the path of the optimal policy returned by the previous function, with a user-defined label. You need\n",
    "to pass as arguments the optimal policy and the label.\n"
   ]
  },
  {
   "cell_type": "code",
   "execution_count": 7,
   "metadata": {
    "pycharm": {
     "name": "#%%\n"
    }
   },
   "outputs": [],
   "source": [
    "def print_env(optimal_policy=None, name=None):\n",
    "    env = [['W']*WORLD_WIDTH for _ in range(WORLD_HEIGHT-1)]\n",
    "    last_row = ['C']*WORLD_WIDTH\n",
    "    last_row[0], last_row[WORLD_WIDTH-1] = 'S', 'G'\n",
    "    env.append(last_row)\n",
    "    if optimal_policy is not None:\n",
    "        state = np.copy(START)\n",
    "        while tuple(state) != tuple(GOAL):\n",
    "            env[state[0]][state[1]] = name\n",
    "            if optimal_policy[state[0]][state[1]] == 'U':\n",
    "                state[0] -= 1\n",
    "            elif optimal_policy[state[0]][state[1]] == 'R':\n",
    "                state[1] += 1\n",
    "            elif optimal_policy[state[0]][state[1]] == 'D':\n",
    "                state[0] += 1\n",
    "            elif optimal_policy[state[0]][state[1]] == 'L':\n",
    "                state[1] -= 1\n",
    "    env[START[0]][START[1]] = 'S'\n",
    "    [print(env[i]) for i in range(len(env))]"
   ]
  },
  {
   "cell_type": "markdown",
   "metadata": {
    "pycharm": {
     "name": "#%% md\n"
    }
   },
   "source": [
    "Let's execute the SARSA and Q-learning algorithm for 10 runs of 500 episodes each and see their optimal paths.\n"
   ]
  },
  {
   "cell_type": "code",
   "execution_count": 8,
   "metadata": {
    "pycharm": {
     "name": "#%%\n"
    }
   },
   "outputs": [
    {
     "name": "stdout",
     "output_type": "stream",
     "text": [
      "Environment representation:\n",
      "['W', 'W', 'W', 'W', 'W', 'W', 'W', 'W', 'W', 'W', 'W', 'W']\n",
      "['W', 'W', 'W', 'W', 'W', 'W', 'W', 'W', 'W', 'W', 'W', 'W']\n",
      "['W', 'W', 'W', 'W', 'W', 'W', 'W', 'W', 'W', 'W', 'W', 'W']\n",
      "['S', 'C', 'C', 'C', 'C', 'C', 'C', 'C', 'C', 'C', 'C', 'G']\n"
     ]
    },
    {
     "name": "stderr",
     "output_type": "stream",
     "text": [
      "100%|████████████████████████████████████████████████████████████████████████████████████████████████████████████████████████████| 10/10 [00:04<00:00,  2.23it/s]"
     ]
    },
    {
     "name": "stdout",
     "output_type": "stream",
     "text": [
      "Sarsa Optimal Policy:\n",
      "['R', 'R', 'R', 'R', 'R', 'R', 'R', 'R', 'R', 'R', 'R', 'D']\n",
      "['U', 'U', 'L', 'U', 'U', 'U', 'U', 'R', 'U', 'U', 'R', 'D']\n",
      "['U', 'R', 'R', 'U', 'U', 'R', 'U', 'R', 'U', 'U', 'R', 'D']\n",
      "['U', 'U', 'U', 'U', 'U', 'U', 'U', 'U', 'U', 'U', 'U', 'G']\n",
      "Sarsa optimal path (label 'A'):\n",
      "['A', 'A', 'A', 'A', 'A', 'A', 'A', 'A', 'A', 'A', 'A', 'A']\n",
      "['A', 'W', 'W', 'W', 'W', 'W', 'W', 'W', 'W', 'W', 'W', 'A']\n",
      "['A', 'W', 'W', 'W', 'W', 'W', 'W', 'W', 'W', 'W', 'W', 'A']\n",
      "['S', 'C', 'C', 'C', 'C', 'C', 'C', 'C', 'C', 'C', 'C', 'G']\n",
      "Q-Learning Optimal Policy:\n",
      "['R', 'R', 'R', 'R', 'L', 'R', 'D', 'R', 'R', 'D', 'D', 'D']\n",
      "['U', 'D', 'R', 'D', 'D', 'R', 'R', 'D', 'R', 'R', 'D', 'D']\n",
      "['R', 'R', 'R', 'R', 'R', 'R', 'R', 'R', 'R', 'R', 'R', 'D']\n",
      "['U', 'U', 'U', 'U', 'U', 'U', 'U', 'U', 'U', 'U', 'U', 'G']\n",
      "Q-learning optimal path (label 'Q'):\n",
      "['W', 'W', 'W', 'W', 'W', 'W', 'W', 'W', 'W', 'W', 'W', 'W']\n",
      "['W', 'W', 'W', 'W', 'W', 'W', 'W', 'W', 'W', 'W', 'W', 'W']\n",
      "['Q', 'Q', 'Q', 'Q', 'Q', 'Q', 'Q', 'Q', 'Q', 'Q', 'Q', 'Q']\n",
      "['S', 'C', 'C', 'C', 'C', 'C', 'C', 'C', 'C', 'C', 'C', 'G']\n"
     ]
    },
    {
     "name": "stderr",
     "output_type": "stream",
     "text": [
      "\n"
     ]
    },
    {
     "data": {
      "image/png": "[encoded data removed]",
      "text/plain": [
       "<Figure size 640x480 with 1 Axes>"
      ]
     },
     "metadata": {},
     "output_type": "display_data"
    }
   ],
   "source": [
    "print('Environment representation:')\n",
    "print_env()\n",
    "\n",
    "# episodes of each run\n",
    "episodes = 500\n",
    "\n",
    "# perform 10 independent runs\n",
    "runs = 10\n",
    "\n",
    "rewards_sarsa = np.zeros(episodes)\n",
    "rewards_q_learning = np.zeros(episodes)\n",
    "for r in tqdm(range(runs)):  # every time I start with a new q_table (I will print only the last one)\n",
    "    q_sarsa = np.zeros((WORLD_HEIGHT, WORLD_WIDTH, 4))\n",
    "    q_q_learning = np.copy(q_sarsa)\n",
    "    for i in range(0, episodes):\n",
    "        # cut off the value by -100 to draw the figure more elegantly\n",
    "        # rewards_sarsa[i] += max(sarsa(q_sarsa), -100)\n",
    "        # rewards_q_learning[i] += max(q_learning(q_q_learning), -100)\n",
    "        rewards_sarsa[i] += sarsa(q_sarsa)\n",
    "        rewards_q_learning[i] += q_learning(q_q_learning)\n",
    "\n",
    "# averaging over independent runs\n",
    "rewards_sarsa /= runs\n",
    "rewards_q_learning /= runs\n",
    "\n",
    "# display optimal policy\n",
    "print('Sarsa Optimal Policy:')\n",
    "opt_sarsa = print_optimal_policy(q_sarsa)\n",
    "print('Sarsa optimal path (label \\'A\\'):')\n",
    "print_env(opt_sarsa, 'A')\n",
    "print('Q-Learning Optimal Policy:')\n",
    "opt_q = print_optimal_policy(q_q_learning)\n",
    "print('Q-learning optimal path (label \\'Q\\'):')\n",
    "print_env(opt_q, 'Q')\n",
    "\n",
    "# draw reward curves\n",
    "plt.plot(rewards_sarsa, label='Sarsa')\n",
    "plt.plot(rewards_q_learning, label='Q-Learning')\n",
    "plt.xlabel('Episodes')\n",
    "plt.ylabel('Sum of rewards during episode')\n",
    "plt.ylim([-100, 0])\n",
    "plt.legend()\n",
    "\n",
    "plt.show()\n",
    "plt.close()"
   ]
  },
  {
   "cell_type": "markdown",
   "metadata": {
    "pycharm": {
     "name": "#%% md\n"
    }
   },
   "source": [
    "## TD fixed point\n",
    "\n",
    "Until now, we always considered the case in which the number of states is rather small, so that we could estimate the\n",
    "actual value-function or q-function for each state without much computational effort. This is rarely the case in actual\n",
    "Reinforcement Learning, therefore it is essential to address also the case of function approximation.\n",
    "\n",
    "In general, we want to describe the quantity of interest (the value or q-function) with a smaller number of \"degrees of\n",
    "freedom\" than the number of all possible state $\\vert \\mathcal{S}\\vert$, and in order to do that we exploit a _parametrized functional form_.\n",
    "This means that we will express our quantity of interest with a **parameter** $w \\in \\mathbb{R}^d$ (or better a vector of parameters) which\n",
    "uniquely describe a particular function $f \\in \\mathcal{F}_w$.\n",
    "\n",
    "Then our best approximation will of course belong to this space of functions $\\mathcal{F}_w$ (given by the functions\n",
    "that can be described by a particular paramter $w$), and indeed this is the \"simplification\" we are introducing in the\n",
    "problem: we are searching in a smaller space $\\mathcal{F}_w \\subset \\mathcal{F}$, reducing the dimensionality from\n",
    "$\\vert \\mathcal{S}\\vert$ to $d$, with $d<<\\vert \\mathcal{S}\\vert$.\n",
    "\n",
    "Consider the **linear** function space. Given the $d$ dimensional _fixed_ feature vector\n",
    "\n",
    "$$ x(s) = (x_1(s), x_2(s), \\dots, x_d(s)) $$\n",
    "\n",
    "we want to find the best $w = (w_1, \\dots, w_d)$ so that the prediction objective ($\\overline{\\text{VE}}$) is minimized, given the linear functional form: $\\hat{v}(s, w)=w^\\top x(s)$.\n",
    "\n",
    "Recall that the prediction objective is the norm of the difference of our approximation and the true value-function,\n",
    "weighted by a state distribution $\\mu(s)$, i.e.:\n",
    "\n",
    "$$\\overline{\\text{VE}}(w) = \\sum_{s\\in\\mathcal{S}}\\mu(s)[v_\\pi(s) - \\hat{v}(s, w)]^2$$\n",
    "\n",
    "A simple strategy to minimize this objective is the SGD algorithm, which yields the update:\n",
    "\n",
    "$$ w_{t+1} = w_t + \\alpha[U_t - \\hat{v}(s_t, w_t)]x(s_t)$$\n",
    "\n",
    "since $\\nabla_w\\hat{v}(s, w) = x(s)$. Pay attention: for this update to hold exactly, the target $U_t$ must not depend on $w$!\n",
    "Otherwise, the derivative of that term is also implied! If the latter is neglected, we call it a semi-gradient update.\n",
    "\n",
    "As you know, the TD algorithm uses bootstrapping, and therefore the target depends on the current estimate, which of\n",
    "course depends on $w$. Thus we have a semi-gradient update, that does not converges to the global optimum (which is\n",
    "attained by following the Monte Carlo algorithm, for example), but to the so-called _TD fixed point_.\n",
    "\n",
    "It can be proved that the prediction objective at the TD fixed point is lower bounded by:\n",
    "\n",
    "$$ \\overline{\\text{VE}}(w_{\\text{TD}}) \\leq \\frac{1}{1-\\gamma}\\overline{\\text{VE}}(w) $$\n",
    "\n",
    "We will verify how bad the _TD fixed point_ can be in the case of \"maximum bootstrapping\", i.e. $\\gamma = 1$, (in which the prediction objective can grow unbounded) with the 1000-state Random Walk environment.\n",
    "\n",
    "1000-state **Random Walk environment**:\n",
    "- Start in state 500\n",
    "- Actions: left or right randomly (policy is embedded in the environment)\n",
    "- For every transition there is an equal probability of terminating in the next 100 states (in the direction of the\n",
    "action), always with $0$ reward. If there are less than 100 states the probability is accumulated in the last state.\n",
    "- Termination on the left: -1 reward\n",
    "- Termination on the right: +1 reward"
   ]
  },
  {
   "cell_type": "markdown",
   "metadata": {
    "pycharm": {
     "name": "#%% md\n"
    }
   },
   "source": [
    "Definition of the parameters and functioning of the environment through the `step` function. The policy is random as\n",
    "`get_action` returns a random action; the function `compute_true_value` computes the true value-function with Dynamic Programming."
   ]
  },
  {
   "cell_type": "code",
   "execution_count": 9,
   "metadata": {
    "pycharm": {
     "name": "#%%\n"
    }
   },
   "outputs": [],
   "source": [
    "# # of states except for terminal states\n",
    "N_STATES = 1000\n",
    "\n",
    "# all states\n",
    "STATES = np.arange(1, N_STATES + 1)\n",
    "\n",
    "# start from a central state\n",
    "START_STATE = 500\n",
    "\n",
    "# terminal states\n",
    "END_STATES = [0, N_STATES + 1]\n",
    "\n",
    "# possible actions\n",
    "ACTION_LEFT = -1\n",
    "ACTION_RIGHT = 1\n",
    "ACTIONS = [ACTION_LEFT, ACTION_RIGHT]\n",
    "\n",
    "# maximum stride for an action\n",
    "STEP_RANGE = 100\n",
    "\n",
    "\n",
    "def compute_true_value():\n",
    "    # true state value, just a promising guess\n",
    "    true_value = np.arange(-1001, 1003, 2) / 1001.0\n",
    "    assert (np.arange(-1001, 1003, 2) == np.arange(-1001, 1002, 2)).all()\n",
    "\n",
    "    # Dynamic programming to find the true state values, based on the promising guess above\n",
    "    # Assume all rewards are 0, given that we have already given value -1 and 1 to terminal states\n",
    "    while True:\n",
    "        old_value = np.copy(true_value)\n",
    "        for state in STATES:\n",
    "            true_value[state] = 0\n",
    "            for action in ACTIONS:\n",
    "                for step in range(1, STEP_RANGE + 1):\n",
    "                    step *= action  # step with sign\n",
    "                    next_state = state + step\n",
    "                    next_state = max(min(next_state, N_STATES + 1), 0)  # to clip the boundaries\n",
    "                    # asynchronous update for faster convergence\n",
    "                    # probability is 1/200 because of random action - estimating v_\\pi!\n",
    "                    true_value[state] += 1.0 / (2 * STEP_RANGE) * true_value[next_state]\n",
    "        error = np.sum(np.abs(old_value - true_value))\n",
    "        if error < 1e-2:\n",
    "            break\n",
    "    # correct the state value for terminal states to 0\n",
    "    true_value[0] = true_value[-1] = 0\n",
    "\n",
    "    return true_value\n",
    "\n",
    "\n",
    "# take an @action at @state, return new state and reward for this transition\n",
    "def step(state, action):\n",
    "    step = np.random.randint(1, STEP_RANGE + 1)\n",
    "    step *= action\n",
    "    state += step\n",
    "    state = max(min(state, N_STATES + 1), 0)\n",
    "    if state == 0:\n",
    "        reward = -1\n",
    "    elif state == N_STATES + 1:\n",
    "        reward = 1\n",
    "    else:\n",
    "        reward = 0\n",
    "    return state, reward\n",
    "\n",
    "\n",
    "# get an action, following random policy\n",
    "def get_action():\n",
    "    if np.random.binomial(1, 0.5) == 1:\n",
    "        return 1\n",
    "    return -1"
   ]
  },
  {
   "cell_type": "markdown",
   "metadata": {
    "pycharm": {
     "name": "#%% md\n"
    }
   },
   "source": [
    "A general class for value-function with function approximation: grouping different states together. The dimensionality in this case is reduced from 1000 to `num_of_groups` (which will be then taken equal to 10). We will use a 1-dimensional tile coding approximation, which corresponds to a coarser grid for discrete values (or to a grouping of the finer grid). If $(S_1, S_2, \\dots, S_d)$ are the groups, the feature vector is built through the scalar functions $x_i(s) = \\mathbb{1}_{S_i}(s)$.\n",
    "\n",
    "\n",
    "The class below will automatically take care of the grouping and approximation, thus allowing us to treat the value-function as we have always done, i.e. passing the state without pre-processing."
   ]
  },
  {
   "cell_type": "code",
   "execution_count": 10,
   "metadata": {
    "pycharm": {
     "name": "#%%\n"
    }
   },
   "outputs": [],
   "source": [
    "# a wrapper class for aggregation value function\n",
    "class ValueFunction:\n",
    "    # @num_of_groups: # of aggregations\n",
    "    def __init__(self, num_of_groups):\n",
    "        self.num_of_groups = num_of_groups  #  dimension of the feature vector d\n",
    "        self.group_size = N_STATES // num_of_groups\n",
    "\n",
    "        # thetas\n",
    "        self.params = np.zeros(num_of_groups)\n",
    "\n",
    "    # get the value of @state\n",
    "    def value(self, state):\n",
    "        if state in END_STATES:\n",
    "            return 0\n",
    "        group_index = (state - 1) // self.group_size\n",
    "        return self.params[group_index]  # collective value of the group (to which the state belongs) is returned!\n",
    "\n",
    "    # update parameters\n",
    "    # @delta: step size * (target - old estimation)\n",
    "    # @state: state of current sample\n",
    "    def update(self, delta, state):\n",
    "        group_index = (state - 1) // self.group_size\n",
    "        self.params[group_index] += delta"
   ]
  },
  {
   "cell_type": "markdown",
   "metadata": {
    "pycharm": {
     "name": "#%% md\n"
    }
   },
   "source": [
    "We want to understand the role of the TD fixed point, so we need to compare its prediction objective to the global\n",
    "optimum. To reach the latter point, we use the Monte Carlo algorithm (which is unbiased, and its target does not depend\n",
    "on $w$).\n",
    "\n",
    "SGD for **Monte Carlo** scheme:\n",
    "$$ w_{t+1} = w_t + \\alpha[G_t - \\hat{v}(s_t, w_t)]\\nabla_w\\hat{v}(s_t, w_t) $$"
   ]
  },
  {
   "cell_type": "code",
   "execution_count": 11,
   "metadata": {
    "pycharm": {
     "name": "#%%\n"
    }
   },
   "outputs": [
    {
     "name": "stderr",
     "output_type": "stream",
     "text": [
      "100%|██████████████████████████████████████████████████████████████████████████████████████████████████████████████████| 100000/100000 [00:25<00:00, 3947.16it/s]\n"
     ]
    },
    {
     "data": {
      "image/png": "[encoded data removed]",
      "text/plain": [
       "<Figure size 1000x2000 with 2 Axes>"
      ]
     },
     "metadata": {},
     "output_type": "display_data"
    }
   ],
   "source": [
    "# gradient Monte Carlo algorithm\n",
    "# @value_function: an instance of class ValueFunction\n",
    "# @alpha: step size\n",
    "# @distribution: array to store the distribution statistics\n",
    "def gradient_monte_carlo(value_function, alpha, distribution=None):\n",
    "    state = START_STATE\n",
    "    trajectory = [state]\n",
    "\n",
    "    # We assume gamma = 1, so return is just the same as the latest reward\n",
    "    reward = 0.0\n",
    "    while state not in END_STATES:\n",
    "        action = get_action()\n",
    "        next_state, reward = step(state, action)  # @reward keeps updating!\n",
    "        trajectory.append(next_state)\n",
    "        state = next_state\n",
    "\n",
    "    # Gradient update for each state in this trajectory\n",
    "    for state in trajectory[:-1]:  # parse the trajectory backward\n",
    "        delta = alpha * (reward - value_function.value(state))  # Monte Carlo!\n",
    "        value_function.update(delta, state)\n",
    "        if distribution is not None:\n",
    "            distribution[state] += 1  # also empirical distribution is provided\n",
    "\n",
    "\n",
    "true_value = compute_true_value()\n",
    "\n",
    "episodes = int(1e5)\n",
    "alpha = 2e-5\n",
    "\n",
    "# we have 10 aggregations in this example, each has 100 states\n",
    "value_function = ValueFunction(10)\n",
    "distribution = np.zeros(N_STATES + 2)\n",
    "for ep in tqdm(range(episodes)):\n",
    "    gradient_monte_carlo(value_function, alpha, distribution)\n",
    "\n",
    "distribution /= np.sum(distribution)  # normalize distribution\n",
    "state_values = [value_function.value(i) for i in STATES]  # get values for each state\n",
    "\n",
    "plt.figure(figsize=(10, 20))\n",
    "\n",
    "plt.subplot(2, 1, 1)\n",
    "plt.plot(STATES, state_values, label='Approximate MC value', linewidth=2)\n",
    "plt.plot(STATES, true_value[1: -1], label='True value', linewidth=2)\n",
    "plt.xlabel('State')\n",
    "plt.ylabel('Value')\n",
    "plt.legend(prop={\"size\":20})\n",
    "\n",
    "plt.subplot(2, 1, 2)\n",
    "plt.plot(STATES, distribution[1: -1], label='State distribution')\n",
    "plt.xlabel('State')\n",
    "plt.ylabel('Distribution')\n",
    "plt.legend(prop={\"size\":20})\n",
    "\n",
    "plt.show()\n",
    "plt.close()\n"
   ]
  },
  {
   "cell_type": "markdown",
   "metadata": {
    "pycharm": {
     "name": "#%% md\n"
    }
   },
   "source": [
    "Then we must implement the TD semi-gradient method. We will look at the more general TD[n].\n",
    "\n",
    "SGD for **TD[n]** method:\n",
    "$$w_{t+1} = w_t + \\alpha[r+r'+r''+\\dots+\\hat{v}(s_{t+n}, w_t)-\\hat{v}(s_t, w_t)]\\nabla_w\\hat{v}(s_t, w_t) $$"
   ]
  },
  {
   "cell_type": "code",
   "execution_count": 12,
   "metadata": {
    "pycharm": {
     "name": "#%%\n"
    }
   },
   "outputs": [
    {
     "name": "stderr",
     "output_type": "stream",
     "text": [
      "100%|██████████████████████████████████████████████████████████████████████████████████████████████████████████████████| 100000/100000 [00:32<00:00, 3084.56it/s]\n"
     ]
    },
    {
     "data": {
      "text/plain": [
       "<matplotlib.legend.Legend at 0x7fa8947424f0>"
      ]
     },
     "execution_count": 12,
     "metadata": {},
     "output_type": "execute_result"
    },
    {
     "data": {
      "image/png": "[encoded data removed]",
      "text/plain": [
       "<Figure size 1000x1000 with 1 Axes>"
      ]
     },
     "metadata": {},
     "output_type": "display_data"
    }
   ],
   "source": [
    "# semi-gradient n-step TD algorithm\n",
    "# @valueFunction: an instance of class ValueFunction\n",
    "# @n: # of steps\n",
    "# @alpha: step size\n",
    "def semi_gradient_temporal_difference(value_function, n, alpha):\n",
    "    # initial starting state\n",
    "    state = START_STATE\n",
    "\n",
    "    # arrays to store states and rewards for an episode\n",
    "    # space isn't a major consideration, so I didn't use the mod trick\n",
    "    states = [state]\n",
    "    rewards = [0]  # never using these values\n",
    "\n",
    "    # track the time\n",
    "    time = 0\n",
    "\n",
    "    # the length of this episode\n",
    "    T = float('inf')\n",
    "    while True:\n",
    "        # go to next time step\n",
    "        time += 1\n",
    "\n",
    "        if time < T:\n",
    "            # choose an action randomly\n",
    "            action = get_action()\n",
    "            next_state, reward = step(state, action)\n",
    "\n",
    "            # store new state and new reward\n",
    "            states.append(next_state)\n",
    "            rewards.append(reward)\n",
    "\n",
    "            if next_state in END_STATES:\n",
    "                T = time\n",
    "\n",
    "        # get the time of the state to update\n",
    "        update_time = time - n\n",
    "        if update_time >= 0:\n",
    "            returns = 0.0\n",
    "            # calculate corresponding rewards\n",
    "            for t in range(update_time + 1, min(T, update_time + n) + 1):\n",
    "                returns += rewards[t]\n",
    "            # add state value to the return\n",
    "            if update_time + n <= T:  # bootstrapping\n",
    "                # I believe < is correct, not <=, but since value returns 0 in END_STATES is actually the same\n",
    "                returns += value_function.value(states[update_time + n])\n",
    "            state_to_update = states[update_time]\n",
    "            # update the value function\n",
    "            if not state_to_update in END_STATES:\n",
    "                delta = alpha * (returns - value_function.value(state_to_update))\n",
    "                value_function.update(delta, state_to_update)\n",
    "        if update_time == T - 1:\n",
    "            break\n",
    "        state = next_state\n",
    "\n",
    "\n",
    "episodes = int(1e5)\n",
    "alpha = 2e-4\n",
    "value_function = ValueFunction(10)\n",
    "for ep in tqdm(range(episodes)):\n",
    "    semi_gradient_temporal_difference(value_function, 5, alpha)\n",
    "\n",
    "stateValues = [value_function.value(i) for i in STATES]\n",
    "\n",
    "plt.figure(figsize=(10, 10))\n",
    "\n",
    "plt.plot(STATES, stateValues, label='Approximate TD value', linewidth=2)\n",
    "plt.plot(STATES, true_value[1: -1], label='True value', linewidth=2)\n",
    "plt.xlabel('State')\n",
    "plt.ylabel('Value')\n",
    "plt.legend()"
   ]
  },
  {
   "cell_type": "markdown",
   "metadata": {
    "pycharm": {
     "name": "#%% md\n"
    }
   },
   "source": [
    "Try and change the value of $n$ to see the difference."
   ]
  },
  {
   "cell_type": "markdown",
   "metadata": {
    "pycharm": {
     "name": "#%% md\n"
    }
   },
   "source": [
    "## Mountain Car\n",
    "\n",
    "Let's play a bit with the Mountain Car environment to see the standard syntax for dealing with general pre-built environments (this will also be what people will expect to see if there is a need to code an environment from scratch).\n",
    "\n",
    "We will use the environment already built by gym, thus we need to import (and first install, if you do not have it) the gym module."
   ]
  },
  {
   "cell_type": "code",
   "execution_count": 13,
   "metadata": {},
   "outputs": [
    {
     "name": "stdout",
     "output_type": "stream",
     "text": [
      "Defaulting to user installation because normal site-packages is not writeable\n",
      "Requirement already satisfied: gym==0.15.3 in /home/niccoloturcato/.local/lib/python3.8/site-packages (0.15.3)\n",
      "Requirement already satisfied: six in /usr/lib/python3/dist-packages (from gym==0.15.3) (1.14.0)\n",
      "Requirement already satisfied: pyglet<=1.3.2,>=1.2.0 in /home/niccoloturcato/.local/lib/python3.8/site-packages (from gym==0.15.3) (1.3.2)\n",
      "Requirement already satisfied: scipy in /home/niccoloturcato/.local/lib/python3.8/site-packages (from gym==0.15.3) (1.8.1)\n",
      "Requirement already satisfied: cloudpickle~=1.2.0 in /home/niccoloturcato/.local/lib/python3.8/site-packages (from gym==0.15.3) (1.2.2)\n",
      "Requirement already satisfied: numpy>=1.10.4 in /home/niccoloturcato/.local/lib/python3.8/site-packages (from gym==0.15.3) (1.23.1)\n",
      "Requirement already satisfied: future in /usr/lib/python3/dist-packages (from pyglet<=1.3.2,>=1.2.0->gym==0.15.3) (0.18.2)\n",
      "--- Logging error ---\n",
      "Traceback (most recent call last):\n",
      "  File \"/usr/local/lib/python3.8/dist-packages/pip/_internal/utils/logging.py\", line 177, in emit\n",
      "    self.console.print(renderable, overflow=\"ignore\", crop=False, style=style)\n",
      "  File \"/usr/local/lib/python3.8/dist-packages/pip/_vendor/rich/console.py\", line 1673, in print\n",
      "    extend(render(renderable, render_options))\n",
      "  File \"/usr/local/lib/python3.8/dist-packages/pip/_vendor/rich/console.py\", line 1305, in render\n",
      "    for render_output in iter_render:\n",
      "  File \"/usr/local/lib/python3.8/dist-packages/pip/_internal/utils/logging.py\", line 134, in __rich_console__\n",
      "    for line in lines:\n",
      "  File \"/usr/local/lib/python3.8/dist-packages/pip/_vendor/rich/segment.py\", line 249, in split_lines\n",
      "    for segment in segments:\n",
      "  File \"/usr/local/lib/python3.8/dist-packages/pip/_vendor/rich/console.py\", line 1283, in render\n",
      "    renderable = rich_cast(renderable)\n",
      "  File \"/usr/local/lib/python3.8/dist-packages/pip/_vendor/rich/protocol.py\", line 36, in rich_cast\n",
      "    renderable = cast_method()\n",
      "  File \"/usr/local/lib/python3.8/dist-packages/pip/_internal/self_outdated_check.py\", line 130, in __rich__\n",
      "    pip_cmd = get_best_invocation_for_this_pip()\n",
      "  File \"/usr/local/lib/python3.8/dist-packages/pip/_internal/utils/entrypoints.py\", line 58, in get_best_invocation_for_this_pip\n",
      "    if found_executable and os.path.samefile(\n",
      "  File \"/usr/lib/python3.8/genericpath.py\", line 101, in samefile\n",
      "    s2 = os.stat(f2)\n",
      "FileNotFoundError: [Errno 2] No such file or directory: '/usr/bin/pip3.8'\n",
      "Call stack:\n",
      "  File \"/usr/lib/python3.8/runpy.py\", line 194, in _run_module_as_main\n",
      "    return _run_code(code, main_globals, None,\n",
      "  File \"/usr/lib/python3.8/runpy.py\", line 87, in _run_code\n",
      "    exec(code, run_globals)\n",
      "  File \"/usr/local/lib/python3.8/dist-packages/pip/__main__.py\", line 31, in <module>\n",
      "    sys.exit(_main())\n",
      "  File \"/usr/local/lib/python3.8/dist-packages/pip/_internal/cli/main.py\", line 70, in main\n",
      "    return command.main(cmd_args)\n",
      "  File \"/usr/local/lib/python3.8/dist-packages/pip/_internal/cli/base_command.py\", line 101, in main\n",
      "    return self._main(args)\n",
      "  File \"/usr/local/lib/python3.8/dist-packages/pip/_internal/cli/base_command.py\", line 223, in _main\n",
      "    self.handle_pip_version_check(options)\n",
      "  File \"/usr/local/lib/python3.8/dist-packages/pip/_internal/cli/req_command.py\", line 190, in handle_pip_version_check\n",
      "    pip_self_version_check(session, options)\n",
      "  File \"/usr/local/lib/python3.8/dist-packages/pip/_internal/self_outdated_check.py\", line 236, in pip_self_version_check\n",
      "    logger.warning(\"[present-rich] %s\", upgrade_prompt)\n",
      "  File \"/usr/lib/python3.8/logging/__init__.py\", line 1458, in warning\n",
      "    self._log(WARNING, msg, args, **kwargs)\n",
      "  File \"/usr/lib/python3.8/logging/__init__.py\", line 1589, in _log\n",
      "    self.handle(record)\n",
      "  File \"/usr/lib/python3.8/logging/__init__.py\", line 1599, in handle\n",
      "    self.callHandlers(record)\n",
      "  File \"/usr/lib/python3.8/logging/__init__.py\", line 1661, in callHandlers\n",
      "    hdlr.handle(record)\n",
      "  File \"/usr/lib/python3.8/logging/__init__.py\", line 954, in handle\n",
      "    self.emit(record)\n",
      "  File \"/usr/local/lib/python3.8/dist-packages/pip/_internal/utils/logging.py\", line 179, in emit\n",
      "    self.handleError(record)\n",
      "Message: '[present-rich] %s'\n",
      "Arguments: (UpgradePrompt(old='22.2.2', new='22.3.1'),)\n",
      "Note: you may need to restart the kernel to use updated packages.\n"
     ]
    }
   ],
   "source": [
    "%pip install gym==0.15.3"
   ]
  },
  {
   "cell_type": "code",
   "execution_count": 14,
   "metadata": {},
   "outputs": [],
   "source": [
    "from math import floor\n",
    "import gym\n",
    "from gym import wrappers  # disregard this line"
   ]
  },
  {
   "cell_type": "code",
   "execution_count": 15,
   "metadata": {},
   "outputs": [],
   "source": [
    "car_env = gym.envs.make(\"MountainCar-v0\")  # define the Mountain Car environment\n",
    "car_env = wrappers.Monitor(car_env, \"./gym-results\", force=True)  # disregard this line\n",
    "car_env.reset()  # You must perform this line! Try not to!\n",
    "\n",
    "for _ in range(1000):\n",
    "    action = 2  # action 1 does nothing\n",
    "    observation, reward, done, info = car_env.step(action)\n",
    "    # car_env.render()  # You will need this line to display the environmnent\n",
    "    if done: break\n",
    "car_env.close()"
   ]
  },
  {
   "cell_type": "code",
   "execution_count": 16,
   "metadata": {},
   "outputs": [
    {
     "data": {
      "text/html": [
       "<video width=\"600\" height=\"auto\" alt=\"test\" controls><source src=\"data:video/mp4;base64,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\" type=\"video/mp4\" /></video>"
      ],
      "text/plain": [
       "<IPython.core.display.HTML object>"
      ]
     },
     "execution_count": 16,
     "metadata": {},
     "output_type": "execute_result"
    }
   ],
   "source": [
    "# This cell is there just to allows us to replay the video (at a slower pace)\n",
    "import io\n",
    "import base64\n",
    "from IPython.display import HTML\n",
    "\n",
    "video = io.open('./gym-results/openaigym.video.%s.video000000.mp4' % car_env.file_infix, 'r+b').read()\n",
    "encoded = base64.b64encode(video)\n",
    "HTML(data='''<video width=\"600\" height=\"auto\" alt=\"test\" controls><source src=\"data:video/mp4;base64,{0}\" type=\"video/mp4\" /></video>'''.format(encoded.decode('ascii')))"
   ]
  },
  {
   "cell_type": "markdown",
   "metadata": {},
   "source": [
    "Let's now use the **SARSA n-step algorithm** to learn the optimal q-function (and clearly also the value-function). Since it is a deterministic environment, the opimtistic initial value is enough to fully expore the environment and reach the optimal policy.\n",
    "\n",
    "Below there is a different implementation of tilings than before, working with _action-value function_. The principle is the same (of course): you can still think of it as a mapping from states to groups, in order to reduce dimensionality. Features are indeed built again with the indicator function."
   ]
  },
  {
   "cell_type": "code",
   "execution_count": 17,
   "metadata": {},
   "outputs": [],
   "source": [
    "#######################################################################\n",
    "# Following are some utilities for tile coding from Rich.\n",
    "# To make each file self-contained, I copied them from\n",
    "# http://incompleteideas.net/tiles/tiles3.py-remove\n",
    "# with some naming convention changes\n",
    "#\n",
    "# Tile coding starts\n",
    "class IHT:\n",
    "    \"Structure to handle collisions\"\n",
    "    def __init__(self, size_val):\n",
    "        self.size = size_val\n",
    "        self.overfull_count = 0\n",
    "        self.dictionary = {}\n",
    "\n",
    "    def count(self):\n",
    "        return len(self.dictionary)\n",
    "\n",
    "    def full(self):\n",
    "        return len(self.dictionary) >= self.size\n",
    "\n",
    "    def get_index(self, obj, read_only=False):\n",
    "        d = self.dictionary\n",
    "        if obj in d:\n",
    "            return d[obj]\n",
    "        elif read_only:\n",
    "            return None\n",
    "        size = self.size\n",
    "        count = self.count()\n",
    "        if count >= size:\n",
    "            if self.overfull_count == 0: print('IHT full, starting to allow collisions')\n",
    "            self.overfull_count += 1\n",
    "            return hash(obj) % self.size\n",
    "        else:\n",
    "            d[obj] = count\n",
    "            return count\n",
    "\n",
    "def hash_coords(coordinates, m, read_only=False):\n",
    "    if isinstance(m, IHT): return m.get_index(tuple(coordinates), read_only)\n",
    "    if isinstance(m, int): return hash(tuple(coordinates)) % m\n",
    "    if m is None: return coordinates\n",
    "\n",
    "def tiles(iht_or_size, num_tilings, floats, ints=None, read_only=False):\n",
    "    \"\"\"returns num-tilings tile indices corresponding to the floats and ints\"\"\"\n",
    "    if ints is None:\n",
    "        ints = []\n",
    "    qfloats = [floor(f * num_tilings) for f in floats]\n",
    "    tiles = []\n",
    "    for tiling in range(num_tilings):\n",
    "        tilingX2 = tiling * 2\n",
    "        coords = [tiling]\n",
    "        b = tiling\n",
    "        for q in qfloats:\n",
    "            coords.append((q + b) // num_tilings)\n",
    "            b += tilingX2\n",
    "        coords.extend(ints)\n",
    "        tiles.append(hash_coords(coords, iht_or_size, read_only))\n",
    "    return tiles\n",
    "# Tile coding ends\n",
    "#######################################################################"
   ]
  },
  {
   "cell_type": "markdown",
   "metadata": {},
   "source": [
    "Below we define the environment on which we will train the SARSA algorithm. It is a distinct environment from the previous one, but it works in the same way!"
   ]
  },
  {
   "cell_type": "code",
   "execution_count": 18,
   "metadata": {},
   "outputs": [],
   "source": [
    "# all possible actions\n",
    "ACTION_REVERSE = -1\n",
    "ACTION_ZERO = 0\n",
    "ACTION_FORWARD = 1\n",
    "# order is important\n",
    "ACTIONS = [ACTION_REVERSE, ACTION_ZERO, ACTION_FORWARD]\n",
    "\n",
    "# bound for position and velocity\n",
    "POSITION_MIN = -1.2\n",
    "POSITION_MAX = 0.6\n",
    "VELOCITY_MIN = -0.07\n",
    "VELOCITY_MAX = 0.07\n",
    "\n",
    "# use optimistic initial value, so it's ok to set epsilon to 0 - DETERMINISTIC ENVIRONMENT!\n",
    "EPSILON = 0\n",
    "\n",
    "# take an @action at @position and @velocity\n",
    "# @return: new position, new velocity, reward (always -1)\n",
    "def step(position, velocity, action):\n",
    "    new_velocity = velocity + 0.001 * action - 0.0025 * np.cos(3 * position)  # physics model - not so accurate...\n",
    "    new_velocity = min(max(VELOCITY_MIN, new_velocity), VELOCITY_MAX)\n",
    "    new_position = position + new_velocity\n",
    "    new_position = min(max(POSITION_MIN, new_position), POSITION_MAX)\n",
    "    reward = -1.0\n",
    "    if new_position == POSITION_MIN:\n",
    "        new_velocity = 0.0\n",
    "    return new_position, new_velocity, reward\n",
    "\n",
    "# wrapper class for state action value function\n",
    "class ValueFunction:\n",
    "    # In this example I use the tiling software instead of implementing standard tiling by myself\n",
    "    # One important thing is that tiling is only a map from (state, action) to a series of indices\n",
    "    # It doesn't matter whether the indices have meaning, only if this map satisfy some property\n",
    "    # View the following webpage for more information\n",
    "    # http://incompleteideas.net/sutton/tiles/tiles3.html\n",
    "    # @max_size: the maximum # of indices\n",
    "    def __init__(self, step_size, num_of_tilings=8, max_size=2048):\n",
    "        self.max_size = max_size\n",
    "        self.num_of_tilings = num_of_tilings\n",
    "\n",
    "        # divide step size equally to each tiling\n",
    "        self.step_size = step_size / num_of_tilings\n",
    "\n",
    "        self.hash_table = IHT(max_size)\n",
    "\n",
    "        # weight for each tile\n",
    "        self.weights = np.zeros(max_size)\n",
    "\n",
    "        # position and velocity needs scaling to satisfy the tile software\n",
    "        self.position_scale = self.num_of_tilings / (POSITION_MAX - POSITION_MIN)\n",
    "        self.velocity_scale = self.num_of_tilings / (VELOCITY_MAX - VELOCITY_MIN)\n",
    "\n",
    "    # get indices of active tiles for given state and action\n",
    "    def get_active_tiles(self, position, velocity, action):\n",
    "        # I think positionScale * (position - position_min) would be a good normalization.\n",
    "        # However positionScale * position_min is a constant, so it's ok to ignore it.\n",
    "        active_tiles = tiles(self.hash_table, self.num_of_tilings,\n",
    "                            [self.position_scale * position, self.velocity_scale * velocity],\n",
    "                            [action])\n",
    "        return active_tiles\n",
    "\n",
    "    # estimate the value of given state and action\n",
    "    def value(self, position, velocity, action):\n",
    "        if position == POSITION_MAX:\n",
    "            return 0.0\n",
    "        active_tiles = self.get_active_tiles(position, velocity, action)\n",
    "        return np.sum(self.weights[active_tiles])\n",
    "\n",
    "    # learn with given state, action and target\n",
    "    def learn(self, position, velocity, action, target):  # similar to @update in the previous class\n",
    "        active_tiles = self.get_active_tiles(position, velocity, action)\n",
    "        estimation = np.sum(self.weights[active_tiles])\n",
    "        delta = self.step_size * (target - estimation)\n",
    "        for active_tile in active_tiles:\n",
    "            self.weights[active_tile] += delta\n",
    "\n",
    "    # get # of steps to reach the goal under current state value function\n",
    "    def cost_to_go(self, position, velocity):\n",
    "        costs = []\n",
    "        for action in ACTIONS:\n",
    "            costs.append(self.value(position, velocity, action))\n",
    "        return -np.max(costs)\n",
    "\n",
    "# get action at @position and @velocity based on epsilon greedy policy and @valueFunction\n",
    "def get_action(position, velocity, value_function):\n",
    "    if np.random.binomial(1, EPSILON) == 1:\n",
    "        return np.random.choice(ACTIONS)\n",
    "    values = []\n",
    "    for action in ACTIONS:\n",
    "        values.append(value_function.value(position, velocity, action))\n",
    "    return np.random.choice([action_ for action_, value_ in enumerate(values) if value_ == np.max(values)]) - 1\n",
    "\n",
    "# semi-gradient n-step Sarsa\n",
    "# @valueFunction: state value function to learn\n",
    "# @n: # of steps\n",
    "def semi_gradient_n_step_sarsa(value_function, n=1):\n",
    "    # start at a random position around the bottom of the valley\n",
    "    current_position = np.random.uniform(-0.6, -0.4)\n",
    "    # initial velocity is 0\n",
    "    current_velocity = 0.0\n",
    "    # get initial action\n",
    "    current_action = get_action(current_position, current_velocity, value_function)\n",
    "\n",
    "    # track previous position, velocity, action and reward\n",
    "    positions = [current_position]\n",
    "    velocities = [current_velocity]\n",
    "    actions = [current_action]\n",
    "    rewards = [0.0]\n",
    "\n",
    "    # track the time\n",
    "    time = 0\n",
    "\n",
    "    # the length of this episode\n",
    "    T = float('inf')\n",
    "    while True:\n",
    "        # go to next time step\n",
    "        time += 1\n",
    "\n",
    "        if time < T:\n",
    "            # take current action and go to the new state\n",
    "            new_postion, new_velocity, reward = step(current_position, current_velocity, current_action)\n",
    "            # choose new action\n",
    "            new_action = get_action(new_postion, new_velocity, value_function)\n",
    "\n",
    "            # track new state and action\n",
    "            positions.append(new_postion)\n",
    "            velocities.append(new_velocity)\n",
    "            actions.append(new_action)\n",
    "            rewards.append(reward)\n",
    "\n",
    "            if new_postion == POSITION_MAX:\n",
    "                T = time\n",
    "\n",
    "        # get the time of the state to update\n",
    "        update_time = time - n\n",
    "        if update_time >= 0:\n",
    "            returns = 0.0\n",
    "            # calculate corresponding rewards\n",
    "            for t in range(update_time + 1, min(T, update_time + n) + 1):\n",
    "                returns += rewards[t]\n",
    "            # add estimated state action value to the return\n",
    "            if update_time + n <= T:\n",
    "                returns += value_function.value(positions[update_time + n],\n",
    "                                                velocities[update_time + n],\n",
    "                                                actions[update_time + n])\n",
    "            # update the state value function\n",
    "            if positions[update_time] != POSITION_MAX:\n",
    "                value_function.learn(positions[update_time], velocities[update_time], actions[update_time], returns)\n",
    "        if update_time == T - 1:\n",
    "            break\n",
    "        current_position = new_postion\n",
    "        current_velocity = new_velocity\n",
    "        current_action = new_action\n",
    "\n",
    "    return time"
   ]
  },
  {
   "cell_type": "code",
   "execution_count": 19,
   "metadata": {},
   "outputs": [
    {
     "name": "stderr",
     "output_type": "stream",
     "text": [
      "100%|████████████████████████████████████████████████████████████████████████████████████████████████████████████████████████| 1000/1000 [00:10<00:00, 98.12it/s]\n"
     ]
    }
   ],
   "source": [
    "# Actually learning the q-function\n",
    "episodes = 1000\n",
    "alpha = 0.3\n",
    "num_of_tilings = 8\n",
    "value_function = ValueFunction(alpha, num_of_tilings)\n",
    "for ep in tqdm(range(episodes)):\n",
    "    semi_gradient_n_step_sarsa(value_function)"
   ]
  },
  {
   "cell_type": "markdown",
   "metadata": {},
   "source": [
    "The q-function estimated with the $n$-steps SARSA algorithm allows us to take a specific action for each state (clearly the greedy one). Let's see how well it performs!\n",
    "\n",
    "Will we reach the flag?"
   ]
  },
  {
   "cell_type": "code",
   "execution_count": 20,
   "metadata": {},
   "outputs": [
    {
     "data": {
      "text/html": [
       "<video width=\"600\" height=\"auto\" alt=\"test\" controls><source src=\"data:video/mp4;base64,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\" type=\"video/mp4\" /></video>"
      ],
      "text/plain": [
       "<IPython.core.display.HTML object>"
      ]
     },
     "execution_count": 20,
     "metadata": {},
     "output_type": "execute_result"
    }
   ],
   "source": [
    "car_env = wrappers.Monitor(car_env, \"./gym-results\", force=True)\n",
    "observation = car_env.reset()\n",
    "\n",
    "done = False\n",
    "while not done:\n",
    "    action_best = get_action(*observation, value_function)+1  # actions are different between the 2 environments!\n",
    "    observation, reward, done, info = car_env.step(action_best)\n",
    "car_env.close()\n",
    "\n",
    "video = io.open('./gym-results/openaigym.video.%s.video000000.mp4' % car_env.file_infix, 'r+b').read()\n",
    "encoded = base64.b64encode(video)\n",
    "HTML(data='''<video width=\"600\" height=\"auto\" alt=\"test\" controls><source src=\"data:video/mp4;base64,{0}\" type=\"video/mp4\" /></video>'''.format(encoded.decode('ascii')))"
   ]
  },
  {
   "cell_type": "markdown",
   "metadata": {},
   "source": [
    "The code below implements the **SARSA algorithm with eligibility traces**. It is a general implementation, i.e. you can freely choose the SARSA($\\lambda$) method you prefer: with accumulating or replacing traces, and the dutch traces (the \"true-online TD[$\\lambda$]\").\n",
    "\n",
    "We recall for your convenience the update for the eligibility traces with _accumulating traces_ in the linear case:\n",
    "$$ z_t = \\gamma \\lambda z_{t-1} + x_t $$\n",
    "\n",
    "With _dutch traces_ in the linear case:\n",
    "$$ z_t = \\gamma \\lambda z_{t-1} + (1 - \\alpha \\gamma \\lambda z_{t-1}^\\top x_t)x_t $$\n",
    "\n",
    "And the parameter update:\n",
    "$$ w_{t+1} = w_t + \\alpha \\delta_t z_t, \\qquad \\text{where} \\quad \\delta_t = r + \\gamma \\hat{v}(s_{t+1}, w_t) - \\hat{v}(s_t, w_t) $$"
   ]
  },
  {
   "cell_type": "code",
   "execution_count": 21,
   "metadata": {},
   "outputs": [],
   "source": [
    "DISCOUNT = 1.0\n",
    "STEP_LIMIT = 5000\n",
    "\n",
    "\n",
    "# accumulating trace update rule\n",
    "# @trace: old trace (will be modified)\n",
    "# @activeTiles: current active tile indices\n",
    "# @lam: lambda\n",
    "# @return: new trace for convenience\n",
    "def accumulating_trace(trace, active_tiles, lam):  # exponential decaying\n",
    "    trace *= lam * DISCOUNT\n",
    "    trace[active_tiles] += 1\n",
    "    return trace\n",
    "\n",
    "# replacing trace update rule\n",
    "# @trace: old trace (will be modified)\n",
    "# @activeTiles: current active tile indices\n",
    "# @lam: lambda\n",
    "# @return: new trace for convenience\n",
    "def replacing_trace(trace, activeTiles, lam):  # exponential decaying if trace is not active\n",
    "    active = np.in1d(np.arange(len(trace)), activeTiles)  # check active traces\n",
    "    trace[active] = 1\n",
    "    trace[~active] *= lam * DISCOUNT\n",
    "    return trace\n",
    "\n",
    "# replacing trace update rule, 'clearing' means set all tiles corresponding to non-selected actions to 0\n",
    "# @trace: old trace (will be modified)\n",
    "# @activeTiles: current active tile indices\n",
    "# @lam: lambda\n",
    "# @clearingTiles: tiles to be cleared\n",
    "# @return: new trace for convenience\n",
    "def replacing_trace_with_clearing(trace, active_tiles, lam, clearing_tiles):\n",
    "    active = np.in1d(np.arange(len(trace)), active_tiles)\n",
    "    trace[~active] *= lam * DISCOUNT\n",
    "    trace[clearing_tiles] = 0\n",
    "    trace[active] = 1\n",
    "    return trace\n",
    "\n",
    "# dutch trace update rule\n",
    "# @trace: old trace (will be modified)\n",
    "# @activeTiles: current active tile indices\n",
    "# @lam: lambda\n",
    "# @alpha: step size for all tiles\n",
    "# @return: new trace for convenience\n",
    "def dutch_trace(trace, active_tiles, lam, alpha):\n",
    "    coef = 1 - alpha * DISCOUNT * lam * np.sum(trace[active_tiles])\n",
    "    trace *= DISCOUNT * lam\n",
    "    trace[active_tiles] += coef\n",
    "    return trace\n",
    "\n",
    "# wrapper class for Sarsa(lambda)\n",
    "class Sarsa:\n",
    "    # In this example I use the tiling software instead of implementing standard tiling by myself\n",
    "    # One important thing is that tiling is only a map from (state, action) to a series of indices\n",
    "    # It doesn't matter whether the indices have meaning, only if this map satisfy some property\n",
    "    # View the following webpage for more information\n",
    "    # http://incompleteideas.net/sutton/tiles/tiles3.html\n",
    "    # @maxSize: the maximum # of indices\n",
    "    def __init__(self, step_size, lam, trace_update=accumulating_trace, num_of_tilings=8, max_size=2048):\n",
    "        self.max_size = max_size\n",
    "        self.num_of_tilings = num_of_tilings\n",
    "        self.trace_update = trace_update\n",
    "        self.lam = lam\n",
    "\n",
    "        # divide step size equally to each tiling\n",
    "        self.step_size = step_size / num_of_tilings\n",
    "\n",
    "        self.hash_table = IHT(max_size)\n",
    "\n",
    "        # weight for each tile\n",
    "        self.weights = np.zeros(max_size)\n",
    "\n",
    "        # trace for each tile\n",
    "        self.trace = np.zeros(max_size)\n",
    "\n",
    "        # position and velocity needs scaling to satisfy the tile software\n",
    "        self.position_scale = self.num_of_tilings / (POSITION_MAX - POSITION_MIN)\n",
    "        self.velocity_scale = self.num_of_tilings / (VELOCITY_MAX - VELOCITY_MIN)\n",
    "\n",
    "    # get indices of active tiles for given state and action\n",
    "    def get_active_tiles(self, position, velocity, action):\n",
    "        # I think positionScale * (position - position_min) would be a good normalization.\n",
    "        # However positionScale * position_min is a constant, so it's ok to ignore it.\n",
    "        active_tiles = tiles(self.hash_table, self.num_of_tilings,\n",
    "                            [self.position_scale * position, self.velocity_scale * velocity],\n",
    "                            [action])\n",
    "        return active_tiles\n",
    "\n",
    "    # estimate the value of given state and action\n",
    "    def value(self, position, velocity, action):\n",
    "        if position == POSITION_MAX:\n",
    "            return 0.0\n",
    "        active_tiles = self.get_active_tiles(position, velocity, action)\n",
    "        return np.sum(self.weights[active_tiles])\n",
    "\n",
    "    # learn with given state, action and target\n",
    "    def learn(self, position, velocity, action, target):\n",
    "        active_tiles = self.get_active_tiles(position, velocity, action)\n",
    "        estimation = np.sum(self.weights[active_tiles])\n",
    "        delta = target - estimation\n",
    "        if self.trace_update == accumulating_trace or self.trace_update == replacing_trace:\n",
    "            self.trace_update(self.trace, active_tiles, self.lam)\n",
    "        elif self.trace_update == dutch_trace:\n",
    "            self.trace_update(self.trace, active_tiles, self.lam, self.step_size)\n",
    "        elif self.trace_update == replacing_trace_with_clearing:\n",
    "            clearing_tiles = []\n",
    "            for act in ACTIONS:\n",
    "                if act != action:\n",
    "                    clearing_tiles.extend(self.get_active_tiles(position, velocity, act))\n",
    "            self.trace_update(self.trace, active_tiles, self.lam, clearing_tiles)\n",
    "        else:\n",
    "            raise Exception('Unexpected Trace Type')\n",
    "        self.weights += self.step_size * delta * self.trace\n",
    "\n",
    "    # get # of steps to reach the goal under current state value function\n",
    "    def cost_to_go(self, position, velocity):\n",
    "        costs = []\n",
    "        for action in ACTIONS:\n",
    "            costs.append(self.value(position, velocity, action))\n",
    "        return -np.max(costs)\n",
    "\n",
    "# play Mountain Car for one episode based on given method @evaluator\n",
    "# @return: total steps in this episode\n",
    "def play(evaluator):\n",
    "    position = np.random.uniform(-0.6, -0.4)\n",
    "    velocity = 0.0\n",
    "    action = get_action(position, velocity, evaluator)\n",
    "    steps = 0\n",
    "    while True:\n",
    "        next_position, next_velocity, reward = step(position, velocity, action)\n",
    "        next_action = get_action(next_position, next_velocity, evaluator)\n",
    "        steps += 1\n",
    "        target = reward + DISCOUNT * evaluator.value(next_position, next_velocity, next_action)\n",
    "        evaluator.learn(position, velocity, action, target)\n",
    "        position = next_position\n",
    "        velocity = next_velocity\n",
    "        action = next_action\n",
    "        if next_position == POSITION_MAX:\n",
    "            break\n",
    "        if steps >= STEP_LIMIT:\n",
    "            print('Step Limit Exceeded!')\n",
    "            break\n",
    "    return steps"
   ]
  },
  {
   "cell_type": "code",
   "execution_count": 22,
   "metadata": {},
   "outputs": [
    {
     "name": "stderr",
     "output_type": "stream",
     "text": [
      " 10%|████████████▌                                                                                                            | 104/1000 [00:01<00:11, 79.57it/s]"
     ]
    },
    {
     "name": "stdout",
     "output_type": "stream",
     "text": [
      "Step Limit Exceeded!\n",
      "Step Limit Exceeded!\n",
      "Step Limit Exceeded!\n",
      "Step Limit Exceeded!\n",
      "Step Limit Exceeded!\n",
      "Step Limit Exceeded!\n"
     ]
    },
    {
     "name": "stderr",
     "output_type": "stream",
     "text": [
      "\r",
      " 11%|█████████████▌                                                                                                           | 112/1000 [00:04<01:52,  7.86it/s]"
     ]
    },
    {
     "name": "stdout",
     "output_type": "stream",
     "text": [
      "Step Limit Exceeded!\n",
      "Step Limit Exceeded!\n",
      "Step Limit Exceeded!\n",
      "Step Limit Exceeded!\n",
      "Step Limit Exceeded!\n",
      "Step Limit Exceeded!\n"
     ]
    },
    {
     "name": "stderr",
     "output_type": "stream",
     "text": [
      "\r",
      " 12%|██████████████▎                                                                                                          | 118/1000 [00:07<02:57,  4.97it/s]"
     ]
    },
    {
     "name": "stdout",
     "output_type": "stream",
     "text": [
      "Step Limit Exceeded!\n",
      "Step Limit Exceeded!\n",
      "Step Limit Exceeded!\n",
      "Step Limit Exceeded!\n",
      "Step Limit Exceeded!\n"
     ]
    },
    {
     "name": "stderr",
     "output_type": "stream",
     "text": [
      "\r",
      " 12%|██████████████▉                                                                                                          | 123/1000 [00:09<03:42,  3.94it/s]"
     ]
    },
    {
     "name": "stdout",
     "output_type": "stream",
     "text": [
      "Step Limit Exceeded!\n",
      "Step Limit Exceeded!\n",
      "Step Limit Exceeded!\n"
     ]
    },
    {
     "name": "stderr",
     "output_type": "stream",
     "text": [
      "\r",
      " 13%|███████████████▏                                                                                                         | 126/1000 [00:11<04:07,  3.53it/s]"
     ]
    },
    {
     "name": "stdout",
     "output_type": "stream",
     "text": [
      "Step Limit Exceeded!\n",
      "Step Limit Exceeded!\n",
      "Step Limit Exceeded!\n"
     ]
    },
    {
     "name": "stderr",
     "output_type": "stream",
     "text": [
      "\r",
      " 13%|███████████████▌                                                                                                         | 129/1000 [00:12<04:32,  3.20it/s]"
     ]
    },
    {
     "name": "stdout",
     "output_type": "stream",
     "text": [
      "Step Limit Exceeded!\n",
      "Step Limit Exceeded!\n"
     ]
    },
    {
     "name": "stderr",
     "output_type": "stream",
     "text": [
      "\r",
      " 13%|███████████████▊                                                                                                         | 131/1000 [00:13<04:48,  3.01it/s]"
     ]
    },
    {
     "name": "stdout",
     "output_type": "stream",
     "text": [
      "Step Limit Exceeded!\n",
      "Step Limit Exceeded!\n"
     ]
    },
    {
     "name": "stderr",
     "output_type": "stream",
     "text": [
      "\r",
      " 13%|████████████████                                                                                                         | 133/1000 [00:14<05:04,  2.85it/s]"
     ]
    },
    {
     "name": "stdout",
     "output_type": "stream",
     "text": [
      "Step Limit Exceeded!\n"
     ]
    },
    {
     "name": "stderr",
     "output_type": "stream",
     "text": [
      "\r",
      " 13%|████████████████▏                                                                                                        | 134/1000 [00:14<05:13,  2.76it/s]"
     ]
    },
    {
     "name": "stdout",
     "output_type": "stream",
     "text": [
      "Step Limit Exceeded!\n"
     ]
    },
    {
     "name": "stderr",
     "output_type": "stream",
     "text": [
      "\r",
      " 14%|████████████████▎                                                                                                        | 135/1000 [00:15<05:22,  2.68it/s]"
     ]
    },
    {
     "name": "stdout",
     "output_type": "stream",
     "text": [
      "Step Limit Exceeded!\n"
     ]
    },
    {
     "name": "stderr",
     "output_type": "stream",
     "text": [
      "\r",
      " 14%|████████████████▍                                                                                                        | 136/1000 [00:15<05:31,  2.60it/s]"
     ]
    },
    {
     "name": "stdout",
     "output_type": "stream",
     "text": [
      "Step Limit Exceeded!\n"
     ]
    },
    {
     "name": "stderr",
     "output_type": "stream",
     "text": [
      "\r",
      " 14%|████████████████▌                                                                                                        | 137/1000 [00:15<05:40,  2.54it/s]"
     ]
    },
    {
     "name": "stdout",
     "output_type": "stream",
     "text": [
      "Step Limit Exceeded!\n"
     ]
    },
    {
     "name": "stderr",
     "output_type": "stream",
     "text": [
      "\r",
      " 14%|████████████████▋                                                                                                        | 138/1000 [00:16<05:47,  2.48it/s]"
     ]
    },
    {
     "name": "stdout",
     "output_type": "stream",
     "text": [
      "Step Limit Exceeded!\n"
     ]
    },
    {
     "name": "stderr",
     "output_type": "stream",
     "text": [
      "\r",
      " 14%|████████████████▊                                                                                                        | 139/1000 [00:16<05:55,  2.42it/s]"
     ]
    },
    {
     "name": "stdout",
     "output_type": "stream",
     "text": [
      "Step Limit Exceeded!\n"
     ]
    },
    {
     "name": "stderr",
     "output_type": "stream",
     "text": [
      "\r",
      " 14%|████████████████▉                                                                                                        | 140/1000 [00:17<06:00,  2.39it/s]"
     ]
    },
    {
     "name": "stdout",
     "output_type": "stream",
     "text": [
      "Step Limit Exceeded!\n"
     ]
    },
    {
     "name": "stderr",
     "output_type": "stream",
     "text": [
      "\r",
      " 14%|█████████████████                                                                                                        | 141/1000 [00:17<06:04,  2.36it/s]"
     ]
    },
    {
     "name": "stdout",
     "output_type": "stream",
     "text": [
      "Step Limit Exceeded!\n"
     ]
    },
    {
     "name": "stderr",
     "output_type": "stream",
     "text": [
      "\r",
      " 14%|█████████████████▏                                                                                                       | 142/1000 [00:18<06:07,  2.34it/s]"
     ]
    },
    {
     "name": "stdout",
     "output_type": "stream",
     "text": [
      "Step Limit Exceeded!\n"
     ]
    },
    {
     "name": "stderr",
     "output_type": "stream",
     "text": [
      "\r",
      " 14%|█████████████████▎                                                                                                       | 143/1000 [00:18<06:09,  2.32it/s]"
     ]
    },
    {
     "name": "stdout",
     "output_type": "stream",
     "text": [
      "Step Limit Exceeded!\n"
     ]
    },
    {
     "name": "stderr",
     "output_type": "stream",
     "text": [
      "\r",
      " 14%|█████████████████▍                                                                                                       | 144/1000 [00:19<06:12,  2.30it/s]"
     ]
    },
    {
     "name": "stdout",
     "output_type": "stream",
     "text": [
      "Step Limit Exceeded!\n"
     ]
    },
    {
     "name": "stderr",
     "output_type": "stream",
     "text": [
      "\r",
      " 14%|█████████████████▌                                                                                                       | 145/1000 [00:19<06:21,  2.24it/s]"
     ]
    },
    {
     "name": "stdout",
     "output_type": "stream",
     "text": [
      "Step Limit Exceeded!\n"
     ]
    },
    {
     "name": "stderr",
     "output_type": "stream",
     "text": [
      "\r",
      " 15%|█████████████████▋                                                                                                       | 146/1000 [00:19<06:19,  2.25it/s]"
     ]
    },
    {
     "name": "stdout",
     "output_type": "stream",
     "text": [
      "Step Limit Exceeded!\n"
     ]
    },
    {
     "name": "stderr",
     "output_type": "stream",
     "text": [
      "\r",
      " 15%|█████████████████▊                                                                                                       | 147/1000 [00:20<06:19,  2.25it/s]"
     ]
    },
    {
     "name": "stdout",
     "output_type": "stream",
     "text": [
      "Step Limit Exceeded!\n"
     ]
    },
    {
     "name": "stderr",
     "output_type": "stream",
     "text": [
      "\r",
      " 15%|█████████████████▉                                                                                                       | 148/1000 [00:20<06:17,  2.26it/s]"
     ]
    },
    {
     "name": "stdout",
     "output_type": "stream",
     "text": [
      "Step Limit Exceeded!\n"
     ]
    },
    {
     "name": "stderr",
     "output_type": "stream",
     "text": [
      "\r",
      " 15%|██████████████████                                                                                                       | 149/1000 [00:21<06:16,  2.26it/s]"
     ]
    },
    {
     "name": "stdout",
     "output_type": "stream",
     "text": [
      "Step Limit Exceeded!\n"
     ]
    },
    {
     "name": "stderr",
     "output_type": "stream",
     "text": [
      "\r",
      " 15%|██████████████████▏                                                                                                      | 150/1000 [00:21<06:14,  2.27it/s]"
     ]
    },
    {
     "name": "stdout",
     "output_type": "stream",
     "text": [
      "Step Limit Exceeded!\n"
     ]
    },
    {
     "name": "stderr",
     "output_type": "stream",
     "text": [
      "\r",
      " 15%|██████████████████▎                                                                                                      | 151/1000 [00:22<06:14,  2.26it/s]"
     ]
    },
    {
     "name": "stdout",
     "output_type": "stream",
     "text": [
      "Step Limit Exceeded!\n"
     ]
    },
    {
     "name": "stderr",
     "output_type": "stream",
     "text": [
      "\r",
      " 15%|██████████████████▍                                                                                                      | 152/1000 [00:22<06:15,  2.26it/s]"
     ]
    },
    {
     "name": "stdout",
     "output_type": "stream",
     "text": [
      "Step Limit Exceeded!\n"
     ]
    },
    {
     "name": "stderr",
     "output_type": "stream",
     "text": [
      "\r",
      " 15%|██████████████████▌                                                                                                      | 153/1000 [00:23<06:15,  2.26it/s]"
     ]
    },
    {
     "name": "stdout",
     "output_type": "stream",
     "text": [
      "Step Limit Exceeded!\n"
     ]
    },
    {
     "name": "stderr",
     "output_type": "stream",
     "text": [
      "\r",
      " 15%|██████████████████▋                                                                                                      | 154/1000 [00:23<06:14,  2.26it/s]"
     ]
    },
    {
     "name": "stdout",
     "output_type": "stream",
     "text": [
      "Step Limit Exceeded!\n"
     ]
    },
    {
     "name": "stderr",
     "output_type": "stream",
     "text": [
      "\r",
      " 16%|██████████████████▊                                                                                                      | 155/1000 [00:23<06:15,  2.25it/s]"
     ]
    },
    {
     "name": "stdout",
     "output_type": "stream",
     "text": [
      "Step Limit Exceeded!\n"
     ]
    },
    {
     "name": "stderr",
     "output_type": "stream",
     "text": [
      "\r",
      " 16%|██████████████████▉                                                                                                      | 156/1000 [00:24<06:16,  2.24it/s]"
     ]
    },
    {
     "name": "stdout",
     "output_type": "stream",
     "text": [
      "Step Limit Exceeded!\n"
     ]
    },
    {
     "name": "stderr",
     "output_type": "stream",
     "text": [
      "\r",
      " 16%|██████████████████▉                                                                                                      | 157/1000 [00:24<06:17,  2.23it/s]"
     ]
    },
    {
     "name": "stdout",
     "output_type": "stream",
     "text": [
      "Step Limit Exceeded!\n"
     ]
    },
    {
     "name": "stderr",
     "output_type": "stream",
     "text": [
      "\r",
      " 16%|███████████████████                                                                                                      | 158/1000 [00:25<06:14,  2.25it/s]"
     ]
    },
    {
     "name": "stdout",
     "output_type": "stream",
     "text": [
      "Step Limit Exceeded!\n"
     ]
    },
    {
     "name": "stderr",
     "output_type": "stream",
     "text": [
      "\r",
      " 16%|███████████████████▏                                                                                                     | 159/1000 [00:25<06:15,  2.24it/s]"
     ]
    },
    {
     "name": "stdout",
     "output_type": "stream",
     "text": [
      "Step Limit Exceeded!\n"
     ]
    },
    {
     "name": "stderr",
     "output_type": "stream",
     "text": [
      "\r",
      " 16%|███████████████████▎                                                                                                     | 160/1000 [00:26<06:16,  2.23it/s]"
     ]
    },
    {
     "name": "stdout",
     "output_type": "stream",
     "text": [
      "Step Limit Exceeded!\n"
     ]
    },
    {
     "name": "stderr",
     "output_type": "stream",
     "text": [
      "\r",
      " 16%|███████████████████▍                                                                                                     | 161/1000 [00:26<06:17,  2.22it/s]"
     ]
    },
    {
     "name": "stdout",
     "output_type": "stream",
     "text": [
      "Step Limit Exceeded!\n"
     ]
    },
    {
     "name": "stderr",
     "output_type": "stream",
     "text": [
      "\r",
      " 16%|███████████████████▌                                                                                                     | 162/1000 [00:27<06:17,  2.22it/s]"
     ]
    },
    {
     "name": "stdout",
     "output_type": "stream",
     "text": [
      "Step Limit Exceeded!\n"
     ]
    },
    {
     "name": "stderr",
     "output_type": "stream",
     "text": [
      "\r",
      " 16%|███████████████████▋                                                                                                     | 163/1000 [00:27<06:17,  2.22it/s]"
     ]
    },
    {
     "name": "stdout",
     "output_type": "stream",
     "text": [
      "Step Limit Exceeded!\n"
     ]
    },
    {
     "name": "stderr",
     "output_type": "stream",
     "text": [
      "\r",
      " 16%|███████████████████▊                                                                                                     | 164/1000 [00:27<06:14,  2.23it/s]"
     ]
    },
    {
     "name": "stdout",
     "output_type": "stream",
     "text": [
      "Step Limit Exceeded!\n"
     ]
    },
    {
     "name": "stderr",
     "output_type": "stream",
     "text": [
      "\r",
      " 16%|███████████████████▉                                                                                                     | 165/1000 [00:28<06:12,  2.24it/s]"
     ]
    },
    {
     "name": "stdout",
     "output_type": "stream",
     "text": [
      "Step Limit Exceeded!\n"
     ]
    },
    {
     "name": "stderr",
     "output_type": "stream",
     "text": [
      "\r",
      " 17%|████████████████████                                                                                                     | 166/1000 [00:28<06:10,  2.25it/s]"
     ]
    },
    {
     "name": "stdout",
     "output_type": "stream",
     "text": [
      "Step Limit Exceeded!\n"
     ]
    },
    {
     "name": "stderr",
     "output_type": "stream",
     "text": [
      "\r",
      " 17%|████████████████████▏                                                                                                    | 167/1000 [00:29<06:08,  2.26it/s]"
     ]
    },
    {
     "name": "stdout",
     "output_type": "stream",
     "text": [
      "Step Limit Exceeded!\n"
     ]
    },
    {
     "name": "stderr",
     "output_type": "stream",
     "text": [
      "\r",
      " 17%|████████████████████▎                                                                                                    | 168/1000 [00:29<06:07,  2.26it/s]"
     ]
    },
    {
     "name": "stdout",
     "output_type": "stream",
     "text": [
      "Step Limit Exceeded!\n"
     ]
    },
    {
     "name": "stderr",
     "output_type": "stream",
     "text": [
      "\r",
      " 17%|████████████████████▍                                                                                                    | 169/1000 [00:30<06:06,  2.27it/s]"
     ]
    },
    {
     "name": "stdout",
     "output_type": "stream",
     "text": [
      "Step Limit Exceeded!\n"
     ]
    },
    {
     "name": "stderr",
     "output_type": "stream",
     "text": [
      "\r",
      " 17%|████████████████████▌                                                                                                    | 170/1000 [00:30<06:05,  2.27it/s]"
     ]
    },
    {
     "name": "stdout",
     "output_type": "stream",
     "text": [
      "Step Limit Exceeded!\n"
     ]
    },
    {
     "name": "stderr",
     "output_type": "stream",
     "text": [
      "\r",
      " 17%|████████████████████▋                                                                                                    | 171/1000 [00:31<06:05,  2.27it/s]"
     ]
    },
    {
     "name": "stdout",
     "output_type": "stream",
     "text": [
      "Step Limit Exceeded!\n"
     ]
    },
    {
     "name": "stderr",
     "output_type": "stream",
     "text": [
      "\r",
      " 17%|████████████████████▊                                                                                                    | 172/1000 [00:31<06:05,  2.26it/s]"
     ]
    },
    {
     "name": "stdout",
     "output_type": "stream",
     "text": [
      "Step Limit Exceeded!\n"
     ]
    },
    {
     "name": "stderr",
     "output_type": "stream",
     "text": [
      "\r",
      " 17%|████████████████████▉                                                                                                    | 173/1000 [00:31<06:06,  2.26it/s]"
     ]
    },
    {
     "name": "stdout",
     "output_type": "stream",
     "text": [
      "Step Limit Exceeded!\n"
     ]
    },
    {
     "name": "stderr",
     "output_type": "stream",
     "text": [
      "\r",
      " 17%|█████████████████████                                                                                                    | 174/1000 [00:32<06:05,  2.26it/s]"
     ]
    },
    {
     "name": "stdout",
     "output_type": "stream",
     "text": [
      "Step Limit Exceeded!\n"
     ]
    },
    {
     "name": "stderr",
     "output_type": "stream",
     "text": [
      "\r",
      " 18%|█████████████████████▏                                                                                                   | 175/1000 [00:32<06:04,  2.26it/s]"
     ]
    },
    {
     "name": "stdout",
     "output_type": "stream",
     "text": [
      "Step Limit Exceeded!\n"
     ]
    },
    {
     "name": "stderr",
     "output_type": "stream",
     "text": [
      "\r",
      " 18%|█████████████████████▎                                                                                                   | 176/1000 [00:33<06:04,  2.26it/s]"
     ]
    },
    {
     "name": "stdout",
     "output_type": "stream",
     "text": [
      "Step Limit Exceeded!\n"
     ]
    },
    {
     "name": "stderr",
     "output_type": "stream",
     "text": [
      "\r",
      " 18%|█████████████████████▍                                                                                                   | 177/1000 [00:33<06:03,  2.27it/s]"
     ]
    },
    {
     "name": "stdout",
     "output_type": "stream",
     "text": [
      "Step Limit Exceeded!\n"
     ]
    },
    {
     "name": "stderr",
     "output_type": "stream",
     "text": [
      "\r",
      " 18%|█████████████████████▌                                                                                                   | 178/1000 [00:34<06:02,  2.27it/s]"
     ]
    },
    {
     "name": "stdout",
     "output_type": "stream",
     "text": [
      "Step Limit Exceeded!\n"
     ]
    },
    {
     "name": "stderr",
     "output_type": "stream",
     "text": [
      "\r",
      " 18%|█████████████████████▋                                                                                                   | 179/1000 [00:34<06:01,  2.27it/s]"
     ]
    },
    {
     "name": "stdout",
     "output_type": "stream",
     "text": [
      "Step Limit Exceeded!\n"
     ]
    },
    {
     "name": "stderr",
     "output_type": "stream",
     "text": [
      "\r",
      " 18%|█████████████████████▊                                                                                                   | 180/1000 [00:35<06:00,  2.27it/s]"
     ]
    },
    {
     "name": "stdout",
     "output_type": "stream",
     "text": [
      "Step Limit Exceeded!\n"
     ]
    },
    {
     "name": "stderr",
     "output_type": "stream",
     "text": [
      "\r",
      " 18%|█████████████████████▉                                                                                                   | 181/1000 [00:35<05:59,  2.28it/s]"
     ]
    },
    {
     "name": "stdout",
     "output_type": "stream",
     "text": [
      "Step Limit Exceeded!\n"
     ]
    },
    {
     "name": "stderr",
     "output_type": "stream",
     "text": [
      "\r",
      " 18%|██████████████████████                                                                                                   | 182/1000 [00:35<05:59,  2.28it/s]"
     ]
    },
    {
     "name": "stdout",
     "output_type": "stream",
     "text": [
      "Step Limit Exceeded!\n"
     ]
    },
    {
     "name": "stderr",
     "output_type": "stream",
     "text": [
      "\r",
      " 18%|██████████████████████▏                                                                                                  | 183/1000 [00:36<05:59,  2.28it/s]"
     ]
    },
    {
     "name": "stdout",
     "output_type": "stream",
     "text": [
      "Step Limit Exceeded!\n"
     ]
    },
    {
     "name": "stderr",
     "output_type": "stream",
     "text": [
      "\r",
      " 18%|██████████████████████▎                                                                                                  | 184/1000 [00:36<06:03,  2.25it/s]"
     ]
    },
    {
     "name": "stdout",
     "output_type": "stream",
     "text": [
      "Step Limit Exceeded!\n"
     ]
    },
    {
     "name": "stderr",
     "output_type": "stream",
     "text": [
      "\r",
      " 18%|██████████████████████▍                                                                                                  | 185/1000 [00:37<06:07,  2.22it/s]"
     ]
    },
    {
     "name": "stdout",
     "output_type": "stream",
     "text": [
      "Step Limit Exceeded!\n"
     ]
    },
    {
     "name": "stderr",
     "output_type": "stream",
     "text": [
      "\r",
      " 19%|██████████████████████▌                                                                                                  | 186/1000 [00:37<06:11,  2.19it/s]"
     ]
    },
    {
     "name": "stdout",
     "output_type": "stream",
     "text": [
      "Step Limit Exceeded!\n"
     ]
    },
    {
     "name": "stderr",
     "output_type": "stream",
     "text": [
      "\r",
      " 19%|██████████████████████▋                                                                                                  | 187/1000 [00:38<06:06,  2.22it/s]"
     ]
    },
    {
     "name": "stdout",
     "output_type": "stream",
     "text": [
      "Step Limit Exceeded!\n"
     ]
    },
    {
     "name": "stderr",
     "output_type": "stream",
     "text": [
      "\r",
      " 19%|██████████████████████▋                                                                                                  | 188/1000 [00:38<06:03,  2.23it/s]"
     ]
    },
    {
     "name": "stdout",
     "output_type": "stream",
     "text": [
      "Step Limit Exceeded!\n"
     ]
    },
    {
     "name": "stderr",
     "output_type": "stream",
     "text": [
      "\r",
      " 19%|██████████████████████▊                                                                                                  | 189/1000 [00:39<06:01,  2.25it/s]"
     ]
    },
    {
     "name": "stdout",
     "output_type": "stream",
     "text": [
      "Step Limit Exceeded!\n"
     ]
    },
    {
     "name": "stderr",
     "output_type": "stream",
     "text": [
      "\r",
      " 19%|██████████████████████▉                                                                                                  | 190/1000 [00:39<05:58,  2.26it/s]"
     ]
    },
    {
     "name": "stdout",
     "output_type": "stream",
     "text": [
      "Step Limit Exceeded!\n"
     ]
    },
    {
     "name": "stderr",
     "output_type": "stream",
     "text": [
      "\r",
      " 19%|███████████████████████                                                                                                  | 191/1000 [00:39<05:57,  2.26it/s]"
     ]
    },
    {
     "name": "stdout",
     "output_type": "stream",
     "text": [
      "Step Limit Exceeded!\n"
     ]
    },
    {
     "name": "stderr",
     "output_type": "stream",
     "text": [
      "\r",
      " 19%|███████████████████████▏                                                                                                 | 192/1000 [00:40<05:59,  2.25it/s]"
     ]
    },
    {
     "name": "stdout",
     "output_type": "stream",
     "text": [
      "Step Limit Exceeded!\n"
     ]
    },
    {
     "name": "stderr",
     "output_type": "stream",
     "text": [
      "\r",
      " 19%|███████████████████████▎                                                                                                 | 193/1000 [00:40<05:58,  2.25it/s]"
     ]
    },
    {
     "name": "stdout",
     "output_type": "stream",
     "text": [
      "Step Limit Exceeded!\n"
     ]
    },
    {
     "name": "stderr",
     "output_type": "stream",
     "text": [
      "\r",
      " 19%|███████████████████████▍                                                                                                 | 194/1000 [00:41<05:57,  2.25it/s]"
     ]
    },
    {
     "name": "stdout",
     "output_type": "stream",
     "text": [
      "Step Limit Exceeded!\n"
     ]
    },
    {
     "name": "stderr",
     "output_type": "stream",
     "text": [
      "\r",
      " 20%|███████████████████████▌                                                                                                 | 195/1000 [00:41<06:00,  2.23it/s]"
     ]
    },
    {
     "name": "stdout",
     "output_type": "stream",
     "text": [
      "Step Limit Exceeded!\n"
     ]
    },
    {
     "name": "stderr",
     "output_type": "stream",
     "text": [
      "\r",
      " 20%|███████████████████████▋                                                                                                 | 196/1000 [00:42<06:00,  2.23it/s]"
     ]
    },
    {
     "name": "stdout",
     "output_type": "stream",
     "text": [
      "Step Limit Exceeded!\n"
     ]
    },
    {
     "name": "stderr",
     "output_type": "stream",
     "text": [
      "\r",
      " 20%|███████████████████████▊                                                                                                 | 197/1000 [00:42<06:00,  2.23it/s]"
     ]
    },
    {
     "name": "stdout",
     "output_type": "stream",
     "text": [
      "Step Limit Exceeded!\n"
     ]
    },
    {
     "name": "stderr",
     "output_type": "stream",
     "text": [
      "\r",
      " 20%|███████████████████████▉                                                                                                 | 198/1000 [00:43<06:00,  2.22it/s]"
     ]
    },
    {
     "name": "stdout",
     "output_type": "stream",
     "text": [
      "Step Limit Exceeded!\n"
     ]
    },
    {
     "name": "stderr",
     "output_type": "stream",
     "text": [
      "\r",
      " 20%|████████████████████████                                                                                                 | 199/1000 [00:43<06:01,  2.22it/s]"
     ]
    },
    {
     "name": "stdout",
     "output_type": "stream",
     "text": [
      "Step Limit Exceeded!\n"
     ]
    },
    {
     "name": "stderr",
     "output_type": "stream",
     "text": [
      "\r",
      " 20%|████████████████████████▏                                                                                                | 200/1000 [00:43<05:58,  2.23it/s]"
     ]
    },
    {
     "name": "stdout",
     "output_type": "stream",
     "text": [
      "Step Limit Exceeded!\n"
     ]
    },
    {
     "name": "stderr",
     "output_type": "stream",
     "text": [
      "\r",
      " 20%|████████████████████████▎                                                                                                | 201/1000 [00:44<05:57,  2.23it/s]"
     ]
    },
    {
     "name": "stdout",
     "output_type": "stream",
     "text": [
      "Step Limit Exceeded!\n"
     ]
    },
    {
     "name": "stderr",
     "output_type": "stream",
     "text": [
      "\r",
      " 20%|████████████████████████▍                                                                                                | 202/1000 [00:44<05:58,  2.22it/s]"
     ]
    },
    {
     "name": "stdout",
     "output_type": "stream",
     "text": [
      "Step Limit Exceeded!\n"
     ]
    },
    {
     "name": "stderr",
     "output_type": "stream",
     "text": [
      "\r",
      " 20%|████████████████████████▌                                                                                                | 203/1000 [00:45<05:57,  2.23it/s]"
     ]
    },
    {
     "name": "stdout",
     "output_type": "stream",
     "text": [
      "Step Limit Exceeded!\n"
     ]
    },
    {
     "name": "stderr",
     "output_type": "stream",
     "text": [
      "\r",
      " 20%|████████████████████████▋                                                                                                | 204/1000 [00:45<05:58,  2.22it/s]"
     ]
    },
    {
     "name": "stdout",
     "output_type": "stream",
     "text": [
      "Step Limit Exceeded!\n"
     ]
    },
    {
     "name": "stderr",
     "output_type": "stream",
     "text": [
      "\r",
      " 20%|████████████████████████▊                                                                                                | 205/1000 [00:46<05:56,  2.23it/s]"
     ]
    },
    {
     "name": "stdout",
     "output_type": "stream",
     "text": [
      "Step Limit Exceeded!\n"
     ]
    },
    {
     "name": "stderr",
     "output_type": "stream",
     "text": [
      "\r",
      " 21%|████████████████████████▉                                                                                                | 206/1000 [00:46<05:56,  2.23it/s]"
     ]
    },
    {
     "name": "stdout",
     "output_type": "stream",
     "text": [
      "Step Limit Exceeded!\n"
     ]
    },
    {
     "name": "stderr",
     "output_type": "stream",
     "text": [
      "\r",
      " 21%|█████████████████████████                                                                                                | 207/1000 [00:47<05:55,  2.23it/s]"
     ]
    },
    {
     "name": "stdout",
     "output_type": "stream",
     "text": [
      "Step Limit Exceeded!\n"
     ]
    },
    {
     "name": "stderr",
     "output_type": "stream",
     "text": [
      "\r",
      " 21%|█████████████████████████▏                                                                                               | 208/1000 [00:47<05:54,  2.23it/s]"
     ]
    },
    {
     "name": "stdout",
     "output_type": "stream",
     "text": [
      "Step Limit Exceeded!\n"
     ]
    },
    {
     "name": "stderr",
     "output_type": "stream",
     "text": [
      "\r",
      " 21%|█████████████████████████▎                                                                                               | 209/1000 [00:48<05:52,  2.24it/s]"
     ]
    },
    {
     "name": "stdout",
     "output_type": "stream",
     "text": [
      "Step Limit Exceeded!\n"
     ]
    },
    {
     "name": "stderr",
     "output_type": "stream",
     "text": [
      "\r",
      " 21%|█████████████████████████▍                                                                                               | 210/1000 [00:48<05:51,  2.25it/s]"
     ]
    },
    {
     "name": "stdout",
     "output_type": "stream",
     "text": [
      "Step Limit Exceeded!\n"
     ]
    },
    {
     "name": "stderr",
     "output_type": "stream",
     "text": [
      "\r",
      " 21%|█████████████████████████▌                                                                                               | 211/1000 [00:48<05:51,  2.24it/s]"
     ]
    },
    {
     "name": "stdout",
     "output_type": "stream",
     "text": [
      "Step Limit Exceeded!\n"
     ]
    },
    {
     "name": "stderr",
     "output_type": "stream",
     "text": [
      "\r",
      " 21%|█████████████████████████▋                                                                                               | 212/1000 [00:49<05:52,  2.24it/s]"
     ]
    },
    {
     "name": "stdout",
     "output_type": "stream",
     "text": [
      "Step Limit Exceeded!\n"
     ]
    },
    {
     "name": "stderr",
     "output_type": "stream",
     "text": [
      "\r",
      " 21%|█████████████████████████▊                                                                                               | 213/1000 [00:49<05:52,  2.23it/s]"
     ]
    },
    {
     "name": "stdout",
     "output_type": "stream",
     "text": [
      "Step Limit Exceeded!\n"
     ]
    },
    {
     "name": "stderr",
     "output_type": "stream",
     "text": [
      "\r",
      " 21%|█████████████████████████▉                                                                                               | 214/1000 [00:50<05:51,  2.23it/s]"
     ]
    },
    {
     "name": "stdout",
     "output_type": "stream",
     "text": [
      "Step Limit Exceeded!\n"
     ]
    },
    {
     "name": "stderr",
     "output_type": "stream",
     "text": [
      "\r",
      " 22%|██████████████████████████                                                                                               | 215/1000 [00:50<05:50,  2.24it/s]"
     ]
    },
    {
     "name": "stdout",
     "output_type": "stream",
     "text": [
      "Step Limit Exceeded!\n"
     ]
    },
    {
     "name": "stderr",
     "output_type": "stream",
     "text": [
      "\r",
      " 22%|██████████████████████████▏                                                                                              | 216/1000 [00:51<05:48,  2.25it/s]"
     ]
    },
    {
     "name": "stdout",
     "output_type": "stream",
     "text": [
      "Step Limit Exceeded!\n"
     ]
    },
    {
     "name": "stderr",
     "output_type": "stream",
     "text": [
      "\r",
      " 22%|██████████████████████████▎                                                                                              | 217/1000 [00:51<05:47,  2.25it/s]"
     ]
    },
    {
     "name": "stdout",
     "output_type": "stream",
     "text": [
      "Step Limit Exceeded!\n"
     ]
    },
    {
     "name": "stderr",
     "output_type": "stream",
     "text": [
      "\r",
      " 22%|██████████████████████████▍                                                                                              | 218/1000 [00:52<05:47,  2.25it/s]"
     ]
    },
    {
     "name": "stdout",
     "output_type": "stream",
     "text": [
      "Step Limit Exceeded!\n"
     ]
    },
    {
     "name": "stderr",
     "output_type": "stream",
     "text": [
      "\r",
      " 22%|██████████████████████████▍                                                                                              | 219/1000 [00:52<05:45,  2.26it/s]"
     ]
    },
    {
     "name": "stdout",
     "output_type": "stream",
     "text": [
      "Step Limit Exceeded!\n"
     ]
    },
    {
     "name": "stderr",
     "output_type": "stream",
     "text": [
      "\r",
      " 22%|██████████████████████████▌                                                                                              | 220/1000 [00:52<05:44,  2.26it/s]"
     ]
    },
    {
     "name": "stdout",
     "output_type": "stream",
     "text": [
      "Step Limit Exceeded!\n"
     ]
    },
    {
     "name": "stderr",
     "output_type": "stream",
     "text": [
      "\r",
      " 22%|██████████████████████████▋                                                                                              | 221/1000 [00:53<05:43,  2.27it/s]"
     ]
    },
    {
     "name": "stdout",
     "output_type": "stream",
     "text": [
      "Step Limit Exceeded!\n"
     ]
    },
    {
     "name": "stderr",
     "output_type": "stream",
     "text": [
      "\r",
      " 22%|██████████████████████████▊                                                                                              | 222/1000 [00:53<05:42,  2.27it/s]"
     ]
    },
    {
     "name": "stdout",
     "output_type": "stream",
     "text": [
      "Step Limit Exceeded!\n"
     ]
    },
    {
     "name": "stderr",
     "output_type": "stream",
     "text": [
      "\r",
      " 22%|██████████████████████████▉                                                                                              | 223/1000 [00:54<05:42,  2.27it/s]"
     ]
    },
    {
     "name": "stdout",
     "output_type": "stream",
     "text": [
      "Step Limit Exceeded!\n"
     ]
    },
    {
     "name": "stderr",
     "output_type": "stream",
     "text": [
      "\r",
      " 22%|███████████████████████████                                                                                              | 224/1000 [00:54<05:41,  2.27it/s]"
     ]
    },
    {
     "name": "stdout",
     "output_type": "stream",
     "text": [
      "Step Limit Exceeded!\n"
     ]
    },
    {
     "name": "stderr",
     "output_type": "stream",
     "text": [
      "\r",
      " 22%|███████████████████████████▏                                                                                             | 225/1000 [00:55<05:41,  2.27it/s]"
     ]
    },
    {
     "name": "stdout",
     "output_type": "stream",
     "text": [
      "Step Limit Exceeded!\n"
     ]
    },
    {
     "name": "stderr",
     "output_type": "stream",
     "text": [
      "\r",
      " 23%|███████████████████████████▎                                                                                             | 226/1000 [00:55<05:40,  2.27it/s]"
     ]
    },
    {
     "name": "stdout",
     "output_type": "stream",
     "text": [
      "Step Limit Exceeded!\n"
     ]
    },
    {
     "name": "stderr",
     "output_type": "stream",
     "text": [
      "\r",
      " 23%|███████████████████████████▍                                                                                             | 227/1000 [00:55<05:40,  2.27it/s]"
     ]
    },
    {
     "name": "stdout",
     "output_type": "stream",
     "text": [
      "Step Limit Exceeded!\n"
     ]
    },
    {
     "name": "stderr",
     "output_type": "stream",
     "text": [
      "\r",
      " 23%|███████████████████████████▌                                                                                             | 228/1000 [00:56<05:40,  2.27it/s]"
     ]
    },
    {
     "name": "stdout",
     "output_type": "stream",
     "text": [
      "Step Limit Exceeded!\n"
     ]
    },
    {
     "name": "stderr",
     "output_type": "stream",
     "text": [
      "\r",
      " 23%|███████████████████████████▋                                                                                             | 229/1000 [00:56<05:40,  2.26it/s]"
     ]
    },
    {
     "name": "stdout",
     "output_type": "stream",
     "text": [
      "Step Limit Exceeded!\n"
     ]
    },
    {
     "name": "stderr",
     "output_type": "stream",
     "text": [
      "\r",
      " 23%|███████████████████████████▊                                                                                             | 230/1000 [00:57<05:39,  2.27it/s]"
     ]
    },
    {
     "name": "stdout",
     "output_type": "stream",
     "text": [
      "Step Limit Exceeded!\n"
     ]
    },
    {
     "name": "stderr",
     "output_type": "stream",
     "text": [
      "\r",
      " 23%|███████████████████████████▉                                                                                             | 231/1000 [00:57<05:41,  2.25it/s]"
     ]
    },
    {
     "name": "stdout",
     "output_type": "stream",
     "text": [
      "Step Limit Exceeded!\n"
     ]
    },
    {
     "name": "stderr",
     "output_type": "stream",
     "text": [
      "\r",
      " 23%|████████████████████████████                                                                                             | 232/1000 [00:58<05:40,  2.26it/s]"
     ]
    },
    {
     "name": "stdout",
     "output_type": "stream",
     "text": [
      "Step Limit Exceeded!\n"
     ]
    },
    {
     "name": "stderr",
     "output_type": "stream",
     "text": [
      "\r",
      " 23%|████████████████████████████▏                                                                                            | 233/1000 [00:58<05:40,  2.25it/s]"
     ]
    },
    {
     "name": "stdout",
     "output_type": "stream",
     "text": [
      "Step Limit Exceeded!\n"
     ]
    },
    {
     "name": "stderr",
     "output_type": "stream",
     "text": [
      "\r",
      " 23%|████████████████████████████▎                                                                                            | 234/1000 [00:59<05:39,  2.25it/s]"
     ]
    },
    {
     "name": "stdout",
     "output_type": "stream",
     "text": [
      "Step Limit Exceeded!\n"
     ]
    },
    {
     "name": "stderr",
     "output_type": "stream",
     "text": [
      "\r",
      " 24%|████████████████████████████▍                                                                                            | 235/1000 [00:59<05:39,  2.26it/s]"
     ]
    },
    {
     "name": "stdout",
     "output_type": "stream",
     "text": [
      "Step Limit Exceeded!\n"
     ]
    },
    {
     "name": "stderr",
     "output_type": "stream",
     "text": [
      "\r",
      " 24%|████████████████████████████▌                                                                                            | 236/1000 [00:59<05:38,  2.26it/s]"
     ]
    },
    {
     "name": "stdout",
     "output_type": "stream",
     "text": [
      "Step Limit Exceeded!\n"
     ]
    },
    {
     "name": "stderr",
     "output_type": "stream",
     "text": [
      "\r",
      " 24%|████████████████████████████▋                                                                                            | 237/1000 [01:00<05:37,  2.26it/s]"
     ]
    },
    {
     "name": "stdout",
     "output_type": "stream",
     "text": [
      "Step Limit Exceeded!\n"
     ]
    },
    {
     "name": "stderr",
     "output_type": "stream",
     "text": [
      "\r",
      " 24%|████████████████████████████▊                                                                                            | 238/1000 [01:00<05:37,  2.26it/s]"
     ]
    },
    {
     "name": "stdout",
     "output_type": "stream",
     "text": [
      "Step Limit Exceeded!\n"
     ]
    },
    {
     "name": "stderr",
     "output_type": "stream",
     "text": [
      "\r",
      " 24%|████████████████████████████▉                                                                                            | 239/1000 [01:01<05:36,  2.26it/s]"
     ]
    },
    {
     "name": "stdout",
     "output_type": "stream",
     "text": [
      "Step Limit Exceeded!\n"
     ]
    },
    {
     "name": "stderr",
     "output_type": "stream",
     "text": [
      "\r",
      " 24%|█████████████████████████████                                                                                            | 240/1000 [01:01<05:35,  2.26it/s]"
     ]
    },
    {
     "name": "stdout",
     "output_type": "stream",
     "text": [
      "Step Limit Exceeded!\n"
     ]
    },
    {
     "name": "stderr",
     "output_type": "stream",
     "text": [
      "\r",
      " 24%|█████████████████████████████▏                                                                                           | 241/1000 [01:02<05:36,  2.26it/s]"
     ]
    },
    {
     "name": "stdout",
     "output_type": "stream",
     "text": [
      "Step Limit Exceeded!\n"
     ]
    },
    {
     "name": "stderr",
     "output_type": "stream",
     "text": [
      "\r",
      " 24%|█████████████████████████████▎                                                                                           | 242/1000 [01:02<05:40,  2.23it/s]"
     ]
    },
    {
     "name": "stdout",
     "output_type": "stream",
     "text": [
      "Step Limit Exceeded!\n"
     ]
    },
    {
     "name": "stderr",
     "output_type": "stream",
     "text": [
      "\r",
      " 24%|█████████████████████████████▍                                                                                           | 243/1000 [01:03<05:38,  2.24it/s]"
     ]
    },
    {
     "name": "stdout",
     "output_type": "stream",
     "text": [
      "Step Limit Exceeded!\n"
     ]
    },
    {
     "name": "stderr",
     "output_type": "stream",
     "text": [
      "\r",
      " 24%|█████████████████████████████▌                                                                                           | 244/1000 [01:03<05:37,  2.24it/s]"
     ]
    },
    {
     "name": "stdout",
     "output_type": "stream",
     "text": [
      "Step Limit Exceeded!\n"
     ]
    },
    {
     "name": "stderr",
     "output_type": "stream",
     "text": [
      "\r",
      " 24%|█████████████████████████████▋                                                                                           | 245/1000 [01:03<05:35,  2.25it/s]"
     ]
    },
    {
     "name": "stdout",
     "output_type": "stream",
     "text": [
      "Step Limit Exceeded!\n"
     ]
    },
    {
     "name": "stderr",
     "output_type": "stream",
     "text": [
      "\r",
      " 25%|█████████████████████████████▊                                                                                           | 246/1000 [01:04<05:34,  2.25it/s]"
     ]
    },
    {
     "name": "stdout",
     "output_type": "stream",
     "text": [
      "Step Limit Exceeded!\n"
     ]
    },
    {
     "name": "stderr",
     "output_type": "stream",
     "text": [
      "\r",
      " 25%|█████████████████████████████▉                                                                                           | 247/1000 [01:04<05:34,  2.25it/s]"
     ]
    },
    {
     "name": "stdout",
     "output_type": "stream",
     "text": [
      "Step Limit Exceeded!\n"
     ]
    },
    {
     "name": "stderr",
     "output_type": "stream",
     "text": [
      "\r",
      " 25%|██████████████████████████████                                                                                           | 248/1000 [01:05<05:34,  2.25it/s]"
     ]
    },
    {
     "name": "stdout",
     "output_type": "stream",
     "text": [
      "Step Limit Exceeded!\n"
     ]
    },
    {
     "name": "stderr",
     "output_type": "stream",
     "text": [
      "\r",
      " 25%|██████████████████████████████▏                                                                                          | 249/1000 [01:05<05:38,  2.22it/s]"
     ]
    },
    {
     "name": "stdout",
     "output_type": "stream",
     "text": [
      "Step Limit Exceeded!\n"
     ]
    },
    {
     "name": "stderr",
     "output_type": "stream",
     "text": [
      "\r",
      " 25%|██████████████████████████████▎                                                                                          | 250/1000 [01:06<05:38,  2.22it/s]"
     ]
    },
    {
     "name": "stdout",
     "output_type": "stream",
     "text": [
      "Step Limit Exceeded!\n"
     ]
    },
    {
     "name": "stderr",
     "output_type": "stream",
     "text": [
      "\r",
      " 25%|██████████████████████████████▎                                                                                          | 251/1000 [01:06<05:36,  2.23it/s]"
     ]
    },
    {
     "name": "stdout",
     "output_type": "stream",
     "text": [
      "Step Limit Exceeded!\n"
     ]
    },
    {
     "name": "stderr",
     "output_type": "stream",
     "text": [
      "\r",
      " 25%|██████████████████████████████▍                                                                                          | 252/1000 [01:07<05:35,  2.23it/s]"
     ]
    },
    {
     "name": "stdout",
     "output_type": "stream",
     "text": [
      "Step Limit Exceeded!\n"
     ]
    },
    {
     "name": "stderr",
     "output_type": "stream",
     "text": [
      "\r",
      " 25%|██████████████████████████████▌                                                                                          | 253/1000 [01:07<05:33,  2.24it/s]"
     ]
    },
    {
     "name": "stdout",
     "output_type": "stream",
     "text": [
      "Step Limit Exceeded!\n"
     ]
    },
    {
     "name": "stderr",
     "output_type": "stream",
     "text": [
      "\r",
      " 25%|██████████████████████████████▋                                                                                          | 254/1000 [01:08<05:32,  2.24it/s]"
     ]
    },
    {
     "name": "stdout",
     "output_type": "stream",
     "text": [
      "Step Limit Exceeded!\n"
     ]
    },
    {
     "name": "stderr",
     "output_type": "stream",
     "text": [
      "\r",
      " 26%|██████████████████████████████▊                                                                                          | 255/1000 [01:08<05:31,  2.25it/s]"
     ]
    },
    {
     "name": "stdout",
     "output_type": "stream",
     "text": [
      "Step Limit Exceeded!\n"
     ]
    },
    {
     "name": "stderr",
     "output_type": "stream",
     "text": [
      "\r",
      " 26%|██████████████████████████████▉                                                                                          | 256/1000 [01:08<05:30,  2.25it/s]"
     ]
    },
    {
     "name": "stdout",
     "output_type": "stream",
     "text": [
      "Step Limit Exceeded!\n"
     ]
    },
    {
     "name": "stderr",
     "output_type": "stream",
     "text": [
      "\r",
      " 26%|███████████████████████████████                                                                                          | 257/1000 [01:09<05:28,  2.26it/s]"
     ]
    },
    {
     "name": "stdout",
     "output_type": "stream",
     "text": [
      "Step Limit Exceeded!\n"
     ]
    },
    {
     "name": "stderr",
     "output_type": "stream",
     "text": [
      "\r",
      " 26%|███████████████████████████████▏                                                                                         | 258/1000 [01:09<05:29,  2.25it/s]"
     ]
    },
    {
     "name": "stdout",
     "output_type": "stream",
     "text": [
      "Step Limit Exceeded!\n"
     ]
    },
    {
     "name": "stderr",
     "output_type": "stream",
     "text": [
      "\r",
      " 26%|███████████████████████████████▎                                                                                         | 259/1000 [01:10<05:28,  2.25it/s]"
     ]
    },
    {
     "name": "stdout",
     "output_type": "stream",
     "text": [
      "Step Limit Exceeded!\n"
     ]
    },
    {
     "name": "stderr",
     "output_type": "stream",
     "text": [
      "\r",
      " 26%|███████████████████████████████▍                                                                                         | 260/1000 [01:10<05:27,  2.26it/s]"
     ]
    },
    {
     "name": "stdout",
     "output_type": "stream",
     "text": [
      "Step Limit Exceeded!\n"
     ]
    },
    {
     "name": "stderr",
     "output_type": "stream",
     "text": [
      "\r",
      " 26%|███████████████████████████████▌                                                                                         | 261/1000 [01:11<05:27,  2.26it/s]"
     ]
    },
    {
     "name": "stdout",
     "output_type": "stream",
     "text": [
      "Step Limit Exceeded!\n"
     ]
    },
    {
     "name": "stderr",
     "output_type": "stream",
     "text": [
      "\r",
      " 26%|███████████████████████████████▋                                                                                         | 262/1000 [01:11<05:26,  2.26it/s]"
     ]
    },
    {
     "name": "stdout",
     "output_type": "stream",
     "text": [
      "Step Limit Exceeded!\n"
     ]
    },
    {
     "name": "stderr",
     "output_type": "stream",
     "text": [
      "\r",
      " 26%|███████████████████████████████▊                                                                                         | 263/1000 [01:11<05:25,  2.26it/s]"
     ]
    },
    {
     "name": "stdout",
     "output_type": "stream",
     "text": [
      "Step Limit Exceeded!\n"
     ]
    },
    {
     "name": "stderr",
     "output_type": "stream",
     "text": [
      "\r",
      " 26%|███████████████████████████████▉                                                                                         | 264/1000 [01:12<05:24,  2.27it/s]"
     ]
    },
    {
     "name": "stdout",
     "output_type": "stream",
     "text": [
      "Step Limit Exceeded!\n"
     ]
    },
    {
     "name": "stderr",
     "output_type": "stream",
     "text": [
      "\r",
      " 26%|████████████████████████████████                                                                                         | 265/1000 [01:12<05:24,  2.27it/s]"
     ]
    },
    {
     "name": "stdout",
     "output_type": "stream",
     "text": [
      "Step Limit Exceeded!\n"
     ]
    },
    {
     "name": "stderr",
     "output_type": "stream",
     "text": [
      "\r",
      " 27%|████████████████████████████████▏                                                                                        | 266/1000 [01:13<05:23,  2.27it/s]"
     ]
    },
    {
     "name": "stdout",
     "output_type": "stream",
     "text": [
      "Step Limit Exceeded!\n"
     ]
    },
    {
     "name": "stderr",
     "output_type": "stream",
     "text": [
      "\r",
      " 27%|████████████████████████████████▎                                                                                        | 267/1000 [01:13<05:22,  2.27it/s]"
     ]
    },
    {
     "name": "stdout",
     "output_type": "stream",
     "text": [
      "Step Limit Exceeded!\n"
     ]
    },
    {
     "name": "stderr",
     "output_type": "stream",
     "text": [
      "\r",
      " 27%|████████████████████████████████▍                                                                                        | 268/1000 [01:14<05:21,  2.28it/s]"
     ]
    },
    {
     "name": "stdout",
     "output_type": "stream",
     "text": [
      "Step Limit Exceeded!\n"
     ]
    },
    {
     "name": "stderr",
     "output_type": "stream",
     "text": [
      "\r",
      " 27%|████████████████████████████████▌                                                                                        | 269/1000 [01:14<05:21,  2.28it/s]"
     ]
    },
    {
     "name": "stdout",
     "output_type": "stream",
     "text": [
      "Step Limit Exceeded!\n"
     ]
    },
    {
     "name": "stderr",
     "output_type": "stream",
     "text": [
      "\r",
      " 27%|████████████████████████████████▋                                                                                        | 270/1000 [01:15<05:22,  2.26it/s]"
     ]
    },
    {
     "name": "stdout",
     "output_type": "stream",
     "text": [
      "Step Limit Exceeded!\n"
     ]
    },
    {
     "name": "stderr",
     "output_type": "stream",
     "text": [
      "\r",
      " 27%|████████████████████████████████▊                                                                                        | 271/1000 [01:15<05:22,  2.26it/s]"
     ]
    },
    {
     "name": "stdout",
     "output_type": "stream",
     "text": [
      "Step Limit Exceeded!\n"
     ]
    },
    {
     "name": "stderr",
     "output_type": "stream",
     "text": [
      "\r",
      " 27%|████████████████████████████████▉                                                                                        | 272/1000 [01:15<05:23,  2.25it/s]"
     ]
    },
    {
     "name": "stdout",
     "output_type": "stream",
     "text": [
      "Step Limit Exceeded!\n"
     ]
    },
    {
     "name": "stderr",
     "output_type": "stream",
     "text": [
      "\r",
      " 27%|█████████████████████████████████                                                                                        | 273/1000 [01:16<05:24,  2.24it/s]"
     ]
    },
    {
     "name": "stdout",
     "output_type": "stream",
     "text": [
      "Step Limit Exceeded!\n"
     ]
    },
    {
     "name": "stderr",
     "output_type": "stream",
     "text": [
      "\r",
      " 27%|█████████████████████████████████▏                                                                                       | 274/1000 [01:16<05:22,  2.25it/s]"
     ]
    },
    {
     "name": "stdout",
     "output_type": "stream",
     "text": [
      "Step Limit Exceeded!\n"
     ]
    },
    {
     "name": "stderr",
     "output_type": "stream",
     "text": [
      "\r",
      " 28%|█████████████████████████████████▎                                                                                       | 275/1000 [01:17<05:21,  2.25it/s]"
     ]
    },
    {
     "name": "stdout",
     "output_type": "stream",
     "text": [
      "Step Limit Exceeded!\n"
     ]
    },
    {
     "name": "stderr",
     "output_type": "stream",
     "text": [
      "\r",
      " 28%|█████████████████████████████████▍                                                                                       | 276/1000 [01:17<05:21,  2.25it/s]"
     ]
    },
    {
     "name": "stdout",
     "output_type": "stream",
     "text": [
      "Step Limit Exceeded!\n"
     ]
    },
    {
     "name": "stderr",
     "output_type": "stream",
     "text": [
      "\r",
      " 28%|█████████████████████████████████▌                                                                                       | 277/1000 [01:18<05:21,  2.25it/s]"
     ]
    },
    {
     "name": "stdout",
     "output_type": "stream",
     "text": [
      "Step Limit Exceeded!\n"
     ]
    },
    {
     "name": "stderr",
     "output_type": "stream",
     "text": [
      "\r",
      " 28%|█████████████████████████████████▋                                                                                       | 278/1000 [01:18<05:21,  2.25it/s]"
     ]
    },
    {
     "name": "stdout",
     "output_type": "stream",
     "text": [
      "Step Limit Exceeded!\n"
     ]
    },
    {
     "name": "stderr",
     "output_type": "stream",
     "text": [
      "\r",
      " 28%|█████████████████████████████████▊                                                                                       | 279/1000 [01:19<05:20,  2.25it/s]"
     ]
    },
    {
     "name": "stdout",
     "output_type": "stream",
     "text": [
      "Step Limit Exceeded!\n"
     ]
    },
    {
     "name": "stderr",
     "output_type": "stream",
     "text": [
      "\r",
      " 28%|█████████████████████████████████▉                                                                                       | 280/1000 [01:19<05:19,  2.25it/s]"
     ]
    },
    {
     "name": "stdout",
     "output_type": "stream",
     "text": [
      "Step Limit Exceeded!\n"
     ]
    },
    {
     "name": "stderr",
     "output_type": "stream",
     "text": [
      "\r",
      " 28%|██████████████████████████████████                                                                                       | 281/1000 [01:19<05:19,  2.25it/s]"
     ]
    },
    {
     "name": "stdout",
     "output_type": "stream",
     "text": [
      "Step Limit Exceeded!\n"
     ]
    },
    {
     "name": "stderr",
     "output_type": "stream",
     "text": [
      "\r",
      " 28%|██████████████████████████████████                                                                                       | 282/1000 [01:20<05:19,  2.25it/s]"
     ]
    },
    {
     "name": "stdout",
     "output_type": "stream",
     "text": [
      "Step Limit Exceeded!\n"
     ]
    },
    {
     "name": "stderr",
     "output_type": "stream",
     "text": [
      "\r",
      " 28%|██████████████████████████████████▏                                                                                      | 283/1000 [01:20<05:18,  2.25it/s]"
     ]
    },
    {
     "name": "stdout",
     "output_type": "stream",
     "text": [
      "Step Limit Exceeded!\n"
     ]
    },
    {
     "name": "stderr",
     "output_type": "stream",
     "text": [
      "\r",
      " 28%|██████████████████████████████████▎                                                                                      | 284/1000 [01:21<05:17,  2.25it/s]"
     ]
    },
    {
     "name": "stdout",
     "output_type": "stream",
     "text": [
      "Step Limit Exceeded!\n"
     ]
    },
    {
     "name": "stderr",
     "output_type": "stream",
     "text": [
      "\r",
      " 28%|██████████████████████████████████▍                                                                                      | 285/1000 [01:21<05:18,  2.24it/s]"
     ]
    },
    {
     "name": "stdout",
     "output_type": "stream",
     "text": [
      "Step Limit Exceeded!\n"
     ]
    },
    {
     "name": "stderr",
     "output_type": "stream",
     "text": [
      "\r",
      " 29%|██████████████████████████████████▌                                                                                      | 286/1000 [01:22<05:17,  2.25it/s]"
     ]
    },
    {
     "name": "stdout",
     "output_type": "stream",
     "text": [
      "Step Limit Exceeded!\n"
     ]
    },
    {
     "name": "stderr",
     "output_type": "stream",
     "text": [
      "\r",
      " 29%|██████████████████████████████████▋                                                                                      | 287/1000 [01:22<05:17,  2.25it/s]"
     ]
    },
    {
     "name": "stdout",
     "output_type": "stream",
     "text": [
      "Step Limit Exceeded!\n"
     ]
    },
    {
     "name": "stderr",
     "output_type": "stream",
     "text": [
      "\r",
      " 29%|██████████████████████████████████▊                                                                                      | 288/1000 [01:23<05:19,  2.23it/s]"
     ]
    },
    {
     "name": "stdout",
     "output_type": "stream",
     "text": [
      "Step Limit Exceeded!\n"
     ]
    },
    {
     "name": "stderr",
     "output_type": "stream",
     "text": [
      "\r",
      " 29%|██████████████████████████████████▉                                                                                      | 289/1000 [01:23<05:17,  2.24it/s]"
     ]
    },
    {
     "name": "stdout",
     "output_type": "stream",
     "text": [
      "Step Limit Exceeded!\n"
     ]
    },
    {
     "name": "stderr",
     "output_type": "stream",
     "text": [
      "\r",
      " 29%|███████████████████████████████████                                                                                      | 290/1000 [01:23<05:16,  2.25it/s]"
     ]
    },
    {
     "name": "stdout",
     "output_type": "stream",
     "text": [
      "Step Limit Exceeded!\n"
     ]
    },
    {
     "name": "stderr",
     "output_type": "stream",
     "text": [
      "\r",
      " 29%|███████████████████████████████████▏                                                                                     | 291/1000 [01:24<05:17,  2.23it/s]"
     ]
    },
    {
     "name": "stdout",
     "output_type": "stream",
     "text": [
      "Step Limit Exceeded!\n"
     ]
    },
    {
     "name": "stderr",
     "output_type": "stream",
     "text": [
      "\r",
      " 29%|███████████████████████████████████▎                                                                                     | 292/1000 [01:24<05:17,  2.23it/s]"
     ]
    },
    {
     "name": "stdout",
     "output_type": "stream",
     "text": [
      "Step Limit Exceeded!\n"
     ]
    },
    {
     "name": "stderr",
     "output_type": "stream",
     "text": [
      "\r",
      " 29%|███████████████████████████████████▍                                                                                     | 293/1000 [01:25<05:17,  2.23it/s]"
     ]
    },
    {
     "name": "stdout",
     "output_type": "stream",
     "text": [
      "Step Limit Exceeded!\n"
     ]
    },
    {
     "name": "stderr",
     "output_type": "stream",
     "text": [
      "\r",
      " 29%|███████████████████████████████████▌                                                                                     | 294/1000 [01:25<05:14,  2.24it/s]"
     ]
    },
    {
     "name": "stdout",
     "output_type": "stream",
     "text": [
      "Step Limit Exceeded!\n"
     ]
    },
    {
     "name": "stderr",
     "output_type": "stream",
     "text": [
      "\r",
      " 30%|███████████████████████████████████▋                                                                                     | 295/1000 [01:26<05:12,  2.26it/s]"
     ]
    },
    {
     "name": "stdout",
     "output_type": "stream",
     "text": [
      "Step Limit Exceeded!\n"
     ]
    },
    {
     "name": "stderr",
     "output_type": "stream",
     "text": [
      "\r",
      " 30%|███████████████████████████████████▊                                                                                     | 296/1000 [01:26<05:13,  2.25it/s]"
     ]
    },
    {
     "name": "stdout",
     "output_type": "stream",
     "text": [
      "Step Limit Exceeded!\n"
     ]
    },
    {
     "name": "stderr",
     "output_type": "stream",
     "text": [
      "\r",
      " 30%|███████████████████████████████████▉                                                                                     | 297/1000 [01:27<05:12,  2.25it/s]"
     ]
    },
    {
     "name": "stdout",
     "output_type": "stream",
     "text": [
      "Step Limit Exceeded!\n"
     ]
    },
    {
     "name": "stderr",
     "output_type": "stream",
     "text": [
      "\r",
      " 30%|████████████████████████████████████                                                                                     | 298/1000 [01:27<05:10,  2.26it/s]"
     ]
    },
    {
     "name": "stdout",
     "output_type": "stream",
     "text": [
      "Step Limit Exceeded!\n"
     ]
    },
    {
     "name": "stderr",
     "output_type": "stream",
     "text": [
      "\r",
      " 30%|████████████████████████████████████▏                                                                                    | 299/1000 [01:27<05:09,  2.27it/s]"
     ]
    },
    {
     "name": "stdout",
     "output_type": "stream",
     "text": [
      "Step Limit Exceeded!\n"
     ]
    },
    {
     "name": "stderr",
     "output_type": "stream",
     "text": [
      "\r",
      " 30%|████████████████████████████████████▎                                                                                    | 300/1000 [01:28<05:08,  2.27it/s]"
     ]
    },
    {
     "name": "stdout",
     "output_type": "stream",
     "text": [
      "Step Limit Exceeded!\n"
     ]
    },
    {
     "name": "stderr",
     "output_type": "stream",
     "text": [
      "\r",
      " 30%|████████████████████████████████████▍                                                                                    | 301/1000 [01:28<05:08,  2.26it/s]"
     ]
    },
    {
     "name": "stdout",
     "output_type": "stream",
     "text": [
      "Step Limit Exceeded!\n"
     ]
    },
    {
     "name": "stderr",
     "output_type": "stream",
     "text": [
      "\r",
      " 30%|████████████████████████████████████▌                                                                                    | 302/1000 [01:29<05:07,  2.27it/s]"
     ]
    },
    {
     "name": "stdout",
     "output_type": "stream",
     "text": [
      "Step Limit Exceeded!\n"
     ]
    },
    {
     "name": "stderr",
     "output_type": "stream",
     "text": [
      "\r",
      " 30%|████████████████████████████████████▋                                                                                    | 303/1000 [01:29<05:08,  2.26it/s]"
     ]
    },
    {
     "name": "stdout",
     "output_type": "stream",
     "text": [
      "Step Limit Exceeded!\n"
     ]
    },
    {
     "name": "stderr",
     "output_type": "stream",
     "text": [
      "\r",
      " 30%|████████████████████████████████████▊                                                                                    | 304/1000 [01:30<05:08,  2.25it/s]"
     ]
    },
    {
     "name": "stdout",
     "output_type": "stream",
     "text": [
      "Step Limit Exceeded!\n"
     ]
    },
    {
     "name": "stderr",
     "output_type": "stream",
     "text": [
      "\r",
      " 30%|████████████████████████████████████▉                                                                                    | 305/1000 [01:30<05:07,  2.26it/s]"
     ]
    },
    {
     "name": "stdout",
     "output_type": "stream",
     "text": [
      "Step Limit Exceeded!\n"
     ]
    },
    {
     "name": "stderr",
     "output_type": "stream",
     "text": [
      "\r",
      " 31%|█████████████████████████████████████                                                                                    | 306/1000 [01:31<05:05,  2.27it/s]"
     ]
    },
    {
     "name": "stdout",
     "output_type": "stream",
     "text": [
      "Step Limit Exceeded!\n"
     ]
    },
    {
     "name": "stderr",
     "output_type": "stream",
     "text": [
      "\r",
      " 31%|█████████████████████████████████████▏                                                                                   | 307/1000 [01:31<05:04,  2.28it/s]"
     ]
    },
    {
     "name": "stdout",
     "output_type": "stream",
     "text": [
      "Step Limit Exceeded!\n"
     ]
    },
    {
     "name": "stderr",
     "output_type": "stream",
     "text": [
      "\r",
      " 31%|█████████████████████████████████████▎                                                                                   | 308/1000 [01:31<05:03,  2.28it/s]"
     ]
    },
    {
     "name": "stdout",
     "output_type": "stream",
     "text": [
      "Step Limit Exceeded!\n"
     ]
    },
    {
     "name": "stderr",
     "output_type": "stream",
     "text": [
      "\r",
      " 31%|█████████████████████████████████████▍                                                                                   | 309/1000 [01:32<05:03,  2.28it/s]"
     ]
    },
    {
     "name": "stdout",
     "output_type": "stream",
     "text": [
      "Step Limit Exceeded!\n"
     ]
    },
    {
     "name": "stderr",
     "output_type": "stream",
     "text": [
      "\r",
      " 31%|█████████████████████████████████████▌                                                                                   | 310/1000 [01:32<05:05,  2.26it/s]"
     ]
    },
    {
     "name": "stdout",
     "output_type": "stream",
     "text": [
      "Step Limit Exceeded!\n"
     ]
    },
    {
     "name": "stderr",
     "output_type": "stream",
     "text": [
      "\r",
      " 31%|█████████████████████████████████████▋                                                                                   | 311/1000 [01:33<05:06,  2.25it/s]"
     ]
    },
    {
     "name": "stdout",
     "output_type": "stream",
     "text": [
      "Step Limit Exceeded!\n"
     ]
    },
    {
     "name": "stderr",
     "output_type": "stream",
     "text": [
      "\r",
      " 31%|█████████████████████████████████████▊                                                                                   | 312/1000 [01:33<05:06,  2.25it/s]"
     ]
    },
    {
     "name": "stdout",
     "output_type": "stream",
     "text": [
      "Step Limit Exceeded!\n"
     ]
    },
    {
     "name": "stderr",
     "output_type": "stream",
     "text": [
      "\r",
      " 31%|█████████████████████████████████████▊                                                                                   | 313/1000 [01:34<05:06,  2.24it/s]"
     ]
    },
    {
     "name": "stdout",
     "output_type": "stream",
     "text": [
      "Step Limit Exceeded!\n"
     ]
    },
    {
     "name": "stderr",
     "output_type": "stream",
     "text": [
      "\r",
      " 31%|█████████████████████████████████████▉                                                                                   | 314/1000 [01:34<05:04,  2.25it/s]"
     ]
    },
    {
     "name": "stdout",
     "output_type": "stream",
     "text": [
      "Step Limit Exceeded!\n"
     ]
    },
    {
     "name": "stderr",
     "output_type": "stream",
     "text": [
      "\r",
      " 32%|██████████████████████████████████████                                                                                   | 315/1000 [01:35<05:03,  2.26it/s]"
     ]
    },
    {
     "name": "stdout",
     "output_type": "stream",
     "text": [
      "Step Limit Exceeded!\n"
     ]
    },
    {
     "name": "stderr",
     "output_type": "stream",
     "text": [
      "\r",
      " 32%|██████████████████████████████████████▏                                                                                  | 316/1000 [01:35<05:03,  2.25it/s]"
     ]
    },
    {
     "name": "stdout",
     "output_type": "stream",
     "text": [
      "Step Limit Exceeded!\n"
     ]
    },
    {
     "name": "stderr",
     "output_type": "stream",
     "text": [
      "\r",
      " 32%|██████████████████████████████████████▎                                                                                  | 317/1000 [01:35<05:02,  2.26it/s]"
     ]
    },
    {
     "name": "stdout",
     "output_type": "stream",
     "text": [
      "Step Limit Exceeded!\n"
     ]
    },
    {
     "name": "stderr",
     "output_type": "stream",
     "text": [
      "\r",
      " 32%|██████████████████████████████████████▍                                                                                  | 318/1000 [01:36<05:02,  2.25it/s]"
     ]
    },
    {
     "name": "stdout",
     "output_type": "stream",
     "text": [
      "Step Limit Exceeded!\n"
     ]
    },
    {
     "name": "stderr",
     "output_type": "stream",
     "text": [
      "\r",
      " 32%|██████████████████████████████████████▌                                                                                  | 319/1000 [01:36<05:00,  2.26it/s]"
     ]
    },
    {
     "name": "stdout",
     "output_type": "stream",
     "text": [
      "Step Limit Exceeded!\n"
     ]
    },
    {
     "name": "stderr",
     "output_type": "stream",
     "text": [
      "\r",
      " 32%|██████████████████████████████████████▋                                                                                  | 320/1000 [01:37<05:00,  2.26it/s]"
     ]
    },
    {
     "name": "stdout",
     "output_type": "stream",
     "text": [
      "Step Limit Exceeded!\n"
     ]
    },
    {
     "name": "stderr",
     "output_type": "stream",
     "text": [
      "\r",
      " 32%|██████████████████████████████████████▊                                                                                  | 321/1000 [01:37<05:01,  2.26it/s]"
     ]
    },
    {
     "name": "stdout",
     "output_type": "stream",
     "text": [
      "Step Limit Exceeded!\n"
     ]
    },
    {
     "name": "stderr",
     "output_type": "stream",
     "text": [
      "\r",
      " 32%|██████████████████████████████████████▉                                                                                  | 322/1000 [01:38<05:00,  2.26it/s]"
     ]
    },
    {
     "name": "stdout",
     "output_type": "stream",
     "text": [
      "Step Limit Exceeded!\n"
     ]
    },
    {
     "name": "stderr",
     "output_type": "stream",
     "text": [
      "\r",
      " 32%|███████████████████████████████████████                                                                                  | 323/1000 [01:38<04:59,  2.26it/s]"
     ]
    },
    {
     "name": "stdout",
     "output_type": "stream",
     "text": [
      "Step Limit Exceeded!\n"
     ]
    },
    {
     "name": "stderr",
     "output_type": "stream",
     "text": [
      "\r",
      " 32%|███████████████████████████████████████▏                                                                                 | 324/1000 [01:39<04:58,  2.26it/s]"
     ]
    },
    {
     "name": "stdout",
     "output_type": "stream",
     "text": [
      "Step Limit Exceeded!\n"
     ]
    },
    {
     "name": "stderr",
     "output_type": "stream",
     "text": [
      "\r",
      " 32%|███████████████████████████████████████▎                                                                                 | 325/1000 [01:39<04:57,  2.27it/s]"
     ]
    },
    {
     "name": "stdout",
     "output_type": "stream",
     "text": [
      "Step Limit Exceeded!\n"
     ]
    },
    {
     "name": "stderr",
     "output_type": "stream",
     "text": [
      "\r",
      " 33%|███████████████████████████████████████▍                                                                                 | 326/1000 [01:39<04:57,  2.27it/s]"
     ]
    },
    {
     "name": "stdout",
     "output_type": "stream",
     "text": [
      "Step Limit Exceeded!\n"
     ]
    },
    {
     "name": "stderr",
     "output_type": "stream",
     "text": [
      "\r",
      " 33%|███████████████████████████████████████▌                                                                                 | 327/1000 [01:40<04:55,  2.28it/s]"
     ]
    },
    {
     "name": "stdout",
     "output_type": "stream",
     "text": [
      "Step Limit Exceeded!\n"
     ]
    },
    {
     "name": "stderr",
     "output_type": "stream",
     "text": [
      "\r",
      " 33%|███████████████████████████████████████▋                                                                                 | 328/1000 [01:40<04:55,  2.28it/s]"
     ]
    },
    {
     "name": "stdout",
     "output_type": "stream",
     "text": [
      "Step Limit Exceeded!\n"
     ]
    },
    {
     "name": "stderr",
     "output_type": "stream",
     "text": [
      "\r",
      " 33%|███████████████████████████████████████▊                                                                                 | 329/1000 [01:41<04:54,  2.28it/s]"
     ]
    },
    {
     "name": "stdout",
     "output_type": "stream",
     "text": [
      "Step Limit Exceeded!\n"
     ]
    },
    {
     "name": "stderr",
     "output_type": "stream",
     "text": [
      "\r",
      " 33%|███████████████████████████████████████▉                                                                                 | 330/1000 [01:41<04:55,  2.27it/s]"
     ]
    },
    {
     "name": "stdout",
     "output_type": "stream",
     "text": [
      "Step Limit Exceeded!\n"
     ]
    },
    {
     "name": "stderr",
     "output_type": "stream",
     "text": [
      "\r",
      " 33%|████████████████████████████████████████                                                                                 | 331/1000 [01:42<04:56,  2.26it/s]"
     ]
    },
    {
     "name": "stdout",
     "output_type": "stream",
     "text": [
      "Step Limit Exceeded!\n"
     ]
    },
    {
     "name": "stderr",
     "output_type": "stream",
     "text": [
      "\r",
      " 33%|████████████████████████████████████████▏                                                                                | 332/1000 [01:42<04:54,  2.27it/s]"
     ]
    },
    {
     "name": "stdout",
     "output_type": "stream",
     "text": [
      "Step Limit Exceeded!\n"
     ]
    },
    {
     "name": "stderr",
     "output_type": "stream",
     "text": [
      "\r",
      " 33%|████████████████████████████████████████▎                                                                                | 333/1000 [01:42<04:53,  2.28it/s]"
     ]
    },
    {
     "name": "stdout",
     "output_type": "stream",
     "text": [
      "Step Limit Exceeded!\n"
     ]
    },
    {
     "name": "stderr",
     "output_type": "stream",
     "text": [
      "\r",
      " 33%|████████████████████████████████████████▍                                                                                | 334/1000 [01:43<04:53,  2.27it/s]"
     ]
    },
    {
     "name": "stdout",
     "output_type": "stream",
     "text": [
      "Step Limit Exceeded!\n"
     ]
    },
    {
     "name": "stderr",
     "output_type": "stream",
     "text": [
      "\r",
      " 34%|████████████████████████████████████████▌                                                                                | 335/1000 [01:43<04:55,  2.25it/s]"
     ]
    },
    {
     "name": "stdout",
     "output_type": "stream",
     "text": [
      "Step Limit Exceeded!\n"
     ]
    },
    {
     "name": "stderr",
     "output_type": "stream",
     "text": [
      "\r",
      " 34%|████████████████████████████████████████▋                                                                                | 336/1000 [01:44<04:53,  2.26it/s]"
     ]
    },
    {
     "name": "stdout",
     "output_type": "stream",
     "text": [
      "Step Limit Exceeded!\n"
     ]
    },
    {
     "name": "stderr",
     "output_type": "stream",
     "text": [
      "\r",
      " 34%|████████████████████████████████████████▊                                                                                | 337/1000 [01:44<04:52,  2.26it/s]"
     ]
    },
    {
     "name": "stdout",
     "output_type": "stream",
     "text": [
      "Step Limit Exceeded!\n"
     ]
    },
    {
     "name": "stderr",
     "output_type": "stream",
     "text": [
      "\r",
      " 34%|████████████████████████████████████████▉                                                                                | 338/1000 [01:45<04:52,  2.27it/s]"
     ]
    },
    {
     "name": "stdout",
     "output_type": "stream",
     "text": [
      "Step Limit Exceeded!\n"
     ]
    },
    {
     "name": "stderr",
     "output_type": "stream",
     "text": [
      "\r",
      " 34%|█████████████████████████████████████████                                                                                | 339/1000 [01:45<04:52,  2.26it/s]"
     ]
    },
    {
     "name": "stdout",
     "output_type": "stream",
     "text": [
      "Step Limit Exceeded!\n"
     ]
    },
    {
     "name": "stderr",
     "output_type": "stream",
     "text": [
      "\r",
      " 34%|█████████████████████████████████████████▏                                                                               | 340/1000 [01:46<04:51,  2.26it/s]"
     ]
    },
    {
     "name": "stdout",
     "output_type": "stream",
     "text": [
      "Step Limit Exceeded!\n"
     ]
    },
    {
     "name": "stderr",
     "output_type": "stream",
     "text": [
      "\r",
      " 34%|█████████████████████████████████████████▎                                                                               | 341/1000 [01:46<04:50,  2.27it/s]"
     ]
    },
    {
     "name": "stdout",
     "output_type": "stream",
     "text": [
      "Step Limit Exceeded!\n"
     ]
    },
    {
     "name": "stderr",
     "output_type": "stream",
     "text": [
      "\r",
      " 34%|█████████████████████████████████████████▍                                                                               | 342/1000 [01:46<04:49,  2.27it/s]"
     ]
    },
    {
     "name": "stdout",
     "output_type": "stream",
     "text": [
      "Step Limit Exceeded!\n"
     ]
    },
    {
     "name": "stderr",
     "output_type": "stream",
     "text": [
      "\r",
      " 34%|█████████████████████████████████████████▌                                                                               | 343/1000 [01:47<04:49,  2.27it/s]"
     ]
    },
    {
     "name": "stdout",
     "output_type": "stream",
     "text": [
      "Step Limit Exceeded!\n"
     ]
    },
    {
     "name": "stderr",
     "output_type": "stream",
     "text": [
      "\r",
      " 34%|█████████████████████████████████████████▌                                                                               | 344/1000 [01:47<04:49,  2.27it/s]"
     ]
    },
    {
     "name": "stdout",
     "output_type": "stream",
     "text": [
      "Step Limit Exceeded!\n"
     ]
    },
    {
     "name": "stderr",
     "output_type": "stream",
     "text": [
      "\r",
      " 34%|█████████████████████████████████████████▋                                                                               | 345/1000 [01:48<04:48,  2.27it/s]"
     ]
    },
    {
     "name": "stdout",
     "output_type": "stream",
     "text": [
      "Step Limit Exceeded!\n"
     ]
    },
    {
     "name": "stderr",
     "output_type": "stream",
     "text": [
      "\r",
      " 35%|█████████████████████████████████████████▊                                                                               | 346/1000 [01:48<04:47,  2.27it/s]"
     ]
    },
    {
     "name": "stdout",
     "output_type": "stream",
     "text": [
      "Step Limit Exceeded!\n"
     ]
    },
    {
     "name": "stderr",
     "output_type": "stream",
     "text": [
      "\r",
      " 35%|█████████████████████████████████████████▉                                                                               | 347/1000 [01:49<04:46,  2.28it/s]"
     ]
    },
    {
     "name": "stdout",
     "output_type": "stream",
     "text": [
      "Step Limit Exceeded!\n"
     ]
    },
    {
     "name": "stderr",
     "output_type": "stream",
     "text": [
      "\r",
      " 35%|██████████████████████████████████████████                                                                               | 348/1000 [01:49<04:46,  2.28it/s]"
     ]
    },
    {
     "name": "stdout",
     "output_type": "stream",
     "text": [
      "Step Limit Exceeded!\n"
     ]
    },
    {
     "name": "stderr",
     "output_type": "stream",
     "text": [
      "\r",
      " 35%|██████████████████████████████████████████▏                                                                              | 349/1000 [01:50<04:45,  2.28it/s]"
     ]
    },
    {
     "name": "stdout",
     "output_type": "stream",
     "text": [
      "Step Limit Exceeded!\n"
     ]
    },
    {
     "name": "stderr",
     "output_type": "stream",
     "text": [
      "\r",
      " 35%|██████████████████████████████████████████▎                                                                              | 350/1000 [01:50<04:45,  2.28it/s]"
     ]
    },
    {
     "name": "stdout",
     "output_type": "stream",
     "text": [
      "Step Limit Exceeded!\n"
     ]
    },
    {
     "name": "stderr",
     "output_type": "stream",
     "text": [
      "\r",
      " 35%|██████████████████████████████████████████▍                                                                              | 351/1000 [01:50<04:44,  2.28it/s]"
     ]
    },
    {
     "name": "stdout",
     "output_type": "stream",
     "text": [
      "Step Limit Exceeded!\n"
     ]
    },
    {
     "name": "stderr",
     "output_type": "stream",
     "text": [
      "\r",
      " 35%|██████████████████████████████████████████▌                                                                              | 352/1000 [01:51<04:45,  2.27it/s]"
     ]
    },
    {
     "name": "stdout",
     "output_type": "stream",
     "text": [
      "Step Limit Exceeded!\n"
     ]
    },
    {
     "name": "stderr",
     "output_type": "stream",
     "text": [
      "\r",
      " 35%|██████████████████████████████████████████▋                                                                              | 353/1000 [01:51<04:44,  2.28it/s]"
     ]
    },
    {
     "name": "stdout",
     "output_type": "stream",
     "text": [
      "Step Limit Exceeded!\n"
     ]
    },
    {
     "name": "stderr",
     "output_type": "stream",
     "text": [
      "\r",
      " 35%|██████████████████████████████████████████▊                                                                              | 354/1000 [01:52<04:43,  2.28it/s]"
     ]
    },
    {
     "name": "stdout",
     "output_type": "stream",
     "text": [
      "Step Limit Exceeded!\n"
     ]
    },
    {
     "name": "stderr",
     "output_type": "stream",
     "text": [
      "\r",
      " 36%|██████████████████████████████████████████▉                                                                              | 355/1000 [01:52<04:42,  2.28it/s]"
     ]
    },
    {
     "name": "stdout",
     "output_type": "stream",
     "text": [
      "Step Limit Exceeded!\n"
     ]
    },
    {
     "name": "stderr",
     "output_type": "stream",
     "text": [
      "\r",
      " 36%|███████████████████████████████████████████                                                                              | 356/1000 [01:53<04:42,  2.28it/s]"
     ]
    },
    {
     "name": "stdout",
     "output_type": "stream",
     "text": [
      "Step Limit Exceeded!\n"
     ]
    },
    {
     "name": "stderr",
     "output_type": "stream",
     "text": [
      "\r",
      " 36%|███████████████████████████████████████████▏                                                                             | 357/1000 [01:53<04:41,  2.28it/s]"
     ]
    },
    {
     "name": "stdout",
     "output_type": "stream",
     "text": [
      "Step Limit Exceeded!\n"
     ]
    },
    {
     "name": "stderr",
     "output_type": "stream",
     "text": [
      "\r",
      " 36%|███████████████████████████████████████████▎                                                                             | 358/1000 [01:53<04:41,  2.28it/s]"
     ]
    },
    {
     "name": "stdout",
     "output_type": "stream",
     "text": [
      "Step Limit Exceeded!\n"
     ]
    },
    {
     "name": "stderr",
     "output_type": "stream",
     "text": [
      "\r",
      " 36%|███████████████████████████████████████████▍                                                                             | 359/1000 [01:54<04:40,  2.28it/s]"
     ]
    },
    {
     "name": "stdout",
     "output_type": "stream",
     "text": [
      "Step Limit Exceeded!\n"
     ]
    },
    {
     "name": "stderr",
     "output_type": "stream",
     "text": [
      "\r",
      " 36%|███████████████████████████████████████████▌                                                                             | 360/1000 [01:54<04:40,  2.28it/s]"
     ]
    },
    {
     "name": "stdout",
     "output_type": "stream",
     "text": [
      "Step Limit Exceeded!\n"
     ]
    },
    {
     "name": "stderr",
     "output_type": "stream",
     "text": [
      "\r",
      " 36%|███████████████████████████████████████████▋                                                                             | 361/1000 [01:55<04:39,  2.29it/s]"
     ]
    },
    {
     "name": "stdout",
     "output_type": "stream",
     "text": [
      "Step Limit Exceeded!\n"
     ]
    },
    {
     "name": "stderr",
     "output_type": "stream",
     "text": [
      "\r",
      " 36%|███████████████████████████████████████████▊                                                                             | 362/1000 [01:55<04:38,  2.29it/s]"
     ]
    },
    {
     "name": "stdout",
     "output_type": "stream",
     "text": [
      "Step Limit Exceeded!\n"
     ]
    },
    {
     "name": "stderr",
     "output_type": "stream",
     "text": [
      "\r",
      " 36%|███████████████████████████████████████████▉                                                                             | 363/1000 [01:56<04:38,  2.29it/s]"
     ]
    },
    {
     "name": "stdout",
     "output_type": "stream",
     "text": [
      "Step Limit Exceeded!\n"
     ]
    },
    {
     "name": "stderr",
     "output_type": "stream",
     "text": [
      "\r",
      " 36%|████████████████████████████████████████████                                                                             | 364/1000 [01:56<04:38,  2.29it/s]"
     ]
    },
    {
     "name": "stdout",
     "output_type": "stream",
     "text": [
      "Step Limit Exceeded!\n"
     ]
    },
    {
     "name": "stderr",
     "output_type": "stream",
     "text": [
      "\r",
      " 36%|████████████████████████████████████████████▏                                                                            | 365/1000 [01:57<04:37,  2.29it/s]"
     ]
    },
    {
     "name": "stdout",
     "output_type": "stream",
     "text": [
      "Step Limit Exceeded!\n"
     ]
    },
    {
     "name": "stderr",
     "output_type": "stream",
     "text": [
      "\r",
      " 37%|████████████████████████████████████████████▎                                                                            | 366/1000 [01:57<04:38,  2.28it/s]"
     ]
    },
    {
     "name": "stdout",
     "output_type": "stream",
     "text": [
      "Step Limit Exceeded!\n"
     ]
    },
    {
     "name": "stderr",
     "output_type": "stream",
     "text": [
      "\r",
      " 37%|████████████████████████████████████████████▍                                                                            | 367/1000 [01:57<04:37,  2.28it/s]"
     ]
    },
    {
     "name": "stdout",
     "output_type": "stream",
     "text": [
      "Step Limit Exceeded!\n"
     ]
    },
    {
     "name": "stderr",
     "output_type": "stream",
     "text": [
      "\r",
      " 37%|████████████████████████████████████████████▌                                                                            | 368/1000 [01:58<04:36,  2.28it/s]"
     ]
    },
    {
     "name": "stdout",
     "output_type": "stream",
     "text": [
      "Step Limit Exceeded!\n"
     ]
    },
    {
     "name": "stderr",
     "output_type": "stream",
     "text": [
      "\r",
      " 37%|████████████████████████████████████████████▋                                                                            | 369/1000 [01:58<04:36,  2.28it/s]"
     ]
    },
    {
     "name": "stdout",
     "output_type": "stream",
     "text": [
      "Step Limit Exceeded!\n"
     ]
    },
    {
     "name": "stderr",
     "output_type": "stream",
     "text": [
      "\r",
      " 37%|████████████████████████████████████████████▊                                                                            | 370/1000 [01:59<04:35,  2.28it/s]"
     ]
    },
    {
     "name": "stdout",
     "output_type": "stream",
     "text": [
      "Step Limit Exceeded!\n"
     ]
    },
    {
     "name": "stderr",
     "output_type": "stream",
     "text": [
      "\r",
      " 37%|████████████████████████████████████████████▉                                                                            | 371/1000 [01:59<04:35,  2.28it/s]"
     ]
    },
    {
     "name": "stdout",
     "output_type": "stream",
     "text": [
      "Step Limit Exceeded!\n"
     ]
    },
    {
     "name": "stderr",
     "output_type": "stream",
     "text": [
      "\r",
      " 37%|█████████████████████████████████████████████                                                                            | 372/1000 [02:00<04:34,  2.28it/s]"
     ]
    },
    {
     "name": "stdout",
     "output_type": "stream",
     "text": [
      "Step Limit Exceeded!\n"
     ]
    },
    {
     "name": "stderr",
     "output_type": "stream",
     "text": [
      "\r",
      " 37%|█████████████████████████████████████████████▏                                                                           | 373/1000 [02:00<04:34,  2.28it/s]"
     ]
    },
    {
     "name": "stdout",
     "output_type": "stream",
     "text": [
      "Step Limit Exceeded!\n"
     ]
    },
    {
     "name": "stderr",
     "output_type": "stream",
     "text": [
      "\r",
      " 37%|█████████████████████████████████████████████▎                                                                           | 374/1000 [02:00<04:34,  2.28it/s]"
     ]
    },
    {
     "name": "stdout",
     "output_type": "stream",
     "text": [
      "Step Limit Exceeded!\n"
     ]
    },
    {
     "name": "stderr",
     "output_type": "stream",
     "text": [
      "\r",
      " 38%|█████████████████████████████████████████████▍                                                                           | 375/1000 [02:01<04:33,  2.28it/s]"
     ]
    },
    {
     "name": "stdout",
     "output_type": "stream",
     "text": [
      "Step Limit Exceeded!\n"
     ]
    },
    {
     "name": "stderr",
     "output_type": "stream",
     "text": [
      "\r",
      " 38%|█████████████████████████████████████████████▍                                                                           | 376/1000 [02:01<04:33,  2.28it/s]"
     ]
    },
    {
     "name": "stdout",
     "output_type": "stream",
     "text": [
      "Step Limit Exceeded!\n"
     ]
    },
    {
     "name": "stderr",
     "output_type": "stream",
     "text": [
      "\r",
      " 38%|█████████████████████████████████████████████▌                                                                           | 377/1000 [02:02<04:33,  2.28it/s]"
     ]
    },
    {
     "name": "stdout",
     "output_type": "stream",
     "text": [
      "Step Limit Exceeded!\n"
     ]
    },
    {
     "name": "stderr",
     "output_type": "stream",
     "text": [
      "\r",
      " 38%|█████████████████████████████████████████████▋                                                                           | 378/1000 [02:02<04:32,  2.28it/s]"
     ]
    },
    {
     "name": "stdout",
     "output_type": "stream",
     "text": [
      "Step Limit Exceeded!\n"
     ]
    },
    {
     "name": "stderr",
     "output_type": "stream",
     "text": [
      "\r",
      " 38%|█████████████████████████████████████████████▊                                                                           | 379/1000 [02:03<04:32,  2.28it/s]"
     ]
    },
    {
     "name": "stdout",
     "output_type": "stream",
     "text": [
      "Step Limit Exceeded!\n"
     ]
    },
    {
     "name": "stderr",
     "output_type": "stream",
     "text": [
      "\r",
      " 38%|█████████████████████████████████████████████▉                                                                           | 380/1000 [02:03<04:32,  2.28it/s]"
     ]
    },
    {
     "name": "stdout",
     "output_type": "stream",
     "text": [
      "Step Limit Exceeded!\n"
     ]
    },
    {
     "name": "stderr",
     "output_type": "stream",
     "text": [
      "\r",
      " 38%|██████████████████████████████████████████████                                                                           | 381/1000 [02:04<04:31,  2.28it/s]"
     ]
    },
    {
     "name": "stdout",
     "output_type": "stream",
     "text": [
      "Step Limit Exceeded!\n"
     ]
    },
    {
     "name": "stderr",
     "output_type": "stream",
     "text": [
      "\r",
      " 38%|██████████████████████████████████████████████▏                                                                          | 382/1000 [02:04<04:30,  2.28it/s]"
     ]
    },
    {
     "name": "stdout",
     "output_type": "stream",
     "text": [
      "Step Limit Exceeded!\n"
     ]
    },
    {
     "name": "stderr",
     "output_type": "stream",
     "text": [
      "\r",
      " 38%|██████████████████████████████████████████████▎                                                                          | 383/1000 [02:04<04:29,  2.29it/s]"
     ]
    },
    {
     "name": "stdout",
     "output_type": "stream",
     "text": [
      "Step Limit Exceeded!\n"
     ]
    },
    {
     "name": "stderr",
     "output_type": "stream",
     "text": [
      "\r",
      " 38%|██████████████████████████████████████████████▍                                                                          | 384/1000 [02:05<04:29,  2.29it/s]"
     ]
    },
    {
     "name": "stdout",
     "output_type": "stream",
     "text": [
      "Step Limit Exceeded!\n"
     ]
    },
    {
     "name": "stderr",
     "output_type": "stream",
     "text": [
      "\r",
      " 38%|██████████████████████████████████████████████▌                                                                          | 385/1000 [02:05<04:29,  2.29it/s]"
     ]
    },
    {
     "name": "stdout",
     "output_type": "stream",
     "text": [
      "Step Limit Exceeded!\n"
     ]
    },
    {
     "name": "stderr",
     "output_type": "stream",
     "text": [
      "\r",
      " 39%|██████████████████████████████████████████████▋                                                                          | 386/1000 [02:06<04:28,  2.28it/s]"
     ]
    },
    {
     "name": "stdout",
     "output_type": "stream",
     "text": [
      "Step Limit Exceeded!\n"
     ]
    },
    {
     "name": "stderr",
     "output_type": "stream",
     "text": [
      "\r",
      " 39%|██████████████████████████████████████████████▊                                                                          | 387/1000 [02:06<04:28,  2.28it/s]"
     ]
    },
    {
     "name": "stdout",
     "output_type": "stream",
     "text": [
      "Step Limit Exceeded!\n"
     ]
    },
    {
     "name": "stderr",
     "output_type": "stream",
     "text": [
      "\r",
      " 39%|██████████████████████████████████████████████▉                                                                          | 388/1000 [02:07<04:28,  2.28it/s]"
     ]
    },
    {
     "name": "stdout",
     "output_type": "stream",
     "text": [
      "Step Limit Exceeded!\n"
     ]
    },
    {
     "name": "stderr",
     "output_type": "stream",
     "text": [
      "\r",
      " 39%|███████████████████████████████████████████████                                                                          | 389/1000 [02:07<04:27,  2.28it/s]"
     ]
    },
    {
     "name": "stdout",
     "output_type": "stream",
     "text": [
      "Step Limit Exceeded!\n"
     ]
    },
    {
     "name": "stderr",
     "output_type": "stream",
     "text": [
      "\r",
      " 39%|███████████████████████████████████████████████▏                                                                         | 390/1000 [02:08<04:27,  2.28it/s]"
     ]
    },
    {
     "name": "stdout",
     "output_type": "stream",
     "text": [
      "Step Limit Exceeded!\n"
     ]
    },
    {
     "name": "stderr",
     "output_type": "stream",
     "text": [
      "\r",
      " 39%|███████████████████████████████████████████████▎                                                                         | 391/1000 [02:08<04:27,  2.27it/s]"
     ]
    },
    {
     "name": "stdout",
     "output_type": "stream",
     "text": [
      "Step Limit Exceeded!\n"
     ]
    },
    {
     "name": "stderr",
     "output_type": "stream",
     "text": [
      "\r",
      " 39%|███████████████████████████████████████████████▍                                                                         | 392/1000 [02:08<04:27,  2.28it/s]"
     ]
    },
    {
     "name": "stdout",
     "output_type": "stream",
     "text": [
      "Step Limit Exceeded!\n"
     ]
    },
    {
     "name": "stderr",
     "output_type": "stream",
     "text": [
      "\r",
      " 39%|███████████████████████████████████████████████▌                                                                         | 393/1000 [02:09<04:26,  2.28it/s]"
     ]
    },
    {
     "name": "stdout",
     "output_type": "stream",
     "text": [
      "Step Limit Exceeded!\n"
     ]
    },
    {
     "name": "stderr",
     "output_type": "stream",
     "text": [
      "\r",
      " 39%|███████████████████████████████████████████████▋                                                                         | 394/1000 [02:09<04:26,  2.28it/s]"
     ]
    },
    {
     "name": "stdout",
     "output_type": "stream",
     "text": [
      "Step Limit Exceeded!\n"
     ]
    },
    {
     "name": "stderr",
     "output_type": "stream",
     "text": [
      "\r",
      " 40%|███████████████████████████████████████████████▊                                                                         | 395/1000 [02:10<04:25,  2.28it/s]"
     ]
    },
    {
     "name": "stdout",
     "output_type": "stream",
     "text": [
      "Step Limit Exceeded!\n"
     ]
    },
    {
     "name": "stderr",
     "output_type": "stream",
     "text": [
      "\r",
      " 40%|███████████████████████████████████████████████▉                                                                         | 396/1000 [02:10<04:25,  2.28it/s]"
     ]
    },
    {
     "name": "stdout",
     "output_type": "stream",
     "text": [
      "Step Limit Exceeded!\n"
     ]
    },
    {
     "name": "stderr",
     "output_type": "stream",
     "text": [
      "\r",
      " 40%|████████████████████████████████████████████████                                                                         | 397/1000 [02:11<04:24,  2.28it/s]"
     ]
    },
    {
     "name": "stdout",
     "output_type": "stream",
     "text": [
      "Step Limit Exceeded!\n"
     ]
    },
    {
     "name": "stderr",
     "output_type": "stream",
     "text": [
      "\r",
      " 40%|████████████████████████████████████████████████▏                                                                        | 398/1000 [02:11<04:23,  2.28it/s]"
     ]
    },
    {
     "name": "stdout",
     "output_type": "stream",
     "text": [
      "Step Limit Exceeded!\n"
     ]
    },
    {
     "name": "stderr",
     "output_type": "stream",
     "text": [
      "\r",
      " 40%|████████████████████████████████████████████████▎                                                                        | 399/1000 [02:11<04:23,  2.28it/s]"
     ]
    },
    {
     "name": "stdout",
     "output_type": "stream",
     "text": [
      "Step Limit Exceeded!\n"
     ]
    },
    {
     "name": "stderr",
     "output_type": "stream",
     "text": [
      "\r",
      " 40%|████████████████████████████████████████████████▍                                                                        | 400/1000 [02:12<04:22,  2.28it/s]"
     ]
    },
    {
     "name": "stdout",
     "output_type": "stream",
     "text": [
      "Step Limit Exceeded!\n"
     ]
    },
    {
     "name": "stderr",
     "output_type": "stream",
     "text": [
      "\r",
      " 40%|████████████████████████████████████████████████▌                                                                        | 401/1000 [02:12<04:22,  2.28it/s]"
     ]
    },
    {
     "name": "stdout",
     "output_type": "stream",
     "text": [
      "Step Limit Exceeded!\n"
     ]
    },
    {
     "name": "stderr",
     "output_type": "stream",
     "text": [
      "\r",
      " 40%|████████████████████████████████████████████████▋                                                                        | 402/1000 [02:13<04:21,  2.29it/s]"
     ]
    },
    {
     "name": "stdout",
     "output_type": "stream",
     "text": [
      "Step Limit Exceeded!\n"
     ]
    },
    {
     "name": "stderr",
     "output_type": "stream",
     "text": [
      "\r",
      " 40%|████████████████████████████████████████████████▊                                                                        | 403/1000 [02:13<04:20,  2.29it/s]"
     ]
    },
    {
     "name": "stdout",
     "output_type": "stream",
     "text": [
      "Step Limit Exceeded!\n"
     ]
    },
    {
     "name": "stderr",
     "output_type": "stream",
     "text": [
      "\r",
      " 40%|████████████████████████████████████████████████▉                                                                        | 404/1000 [02:14<04:20,  2.29it/s]"
     ]
    },
    {
     "name": "stdout",
     "output_type": "stream",
     "text": [
      "Step Limit Exceeded!\n"
     ]
    },
    {
     "name": "stderr",
     "output_type": "stream",
     "text": [
      "\r",
      " 40%|█████████████████████████████████████████████████                                                                        | 405/1000 [02:14<04:20,  2.29it/s]"
     ]
    },
    {
     "name": "stdout",
     "output_type": "stream",
     "text": [
      "Step Limit Exceeded!\n"
     ]
    },
    {
     "name": "stderr",
     "output_type": "stream",
     "text": [
      "\r",
      " 41%|█████████████████████████████████████████████████▏                                                                       | 406/1000 [02:15<04:20,  2.28it/s]"
     ]
    },
    {
     "name": "stdout",
     "output_type": "stream",
     "text": [
      "Step Limit Exceeded!\n"
     ]
    },
    {
     "name": "stderr",
     "output_type": "stream",
     "text": [
      "\r",
      " 41%|█████████████████████████████████████████████████▏                                                                       | 407/1000 [02:15<04:20,  2.28it/s]"
     ]
    },
    {
     "name": "stdout",
     "output_type": "stream",
     "text": [
      "Step Limit Exceeded!\n"
     ]
    },
    {
     "name": "stderr",
     "output_type": "stream",
     "text": [
      "\r",
      " 41%|█████████████████████████████████████████████████▎                                                                       | 408/1000 [02:15<04:19,  2.28it/s]"
     ]
    },
    {
     "name": "stdout",
     "output_type": "stream",
     "text": [
      "Step Limit Exceeded!\n"
     ]
    },
    {
     "name": "stderr",
     "output_type": "stream",
     "text": [
      "\r",
      " 41%|█████████████████████████████████████████████████▍                                                                       | 409/1000 [02:16<04:18,  2.28it/s]"
     ]
    },
    {
     "name": "stdout",
     "output_type": "stream",
     "text": [
      "Step Limit Exceeded!\n"
     ]
    },
    {
     "name": "stderr",
     "output_type": "stream",
     "text": [
      "\r",
      " 41%|█████████████████████████████████████████████████▌                                                                       | 410/1000 [02:16<04:18,  2.28it/s]"
     ]
    },
    {
     "name": "stdout",
     "output_type": "stream",
     "text": [
      "Step Limit Exceeded!\n"
     ]
    },
    {
     "name": "stderr",
     "output_type": "stream",
     "text": [
      "\r",
      " 41%|█████████████████████████████████████████████████▋                                                                       | 411/1000 [02:17<04:17,  2.29it/s]"
     ]
    },
    {
     "name": "stdout",
     "output_type": "stream",
     "text": [
      "Step Limit Exceeded!\n"
     ]
    },
    {
     "name": "stderr",
     "output_type": "stream",
     "text": [
      "\r",
      " 41%|█████████████████████████████████████████████████▊                                                                       | 412/1000 [02:17<04:17,  2.29it/s]"
     ]
    },
    {
     "name": "stdout",
     "output_type": "stream",
     "text": [
      "Step Limit Exceeded!\n"
     ]
    },
    {
     "name": "stderr",
     "output_type": "stream",
     "text": [
      "\r",
      " 41%|█████████████████████████████████████████████████▉                                                                       | 413/1000 [02:18<04:16,  2.29it/s]"
     ]
    },
    {
     "name": "stdout",
     "output_type": "stream",
     "text": [
      "Step Limit Exceeded!\n"
     ]
    },
    {
     "name": "stderr",
     "output_type": "stream",
     "text": [
      "\r",
      " 41%|██████████████████████████████████████████████████                                                                       | 414/1000 [02:18<04:16,  2.29it/s]"
     ]
    },
    {
     "name": "stdout",
     "output_type": "stream",
     "text": [
      "Step Limit Exceeded!\n"
     ]
    },
    {
     "name": "stderr",
     "output_type": "stream",
     "text": [
      "\r",
      " 42%|██████████████████████████████████████████████████▏                                                                      | 415/1000 [02:18<04:15,  2.29it/s]"
     ]
    },
    {
     "name": "stdout",
     "output_type": "stream",
     "text": [
      "Step Limit Exceeded!\n"
     ]
    },
    {
     "name": "stderr",
     "output_type": "stream",
     "text": [
      "\r",
      " 42%|██████████████████████████████████████████████████▎                                                                      | 416/1000 [02:19<04:15,  2.29it/s]"
     ]
    },
    {
     "name": "stdout",
     "output_type": "stream",
     "text": [
      "Step Limit Exceeded!\n"
     ]
    },
    {
     "name": "stderr",
     "output_type": "stream",
     "text": [
      "\r",
      " 42%|██████████████████████████████████████████████████▍                                                                      | 417/1000 [02:19<04:14,  2.29it/s]"
     ]
    },
    {
     "name": "stdout",
     "output_type": "stream",
     "text": [
      "Step Limit Exceeded!\n"
     ]
    },
    {
     "name": "stderr",
     "output_type": "stream",
     "text": [
      "\r",
      " 42%|██████████████████████████████████████████████████▌                                                                      | 418/1000 [02:20<04:14,  2.29it/s]"
     ]
    },
    {
     "name": "stdout",
     "output_type": "stream",
     "text": [
      "Step Limit Exceeded!\n"
     ]
    },
    {
     "name": "stderr",
     "output_type": "stream",
     "text": [
      "\r",
      " 42%|██████████████████████████████████████████████████▋                                                                      | 419/1000 [02:20<04:13,  2.29it/s]"
     ]
    },
    {
     "name": "stdout",
     "output_type": "stream",
     "text": [
      "Step Limit Exceeded!\n"
     ]
    },
    {
     "name": "stderr",
     "output_type": "stream",
     "text": [
      "\r",
      " 42%|██████████████████████████████████████████████████▊                                                                      | 420/1000 [02:21<04:13,  2.29it/s]"
     ]
    },
    {
     "name": "stdout",
     "output_type": "stream",
     "text": [
      "Step Limit Exceeded!\n"
     ]
    },
    {
     "name": "stderr",
     "output_type": "stream",
     "text": [
      "\r",
      " 42%|██████████████████████████████████████████████████▉                                                                      | 421/1000 [02:21<04:12,  2.29it/s]"
     ]
    },
    {
     "name": "stdout",
     "output_type": "stream",
     "text": [
      "Step Limit Exceeded!\n"
     ]
    },
    {
     "name": "stderr",
     "output_type": "stream",
     "text": [
      "\r",
      " 42%|███████████████████████████████████████████████████                                                                      | 422/1000 [02:22<04:12,  2.29it/s]"
     ]
    },
    {
     "name": "stdout",
     "output_type": "stream",
     "text": [
      "Step Limit Exceeded!\n"
     ]
    },
    {
     "name": "stderr",
     "output_type": "stream",
     "text": [
      "\r",
      " 42%|███████████████████████████████████████████████████▏                                                                     | 423/1000 [02:22<04:12,  2.29it/s]"
     ]
    },
    {
     "name": "stdout",
     "output_type": "stream",
     "text": [
      "Step Limit Exceeded!\n"
     ]
    },
    {
     "name": "stderr",
     "output_type": "stream",
     "text": [
      "\r",
      " 42%|███████████████████████████████████████████████████▎                                                                     | 424/1000 [02:22<04:12,  2.29it/s]"
     ]
    },
    {
     "name": "stdout",
     "output_type": "stream",
     "text": [
      "Step Limit Exceeded!\n"
     ]
    },
    {
     "name": "stderr",
     "output_type": "stream",
     "text": [
      "\r",
      " 42%|███████████████████████████████████████████████████▍                                                                     | 425/1000 [02:23<04:11,  2.28it/s]"
     ]
    },
    {
     "name": "stdout",
     "output_type": "stream",
     "text": [
      "Step Limit Exceeded!\n"
     ]
    },
    {
     "name": "stderr",
     "output_type": "stream",
     "text": [
      "\r",
      " 43%|███████████████████████████████████████████████████▌                                                                     | 426/1000 [02:23<04:11,  2.29it/s]"
     ]
    },
    {
     "name": "stdout",
     "output_type": "stream",
     "text": [
      "Step Limit Exceeded!\n"
     ]
    },
    {
     "name": "stderr",
     "output_type": "stream",
     "text": [
      "\r",
      " 43%|███████████████████████████████████████████████████▋                                                                     | 427/1000 [02:24<04:10,  2.29it/s]"
     ]
    },
    {
     "name": "stdout",
     "output_type": "stream",
     "text": [
      "Step Limit Exceeded!\n"
     ]
    },
    {
     "name": "stderr",
     "output_type": "stream",
     "text": [
      "\r",
      " 43%|███████████████████████████████████████████████████▊                                                                     | 428/1000 [02:24<04:10,  2.29it/s]"
     ]
    },
    {
     "name": "stdout",
     "output_type": "stream",
     "text": [
      "Step Limit Exceeded!\n"
     ]
    },
    {
     "name": "stderr",
     "output_type": "stream",
     "text": [
      "\r",
      " 43%|███████████████████████████████████████████████████▉                                                                     | 429/1000 [02:25<04:09,  2.29it/s]"
     ]
    },
    {
     "name": "stdout",
     "output_type": "stream",
     "text": [
      "Step Limit Exceeded!\n"
     ]
    },
    {
     "name": "stderr",
     "output_type": "stream",
     "text": [
      "\r",
      " 43%|████████████████████████████████████████████████████                                                                     | 430/1000 [02:25<04:09,  2.29it/s]"
     ]
    },
    {
     "name": "stdout",
     "output_type": "stream",
     "text": [
      "Step Limit Exceeded!\n"
     ]
    },
    {
     "name": "stderr",
     "output_type": "stream",
     "text": [
      "\r",
      " 43%|████████████████████████████████████████████████████▏                                                                    | 431/1000 [02:25<04:08,  2.29it/s]"
     ]
    },
    {
     "name": "stdout",
     "output_type": "stream",
     "text": [
      "Step Limit Exceeded!\n"
     ]
    },
    {
     "name": "stderr",
     "output_type": "stream",
     "text": [
      "\r",
      " 43%|████████████████████████████████████████████████████▎                                                                    | 432/1000 [02:26<04:08,  2.29it/s]"
     ]
    },
    {
     "name": "stdout",
     "output_type": "stream",
     "text": [
      "Step Limit Exceeded!\n"
     ]
    },
    {
     "name": "stderr",
     "output_type": "stream",
     "text": [
      "\r",
      " 43%|████████████████████████████████████████████████████▍                                                                    | 433/1000 [02:26<04:07,  2.29it/s]"
     ]
    },
    {
     "name": "stdout",
     "output_type": "stream",
     "text": [
      "Step Limit Exceeded!\n"
     ]
    },
    {
     "name": "stderr",
     "output_type": "stream",
     "text": [
      "\r",
      " 43%|████████████████████████████████████████████████████▌                                                                    | 434/1000 [02:27<04:07,  2.29it/s]"
     ]
    },
    {
     "name": "stdout",
     "output_type": "stream",
     "text": [
      "Step Limit Exceeded!\n"
     ]
    },
    {
     "name": "stderr",
     "output_type": "stream",
     "text": [
      "\r",
      " 44%|████████████████████████████████████████████████████▋                                                                    | 435/1000 [02:27<04:07,  2.29it/s]"
     ]
    },
    {
     "name": "stdout",
     "output_type": "stream",
     "text": [
      "Step Limit Exceeded!\n"
     ]
    },
    {
     "name": "stderr",
     "output_type": "stream",
     "text": [
      "\r",
      " 44%|████████████████████████████████████████████████████▊                                                                    | 436/1000 [02:28<04:06,  2.29it/s]"
     ]
    },
    {
     "name": "stdout",
     "output_type": "stream",
     "text": [
      "Step Limit Exceeded!\n"
     ]
    },
    {
     "name": "stderr",
     "output_type": "stream",
     "text": [
      "\r",
      " 44%|████████████████████████████████████████████████████▉                                                                    | 437/1000 [02:28<04:06,  2.28it/s]"
     ]
    },
    {
     "name": "stdout",
     "output_type": "stream",
     "text": [
      "Step Limit Exceeded!\n"
     ]
    },
    {
     "name": "stderr",
     "output_type": "stream",
     "text": [
      "\r",
      " 44%|████████████████████████████████████████████████████▉                                                                    | 438/1000 [02:29<04:06,  2.28it/s]"
     ]
    },
    {
     "name": "stdout",
     "output_type": "stream",
     "text": [
      "Step Limit Exceeded!\n"
     ]
    },
    {
     "name": "stderr",
     "output_type": "stream",
     "text": [
      "\r",
      " 44%|█████████████████████████████████████████████████████                                                                    | 439/1000 [02:29<04:06,  2.27it/s]"
     ]
    },
    {
     "name": "stdout",
     "output_type": "stream",
     "text": [
      "Step Limit Exceeded!\n"
     ]
    },
    {
     "name": "stderr",
     "output_type": "stream",
     "text": [
      "\r",
      " 44%|█████████████████████████████████████████████████████▏                                                                   | 440/1000 [02:29<04:07,  2.26it/s]"
     ]
    },
    {
     "name": "stdout",
     "output_type": "stream",
     "text": [
      "Step Limit Exceeded!\n"
     ]
    },
    {
     "name": "stderr",
     "output_type": "stream",
     "text": [
      "\r",
      " 44%|█████████████████████████████████████████████████████▎                                                                   | 441/1000 [02:30<04:07,  2.26it/s]"
     ]
    },
    {
     "name": "stdout",
     "output_type": "stream",
     "text": [
      "Step Limit Exceeded!\n"
     ]
    },
    {
     "name": "stderr",
     "output_type": "stream",
     "text": [
      "\r",
      " 44%|█████████████████████████████████████████████████████▍                                                                   | 442/1000 [02:30<04:07,  2.26it/s]"
     ]
    },
    {
     "name": "stdout",
     "output_type": "stream",
     "text": [
      "Step Limit Exceeded!\n"
     ]
    },
    {
     "name": "stderr",
     "output_type": "stream",
     "text": [
      "\r",
      " 44%|█████████████████████████████████████████████████████▌                                                                   | 443/1000 [02:31<04:07,  2.25it/s]"
     ]
    },
    {
     "name": "stdout",
     "output_type": "stream",
     "text": [
      "Step Limit Exceeded!\n"
     ]
    },
    {
     "name": "stderr",
     "output_type": "stream",
     "text": [
      "\r",
      " 44%|█████████████████████████████████████████████████████▋                                                                   | 444/1000 [02:31<04:06,  2.26it/s]"
     ]
    },
    {
     "name": "stdout",
     "output_type": "stream",
     "text": [
      "Step Limit Exceeded!\n"
     ]
    },
    {
     "name": "stderr",
     "output_type": "stream",
     "text": [
      "\r",
      " 44%|█████████████████████████████████████████████████████▊                                                                   | 445/1000 [02:32<04:06,  2.25it/s]"
     ]
    },
    {
     "name": "stdout",
     "output_type": "stream",
     "text": [
      "Step Limit Exceeded!\n"
     ]
    },
    {
     "name": "stderr",
     "output_type": "stream",
     "text": [
      "\r",
      " 45%|█████████████████████████████████████████████████████▉                                                                   | 446/1000 [02:32<04:05,  2.26it/s]"
     ]
    },
    {
     "name": "stdout",
     "output_type": "stream",
     "text": [
      "Step Limit Exceeded!\n"
     ]
    },
    {
     "name": "stderr",
     "output_type": "stream",
     "text": [
      "\r",
      " 45%|██████████████████████████████████████████████████████                                                                   | 447/1000 [02:33<04:04,  2.26it/s]"
     ]
    },
    {
     "name": "stdout",
     "output_type": "stream",
     "text": [
      "Step Limit Exceeded!\n"
     ]
    },
    {
     "name": "stderr",
     "output_type": "stream",
     "text": [
      "\r",
      " 45%|██████████████████████████████████████████████████████▏                                                                  | 448/1000 [02:33<04:03,  2.26it/s]"
     ]
    },
    {
     "name": "stdout",
     "output_type": "stream",
     "text": [
      "Step Limit Exceeded!\n"
     ]
    },
    {
     "name": "stderr",
     "output_type": "stream",
     "text": [
      "\r",
      " 45%|██████████████████████████████████████████████████████▎                                                                  | 449/1000 [02:33<04:02,  2.27it/s]"
     ]
    },
    {
     "name": "stdout",
     "output_type": "stream",
     "text": [
      "Step Limit Exceeded!\n"
     ]
    },
    {
     "name": "stderr",
     "output_type": "stream",
     "text": [
      "\r",
      " 45%|██████████████████████████████████████████████████████▍                                                                  | 450/1000 [02:34<04:01,  2.27it/s]"
     ]
    },
    {
     "name": "stdout",
     "output_type": "stream",
     "text": [
      "Step Limit Exceeded!\n"
     ]
    },
    {
     "name": "stderr",
     "output_type": "stream",
     "text": [
      "\r",
      " 45%|██████████████████████████████████████████████████████▌                                                                  | 451/1000 [02:34<04:02,  2.27it/s]"
     ]
    },
    {
     "name": "stdout",
     "output_type": "stream",
     "text": [
      "Step Limit Exceeded!\n"
     ]
    },
    {
     "name": "stderr",
     "output_type": "stream",
     "text": [
      "\r",
      " 45%|██████████████████████████████████████████████████████▋                                                                  | 452/1000 [02:35<04:01,  2.27it/s]"
     ]
    },
    {
     "name": "stdout",
     "output_type": "stream",
     "text": [
      "Step Limit Exceeded!\n"
     ]
    },
    {
     "name": "stderr",
     "output_type": "stream",
     "text": [
      "\r",
      " 45%|██████████████████████████████████████████████████████▊                                                                  | 453/1000 [02:35<04:01,  2.27it/s]"
     ]
    },
    {
     "name": "stdout",
     "output_type": "stream",
     "text": [
      "Step Limit Exceeded!\n"
     ]
    },
    {
     "name": "stderr",
     "output_type": "stream",
     "text": [
      "\r",
      " 45%|██████████████████████████████████████████████████████▉                                                                  | 454/1000 [02:36<04:02,  2.25it/s]"
     ]
    },
    {
     "name": "stdout",
     "output_type": "stream",
     "text": [
      "Step Limit Exceeded!\n"
     ]
    },
    {
     "name": "stderr",
     "output_type": "stream",
     "text": [
      "\r",
      " 46%|███████████████████████████████████████████████████████                                                                  | 455/1000 [02:36<04:04,  2.23it/s]"
     ]
    },
    {
     "name": "stdout",
     "output_type": "stream",
     "text": [
      "Step Limit Exceeded!\n"
     ]
    },
    {
     "name": "stderr",
     "output_type": "stream",
     "text": [
      "\r",
      " 46%|███████████████████████████████████████████████████████▏                                                                 | 456/1000 [02:36<04:02,  2.25it/s]"
     ]
    },
    {
     "name": "stdout",
     "output_type": "stream",
     "text": [
      "Step Limit Exceeded!\n"
     ]
    },
    {
     "name": "stderr",
     "output_type": "stream",
     "text": [
      "\r",
      " 46%|███████████████████████████████████████████████████████▎                                                                 | 457/1000 [02:37<04:00,  2.26it/s]"
     ]
    },
    {
     "name": "stdout",
     "output_type": "stream",
     "text": [
      "Step Limit Exceeded!\n"
     ]
    },
    {
     "name": "stderr",
     "output_type": "stream",
     "text": [
      "\r",
      " 46%|███████████████████████████████████████████████████████▍                                                                 | 458/1000 [02:37<03:59,  2.27it/s]"
     ]
    },
    {
     "name": "stdout",
     "output_type": "stream",
     "text": [
      "Step Limit Exceeded!\n"
     ]
    },
    {
     "name": "stderr",
     "output_type": "stream",
     "text": [
      "\r",
      " 46%|███████████████████████████████████████████████████████▌                                                                 | 459/1000 [02:38<03:58,  2.27it/s]"
     ]
    },
    {
     "name": "stdout",
     "output_type": "stream",
     "text": [
      "Step Limit Exceeded!\n"
     ]
    },
    {
     "name": "stderr",
     "output_type": "stream",
     "text": [
      "\r",
      " 46%|███████████████████████████████████████████████████████▋                                                                 | 460/1000 [02:38<03:57,  2.28it/s]"
     ]
    },
    {
     "name": "stdout",
     "output_type": "stream",
     "text": [
      "Step Limit Exceeded!\n"
     ]
    },
    {
     "name": "stderr",
     "output_type": "stream",
     "text": [
      "\r",
      " 46%|███████████████████████████████████████████████████████▊                                                                 | 461/1000 [02:39<03:58,  2.26it/s]"
     ]
    },
    {
     "name": "stdout",
     "output_type": "stream",
     "text": [
      "Step Limit Exceeded!\n"
     ]
    },
    {
     "name": "stderr",
     "output_type": "stream",
     "text": [
      "\r",
      " 46%|███████████████████████████████████████████████████████▉                                                                 | 462/1000 [02:39<03:57,  2.27it/s]"
     ]
    },
    {
     "name": "stdout",
     "output_type": "stream",
     "text": [
      "Step Limit Exceeded!\n"
     ]
    },
    {
     "name": "stderr",
     "output_type": "stream",
     "text": [
      "\r",
      " 46%|████████████████████████████████████████████████████████                                                                 | 463/1000 [02:40<03:56,  2.27it/s]"
     ]
    },
    {
     "name": "stdout",
     "output_type": "stream",
     "text": [
      "Step Limit Exceeded!\n"
     ]
    },
    {
     "name": "stderr",
     "output_type": "stream",
     "text": [
      "\r",
      " 46%|████████████████████████████████████████████████████████▏                                                                | 464/1000 [02:40<03:55,  2.27it/s]"
     ]
    },
    {
     "name": "stdout",
     "output_type": "stream",
     "text": [
      "Step Limit Exceeded!\n"
     ]
    },
    {
     "name": "stderr",
     "output_type": "stream",
     "text": [
      "\r",
      " 46%|████████████████████████████████████████████████████████▎                                                                | 465/1000 [02:40<03:55,  2.28it/s]"
     ]
    },
    {
     "name": "stdout",
     "output_type": "stream",
     "text": [
      "Step Limit Exceeded!\n"
     ]
    },
    {
     "name": "stderr",
     "output_type": "stream",
     "text": [
      "\r",
      " 47%|████████████████████████████████████████████████████████▍                                                                | 466/1000 [02:41<03:54,  2.28it/s]"
     ]
    },
    {
     "name": "stdout",
     "output_type": "stream",
     "text": [
      "Step Limit Exceeded!\n"
     ]
    },
    {
     "name": "stderr",
     "output_type": "stream",
     "text": [
      "\r",
      " 47%|████████████████████████████████████████████████████████▌                                                                | 467/1000 [02:41<03:56,  2.25it/s]"
     ]
    },
    {
     "name": "stdout",
     "output_type": "stream",
     "text": [
      "Step Limit Exceeded!\n"
     ]
    },
    {
     "name": "stderr",
     "output_type": "stream",
     "text": [
      "\r",
      " 47%|████████████████████████████████████████████████████████▋                                                                | 468/1000 [02:42<03:55,  2.26it/s]"
     ]
    },
    {
     "name": "stdout",
     "output_type": "stream",
     "text": [
      "Step Limit Exceeded!\n"
     ]
    },
    {
     "name": "stderr",
     "output_type": "stream",
     "text": [
      "\r",
      " 47%|████████████████████████████████████████████████████████▋                                                                | 469/1000 [02:42<03:54,  2.27it/s]"
     ]
    },
    {
     "name": "stdout",
     "output_type": "stream",
     "text": [
      "Step Limit Exceeded!\n"
     ]
    },
    {
     "name": "stderr",
     "output_type": "stream",
     "text": [
      "\r",
      " 47%|████████████████████████████████████████████████████████▊                                                                | 470/1000 [02:43<03:53,  2.27it/s]"
     ]
    },
    {
     "name": "stdout",
     "output_type": "stream",
     "text": [
      "Step Limit Exceeded!\n"
     ]
    },
    {
     "name": "stderr",
     "output_type": "stream",
     "text": [
      "\r",
      " 47%|████████████████████████████████████████████████████████▉                                                                | 471/1000 [02:43<03:52,  2.27it/s]"
     ]
    },
    {
     "name": "stdout",
     "output_type": "stream",
     "text": [
      "Step Limit Exceeded!\n"
     ]
    },
    {
     "name": "stderr",
     "output_type": "stream",
     "text": [
      "\r",
      " 47%|█████████████████████████████████████████████████████████                                                                | 472/1000 [02:44<03:51,  2.28it/s]"
     ]
    },
    {
     "name": "stdout",
     "output_type": "stream",
     "text": [
      "Step Limit Exceeded!\n"
     ]
    },
    {
     "name": "stderr",
     "output_type": "stream",
     "text": [
      "\r",
      " 47%|█████████████████████████████████████████████████████████▏                                                               | 473/1000 [02:44<03:51,  2.28it/s]"
     ]
    },
    {
     "name": "stdout",
     "output_type": "stream",
     "text": [
      "Step Limit Exceeded!\n"
     ]
    },
    {
     "name": "stderr",
     "output_type": "stream",
     "text": [
      "\r",
      " 47%|█████████████████████████████████████████████████████████▎                                                               | 474/1000 [02:44<03:50,  2.28it/s]"
     ]
    },
    {
     "name": "stdout",
     "output_type": "stream",
     "text": [
      "Step Limit Exceeded!\n"
     ]
    },
    {
     "name": "stderr",
     "output_type": "stream",
     "text": [
      "\r",
      " 48%|█████████████████████████████████████████████████████████▍                                                               | 475/1000 [02:45<03:49,  2.28it/s]"
     ]
    },
    {
     "name": "stdout",
     "output_type": "stream",
     "text": [
      "Step Limit Exceeded!\n"
     ]
    },
    {
     "name": "stderr",
     "output_type": "stream",
     "text": [
      "\r",
      " 48%|█████████████████████████████████████████████████████████▌                                                               | 476/1000 [02:45<03:52,  2.26it/s]"
     ]
    },
    {
     "name": "stdout",
     "output_type": "stream",
     "text": [
      "Step Limit Exceeded!\n"
     ]
    },
    {
     "name": "stderr",
     "output_type": "stream",
     "text": [
      "\r",
      " 48%|█████████████████████████████████████████████████████████▋                                                               | 477/1000 [02:46<03:51,  2.26it/s]"
     ]
    },
    {
     "name": "stdout",
     "output_type": "stream",
     "text": [
      "Step Limit Exceeded!\n"
     ]
    },
    {
     "name": "stderr",
     "output_type": "stream",
     "text": [
      "\r",
      " 48%|█████████████████████████████████████████████████████████▊                                                               | 478/1000 [02:46<03:50,  2.27it/s]"
     ]
    },
    {
     "name": "stdout",
     "output_type": "stream",
     "text": [
      "Step Limit Exceeded!\n"
     ]
    },
    {
     "name": "stderr",
     "output_type": "stream",
     "text": [
      "\r",
      " 48%|█████████████████████████████████████████████████████████▉                                                               | 479/1000 [02:47<03:51,  2.26it/s]"
     ]
    },
    {
     "name": "stdout",
     "output_type": "stream",
     "text": [
      "Step Limit Exceeded!\n"
     ]
    },
    {
     "name": "stderr",
     "output_type": "stream",
     "text": [
      "\r",
      " 48%|██████████████████████████████████████████████████████████                                                               | 480/1000 [02:47<03:50,  2.26it/s]"
     ]
    },
    {
     "name": "stdout",
     "output_type": "stream",
     "text": [
      "Step Limit Exceeded!\n"
     ]
    },
    {
     "name": "stderr",
     "output_type": "stream",
     "text": [
      "\r",
      " 48%|██████████████████████████████████████████████████████████▏                                                              | 481/1000 [02:48<03:50,  2.25it/s]"
     ]
    },
    {
     "name": "stdout",
     "output_type": "stream",
     "text": [
      "Step Limit Exceeded!\n"
     ]
    },
    {
     "name": "stderr",
     "output_type": "stream",
     "text": [
      "\r",
      " 48%|██████████████████████████████████████████████████████████▎                                                              | 482/1000 [02:48<03:50,  2.25it/s]"
     ]
    },
    {
     "name": "stdout",
     "output_type": "stream",
     "text": [
      "Step Limit Exceeded!\n"
     ]
    },
    {
     "name": "stderr",
     "output_type": "stream",
     "text": [
      "\r",
      " 48%|██████████████████████████████████████████████████████████▍                                                              | 483/1000 [02:48<03:49,  2.25it/s]"
     ]
    },
    {
     "name": "stdout",
     "output_type": "stream",
     "text": [
      "Step Limit Exceeded!\n"
     ]
    },
    {
     "name": "stderr",
     "output_type": "stream",
     "text": [
      "\r",
      " 48%|██████████████████████████████████████████████████████████▌                                                              | 484/1000 [02:49<03:48,  2.26it/s]"
     ]
    },
    {
     "name": "stdout",
     "output_type": "stream",
     "text": [
      "Step Limit Exceeded!\n"
     ]
    },
    {
     "name": "stderr",
     "output_type": "stream",
     "text": [
      "\r",
      " 48%|██████████████████████████████████████████████████████████▋                                                              | 485/1000 [02:49<03:47,  2.26it/s]"
     ]
    },
    {
     "name": "stdout",
     "output_type": "stream",
     "text": [
      "Step Limit Exceeded!\n"
     ]
    },
    {
     "name": "stderr",
     "output_type": "stream",
     "text": [
      "\r",
      " 49%|██████████████████████████████████████████████████████████▊                                                              | 486/1000 [02:50<03:46,  2.27it/s]"
     ]
    },
    {
     "name": "stdout",
     "output_type": "stream",
     "text": [
      "Step Limit Exceeded!\n"
     ]
    },
    {
     "name": "stderr",
     "output_type": "stream",
     "text": [
      "\r",
      " 49%|██████████████████████████████████████████████████████████▉                                                              | 487/1000 [02:50<03:47,  2.26it/s]"
     ]
    },
    {
     "name": "stdout",
     "output_type": "stream",
     "text": [
      "Step Limit Exceeded!\n"
     ]
    },
    {
     "name": "stderr",
     "output_type": "stream",
     "text": [
      "\r",
      " 49%|███████████████████████████████████████████████████████████                                                              | 488/1000 [02:51<03:46,  2.26it/s]"
     ]
    },
    {
     "name": "stdout",
     "output_type": "stream",
     "text": [
      "Step Limit Exceeded!\n"
     ]
    },
    {
     "name": "stderr",
     "output_type": "stream",
     "text": [
      "\r",
      " 49%|███████████████████████████████████████████████████████████▏                                                             | 489/1000 [02:51<03:45,  2.27it/s]"
     ]
    },
    {
     "name": "stdout",
     "output_type": "stream",
     "text": [
      "Step Limit Exceeded!\n"
     ]
    },
    {
     "name": "stderr",
     "output_type": "stream",
     "text": [
      "\r",
      " 49%|███████████████████████████████████████████████████████████▎                                                             | 490/1000 [02:51<03:44,  2.27it/s]"
     ]
    },
    {
     "name": "stdout",
     "output_type": "stream",
     "text": [
      "Step Limit Exceeded!\n"
     ]
    },
    {
     "name": "stderr",
     "output_type": "stream",
     "text": [
      "\r",
      " 49%|███████████████████████████████████████████████████████████▍                                                             | 491/1000 [02:52<03:43,  2.28it/s]"
     ]
    },
    {
     "name": "stdout",
     "output_type": "stream",
     "text": [
      "Step Limit Exceeded!\n"
     ]
    },
    {
     "name": "stderr",
     "output_type": "stream",
     "text": [
      "\r",
      " 49%|███████████████████████████████████████████████████████████▌                                                             | 492/1000 [02:52<03:42,  2.28it/s]"
     ]
    },
    {
     "name": "stdout",
     "output_type": "stream",
     "text": [
      "Step Limit Exceeded!\n"
     ]
    },
    {
     "name": "stderr",
     "output_type": "stream",
     "text": [
      "\r",
      " 49%|███████████████████████████████████████████████████████████▋                                                             | 493/1000 [02:53<03:42,  2.28it/s]"
     ]
    },
    {
     "name": "stdout",
     "output_type": "stream",
     "text": [
      "Step Limit Exceeded!\n"
     ]
    },
    {
     "name": "stderr",
     "output_type": "stream",
     "text": [
      "\r",
      " 49%|███████████████████████████████████████████████████████████▊                                                             | 494/1000 [02:53<03:41,  2.28it/s]"
     ]
    },
    {
     "name": "stdout",
     "output_type": "stream",
     "text": [
      "Step Limit Exceeded!\n"
     ]
    },
    {
     "name": "stderr",
     "output_type": "stream",
     "text": [
      "\r",
      " 50%|███████████████████████████████████████████████████████████▉                                                             | 495/1000 [02:54<03:41,  2.28it/s]"
     ]
    },
    {
     "name": "stdout",
     "output_type": "stream",
     "text": [
      "Step Limit Exceeded!\n"
     ]
    },
    {
     "name": "stderr",
     "output_type": "stream",
     "text": [
      "\r",
      " 50%|████████████████████████████████████████████████████████████                                                             | 496/1000 [02:54<03:40,  2.28it/s]"
     ]
    },
    {
     "name": "stdout",
     "output_type": "stream",
     "text": [
      "Step Limit Exceeded!\n"
     ]
    },
    {
     "name": "stderr",
     "output_type": "stream",
     "text": [
      "\r",
      " 50%|████████████████████████████████████████████████████████████▏                                                            | 497/1000 [02:55<03:40,  2.28it/s]"
     ]
    },
    {
     "name": "stdout",
     "output_type": "stream",
     "text": [
      "Step Limit Exceeded!\n"
     ]
    },
    {
     "name": "stderr",
     "output_type": "stream",
     "text": [
      "\r",
      " 50%|████████████████████████████████████████████████████████████▎                                                            | 498/1000 [02:55<03:39,  2.28it/s]"
     ]
    },
    {
     "name": "stdout",
     "output_type": "stream",
     "text": [
      "Step Limit Exceeded!\n"
     ]
    },
    {
     "name": "stderr",
     "output_type": "stream",
     "text": [
      "\r",
      " 50%|████████████████████████████████████████████████████████████▍                                                            | 499/1000 [02:55<03:39,  2.28it/s]"
     ]
    },
    {
     "name": "stdout",
     "output_type": "stream",
     "text": [
      "Step Limit Exceeded!\n"
     ]
    },
    {
     "name": "stderr",
     "output_type": "stream",
     "text": [
      "\r",
      " 50%|████████████████████████████████████████████████████████████▌                                                            | 500/1000 [02:56<03:39,  2.28it/s]"
     ]
    },
    {
     "name": "stdout",
     "output_type": "stream",
     "text": [
      "Step Limit Exceeded!\n"
     ]
    },
    {
     "name": "stderr",
     "output_type": "stream",
     "text": [
      "\r",
      " 50%|████████████████████████████████████████████████████████████▌                                                            | 501/1000 [02:56<03:39,  2.28it/s]"
     ]
    },
    {
     "name": "stdout",
     "output_type": "stream",
     "text": [
      "Step Limit Exceeded!\n"
     ]
    },
    {
     "name": "stderr",
     "output_type": "stream",
     "text": [
      "\r",
      " 50%|████████████████████████████████████████████████████████████▋                                                            | 502/1000 [02:57<03:38,  2.28it/s]"
     ]
    },
    {
     "name": "stdout",
     "output_type": "stream",
     "text": [
      "Step Limit Exceeded!\n"
     ]
    },
    {
     "name": "stderr",
     "output_type": "stream",
     "text": [
      "\r",
      " 50%|████████████████████████████████████████████████████████████▊                                                            | 503/1000 [02:57<03:38,  2.28it/s]"
     ]
    },
    {
     "name": "stdout",
     "output_type": "stream",
     "text": [
      "Step Limit Exceeded!\n"
     ]
    },
    {
     "name": "stderr",
     "output_type": "stream",
     "text": [
      "\r",
      " 50%|████████████████████████████████████████████████████████████▉                                                            | 504/1000 [02:58<03:37,  2.28it/s]"
     ]
    },
    {
     "name": "stdout",
     "output_type": "stream",
     "text": [
      "Step Limit Exceeded!\n"
     ]
    },
    {
     "name": "stderr",
     "output_type": "stream",
     "text": [
      "\r",
      " 50%|█████████████████████████████████████████████████████████████                                                            | 505/1000 [02:58<03:36,  2.28it/s]"
     ]
    },
    {
     "name": "stdout",
     "output_type": "stream",
     "text": [
      "Step Limit Exceeded!\n"
     ]
    },
    {
     "name": "stderr",
     "output_type": "stream",
     "text": [
      "\r",
      " 51%|█████████████████████████████████████████████████████████████▏                                                           | 506/1000 [02:59<03:36,  2.28it/s]"
     ]
    },
    {
     "name": "stdout",
     "output_type": "stream",
     "text": [
      "Step Limit Exceeded!\n"
     ]
    },
    {
     "name": "stderr",
     "output_type": "stream",
     "text": [
      "\r",
      " 51%|█████████████████████████████████████████████████████████████▎                                                           | 507/1000 [02:59<03:35,  2.28it/s]"
     ]
    },
    {
     "name": "stdout",
     "output_type": "stream",
     "text": [
      "Step Limit Exceeded!\n"
     ]
    },
    {
     "name": "stderr",
     "output_type": "stream",
     "text": [
      "\r",
      " 51%|█████████████████████████████████████████████████████████████▍                                                           | 508/1000 [02:59<03:35,  2.28it/s]"
     ]
    },
    {
     "name": "stdout",
     "output_type": "stream",
     "text": [
      "Step Limit Exceeded!\n"
     ]
    },
    {
     "name": "stderr",
     "output_type": "stream",
     "text": [
      "\r",
      " 51%|█████████████████████████████████████████████████████████████▌                                                           | 509/1000 [03:00<03:35,  2.28it/s]"
     ]
    },
    {
     "name": "stdout",
     "output_type": "stream",
     "text": [
      "Step Limit Exceeded!\n"
     ]
    },
    {
     "name": "stderr",
     "output_type": "stream",
     "text": [
      "\r",
      " 51%|█████████████████████████████████████████████████████████████▋                                                           | 510/1000 [03:00<03:34,  2.28it/s]"
     ]
    },
    {
     "name": "stdout",
     "output_type": "stream",
     "text": [
      "Step Limit Exceeded!\n"
     ]
    },
    {
     "name": "stderr",
     "output_type": "stream",
     "text": [
      "\r",
      " 51%|█████████████████████████████████████████████████████████████▊                                                           | 511/1000 [03:01<03:34,  2.28it/s]"
     ]
    },
    {
     "name": "stdout",
     "output_type": "stream",
     "text": [
      "Step Limit Exceeded!\n"
     ]
    },
    {
     "name": "stderr",
     "output_type": "stream",
     "text": [
      "\r",
      " 51%|█████████████████████████████████████████████████████████████▉                                                           | 512/1000 [03:01<03:33,  2.28it/s]"
     ]
    },
    {
     "name": "stdout",
     "output_type": "stream",
     "text": [
      "Step Limit Exceeded!\n"
     ]
    },
    {
     "name": "stderr",
     "output_type": "stream",
     "text": [
      "\r",
      " 51%|██████████████████████████████████████████████████████████████                                                           | 513/1000 [03:02<03:33,  2.28it/s]"
     ]
    },
    {
     "name": "stdout",
     "output_type": "stream",
     "text": [
      "Step Limit Exceeded!\n"
     ]
    },
    {
     "name": "stderr",
     "output_type": "stream",
     "text": [
      "\r",
      " 51%|██████████████████████████████████████████████████████████████▏                                                          | 514/1000 [03:02<03:33,  2.27it/s]"
     ]
    },
    {
     "name": "stdout",
     "output_type": "stream",
     "text": [
      "Step Limit Exceeded!\n"
     ]
    },
    {
     "name": "stderr",
     "output_type": "stream",
     "text": [
      "\r",
      " 52%|██████████████████████████████████████████████████████████████▎                                                          | 515/1000 [03:02<03:33,  2.27it/s]"
     ]
    },
    {
     "name": "stdout",
     "output_type": "stream",
     "text": [
      "Step Limit Exceeded!\n"
     ]
    },
    {
     "name": "stderr",
     "output_type": "stream",
     "text": [
      "\r",
      " 52%|██████████████████████████████████████████████████████████████▍                                                          | 516/1000 [03:03<03:32,  2.27it/s]"
     ]
    },
    {
     "name": "stdout",
     "output_type": "stream",
     "text": [
      "Step Limit Exceeded!\n"
     ]
    },
    {
     "name": "stderr",
     "output_type": "stream",
     "text": [
      "\r",
      " 52%|██████████████████████████████████████████████████████████████▌                                                          | 517/1000 [03:03<03:32,  2.27it/s]"
     ]
    },
    {
     "name": "stdout",
     "output_type": "stream",
     "text": [
      "Step Limit Exceeded!\n"
     ]
    },
    {
     "name": "stderr",
     "output_type": "stream",
     "text": [
      "\r",
      " 52%|██████████████████████████████████████████████████████████████▋                                                          | 518/1000 [03:04<03:32,  2.27it/s]"
     ]
    },
    {
     "name": "stdout",
     "output_type": "stream",
     "text": [
      "Step Limit Exceeded!\n"
     ]
    },
    {
     "name": "stderr",
     "output_type": "stream",
     "text": [
      "\r",
      " 52%|██████████████████████████████████████████████████████████████▊                                                          | 519/1000 [03:04<03:31,  2.27it/s]"
     ]
    },
    {
     "name": "stdout",
     "output_type": "stream",
     "text": [
      "Step Limit Exceeded!\n"
     ]
    },
    {
     "name": "stderr",
     "output_type": "stream",
     "text": [
      "\r",
      " 52%|██████████████████████████████████████████████████████████████▉                                                          | 520/1000 [03:05<03:30,  2.28it/s]"
     ]
    },
    {
     "name": "stdout",
     "output_type": "stream",
     "text": [
      "Step Limit Exceeded!\n"
     ]
    },
    {
     "name": "stderr",
     "output_type": "stream",
     "text": [
      "\r",
      " 52%|███████████████████████████████████████████████████████████████                                                          | 521/1000 [03:05<03:30,  2.28it/s]"
     ]
    },
    {
     "name": "stdout",
     "output_type": "stream",
     "text": [
      "Step Limit Exceeded!\n"
     ]
    },
    {
     "name": "stderr",
     "output_type": "stream",
     "text": [
      "\r",
      " 52%|███████████████████████████████████████████████████████████████▏                                                         | 522/1000 [03:06<03:30,  2.27it/s]"
     ]
    },
    {
     "name": "stdout",
     "output_type": "stream",
     "text": [
      "Step Limit Exceeded!\n"
     ]
    },
    {
     "name": "stderr",
     "output_type": "stream",
     "text": [
      "\r",
      " 52%|███████████████████████████████████████████████████████████████▎                                                         | 523/1000 [03:06<03:29,  2.27it/s]"
     ]
    },
    {
     "name": "stdout",
     "output_type": "stream",
     "text": [
      "Step Limit Exceeded!\n"
     ]
    },
    {
     "name": "stderr",
     "output_type": "stream",
     "text": [
      "\r",
      " 52%|███████████████████████████████████████████████████████████████▍                                                         | 524/1000 [03:06<03:29,  2.28it/s]"
     ]
    },
    {
     "name": "stdout",
     "output_type": "stream",
     "text": [
      "Step Limit Exceeded!\n"
     ]
    },
    {
     "name": "stderr",
     "output_type": "stream",
     "text": [
      "\r",
      " 52%|███████████████████████████████████████████████████████████████▌                                                         | 525/1000 [03:07<03:28,  2.28it/s]"
     ]
    },
    {
     "name": "stdout",
     "output_type": "stream",
     "text": [
      "Step Limit Exceeded!\n"
     ]
    },
    {
     "name": "stderr",
     "output_type": "stream",
     "text": [
      "\r",
      " 53%|███████████████████████████████████████████████████████████████▋                                                         | 526/1000 [03:07<03:27,  2.28it/s]"
     ]
    },
    {
     "name": "stdout",
     "output_type": "stream",
     "text": [
      "Step Limit Exceeded!\n"
     ]
    },
    {
     "name": "stderr",
     "output_type": "stream",
     "text": [
      "\r",
      " 53%|███████████████████████████████████████████████████████████████▊                                                         | 527/1000 [03:08<03:27,  2.28it/s]"
     ]
    },
    {
     "name": "stdout",
     "output_type": "stream",
     "text": [
      "Step Limit Exceeded!\n"
     ]
    },
    {
     "name": "stderr",
     "output_type": "stream",
     "text": [
      "\r",
      " 53%|███████████████████████████████████████████████████████████████▉                                                         | 528/1000 [03:08<03:26,  2.28it/s]"
     ]
    },
    {
     "name": "stdout",
     "output_type": "stream",
     "text": [
      "Step Limit Exceeded!\n"
     ]
    },
    {
     "name": "stderr",
     "output_type": "stream",
     "text": [
      "\r",
      " 53%|████████████████████████████████████████████████████████████████                                                         | 529/1000 [03:09<03:26,  2.28it/s]"
     ]
    },
    {
     "name": "stdout",
     "output_type": "stream",
     "text": [
      "Step Limit Exceeded!\n"
     ]
    },
    {
     "name": "stderr",
     "output_type": "stream",
     "text": [
      "\r",
      " 53%|████████████████████████████████████████████████████████████████▏                                                        | 530/1000 [03:09<03:26,  2.28it/s]"
     ]
    },
    {
     "name": "stdout",
     "output_type": "stream",
     "text": [
      "Step Limit Exceeded!\n"
     ]
    },
    {
     "name": "stderr",
     "output_type": "stream",
     "text": [
      "\r",
      " 53%|████████████████████████████████████████████████████████████████▎                                                        | 531/1000 [03:09<03:25,  2.28it/s]"
     ]
    },
    {
     "name": "stdout",
     "output_type": "stream",
     "text": [
      "Step Limit Exceeded!\n"
     ]
    },
    {
     "name": "stderr",
     "output_type": "stream",
     "text": [
      "\r",
      " 53%|████████████████████████████████████████████████████████████████▎                                                        | 532/1000 [03:10<03:24,  2.28it/s]"
     ]
    },
    {
     "name": "stdout",
     "output_type": "stream",
     "text": [
      "Step Limit Exceeded!\n"
     ]
    },
    {
     "name": "stderr",
     "output_type": "stream",
     "text": [
      "\r",
      " 53%|████████████████████████████████████████████████████████████████▍                                                        | 533/1000 [03:10<03:27,  2.25it/s]"
     ]
    },
    {
     "name": "stdout",
     "output_type": "stream",
     "text": [
      "Step Limit Exceeded!\n"
     ]
    },
    {
     "name": "stderr",
     "output_type": "stream",
     "text": [
      "\r",
      " 53%|████████████████████████████████████████████████████████████████▌                                                        | 534/1000 [03:11<03:26,  2.26it/s]"
     ]
    },
    {
     "name": "stdout",
     "output_type": "stream",
     "text": [
      "Step Limit Exceeded!\n"
     ]
    },
    {
     "name": "stderr",
     "output_type": "stream",
     "text": [
      "\r",
      " 54%|████████████████████████████████████████████████████████████████▋                                                        | 535/1000 [03:11<03:25,  2.27it/s]"
     ]
    },
    {
     "name": "stdout",
     "output_type": "stream",
     "text": [
      "Step Limit Exceeded!\n"
     ]
    },
    {
     "name": "stderr",
     "output_type": "stream",
     "text": [
      "\r",
      " 54%|████████████████████████████████████████████████████████████████▊                                                        | 536/1000 [03:12<03:24,  2.27it/s]"
     ]
    },
    {
     "name": "stdout",
     "output_type": "stream",
     "text": [
      "Step Limit Exceeded!\n"
     ]
    },
    {
     "name": "stderr",
     "output_type": "stream",
     "text": [
      "\r",
      " 54%|████████████████████████████████████████████████████████████████▉                                                        | 537/1000 [03:12<03:23,  2.27it/s]"
     ]
    },
    {
     "name": "stdout",
     "output_type": "stream",
     "text": [
      "Step Limit Exceeded!\n"
     ]
    },
    {
     "name": "stderr",
     "output_type": "stream",
     "text": [
      "\r",
      " 54%|█████████████████████████████████████████████████████████████████                                                        | 538/1000 [03:13<03:23,  2.27it/s]"
     ]
    },
    {
     "name": "stdout",
     "output_type": "stream",
     "text": [
      "Step Limit Exceeded!\n"
     ]
    },
    {
     "name": "stderr",
     "output_type": "stream",
     "text": [
      "\r",
      " 54%|█████████████████████████████████████████████████████████████████▏                                                       | 539/1000 [03:13<03:22,  2.28it/s]"
     ]
    },
    {
     "name": "stdout",
     "output_type": "stream",
     "text": [
      "Step Limit Exceeded!\n"
     ]
    },
    {
     "name": "stderr",
     "output_type": "stream",
     "text": [
      "\r",
      " 54%|█████████████████████████████████████████████████████████████████▎                                                       | 540/1000 [03:13<03:22,  2.28it/s]"
     ]
    },
    {
     "name": "stdout",
     "output_type": "stream",
     "text": [
      "Step Limit Exceeded!\n"
     ]
    },
    {
     "name": "stderr",
     "output_type": "stream",
     "text": [
      "\r",
      " 54%|█████████████████████████████████████████████████████████████████▍                                                       | 541/1000 [03:14<03:21,  2.28it/s]"
     ]
    },
    {
     "name": "stdout",
     "output_type": "stream",
     "text": [
      "Step Limit Exceeded!\n"
     ]
    },
    {
     "name": "stderr",
     "output_type": "stream",
     "text": [
      "\r",
      " 54%|█████████████████████████████████████████████████████████████████▌                                                       | 542/1000 [03:14<03:21,  2.28it/s]"
     ]
    },
    {
     "name": "stdout",
     "output_type": "stream",
     "text": [
      "Step Limit Exceeded!\n"
     ]
    },
    {
     "name": "stderr",
     "output_type": "stream",
     "text": [
      "\r",
      " 54%|█████████████████████████████████████████████████████████████████▋                                                       | 543/1000 [03:15<03:20,  2.28it/s]"
     ]
    },
    {
     "name": "stdout",
     "output_type": "stream",
     "text": [
      "Step Limit Exceeded!\n"
     ]
    },
    {
     "name": "stderr",
     "output_type": "stream",
     "text": [
      "\r",
      " 54%|█████████████████████████████████████████████████████████████████▊                                                       | 544/1000 [03:15<03:20,  2.28it/s]"
     ]
    },
    {
     "name": "stdout",
     "output_type": "stream",
     "text": [
      "Step Limit Exceeded!\n"
     ]
    },
    {
     "name": "stderr",
     "output_type": "stream",
     "text": [
      "\r",
      " 55%|█████████████████████████████████████████████████████████████████▉                                                       | 545/1000 [03:16<03:19,  2.28it/s]"
     ]
    },
    {
     "name": "stdout",
     "output_type": "stream",
     "text": [
      "Step Limit Exceeded!\n"
     ]
    },
    {
     "name": "stderr",
     "output_type": "stream",
     "text": [
      "\r",
      " 55%|██████████████████████████████████████████████████████████████████                                                       | 546/1000 [03:16<03:19,  2.27it/s]"
     ]
    },
    {
     "name": "stdout",
     "output_type": "stream",
     "text": [
      "Step Limit Exceeded!\n"
     ]
    },
    {
     "name": "stderr",
     "output_type": "stream",
     "text": [
      "\r",
      " 55%|██████████████████████████████████████████████████████████████████▏                                                      | 547/1000 [03:17<03:19,  2.27it/s]"
     ]
    },
    {
     "name": "stdout",
     "output_type": "stream",
     "text": [
      "Step Limit Exceeded!\n"
     ]
    },
    {
     "name": "stderr",
     "output_type": "stream",
     "text": [
      "\r",
      " 55%|██████████████████████████████████████████████████████████████████▎                                                      | 548/1000 [03:17<03:19,  2.27it/s]"
     ]
    },
    {
     "name": "stdout",
     "output_type": "stream",
     "text": [
      "Step Limit Exceeded!\n"
     ]
    },
    {
     "name": "stderr",
     "output_type": "stream",
     "text": [
      "\r",
      " 55%|██████████████████████████████████████████████████████████████████▍                                                      | 549/1000 [03:17<03:19,  2.27it/s]"
     ]
    },
    {
     "name": "stdout",
     "output_type": "stream",
     "text": [
      "Step Limit Exceeded!\n"
     ]
    },
    {
     "name": "stderr",
     "output_type": "stream",
     "text": [
      "\r",
      " 55%|██████████████████████████████████████████████████████████████████▌                                                      | 550/1000 [03:18<03:18,  2.27it/s]"
     ]
    },
    {
     "name": "stdout",
     "output_type": "stream",
     "text": [
      "Step Limit Exceeded!\n"
     ]
    },
    {
     "name": "stderr",
     "output_type": "stream",
     "text": [
      "\r",
      " 55%|██████████████████████████████████████████████████████████████████▋                                                      | 551/1000 [03:18<03:17,  2.27it/s]"
     ]
    },
    {
     "name": "stdout",
     "output_type": "stream",
     "text": [
      "Step Limit Exceeded!\n"
     ]
    },
    {
     "name": "stderr",
     "output_type": "stream",
     "text": [
      "\r",
      " 55%|██████████████████████████████████████████████████████████████████▊                                                      | 552/1000 [03:19<03:17,  2.27it/s]"
     ]
    },
    {
     "name": "stdout",
     "output_type": "stream",
     "text": [
      "Step Limit Exceeded!\n"
     ]
    },
    {
     "name": "stderr",
     "output_type": "stream",
     "text": [
      "\r",
      " 55%|██████████████████████████████████████████████████████████████████▉                                                      | 553/1000 [03:19<03:18,  2.26it/s]"
     ]
    },
    {
     "name": "stdout",
     "output_type": "stream",
     "text": [
      "Step Limit Exceeded!\n"
     ]
    },
    {
     "name": "stderr",
     "output_type": "stream",
     "text": [
      "\r",
      " 55%|███████████████████████████████████████████████████████████████████                                                      | 554/1000 [03:20<03:17,  2.26it/s]"
     ]
    },
    {
     "name": "stdout",
     "output_type": "stream",
     "text": [
      "Step Limit Exceeded!\n"
     ]
    },
    {
     "name": "stderr",
     "output_type": "stream",
     "text": [
      "\r",
      " 56%|███████████████████████████████████████████████████████████████████▏                                                     | 555/1000 [03:20<03:17,  2.26it/s]"
     ]
    },
    {
     "name": "stdout",
     "output_type": "stream",
     "text": [
      "Step Limit Exceeded!\n"
     ]
    },
    {
     "name": "stderr",
     "output_type": "stream",
     "text": [
      "\r",
      " 56%|███████████████████████████████████████████████████████████████████▎                                                     | 556/1000 [03:21<03:17,  2.25it/s]"
     ]
    },
    {
     "name": "stdout",
     "output_type": "stream",
     "text": [
      "Step Limit Exceeded!\n"
     ]
    },
    {
     "name": "stderr",
     "output_type": "stream",
     "text": [
      "\r",
      " 56%|███████████████████████████████████████████████████████████████████▍                                                     | 557/1000 [03:21<03:16,  2.26it/s]"
     ]
    },
    {
     "name": "stdout",
     "output_type": "stream",
     "text": [
      "Step Limit Exceeded!\n"
     ]
    },
    {
     "name": "stderr",
     "output_type": "stream",
     "text": [
      "\r",
      " 56%|███████████████████████████████████████████████████████████████████▌                                                     | 558/1000 [03:21<03:15,  2.26it/s]"
     ]
    },
    {
     "name": "stdout",
     "output_type": "stream",
     "text": [
      "Step Limit Exceeded!\n"
     ]
    },
    {
     "name": "stderr",
     "output_type": "stream",
     "text": [
      "\r",
      " 56%|███████████████████████████████████████████████████████████████████▋                                                     | 559/1000 [03:22<03:14,  2.27it/s]"
     ]
    },
    {
     "name": "stdout",
     "output_type": "stream",
     "text": [
      "Step Limit Exceeded!\n"
     ]
    },
    {
     "name": "stderr",
     "output_type": "stream",
     "text": [
      "\r",
      " 56%|███████████████████████████████████████████████████████████████████▊                                                     | 560/1000 [03:22<03:14,  2.27it/s]"
     ]
    },
    {
     "name": "stdout",
     "output_type": "stream",
     "text": [
      "Step Limit Exceeded!\n"
     ]
    },
    {
     "name": "stderr",
     "output_type": "stream",
     "text": [
      "\r",
      " 56%|███████████████████████████████████████████████████████████████████▉                                                     | 561/1000 [03:23<03:13,  2.27it/s]"
     ]
    },
    {
     "name": "stdout",
     "output_type": "stream",
     "text": [
      "Step Limit Exceeded!\n"
     ]
    },
    {
     "name": "stderr",
     "output_type": "stream",
     "text": [
      "\r",
      " 56%|████████████████████████████████████████████████████████████████████                                                     | 562/1000 [03:23<03:12,  2.27it/s]"
     ]
    },
    {
     "name": "stdout",
     "output_type": "stream",
     "text": [
      "Step Limit Exceeded!\n"
     ]
    },
    {
     "name": "stderr",
     "output_type": "stream",
     "text": [
      "\r",
      " 56%|████████████████████████████████████████████████████████████████████                                                     | 563/1000 [03:24<03:11,  2.28it/s]"
     ]
    },
    {
     "name": "stdout",
     "output_type": "stream",
     "text": [
      "Step Limit Exceeded!\n"
     ]
    },
    {
     "name": "stderr",
     "output_type": "stream",
     "text": [
      "\r",
      " 56%|████████████████████████████████████████████████████████████████████▏                                                    | 564/1000 [03:24<03:11,  2.28it/s]"
     ]
    },
    {
     "name": "stdout",
     "output_type": "stream",
     "text": [
      "Step Limit Exceeded!\n"
     ]
    },
    {
     "name": "stderr",
     "output_type": "stream",
     "text": [
      "\r",
      " 56%|████████████████████████████████████████████████████████████████████▎                                                    | 565/1000 [03:24<03:11,  2.28it/s]"
     ]
    },
    {
     "name": "stdout",
     "output_type": "stream",
     "text": [
      "Step Limit Exceeded!\n"
     ]
    },
    {
     "name": "stderr",
     "output_type": "stream",
     "text": [
      "\r",
      " 57%|████████████████████████████████████████████████████████████████████▍                                                    | 566/1000 [03:25<03:11,  2.26it/s]"
     ]
    },
    {
     "name": "stdout",
     "output_type": "stream",
     "text": [
      "Step Limit Exceeded!\n"
     ]
    },
    {
     "name": "stderr",
     "output_type": "stream",
     "text": [
      "\r",
      " 57%|████████████████████████████████████████████████████████████████████▌                                                    | 567/1000 [03:25<03:12,  2.25it/s]"
     ]
    },
    {
     "name": "stdout",
     "output_type": "stream",
     "text": [
      "Step Limit Exceeded!\n"
     ]
    },
    {
     "name": "stderr",
     "output_type": "stream",
     "text": [
      "\r",
      " 57%|████████████████████████████████████████████████████████████████████▋                                                    | 568/1000 [03:26<03:14,  2.22it/s]"
     ]
    },
    {
     "name": "stdout",
     "output_type": "stream",
     "text": [
      "Step Limit Exceeded!\n"
     ]
    },
    {
     "name": "stderr",
     "output_type": "stream",
     "text": [
      "\r",
      " 57%|████████████████████████████████████████████████████████████████████▊                                                    | 569/1000 [03:26<03:18,  2.17it/s]"
     ]
    },
    {
     "name": "stdout",
     "output_type": "stream",
     "text": [
      "Step Limit Exceeded!\n"
     ]
    },
    {
     "name": "stderr",
     "output_type": "stream",
     "text": [
      "\r",
      " 57%|████████████████████████████████████████████████████████████████████▉                                                    | 570/1000 [03:27<03:24,  2.11it/s]"
     ]
    },
    {
     "name": "stdout",
     "output_type": "stream",
     "text": [
      "Step Limit Exceeded!\n"
     ]
    },
    {
     "name": "stderr",
     "output_type": "stream",
     "text": [
      "\r",
      " 57%|█████████████████████████████████████████████████████████████████████                                                    | 571/1000 [03:27<03:23,  2.11it/s]"
     ]
    },
    {
     "name": "stdout",
     "output_type": "stream",
     "text": [
      "Step Limit Exceeded!\n"
     ]
    },
    {
     "name": "stderr",
     "output_type": "stream",
     "text": [
      "\r",
      " 57%|█████████████████████████████████████████████████████████████████████▏                                                   | 572/1000 [03:28<03:21,  2.13it/s]"
     ]
    },
    {
     "name": "stdout",
     "output_type": "stream",
     "text": [
      "Step Limit Exceeded!\n"
     ]
    },
    {
     "name": "stderr",
     "output_type": "stream",
     "text": [
      "\r",
      " 57%|█████████████████████████████████████████████████████████████████████▎                                                   | 573/1000 [03:28<03:18,  2.15it/s]"
     ]
    },
    {
     "name": "stdout",
     "output_type": "stream",
     "text": [
      "Step Limit Exceeded!\n"
     ]
    },
    {
     "name": "stderr",
     "output_type": "stream",
     "text": [
      "\r",
      " 57%|█████████████████████████████████████████████████████████████████████▍                                                   | 574/1000 [03:29<03:16,  2.17it/s]"
     ]
    },
    {
     "name": "stdout",
     "output_type": "stream",
     "text": [
      "Step Limit Exceeded!\n"
     ]
    },
    {
     "name": "stderr",
     "output_type": "stream",
     "text": [
      "\r",
      " 57%|█████████████████████████████████████████████████████████████████████▌                                                   | 575/1000 [03:29<03:15,  2.17it/s]"
     ]
    },
    {
     "name": "stdout",
     "output_type": "stream",
     "text": [
      "Step Limit Exceeded!\n"
     ]
    },
    {
     "name": "stderr",
     "output_type": "stream",
     "text": [
      "\r",
      " 58%|█████████████████████████████████████████████████████████████████████▋                                                   | 576/1000 [03:30<03:12,  2.20it/s]"
     ]
    },
    {
     "name": "stdout",
     "output_type": "stream",
     "text": [
      "Step Limit Exceeded!\n"
     ]
    },
    {
     "name": "stderr",
     "output_type": "stream",
     "text": [
      "\r",
      " 58%|█████████████████████████████████████████████████████████████████████▊                                                   | 577/1000 [03:30<03:11,  2.21it/s]"
     ]
    },
    {
     "name": "stdout",
     "output_type": "stream",
     "text": [
      "Step Limit Exceeded!\n"
     ]
    },
    {
     "name": "stderr",
     "output_type": "stream",
     "text": [
      "\r",
      " 58%|█████████████████████████████████████████████████████████████████████▉                                                   | 578/1000 [03:30<03:10,  2.21it/s]"
     ]
    },
    {
     "name": "stdout",
     "output_type": "stream",
     "text": [
      "Step Limit Exceeded!\n"
     ]
    },
    {
     "name": "stderr",
     "output_type": "stream",
     "text": [
      "\r",
      " 58%|██████████████████████████████████████████████████████████████████████                                                   | 579/1000 [03:31<03:09,  2.22it/s]"
     ]
    },
    {
     "name": "stdout",
     "output_type": "stream",
     "text": [
      "Step Limit Exceeded!\n"
     ]
    },
    {
     "name": "stderr",
     "output_type": "stream",
     "text": [
      "\r",
      " 58%|██████████████████████████████████████████████████████████████████████▏                                                  | 580/1000 [03:31<03:08,  2.22it/s]"
     ]
    },
    {
     "name": "stdout",
     "output_type": "stream",
     "text": [
      "Step Limit Exceeded!\n"
     ]
    },
    {
     "name": "stderr",
     "output_type": "stream",
     "text": [
      "\r",
      " 58%|██████████████████████████████████████████████████████████████████████▎                                                  | 581/1000 [03:32<03:08,  2.23it/s]"
     ]
    },
    {
     "name": "stdout",
     "output_type": "stream",
     "text": [
      "Step Limit Exceeded!\n"
     ]
    },
    {
     "name": "stderr",
     "output_type": "stream",
     "text": [
      "\r",
      " 58%|██████████████████████████████████████████████████████████████████████▍                                                  | 582/1000 [03:32<03:06,  2.24it/s]"
     ]
    },
    {
     "name": "stdout",
     "output_type": "stream",
     "text": [
      "Step Limit Exceeded!\n"
     ]
    },
    {
     "name": "stderr",
     "output_type": "stream",
     "text": [
      "\r",
      " 58%|██████████████████████████████████████████████████████████████████████▌                                                  | 583/1000 [03:33<03:06,  2.24it/s]"
     ]
    },
    {
     "name": "stdout",
     "output_type": "stream",
     "text": [
      "Step Limit Exceeded!\n"
     ]
    },
    {
     "name": "stderr",
     "output_type": "stream",
     "text": [
      "\r",
      " 58%|██████████████████████████████████████████████████████████████████████▋                                                  | 584/1000 [03:33<03:05,  2.24it/s]"
     ]
    },
    {
     "name": "stdout",
     "output_type": "stream",
     "text": [
      "Step Limit Exceeded!\n"
     ]
    },
    {
     "name": "stderr",
     "output_type": "stream",
     "text": [
      "\r",
      " 58%|██████████████████████████████████████████████████████████████████████▊                                                  | 585/1000 [03:34<03:05,  2.24it/s]"
     ]
    },
    {
     "name": "stdout",
     "output_type": "stream",
     "text": [
      "Step Limit Exceeded!\n"
     ]
    },
    {
     "name": "stderr",
     "output_type": "stream",
     "text": [
      "\r",
      " 59%|██████████████████████████████████████████████████████████████████████▉                                                  | 586/1000 [03:34<03:05,  2.24it/s]"
     ]
    },
    {
     "name": "stdout",
     "output_type": "stream",
     "text": [
      "Step Limit Exceeded!\n"
     ]
    },
    {
     "name": "stderr",
     "output_type": "stream",
     "text": [
      "\r",
      " 59%|███████████████████████████████████████████████████████████████████████                                                  | 587/1000 [03:34<03:04,  2.24it/s]"
     ]
    },
    {
     "name": "stdout",
     "output_type": "stream",
     "text": [
      "Step Limit Exceeded!\n"
     ]
    },
    {
     "name": "stderr",
     "output_type": "stream",
     "text": [
      "\r",
      " 59%|███████████████████████████████████████████████████████████████████████▏                                                 | 588/1000 [03:35<03:05,  2.23it/s]"
     ]
    },
    {
     "name": "stdout",
     "output_type": "stream",
     "text": [
      "Step Limit Exceeded!\n"
     ]
    },
    {
     "name": "stderr",
     "output_type": "stream",
     "text": [
      "\r",
      " 59%|███████████████████████████████████████████████████████████████████████▎                                                 | 589/1000 [03:35<03:04,  2.23it/s]"
     ]
    },
    {
     "name": "stdout",
     "output_type": "stream",
     "text": [
      "Step Limit Exceeded!\n"
     ]
    },
    {
     "name": "stderr",
     "output_type": "stream",
     "text": [
      "\r",
      " 59%|███████████████████████████████████████████████████████████████████████▍                                                 | 590/1000 [03:36<03:03,  2.24it/s]"
     ]
    },
    {
     "name": "stdout",
     "output_type": "stream",
     "text": [
      "Step Limit Exceeded!\n"
     ]
    },
    {
     "name": "stderr",
     "output_type": "stream",
     "text": [
      "\r",
      " 59%|███████████████████████████████████████████████████████████████████████▌                                                 | 591/1000 [03:36<03:02,  2.25it/s]"
     ]
    },
    {
     "name": "stdout",
     "output_type": "stream",
     "text": [
      "Step Limit Exceeded!\n"
     ]
    },
    {
     "name": "stderr",
     "output_type": "stream",
     "text": [
      "\r",
      " 59%|███████████████████████████████████████████████████████████████████████▋                                                 | 592/1000 [03:37<03:00,  2.26it/s]"
     ]
    },
    {
     "name": "stdout",
     "output_type": "stream",
     "text": [
      "Step Limit Exceeded!\n"
     ]
    },
    {
     "name": "stderr",
     "output_type": "stream",
     "text": [
      "\r",
      " 59%|███████████████████████████████████████████████████████████████████████▊                                                 | 593/1000 [03:37<02:59,  2.27it/s]"
     ]
    },
    {
     "name": "stdout",
     "output_type": "stream",
     "text": [
      "Step Limit Exceeded!\n"
     ]
    },
    {
     "name": "stderr",
     "output_type": "stream",
     "text": [
      "\r",
      " 59%|███████████████████████████████████████████████████████████████████████▊                                                 | 594/1000 [03:38<02:59,  2.27it/s]"
     ]
    },
    {
     "name": "stdout",
     "output_type": "stream",
     "text": [
      "Step Limit Exceeded!\n"
     ]
    },
    {
     "name": "stderr",
     "output_type": "stream",
     "text": [
      "\r",
      " 60%|███████████████████████████████████████████████████████████████████████▉                                                 | 595/1000 [03:38<02:58,  2.27it/s]"
     ]
    },
    {
     "name": "stdout",
     "output_type": "stream",
     "text": [
      "Step Limit Exceeded!\n"
     ]
    },
    {
     "name": "stderr",
     "output_type": "stream",
     "text": [
      "\r",
      " 60%|████████████████████████████████████████████████████████████████████████                                                 | 596/1000 [03:38<02:57,  2.28it/s]"
     ]
    },
    {
     "name": "stdout",
     "output_type": "stream",
     "text": [
      "Step Limit Exceeded!\n"
     ]
    },
    {
     "name": "stderr",
     "output_type": "stream",
     "text": [
      "\r",
      " 60%|████████████████████████████████████████████████████████████████████████▏                                                | 597/1000 [03:39<02:56,  2.28it/s]"
     ]
    },
    {
     "name": "stdout",
     "output_type": "stream",
     "text": [
      "Step Limit Exceeded!\n"
     ]
    },
    {
     "name": "stderr",
     "output_type": "stream",
     "text": [
      "\r",
      " 60%|████████████████████████████████████████████████████████████████████████▎                                                | 598/1000 [03:39<02:56,  2.28it/s]"
     ]
    },
    {
     "name": "stdout",
     "output_type": "stream",
     "text": [
      "Step Limit Exceeded!\n"
     ]
    },
    {
     "name": "stderr",
     "output_type": "stream",
     "text": [
      "\r",
      " 60%|████████████████████████████████████████████████████████████████████████▍                                                | 599/1000 [03:40<02:55,  2.28it/s]"
     ]
    },
    {
     "name": "stdout",
     "output_type": "stream",
     "text": [
      "Step Limit Exceeded!\n"
     ]
    },
    {
     "name": "stderr",
     "output_type": "stream",
     "text": [
      "\r",
      " 60%|████████████████████████████████████████████████████████████████████████▌                                                | 600/1000 [03:40<02:55,  2.28it/s]"
     ]
    },
    {
     "name": "stdout",
     "output_type": "stream",
     "text": [
      "Step Limit Exceeded!\n"
     ]
    },
    {
     "name": "stderr",
     "output_type": "stream",
     "text": [
      "\r",
      " 60%|████████████████████████████████████████████████████████████████████████▋                                                | 601/1000 [03:41<02:54,  2.29it/s]"
     ]
    },
    {
     "name": "stdout",
     "output_type": "stream",
     "text": [
      "Step Limit Exceeded!\n"
     ]
    },
    {
     "name": "stderr",
     "output_type": "stream",
     "text": [
      "\r",
      " 60%|████████████████████████████████████████████████████████████████████████▊                                                | 602/1000 [03:41<02:56,  2.26it/s]"
     ]
    },
    {
     "name": "stdout",
     "output_type": "stream",
     "text": [
      "Step Limit Exceeded!\n"
     ]
    },
    {
     "name": "stderr",
     "output_type": "stream",
     "text": [
      "\r",
      " 60%|████████████████████████████████████████████████████████████████████████▉                                                | 603/1000 [03:42<02:55,  2.27it/s]"
     ]
    },
    {
     "name": "stdout",
     "output_type": "stream",
     "text": [
      "Step Limit Exceeded!\n"
     ]
    },
    {
     "name": "stderr",
     "output_type": "stream",
     "text": [
      "\r",
      " 60%|█████████████████████████████████████████████████████████████████████████                                                | 604/1000 [03:42<02:54,  2.27it/s]"
     ]
    },
    {
     "name": "stdout",
     "output_type": "stream",
     "text": [
      "Step Limit Exceeded!\n"
     ]
    },
    {
     "name": "stderr",
     "output_type": "stream",
     "text": [
      "\r",
      " 60%|█████████████████████████████████████████████████████████████████████████▏                                               | 605/1000 [03:42<02:53,  2.28it/s]"
     ]
    },
    {
     "name": "stdout",
     "output_type": "stream",
     "text": [
      "Step Limit Exceeded!\n"
     ]
    },
    {
     "name": "stderr",
     "output_type": "stream",
     "text": [
      "\r",
      " 61%|█████████████████████████████████████████████████████████████████████████▎                                               | 606/1000 [03:43<02:52,  2.28it/s]"
     ]
    },
    {
     "name": "stdout",
     "output_type": "stream",
     "text": [
      "Step Limit Exceeded!\n"
     ]
    },
    {
     "name": "stderr",
     "output_type": "stream",
     "text": [
      "\r",
      " 61%|█████████████████████████████████████████████████████████████████████████▍                                               | 607/1000 [03:43<02:53,  2.27it/s]"
     ]
    },
    {
     "name": "stdout",
     "output_type": "stream",
     "text": [
      "Step Limit Exceeded!\n"
     ]
    },
    {
     "name": "stderr",
     "output_type": "stream",
     "text": [
      "\r",
      " 61%|█████████████████████████████████████████████████████████████████████████▌                                               | 608/1000 [03:44<02:53,  2.26it/s]"
     ]
    },
    {
     "name": "stdout",
     "output_type": "stream",
     "text": [
      "Step Limit Exceeded!\n"
     ]
    },
    {
     "name": "stderr",
     "output_type": "stream",
     "text": [
      "\r",
      " 61%|█████████████████████████████████████████████████████████████████████████▋                                               | 609/1000 [03:44<02:52,  2.26it/s]"
     ]
    },
    {
     "name": "stdout",
     "output_type": "stream",
     "text": [
      "Step Limit Exceeded!\n"
     ]
    },
    {
     "name": "stderr",
     "output_type": "stream",
     "text": [
      "\r",
      " 61%|█████████████████████████████████████████████████████████████████████████▊                                               | 610/1000 [03:45<02:52,  2.27it/s]"
     ]
    },
    {
     "name": "stdout",
     "output_type": "stream",
     "text": [
      "Step Limit Exceeded!\n"
     ]
    },
    {
     "name": "stderr",
     "output_type": "stream",
     "text": [
      "\r",
      " 61%|█████████████████████████████████████████████████████████████████████████▉                                               | 611/1000 [03:45<02:51,  2.27it/s]"
     ]
    },
    {
     "name": "stdout",
     "output_type": "stream",
     "text": [
      "Step Limit Exceeded!\n"
     ]
    },
    {
     "name": "stderr",
     "output_type": "stream",
     "text": [
      "\r",
      " 61%|██████████████████████████████████████████████████████████████████████████                                               | 612/1000 [03:45<02:50,  2.27it/s]"
     ]
    },
    {
     "name": "stdout",
     "output_type": "stream",
     "text": [
      "Step Limit Exceeded!\n"
     ]
    },
    {
     "name": "stderr",
     "output_type": "stream",
     "text": [
      "\r",
      " 61%|██████████████████████████████████████████████████████████████████████████▏                                              | 613/1000 [03:46<02:49,  2.28it/s]"
     ]
    },
    {
     "name": "stdout",
     "output_type": "stream",
     "text": [
      "Step Limit Exceeded!\n"
     ]
    },
    {
     "name": "stderr",
     "output_type": "stream",
     "text": [
      "\r",
      " 61%|██████████████████████████████████████████████████████████████████████████▎                                              | 614/1000 [03:46<02:49,  2.28it/s]"
     ]
    },
    {
     "name": "stdout",
     "output_type": "stream",
     "text": [
      "Step Limit Exceeded!\n"
     ]
    },
    {
     "name": "stderr",
     "output_type": "stream",
     "text": [
      "\r",
      " 62%|██████████████████████████████████████████████████████████████████████████▍                                              | 615/1000 [03:47<02:48,  2.28it/s]"
     ]
    },
    {
     "name": "stdout",
     "output_type": "stream",
     "text": [
      "Step Limit Exceeded!\n"
     ]
    },
    {
     "name": "stderr",
     "output_type": "stream",
     "text": [
      "\r",
      " 62%|██████████████████████████████████████████████████████████████████████████▌                                              | 616/1000 [03:47<02:48,  2.28it/s]"
     ]
    },
    {
     "name": "stdout",
     "output_type": "stream",
     "text": [
      "Step Limit Exceeded!\n"
     ]
    },
    {
     "name": "stderr",
     "output_type": "stream",
     "text": [
      "\r",
      " 62%|██████████████████████████████████████████████████████████████████████████▋                                              | 617/1000 [03:48<02:48,  2.27it/s]"
     ]
    },
    {
     "name": "stdout",
     "output_type": "stream",
     "text": [
      "Step Limit Exceeded!\n"
     ]
    },
    {
     "name": "stderr",
     "output_type": "stream",
     "text": [
      "\r",
      " 62%|██████████████████████████████████████████████████████████████████████████▊                                              | 618/1000 [03:48<02:47,  2.27it/s]"
     ]
    },
    {
     "name": "stdout",
     "output_type": "stream",
     "text": [
      "Step Limit Exceeded!\n"
     ]
    },
    {
     "name": "stderr",
     "output_type": "stream",
     "text": [
      "\r",
      " 62%|██████████████████████████████████████████████████████████████████████████▉                                              | 619/1000 [03:49<02:47,  2.28it/s]"
     ]
    },
    {
     "name": "stdout",
     "output_type": "stream",
     "text": [
      "Step Limit Exceeded!\n"
     ]
    },
    {
     "name": "stderr",
     "output_type": "stream",
     "text": [
      "\r",
      " 62%|███████████████████████████████████████████████████████████████████████████                                              | 620/1000 [03:49<02:46,  2.28it/s]"
     ]
    },
    {
     "name": "stdout",
     "output_type": "stream",
     "text": [
      "Step Limit Exceeded!\n"
     ]
    },
    {
     "name": "stderr",
     "output_type": "stream",
     "text": [
      "\r",
      " 62%|███████████████████████████████████████████████████████████████████████████▏                                             | 621/1000 [03:49<02:46,  2.28it/s]"
     ]
    },
    {
     "name": "stdout",
     "output_type": "stream",
     "text": [
      "Step Limit Exceeded!\n"
     ]
    },
    {
     "name": "stderr",
     "output_type": "stream",
     "text": [
      "\r",
      " 62%|███████████████████████████████████████████████████████████████████████████▎                                             | 622/1000 [03:50<02:46,  2.27it/s]"
     ]
    },
    {
     "name": "stdout",
     "output_type": "stream",
     "text": [
      "Step Limit Exceeded!\n"
     ]
    },
    {
     "name": "stderr",
     "output_type": "stream",
     "text": [
      "\r",
      " 62%|███████████████████████████████████████████████████████████████████████████▍                                             | 623/1000 [03:50<02:45,  2.27it/s]"
     ]
    },
    {
     "name": "stdout",
     "output_type": "stream",
     "text": [
      "Step Limit Exceeded!\n"
     ]
    },
    {
     "name": "stderr",
     "output_type": "stream",
     "text": [
      "\r",
      " 62%|███████████████████████████████████████████████████████████████████████████▌                                             | 624/1000 [03:51<02:45,  2.27it/s]"
     ]
    },
    {
     "name": "stdout",
     "output_type": "stream",
     "text": [
      "Step Limit Exceeded!\n"
     ]
    },
    {
     "name": "stderr",
     "output_type": "stream",
     "text": [
      "\r",
      " 62%|███████████████████████████████████████████████████████████████████████████▋                                             | 625/1000 [03:51<02:45,  2.27it/s]"
     ]
    },
    {
     "name": "stdout",
     "output_type": "stream",
     "text": [
      "Step Limit Exceeded!\n"
     ]
    },
    {
     "name": "stderr",
     "output_type": "stream",
     "text": [
      "\r",
      " 63%|███████████████████████████████████████████████████████████████████████████▋                                             | 626/1000 [03:52<02:44,  2.27it/s]"
     ]
    },
    {
     "name": "stdout",
     "output_type": "stream",
     "text": [
      "Step Limit Exceeded!\n"
     ]
    },
    {
     "name": "stderr",
     "output_type": "stream",
     "text": [
      "\r",
      " 63%|███████████████████████████████████████████████████████████████████████████▊                                             | 627/1000 [03:52<02:44,  2.27it/s]"
     ]
    },
    {
     "name": "stdout",
     "output_type": "stream",
     "text": [
      "Step Limit Exceeded!\n"
     ]
    },
    {
     "name": "stderr",
     "output_type": "stream",
     "text": [
      "\r",
      " 63%|███████████████████████████████████████████████████████████████████████████▉                                             | 628/1000 [03:53<02:45,  2.25it/s]"
     ]
    },
    {
     "name": "stdout",
     "output_type": "stream",
     "text": [
      "Step Limit Exceeded!\n"
     ]
    },
    {
     "name": "stderr",
     "output_type": "stream",
     "text": [
      "\r",
      " 63%|████████████████████████████████████████████████████████████████████████████                                             | 629/1000 [03:53<02:45,  2.24it/s]"
     ]
    },
    {
     "name": "stdout",
     "output_type": "stream",
     "text": [
      "Step Limit Exceeded!\n"
     ]
    },
    {
     "name": "stderr",
     "output_type": "stream",
     "text": [
      "\r",
      " 63%|████████████████████████████████████████████████████████████████████████████▏                                            | 630/1000 [03:53<02:44,  2.25it/s]"
     ]
    },
    {
     "name": "stdout",
     "output_type": "stream",
     "text": [
      "Step Limit Exceeded!\n"
     ]
    },
    {
     "name": "stderr",
     "output_type": "stream",
     "text": [
      "\r",
      " 63%|████████████████████████████████████████████████████████████████████████████▎                                            | 631/1000 [03:54<02:44,  2.24it/s]"
     ]
    },
    {
     "name": "stdout",
     "output_type": "stream",
     "text": [
      "Step Limit Exceeded!\n"
     ]
    },
    {
     "name": "stderr",
     "output_type": "stream",
     "text": [
      "\r",
      " 63%|████████████████████████████████████████████████████████████████████████████▍                                            | 632/1000 [03:54<02:43,  2.25it/s]"
     ]
    },
    {
     "name": "stdout",
     "output_type": "stream",
     "text": [
      "Step Limit Exceeded!\n"
     ]
    },
    {
     "name": "stderr",
     "output_type": "stream",
     "text": [
      "\r",
      " 63%|████████████████████████████████████████████████████████████████████████████▌                                            | 633/1000 [03:55<02:42,  2.26it/s]"
     ]
    },
    {
     "name": "stdout",
     "output_type": "stream",
     "text": [
      "Step Limit Exceeded!\n"
     ]
    },
    {
     "name": "stderr",
     "output_type": "stream",
     "text": [
      "\r",
      " 63%|████████████████████████████████████████████████████████████████████████████▋                                            | 634/1000 [03:55<02:41,  2.27it/s]"
     ]
    },
    {
     "name": "stdout",
     "output_type": "stream",
     "text": [
      "Step Limit Exceeded!\n"
     ]
    },
    {
     "name": "stderr",
     "output_type": "stream",
     "text": [
      "\r",
      " 64%|████████████████████████████████████████████████████████████████████████████▊                                            | 635/1000 [03:56<02:40,  2.27it/s]"
     ]
    },
    {
     "name": "stdout",
     "output_type": "stream",
     "text": [
      "Step Limit Exceeded!\n"
     ]
    },
    {
     "name": "stderr",
     "output_type": "stream",
     "text": [
      "\r",
      " 64%|████████████████████████████████████████████████████████████████████████████▉                                            | 636/1000 [03:56<02:39,  2.28it/s]"
     ]
    },
    {
     "name": "stdout",
     "output_type": "stream",
     "text": [
      "Step Limit Exceeded!\n"
     ]
    },
    {
     "name": "stderr",
     "output_type": "stream",
     "text": [
      "\r",
      " 64%|█████████████████████████████████████████████████████████████████████████████                                            | 637/1000 [03:57<02:39,  2.28it/s]"
     ]
    },
    {
     "name": "stdout",
     "output_type": "stream",
     "text": [
      "Step Limit Exceeded!\n"
     ]
    },
    {
     "name": "stderr",
     "output_type": "stream",
     "text": [
      "\r",
      " 64%|█████████████████████████████████████████████████████████████████████████████▏                                           | 638/1000 [03:57<02:38,  2.28it/s]"
     ]
    },
    {
     "name": "stdout",
     "output_type": "stream",
     "text": [
      "Step Limit Exceeded!\n"
     ]
    },
    {
     "name": "stderr",
     "output_type": "stream",
     "text": [
      "\r",
      " 64%|█████████████████████████████████████████████████████████████████████████████▎                                           | 639/1000 [03:57<02:38,  2.28it/s]"
     ]
    },
    {
     "name": "stdout",
     "output_type": "stream",
     "text": [
      "Step Limit Exceeded!\n"
     ]
    },
    {
     "name": "stderr",
     "output_type": "stream",
     "text": [
      "\r",
      " 64%|█████████████████████████████████████████████████████████████████████████████▍                                           | 640/1000 [03:58<02:38,  2.28it/s]"
     ]
    },
    {
     "name": "stdout",
     "output_type": "stream",
     "text": [
      "Step Limit Exceeded!\n"
     ]
    },
    {
     "name": "stderr",
     "output_type": "stream",
     "text": [
      "\r",
      " 64%|█████████████████████████████████████████████████████████████████████████████▌                                           | 641/1000 [03:58<02:37,  2.28it/s]"
     ]
    },
    {
     "name": "stdout",
     "output_type": "stream",
     "text": [
      "Step Limit Exceeded!\n"
     ]
    },
    {
     "name": "stderr",
     "output_type": "stream",
     "text": [
      "\r",
      " 64%|█████████████████████████████████████████████████████████████████████████████▋                                           | 642/1000 [03:59<02:36,  2.28it/s]"
     ]
    },
    {
     "name": "stdout",
     "output_type": "stream",
     "text": [
      "Step Limit Exceeded!\n"
     ]
    },
    {
     "name": "stderr",
     "output_type": "stream",
     "text": [
      "\r",
      " 64%|█████████████████████████████████████████████████████████████████████████████▊                                           | 643/1000 [03:59<02:36,  2.28it/s]"
     ]
    },
    {
     "name": "stdout",
     "output_type": "stream",
     "text": [
      "Step Limit Exceeded!\n"
     ]
    },
    {
     "name": "stderr",
     "output_type": "stream",
     "text": [
      "\r",
      " 64%|█████████████████████████████████████████████████████████████████████████████▉                                           | 644/1000 [04:00<02:36,  2.28it/s]"
     ]
    },
    {
     "name": "stdout",
     "output_type": "stream",
     "text": [
      "Step Limit Exceeded!\n"
     ]
    },
    {
     "name": "stderr",
     "output_type": "stream",
     "text": [
      "\r",
      " 64%|██████████████████████████████████████████████████████████████████████████████                                           | 645/1000 [04:00<02:35,  2.28it/s]"
     ]
    },
    {
     "name": "stdout",
     "output_type": "stream",
     "text": [
      "Step Limit Exceeded!\n"
     ]
    },
    {
     "name": "stderr",
     "output_type": "stream",
     "text": [
      "\r",
      " 65%|██████████████████████████████████████████████████████████████████████████████▏                                          | 646/1000 [04:00<02:35,  2.28it/s]"
     ]
    },
    {
     "name": "stdout",
     "output_type": "stream",
     "text": [
      "Step Limit Exceeded!\n"
     ]
    },
    {
     "name": "stderr",
     "output_type": "stream",
     "text": [
      "\r",
      " 65%|██████████████████████████████████████████████████████████████████████████████▎                                          | 647/1000 [04:01<02:34,  2.28it/s]"
     ]
    },
    {
     "name": "stdout",
     "output_type": "stream",
     "text": [
      "Step Limit Exceeded!\n"
     ]
    },
    {
     "name": "stderr",
     "output_type": "stream",
     "text": [
      "\r",
      " 65%|██████████████████████████████████████████████████████████████████████████████▍                                          | 648/1000 [04:01<02:34,  2.28it/s]"
     ]
    },
    {
     "name": "stdout",
     "output_type": "stream",
     "text": [
      "Step Limit Exceeded!\n"
     ]
    },
    {
     "name": "stderr",
     "output_type": "stream",
     "text": [
      "\r",
      " 65%|██████████████████████████████████████████████████████████████████████████████▌                                          | 649/1000 [04:02<02:34,  2.28it/s]"
     ]
    },
    {
     "name": "stdout",
     "output_type": "stream",
     "text": [
      "Step Limit Exceeded!\n"
     ]
    },
    {
     "name": "stderr",
     "output_type": "stream",
     "text": [
      "\r",
      " 65%|██████████████████████████████████████████████████████████████████████████████▋                                          | 650/1000 [04:02<02:33,  2.28it/s]"
     ]
    },
    {
     "name": "stdout",
     "output_type": "stream",
     "text": [
      "Step Limit Exceeded!\n"
     ]
    },
    {
     "name": "stderr",
     "output_type": "stream",
     "text": [
      "\r",
      " 65%|██████████████████████████████████████████████████████████████████████████████▊                                          | 651/1000 [04:03<02:33,  2.28it/s]"
     ]
    },
    {
     "name": "stdout",
     "output_type": "stream",
     "text": [
      "Step Limit Exceeded!\n"
     ]
    },
    {
     "name": "stderr",
     "output_type": "stream",
     "text": [
      "\r",
      " 65%|██████████████████████████████████████████████████████████████████████████████▉                                          | 652/1000 [04:03<02:32,  2.28it/s]"
     ]
    },
    {
     "name": "stdout",
     "output_type": "stream",
     "text": [
      "Step Limit Exceeded!\n"
     ]
    },
    {
     "name": "stderr",
     "output_type": "stream",
     "text": [
      "\r",
      " 65%|███████████████████████████████████████████████████████████████████████████████                                          | 653/1000 [04:04<02:32,  2.28it/s]"
     ]
    },
    {
     "name": "stdout",
     "output_type": "stream",
     "text": [
      "Step Limit Exceeded!\n"
     ]
    },
    {
     "name": "stderr",
     "output_type": "stream",
     "text": [
      "\r",
      " 65%|███████████████████████████████████████████████████████████████████████████████▏                                         | 654/1000 [04:04<02:31,  2.28it/s]"
     ]
    },
    {
     "name": "stdout",
     "output_type": "stream",
     "text": [
      "Step Limit Exceeded!\n"
     ]
    },
    {
     "name": "stderr",
     "output_type": "stream",
     "text": [
      "\r",
      " 66%|███████████████████████████████████████████████████████████████████████████████▎                                         | 655/1000 [04:04<02:31,  2.28it/s]"
     ]
    },
    {
     "name": "stdout",
     "output_type": "stream",
     "text": [
      "Step Limit Exceeded!\n"
     ]
    },
    {
     "name": "stderr",
     "output_type": "stream",
     "text": [
      "\r",
      " 66%|███████████████████████████████████████████████████████████████████████████████▍                                         | 656/1000 [04:05<02:30,  2.28it/s]"
     ]
    },
    {
     "name": "stdout",
     "output_type": "stream",
     "text": [
      "Step Limit Exceeded!\n"
     ]
    },
    {
     "name": "stderr",
     "output_type": "stream",
     "text": [
      "\r",
      " 66%|███████████████████████████████████████████████████████████████████████████████▍                                         | 657/1000 [04:05<02:30,  2.28it/s]"
     ]
    },
    {
     "name": "stdout",
     "output_type": "stream",
     "text": [
      "Step Limit Exceeded!\n"
     ]
    },
    {
     "name": "stderr",
     "output_type": "stream",
     "text": [
      "\r",
      " 66%|███████████████████████████████████████████████████████████████████████████████▌                                         | 658/1000 [04:06<02:29,  2.28it/s]"
     ]
    },
    {
     "name": "stdout",
     "output_type": "stream",
     "text": [
      "Step Limit Exceeded!\n"
     ]
    },
    {
     "name": "stderr",
     "output_type": "stream",
     "text": [
      "\r",
      " 66%|███████████████████████████████████████████████████████████████████████████████▋                                         | 659/1000 [04:06<02:29,  2.28it/s]"
     ]
    },
    {
     "name": "stdout",
     "output_type": "stream",
     "text": [
      "Step Limit Exceeded!\n"
     ]
    },
    {
     "name": "stderr",
     "output_type": "stream",
     "text": [
      "\r",
      " 66%|███████████████████████████████████████████████████████████████████████████████▊                                         | 660/1000 [04:07<02:29,  2.28it/s]"
     ]
    },
    {
     "name": "stdout",
     "output_type": "stream",
     "text": [
      "Step Limit Exceeded!\n"
     ]
    },
    {
     "name": "stderr",
     "output_type": "stream",
     "text": [
      "\r",
      " 66%|███████████████████████████████████████████████████████████████████████████████▉                                         | 661/1000 [04:07<02:28,  2.28it/s]"
     ]
    },
    {
     "name": "stdout",
     "output_type": "stream",
     "text": [
      "Step Limit Exceeded!\n"
     ]
    },
    {
     "name": "stderr",
     "output_type": "stream",
     "text": [
      "\r",
      " 66%|████████████████████████████████████████████████████████████████████████████████                                         | 662/1000 [04:07<02:28,  2.28it/s]"
     ]
    },
    {
     "name": "stdout",
     "output_type": "stream",
     "text": [
      "Step Limit Exceeded!\n"
     ]
    },
    {
     "name": "stderr",
     "output_type": "stream",
     "text": [
      "\r",
      " 66%|████████████████████████████████████████████████████████████████████████████████▏                                        | 663/1000 [04:08<02:28,  2.28it/s]"
     ]
    },
    {
     "name": "stdout",
     "output_type": "stream",
     "text": [
      "Step Limit Exceeded!\n"
     ]
    },
    {
     "name": "stderr",
     "output_type": "stream",
     "text": [
      "\r",
      " 66%|████████████████████████████████████████████████████████████████████████████████▎                                        | 664/1000 [04:08<02:27,  2.28it/s]"
     ]
    },
    {
     "name": "stdout",
     "output_type": "stream",
     "text": [
      "Step Limit Exceeded!\n"
     ]
    },
    {
     "name": "stderr",
     "output_type": "stream",
     "text": [
      "\r",
      " 66%|████████████████████████████████████████████████████████████████████████████████▍                                        | 665/1000 [04:09<02:27,  2.28it/s]"
     ]
    },
    {
     "name": "stdout",
     "output_type": "stream",
     "text": [
      "Step Limit Exceeded!\n"
     ]
    },
    {
     "name": "stderr",
     "output_type": "stream",
     "text": [
      "\r",
      " 67%|████████████████████████████████████████████████████████████████████████████████▌                                        | 666/1000 [04:09<02:26,  2.28it/s]"
     ]
    },
    {
     "name": "stdout",
     "output_type": "stream",
     "text": [
      "Step Limit Exceeded!\n"
     ]
    },
    {
     "name": "stderr",
     "output_type": "stream",
     "text": [
      "\r",
      " 67%|████████████████████████████████████████████████████████████████████████████████▋                                        | 667/1000 [04:10<02:26,  2.28it/s]"
     ]
    },
    {
     "name": "stdout",
     "output_type": "stream",
     "text": [
      "Step Limit Exceeded!\n"
     ]
    },
    {
     "name": "stderr",
     "output_type": "stream",
     "text": [
      "\r",
      " 67%|████████████████████████████████████████████████████████████████████████████████▊                                        | 668/1000 [04:10<02:25,  2.28it/s]"
     ]
    },
    {
     "name": "stdout",
     "output_type": "stream",
     "text": [
      "Step Limit Exceeded!\n"
     ]
    },
    {
     "name": "stderr",
     "output_type": "stream",
     "text": [
      "\r",
      " 67%|████████████████████████████████████████████████████████████████████████████████▉                                        | 669/1000 [04:11<02:25,  2.28it/s]"
     ]
    },
    {
     "name": "stdout",
     "output_type": "stream",
     "text": [
      "Step Limit Exceeded!\n"
     ]
    },
    {
     "name": "stderr",
     "output_type": "stream",
     "text": [
      "\r",
      " 67%|█████████████████████████████████████████████████████████████████████████████████                                        | 670/1000 [04:11<02:24,  2.28it/s]"
     ]
    },
    {
     "name": "stdout",
     "output_type": "stream",
     "text": [
      "Step Limit Exceeded!\n"
     ]
    },
    {
     "name": "stderr",
     "output_type": "stream",
     "text": [
      "\r",
      " 67%|█████████████████████████████████████████████████████████████████████████████████▏                                       | 671/1000 [04:11<02:24,  2.28it/s]"
     ]
    },
    {
     "name": "stdout",
     "output_type": "stream",
     "text": [
      "Step Limit Exceeded!\n"
     ]
    },
    {
     "name": "stderr",
     "output_type": "stream",
     "text": [
      "\r",
      " 67%|█████████████████████████████████████████████████████████████████████████████████▎                                       | 672/1000 [04:12<02:24,  2.28it/s]"
     ]
    },
    {
     "name": "stdout",
     "output_type": "stream",
     "text": [
      "Step Limit Exceeded!\n"
     ]
    },
    {
     "name": "stderr",
     "output_type": "stream",
     "text": [
      "\r",
      " 67%|█████████████████████████████████████████████████████████████████████████████████▍                                       | 673/1000 [04:12<02:23,  2.28it/s]"
     ]
    },
    {
     "name": "stdout",
     "output_type": "stream",
     "text": [
      "Step Limit Exceeded!\n"
     ]
    },
    {
     "name": "stderr",
     "output_type": "stream",
     "text": [
      "\r",
      " 67%|█████████████████████████████████████████████████████████████████████████████████▌                                       | 674/1000 [04:13<02:23,  2.28it/s]"
     ]
    },
    {
     "name": "stdout",
     "output_type": "stream",
     "text": [
      "Step Limit Exceeded!\n"
     ]
    },
    {
     "name": "stderr",
     "output_type": "stream",
     "text": [
      "\r",
      " 68%|█████████████████████████████████████████████████████████████████████████████████▋                                       | 675/1000 [04:13<02:22,  2.28it/s]"
     ]
    },
    {
     "name": "stdout",
     "output_type": "stream",
     "text": [
      "Step Limit Exceeded!\n"
     ]
    },
    {
     "name": "stderr",
     "output_type": "stream",
     "text": [
      "\r",
      " 68%|█████████████████████████████████████████████████████████████████████████████████▊                                       | 676/1000 [04:14<02:22,  2.28it/s]"
     ]
    },
    {
     "name": "stdout",
     "output_type": "stream",
     "text": [
      "Step Limit Exceeded!\n"
     ]
    },
    {
     "name": "stderr",
     "output_type": "stream",
     "text": [
      "\r",
      " 68%|█████████████████████████████████████████████████████████████████████████████████▉                                       | 677/1000 [04:14<02:21,  2.28it/s]"
     ]
    },
    {
     "name": "stdout",
     "output_type": "stream",
     "text": [
      "Step Limit Exceeded!\n"
     ]
    },
    {
     "name": "stderr",
     "output_type": "stream",
     "text": [
      "\r",
      " 68%|██████████████████████████████████████████████████████████████████████████████████                                       | 678/1000 [04:14<02:21,  2.28it/s]"
     ]
    },
    {
     "name": "stdout",
     "output_type": "stream",
     "text": [
      "Step Limit Exceeded!\n"
     ]
    },
    {
     "name": "stderr",
     "output_type": "stream",
     "text": [
      "\r",
      " 68%|██████████████████████████████████████████████████████████████████████████████████▏                                      | 679/1000 [04:15<02:20,  2.28it/s]"
     ]
    },
    {
     "name": "stdout",
     "output_type": "stream",
     "text": [
      "Step Limit Exceeded!\n"
     ]
    },
    {
     "name": "stderr",
     "output_type": "stream",
     "text": [
      "\r",
      " 68%|██████████████████████████████████████████████████████████████████████████████████▎                                      | 680/1000 [04:15<02:20,  2.28it/s]"
     ]
    },
    {
     "name": "stdout",
     "output_type": "stream",
     "text": [
      "Step Limit Exceeded!\n"
     ]
    },
    {
     "name": "stderr",
     "output_type": "stream",
     "text": [
      "\r",
      " 68%|██████████████████████████████████████████████████████████████████████████████████▍                                      | 681/1000 [04:16<02:20,  2.28it/s]"
     ]
    },
    {
     "name": "stdout",
     "output_type": "stream",
     "text": [
      "Step Limit Exceeded!\n"
     ]
    },
    {
     "name": "stderr",
     "output_type": "stream",
     "text": [
      "\r",
      " 68%|██████████████████████████████████████████████████████████████████████████████████▌                                      | 682/1000 [04:16<02:19,  2.28it/s]"
     ]
    },
    {
     "name": "stdout",
     "output_type": "stream",
     "text": [
      "Step Limit Exceeded!\n"
     ]
    },
    {
     "name": "stderr",
     "output_type": "stream",
     "text": [
      "\r",
      " 68%|██████████████████████████████████████████████████████████████████████████████████▋                                      | 683/1000 [04:17<02:20,  2.25it/s]"
     ]
    },
    {
     "name": "stdout",
     "output_type": "stream",
     "text": [
      "Step Limit Exceeded!\n"
     ]
    },
    {
     "name": "stderr",
     "output_type": "stream",
     "text": [
      "\r",
      " 68%|██████████████████████████████████████████████████████████████████████████████████▊                                      | 684/1000 [04:17<02:22,  2.22it/s]"
     ]
    },
    {
     "name": "stdout",
     "output_type": "stream",
     "text": [
      "Step Limit Exceeded!\n"
     ]
    },
    {
     "name": "stderr",
     "output_type": "stream",
     "text": [
      "\r",
      " 68%|██████████████████████████████████████████████████████████████████████████████████▉                                      | 685/1000 [04:18<02:20,  2.24it/s]"
     ]
    },
    {
     "name": "stdout",
     "output_type": "stream",
     "text": [
      "Step Limit Exceeded!\n"
     ]
    },
    {
     "name": "stderr",
     "output_type": "stream",
     "text": [
      "\r",
      " 69%|███████████████████████████████████████████████████████████████████████████████████                                      | 686/1000 [04:18<02:19,  2.24it/s]"
     ]
    },
    {
     "name": "stdout",
     "output_type": "stream",
     "text": [
      "Step Limit Exceeded!\n"
     ]
    },
    {
     "name": "stderr",
     "output_type": "stream",
     "text": [
      "\r",
      " 69%|███████████████████████████████████████████████████████████████████████████████████▏                                     | 687/1000 [04:18<02:19,  2.25it/s]"
     ]
    },
    {
     "name": "stdout",
     "output_type": "stream",
     "text": [
      "Step Limit Exceeded!\n"
     ]
    },
    {
     "name": "stderr",
     "output_type": "stream",
     "text": [
      "\r",
      " 69%|███████████████████████████████████████████████████████████████████████████████████▏                                     | 688/1000 [04:19<02:18,  2.25it/s]"
     ]
    },
    {
     "name": "stdout",
     "output_type": "stream",
     "text": [
      "Step Limit Exceeded!\n"
     ]
    },
    {
     "name": "stderr",
     "output_type": "stream",
     "text": [
      "\r",
      " 69%|███████████████████████████████████████████████████████████████████████████████████▎                                     | 689/1000 [04:19<02:18,  2.25it/s]"
     ]
    },
    {
     "name": "stdout",
     "output_type": "stream",
     "text": [
      "Step Limit Exceeded!\n"
     ]
    },
    {
     "name": "stderr",
     "output_type": "stream",
     "text": [
      "\r",
      " 69%|███████████████████████████████████████████████████████████████████████████████████▍                                     | 690/1000 [04:20<02:18,  2.24it/s]"
     ]
    },
    {
     "name": "stdout",
     "output_type": "stream",
     "text": [
      "Step Limit Exceeded!\n"
     ]
    },
    {
     "name": "stderr",
     "output_type": "stream",
     "text": [
      "\r",
      " 69%|███████████████████████████████████████████████████████████████████████████████████▌                                     | 691/1000 [04:20<02:19,  2.22it/s]"
     ]
    },
    {
     "name": "stdout",
     "output_type": "stream",
     "text": [
      "Step Limit Exceeded!\n"
     ]
    },
    {
     "name": "stderr",
     "output_type": "stream",
     "text": [
      "\r",
      " 69%|███████████████████████████████████████████████████████████████████████████████████▋                                     | 692/1000 [04:21<02:18,  2.22it/s]"
     ]
    },
    {
     "name": "stdout",
     "output_type": "stream",
     "text": [
      "Step Limit Exceeded!\n"
     ]
    },
    {
     "name": "stderr",
     "output_type": "stream",
     "text": [
      "\r",
      " 69%|███████████████████████████████████████████████████████████████████████████████████▊                                     | 693/1000 [04:21<02:17,  2.23it/s]"
     ]
    },
    {
     "name": "stdout",
     "output_type": "stream",
     "text": [
      "Step Limit Exceeded!\n"
     ]
    },
    {
     "name": "stderr",
     "output_type": "stream",
     "text": [
      "\r",
      " 69%|███████████████████████████████████████████████████████████████████████████████████▉                                     | 694/1000 [04:22<02:16,  2.24it/s]"
     ]
    },
    {
     "name": "stdout",
     "output_type": "stream",
     "text": [
      "Step Limit Exceeded!\n"
     ]
    },
    {
     "name": "stderr",
     "output_type": "stream",
     "text": [
      "\r",
      " 70%|████████████████████████████████████████████████████████████████████████████████████                                     | 695/1000 [04:22<02:15,  2.24it/s]"
     ]
    },
    {
     "name": "stdout",
     "output_type": "stream",
     "text": [
      "Step Limit Exceeded!\n"
     ]
    },
    {
     "name": "stderr",
     "output_type": "stream",
     "text": [
      "\r",
      " 70%|████████████████████████████████████████████████████████████████████████████████████▏                                    | 696/1000 [04:23<02:14,  2.25it/s]"
     ]
    },
    {
     "name": "stdout",
     "output_type": "stream",
     "text": [
      "Step Limit Exceeded!\n"
     ]
    },
    {
     "name": "stderr",
     "output_type": "stream",
     "text": [
      "\r",
      " 70%|████████████████████████████████████████████████████████████████████████████████████▎                                    | 697/1000 [04:23<02:14,  2.25it/s]"
     ]
    },
    {
     "name": "stdout",
     "output_type": "stream",
     "text": [
      "Step Limit Exceeded!\n"
     ]
    },
    {
     "name": "stderr",
     "output_type": "stream",
     "text": [
      "\r",
      " 70%|████████████████████████████████████████████████████████████████████████████████████▍                                    | 698/1000 [04:23<02:14,  2.25it/s]"
     ]
    },
    {
     "name": "stdout",
     "output_type": "stream",
     "text": [
      "Step Limit Exceeded!\n"
     ]
    },
    {
     "name": "stderr",
     "output_type": "stream",
     "text": [
      "\r",
      " 70%|████████████████████████████████████████████████████████████████████████████████████▌                                    | 699/1000 [04:24<02:13,  2.25it/s]"
     ]
    },
    {
     "name": "stdout",
     "output_type": "stream",
     "text": [
      "Step Limit Exceeded!\n"
     ]
    },
    {
     "name": "stderr",
     "output_type": "stream",
     "text": [
      "\r",
      " 70%|████████████████████████████████████████████████████████████████████████████████████▋                                    | 700/1000 [04:24<02:12,  2.26it/s]"
     ]
    },
    {
     "name": "stdout",
     "output_type": "stream",
     "text": [
      "Step Limit Exceeded!\n"
     ]
    },
    {
     "name": "stderr",
     "output_type": "stream",
     "text": [
      "\r",
      " 70%|████████████████████████████████████████████████████████████████████████████████████▊                                    | 701/1000 [04:25<02:12,  2.26it/s]"
     ]
    },
    {
     "name": "stdout",
     "output_type": "stream",
     "text": [
      "Step Limit Exceeded!\n"
     ]
    },
    {
     "name": "stderr",
     "output_type": "stream",
     "text": [
      "\r",
      " 70%|████████████████████████████████████████████████████████████████████████████████████▉                                    | 702/1000 [04:25<02:11,  2.27it/s]"
     ]
    },
    {
     "name": "stdout",
     "output_type": "stream",
     "text": [
      "Step Limit Exceeded!\n"
     ]
    },
    {
     "name": "stderr",
     "output_type": "stream",
     "text": [
      "\r",
      " 70%|█████████████████████████████████████████████████████████████████████████████████████                                    | 703/1000 [04:26<02:10,  2.27it/s]"
     ]
    },
    {
     "name": "stdout",
     "output_type": "stream",
     "text": [
      "Step Limit Exceeded!\n"
     ]
    },
    {
     "name": "stderr",
     "output_type": "stream",
     "text": [
      "\r",
      " 70%|█████████████████████████████████████████████████████████████████████████████████████▏                                   | 704/1000 [04:26<02:10,  2.27it/s]"
     ]
    },
    {
     "name": "stdout",
     "output_type": "stream",
     "text": [
      "Step Limit Exceeded!\n"
     ]
    },
    {
     "name": "stderr",
     "output_type": "stream",
     "text": [
      "\r",
      " 70%|█████████████████████████████████████████████████████████████████████████████████████▎                                   | 705/1000 [04:26<02:09,  2.27it/s]"
     ]
    },
    {
     "name": "stdout",
     "output_type": "stream",
     "text": [
      "Step Limit Exceeded!\n"
     ]
    },
    {
     "name": "stderr",
     "output_type": "stream",
     "text": [
      "\r",
      " 71%|█████████████████████████████████████████████████████████████████████████████████████▍                                   | 706/1000 [04:27<02:09,  2.26it/s]"
     ]
    },
    {
     "name": "stdout",
     "output_type": "stream",
     "text": [
      "Step Limit Exceeded!\n"
     ]
    },
    {
     "name": "stderr",
     "output_type": "stream",
     "text": [
      "\r",
      " 71%|█████████████████████████████████████████████████████████████████████████████████████▌                                   | 707/1000 [04:27<02:09,  2.27it/s]"
     ]
    },
    {
     "name": "stdout",
     "output_type": "stream",
     "text": [
      "Step Limit Exceeded!\n"
     ]
    },
    {
     "name": "stderr",
     "output_type": "stream",
     "text": [
      "\r",
      " 71%|█████████████████████████████████████████████████████████████████████████████████████▋                                   | 708/1000 [04:28<02:08,  2.27it/s]"
     ]
    },
    {
     "name": "stdout",
     "output_type": "stream",
     "text": [
      "Step Limit Exceeded!\n"
     ]
    },
    {
     "name": "stderr",
     "output_type": "stream",
     "text": [
      "\r",
      " 71%|█████████████████████████████████████████████████████████████████████████████████████▊                                   | 709/1000 [04:28<02:07,  2.28it/s]"
     ]
    },
    {
     "name": "stdout",
     "output_type": "stream",
     "text": [
      "Step Limit Exceeded!\n"
     ]
    },
    {
     "name": "stderr",
     "output_type": "stream",
     "text": [
      "\r",
      " 71%|█████████████████████████████████████████████████████████████████████████████████████▉                                   | 710/1000 [04:29<02:07,  2.28it/s]"
     ]
    },
    {
     "name": "stdout",
     "output_type": "stream",
     "text": [
      "Step Limit Exceeded!\n"
     ]
    },
    {
     "name": "stderr",
     "output_type": "stream",
     "text": [
      "\r",
      " 71%|██████████████████████████████████████████████████████████████████████████████████████                                   | 711/1000 [04:29<02:07,  2.27it/s]"
     ]
    },
    {
     "name": "stdout",
     "output_type": "stream",
     "text": [
      "Step Limit Exceeded!\n"
     ]
    },
    {
     "name": "stderr",
     "output_type": "stream",
     "text": [
      "\r",
      " 71%|██████████████████████████████████████████████████████████████████████████████████████▏                                  | 712/1000 [04:30<02:06,  2.27it/s]"
     ]
    },
    {
     "name": "stdout",
     "output_type": "stream",
     "text": [
      "Step Limit Exceeded!\n"
     ]
    },
    {
     "name": "stderr",
     "output_type": "stream",
     "text": [
      "\r",
      " 71%|██████████████████████████████████████████████████████████████████████████████████████▎                                  | 713/1000 [04:30<02:06,  2.27it/s]"
     ]
    },
    {
     "name": "stdout",
     "output_type": "stream",
     "text": [
      "Step Limit Exceeded!\n"
     ]
    },
    {
     "name": "stderr",
     "output_type": "stream",
     "text": [
      "\r",
      " 71%|██████████████████████████████████████████████████████████████████████████████████████▍                                  | 714/1000 [04:30<02:06,  2.27it/s]"
     ]
    },
    {
     "name": "stdout",
     "output_type": "stream",
     "text": [
      "Step Limit Exceeded!\n"
     ]
    },
    {
     "name": "stderr",
     "output_type": "stream",
     "text": [
      "\r",
      " 72%|██████████████████████████████████████████████████████████████████████████████████████▌                                  | 715/1000 [04:31<02:05,  2.27it/s]"
     ]
    },
    {
     "name": "stdout",
     "output_type": "stream",
     "text": [
      "Step Limit Exceeded!\n"
     ]
    },
    {
     "name": "stderr",
     "output_type": "stream",
     "text": [
      "\r",
      " 72%|██████████████████████████████████████████████████████████████████████████████████████▋                                  | 716/1000 [04:31<02:06,  2.25it/s]"
     ]
    },
    {
     "name": "stdout",
     "output_type": "stream",
     "text": [
      "Step Limit Exceeded!\n"
     ]
    },
    {
     "name": "stderr",
     "output_type": "stream",
     "text": [
      "\r",
      " 72%|██████████████████████████████████████████████████████████████████████████████████████▊                                  | 717/1000 [04:32<02:05,  2.25it/s]"
     ]
    },
    {
     "name": "stdout",
     "output_type": "stream",
     "text": [
      "Step Limit Exceeded!\n"
     ]
    },
    {
     "name": "stderr",
     "output_type": "stream",
     "text": [
      "\r",
      " 72%|██████████████████████████████████████████████████████████████████████████████████████▉                                  | 718/1000 [04:32<02:05,  2.24it/s]"
     ]
    },
    {
     "name": "stdout",
     "output_type": "stream",
     "text": [
      "Step Limit Exceeded!\n"
     ]
    },
    {
     "name": "stderr",
     "output_type": "stream",
     "text": [
      "\r",
      " 72%|██████████████████████████████████████████████████████████████████████████████████████▉                                  | 719/1000 [04:33<02:05,  2.24it/s]"
     ]
    },
    {
     "name": "stdout",
     "output_type": "stream",
     "text": [
      "Step Limit Exceeded!\n"
     ]
    },
    {
     "name": "stderr",
     "output_type": "stream",
     "text": [
      "\r",
      " 72%|███████████████████████████████████████████████████████████████████████████████████████                                  | 720/1000 [04:33<02:05,  2.23it/s]"
     ]
    },
    {
     "name": "stdout",
     "output_type": "stream",
     "text": [
      "Step Limit Exceeded!\n"
     ]
    },
    {
     "name": "stderr",
     "output_type": "stream",
     "text": [
      "\r",
      " 72%|███████████████████████████████████████████████████████████████████████████████████████▏                                 | 721/1000 [04:34<02:05,  2.23it/s]"
     ]
    },
    {
     "name": "stdout",
     "output_type": "stream",
     "text": [
      "Step Limit Exceeded!\n"
     ]
    },
    {
     "name": "stderr",
     "output_type": "stream",
     "text": [
      "\r",
      " 72%|███████████████████████████████████████████████████████████████████████████████████████▎                                 | 722/1000 [04:34<02:04,  2.23it/s]"
     ]
    },
    {
     "name": "stdout",
     "output_type": "stream",
     "text": [
      "Step Limit Exceeded!\n"
     ]
    },
    {
     "name": "stderr",
     "output_type": "stream",
     "text": [
      "\r",
      " 72%|███████████████████████████████████████████████████████████████████████████████████████▍                                 | 723/1000 [04:34<02:04,  2.23it/s]"
     ]
    },
    {
     "name": "stdout",
     "output_type": "stream",
     "text": [
      "Step Limit Exceeded!\n"
     ]
    },
    {
     "name": "stderr",
     "output_type": "stream",
     "text": [
      "\r",
      " 72%|███████████████████████████████████████████████████████████████████████████████████████▌                                 | 724/1000 [04:35<02:03,  2.24it/s]"
     ]
    },
    {
     "name": "stdout",
     "output_type": "stream",
     "text": [
      "Step Limit Exceeded!\n"
     ]
    },
    {
     "name": "stderr",
     "output_type": "stream",
     "text": [
      "\r",
      " 72%|███████████████████████████████████████████████████████████████████████████████████████▋                                 | 725/1000 [04:35<02:02,  2.25it/s]"
     ]
    },
    {
     "name": "stdout",
     "output_type": "stream",
     "text": [
      "Step Limit Exceeded!\n"
     ]
    },
    {
     "name": "stderr",
     "output_type": "stream",
     "text": [
      "\r",
      " 73%|███████████████████████████████████████████████████████████████████████████████████████▊                                 | 726/1000 [04:36<02:01,  2.25it/s]"
     ]
    },
    {
     "name": "stdout",
     "output_type": "stream",
     "text": [
      "Step Limit Exceeded!\n"
     ]
    },
    {
     "name": "stderr",
     "output_type": "stream",
     "text": [
      "\r",
      " 73%|███████████████████████████████████████████████████████████████████████████████████████▉                                 | 727/1000 [04:36<02:00,  2.26it/s]"
     ]
    },
    {
     "name": "stdout",
     "output_type": "stream",
     "text": [
      "Step Limit Exceeded!\n"
     ]
    },
    {
     "name": "stderr",
     "output_type": "stream",
     "text": [
      "\r",
      " 73%|████████████████████████████████████████████████████████████████████████████████████████                                 | 728/1000 [04:37<02:00,  2.26it/s]"
     ]
    },
    {
     "name": "stdout",
     "output_type": "stream",
     "text": [
      "Step Limit Exceeded!\n"
     ]
    },
    {
     "name": "stderr",
     "output_type": "stream",
     "text": [
      "\r",
      " 73%|████████████████████████████████████████████████████████████████████████████████████████▏                                | 729/1000 [04:37<01:59,  2.26it/s]"
     ]
    },
    {
     "name": "stdout",
     "output_type": "stream",
     "text": [
      "Step Limit Exceeded!\n"
     ]
    },
    {
     "name": "stderr",
     "output_type": "stream",
     "text": [
      "\r",
      " 73%|████████████████████████████████████████████████████████████████████████████████████████▎                                | 730/1000 [04:38<01:59,  2.26it/s]"
     ]
    },
    {
     "name": "stdout",
     "output_type": "stream",
     "text": [
      "Step Limit Exceeded!\n"
     ]
    },
    {
     "name": "stderr",
     "output_type": "stream",
     "text": [
      "\r",
      " 73%|████████████████████████████████████████████████████████████████████████████████████████▍                                | 731/1000 [04:38<01:58,  2.27it/s]"
     ]
    },
    {
     "name": "stdout",
     "output_type": "stream",
     "text": [
      "Step Limit Exceeded!\n"
     ]
    },
    {
     "name": "stderr",
     "output_type": "stream",
     "text": [
      "\r",
      " 73%|████████████████████████████████████████████████████████████████████████████████████████▌                                | 732/1000 [04:38<01:58,  2.27it/s]"
     ]
    },
    {
     "name": "stdout",
     "output_type": "stream",
     "text": [
      "Step Limit Exceeded!\n"
     ]
    },
    {
     "name": "stderr",
     "output_type": "stream",
     "text": [
      "\r",
      " 73%|████████████████████████████████████████████████████████████████████████████████████████▋                                | 733/1000 [04:39<01:57,  2.26it/s]"
     ]
    },
    {
     "name": "stdout",
     "output_type": "stream",
     "text": [
      "Step Limit Exceeded!\n"
     ]
    },
    {
     "name": "stderr",
     "output_type": "stream",
     "text": [
      "\r",
      " 73%|████████████████████████████████████████████████████████████████████████████████████████▊                                | 734/1000 [04:39<01:57,  2.27it/s]"
     ]
    },
    {
     "name": "stdout",
     "output_type": "stream",
     "text": [
      "Step Limit Exceeded!\n"
     ]
    },
    {
     "name": "stderr",
     "output_type": "stream",
     "text": [
      "\r",
      " 74%|████████████████████████████████████████████████████████████████████████████████████████▉                                | 735/1000 [04:40<01:57,  2.26it/s]"
     ]
    },
    {
     "name": "stdout",
     "output_type": "stream",
     "text": [
      "Step Limit Exceeded!\n"
     ]
    },
    {
     "name": "stderr",
     "output_type": "stream",
     "text": [
      "\r",
      " 74%|█████████████████████████████████████████████████████████████████████████████████████████                                | 736/1000 [04:40<01:56,  2.26it/s]"
     ]
    },
    {
     "name": "stdout",
     "output_type": "stream",
     "text": [
      "Step Limit Exceeded!\n"
     ]
    },
    {
     "name": "stderr",
     "output_type": "stream",
     "text": [
      "\r",
      " 74%|█████████████████████████████████████████████████████████████████████████████████████████▏                               | 737/1000 [04:41<01:56,  2.26it/s]"
     ]
    },
    {
     "name": "stdout",
     "output_type": "stream",
     "text": [
      "Step Limit Exceeded!\n"
     ]
    },
    {
     "name": "stderr",
     "output_type": "stream",
     "text": [
      "\r",
      " 74%|█████████████████████████████████████████████████████████████████████████████████████████▎                               | 738/1000 [04:41<01:56,  2.25it/s]"
     ]
    },
    {
     "name": "stdout",
     "output_type": "stream",
     "text": [
      "Step Limit Exceeded!\n"
     ]
    },
    {
     "name": "stderr",
     "output_type": "stream",
     "text": [
      "\r",
      " 74%|█████████████████████████████████████████████████████████████████████████████████████████▍                               | 739/1000 [04:42<01:55,  2.25it/s]"
     ]
    },
    {
     "name": "stdout",
     "output_type": "stream",
     "text": [
      "Step Limit Exceeded!\n"
     ]
    },
    {
     "name": "stderr",
     "output_type": "stream",
     "text": [
      "\r",
      " 74%|█████████████████████████████████████████████████████████████████████████████████████████▌                               | 740/1000 [04:42<01:55,  2.26it/s]"
     ]
    },
    {
     "name": "stdout",
     "output_type": "stream",
     "text": [
      "Step Limit Exceeded!\n"
     ]
    },
    {
     "name": "stderr",
     "output_type": "stream",
     "text": [
      "\r",
      " 74%|█████████████████████████████████████████████████████████████████████████████████████████▋                               | 741/1000 [04:42<01:54,  2.26it/s]"
     ]
    },
    {
     "name": "stdout",
     "output_type": "stream",
     "text": [
      "Step Limit Exceeded!\n"
     ]
    },
    {
     "name": "stderr",
     "output_type": "stream",
     "text": [
      "\r",
      " 74%|█████████████████████████████████████████████████████████████████████████████████████████▊                               | 742/1000 [04:43<01:54,  2.25it/s]"
     ]
    },
    {
     "name": "stdout",
     "output_type": "stream",
     "text": [
      "Step Limit Exceeded!\n"
     ]
    },
    {
     "name": "stderr",
     "output_type": "stream",
     "text": [
      "\r",
      " 74%|█████████████████████████████████████████████████████████████████████████████████████████▉                               | 743/1000 [04:43<01:53,  2.26it/s]"
     ]
    },
    {
     "name": "stdout",
     "output_type": "stream",
     "text": [
      "Step Limit Exceeded!\n"
     ]
    },
    {
     "name": "stderr",
     "output_type": "stream",
     "text": [
      "\r",
      " 74%|██████████████████████████████████████████████████████████████████████████████████████████                               | 744/1000 [04:44<01:53,  2.26it/s]"
     ]
    },
    {
     "name": "stdout",
     "output_type": "stream",
     "text": [
      "Step Limit Exceeded!\n"
     ]
    },
    {
     "name": "stderr",
     "output_type": "stream",
     "text": [
      "\r",
      " 74%|██████████████████████████████████████████████████████████████████████████████████████████▏                              | 745/1000 [04:44<01:52,  2.26it/s]"
     ]
    },
    {
     "name": "stdout",
     "output_type": "stream",
     "text": [
      "Step Limit Exceeded!\n"
     ]
    },
    {
     "name": "stderr",
     "output_type": "stream",
     "text": [
      "\r",
      " 75%|██████████████████████████████████████████████████████████████████████████████████████████▎                              | 746/1000 [04:45<01:52,  2.27it/s]"
     ]
    },
    {
     "name": "stdout",
     "output_type": "stream",
     "text": [
      "Step Limit Exceeded!\n"
     ]
    },
    {
     "name": "stderr",
     "output_type": "stream",
     "text": [
      "\r",
      " 75%|██████████████████████████████████████████████████████████████████████████████████████████▍                              | 747/1000 [04:45<01:51,  2.27it/s]"
     ]
    },
    {
     "name": "stdout",
     "output_type": "stream",
     "text": [
      "Step Limit Exceeded!\n"
     ]
    },
    {
     "name": "stderr",
     "output_type": "stream",
     "text": [
      "\r",
      " 75%|██████████████████████████████████████████████████████████████████████████████████████████▌                              | 748/1000 [04:46<01:51,  2.27it/s]"
     ]
    },
    {
     "name": "stdout",
     "output_type": "stream",
     "text": [
      "Step Limit Exceeded!\n"
     ]
    },
    {
     "name": "stderr",
     "output_type": "stream",
     "text": [
      "\r",
      " 75%|██████████████████████████████████████████████████████████████████████████████████████████▋                              | 749/1000 [04:46<01:50,  2.27it/s]"
     ]
    },
    {
     "name": "stdout",
     "output_type": "stream",
     "text": [
      "Step Limit Exceeded!\n"
     ]
    },
    {
     "name": "stderr",
     "output_type": "stream",
     "text": [
      "\r",
      " 75%|██████████████████████████████████████████████████████████████████████████████████████████▊                              | 750/1000 [04:46<01:50,  2.26it/s]"
     ]
    },
    {
     "name": "stdout",
     "output_type": "stream",
     "text": [
      "Step Limit Exceeded!\n"
     ]
    },
    {
     "name": "stderr",
     "output_type": "stream",
     "text": [
      "\r",
      " 75%|██████████████████████████████████████████████████████████████████████████████████████████▊                              | 751/1000 [04:47<01:50,  2.26it/s]"
     ]
    },
    {
     "name": "stdout",
     "output_type": "stream",
     "text": [
      "Step Limit Exceeded!\n"
     ]
    },
    {
     "name": "stderr",
     "output_type": "stream",
     "text": [
      "\r",
      " 75%|██████████████████████████████████████████████████████████████████████████████████████████▉                              | 752/1000 [04:47<01:49,  2.27it/s]"
     ]
    },
    {
     "name": "stdout",
     "output_type": "stream",
     "text": [
      "Step Limit Exceeded!\n"
     ]
    },
    {
     "name": "stderr",
     "output_type": "stream",
     "text": [
      "\r",
      " 75%|███████████████████████████████████████████████████████████████████████████████████████████                              | 753/1000 [04:48<01:48,  2.27it/s]"
     ]
    },
    {
     "name": "stdout",
     "output_type": "stream",
     "text": [
      "Step Limit Exceeded!\n"
     ]
    },
    {
     "name": "stderr",
     "output_type": "stream",
     "text": [
      "\r",
      " 75%|███████████████████████████████████████████████████████████████████████████████████████████▏                             | 754/1000 [04:48<01:48,  2.28it/s]"
     ]
    },
    {
     "name": "stdout",
     "output_type": "stream",
     "text": [
      "Step Limit Exceeded!\n"
     ]
    },
    {
     "name": "stderr",
     "output_type": "stream",
     "text": [
      "\r",
      " 76%|███████████████████████████████████████████████████████████████████████████████████████████▎                             | 755/1000 [04:49<01:47,  2.28it/s]"
     ]
    },
    {
     "name": "stdout",
     "output_type": "stream",
     "text": [
      "Step Limit Exceeded!\n"
     ]
    },
    {
     "name": "stderr",
     "output_type": "stream",
     "text": [
      "\r",
      " 76%|███████████████████████████████████████████████████████████████████████████████████████████▍                             | 756/1000 [04:49<01:47,  2.28it/s]"
     ]
    },
    {
     "name": "stdout",
     "output_type": "stream",
     "text": [
      "Step Limit Exceeded!\n"
     ]
    },
    {
     "name": "stderr",
     "output_type": "stream",
     "text": [
      "\r",
      " 76%|███████████████████████████████████████████████████████████████████████████████████████████▌                             | 757/1000 [04:49<01:46,  2.28it/s]"
     ]
    },
    {
     "name": "stdout",
     "output_type": "stream",
     "text": [
      "Step Limit Exceeded!\n"
     ]
    },
    {
     "name": "stderr",
     "output_type": "stream",
     "text": [
      "\r",
      " 76%|███████████████████████████████████████████████████████████████████████████████████████████▋                             | 758/1000 [04:50<01:46,  2.28it/s]"
     ]
    },
    {
     "name": "stdout",
     "output_type": "stream",
     "text": [
      "Step Limit Exceeded!\n"
     ]
    },
    {
     "name": "stderr",
     "output_type": "stream",
     "text": [
      "\r",
      " 76%|███████████████████████████████████████████████████████████████████████████████████████████▊                             | 759/1000 [04:50<01:45,  2.28it/s]"
     ]
    },
    {
     "name": "stdout",
     "output_type": "stream",
     "text": [
      "Step Limit Exceeded!\n"
     ]
    },
    {
     "name": "stderr",
     "output_type": "stream",
     "text": [
      "\r",
      " 76%|███████████████████████████████████████████████████████████████████████████████████████████▉                             | 760/1000 [04:51<01:45,  2.28it/s]"
     ]
    },
    {
     "name": "stdout",
     "output_type": "stream",
     "text": [
      "Step Limit Exceeded!\n"
     ]
    },
    {
     "name": "stderr",
     "output_type": "stream",
     "text": [
      "\r",
      " 76%|████████████████████████████████████████████████████████████████████████████████████████████                             | 761/1000 [04:51<01:44,  2.28it/s]"
     ]
    },
    {
     "name": "stdout",
     "output_type": "stream",
     "text": [
      "Step Limit Exceeded!\n"
     ]
    },
    {
     "name": "stderr",
     "output_type": "stream",
     "text": [
      "\r",
      " 76%|████████████████████████████████████████████████████████████████████████████████████████████▏                            | 762/1000 [04:52<01:44,  2.28it/s]"
     ]
    },
    {
     "name": "stdout",
     "output_type": "stream",
     "text": [
      "Step Limit Exceeded!\n"
     ]
    },
    {
     "name": "stderr",
     "output_type": "stream",
     "text": [
      "\r",
      " 76%|████████████████████████████████████████████████████████████████████████████████████████████▎                            | 763/1000 [04:52<01:44,  2.27it/s]"
     ]
    },
    {
     "name": "stdout",
     "output_type": "stream",
     "text": [
      "Step Limit Exceeded!\n"
     ]
    },
    {
     "name": "stderr",
     "output_type": "stream",
     "text": [
      "\r",
      " 76%|████████████████████████████████████████████████████████████████████████████████████████████▍                            | 764/1000 [04:53<01:43,  2.27it/s]"
     ]
    },
    {
     "name": "stdout",
     "output_type": "stream",
     "text": [
      "Step Limit Exceeded!\n"
     ]
    },
    {
     "name": "stderr",
     "output_type": "stream",
     "text": [
      "\r",
      " 76%|████████████████████████████████████████████████████████████████████████████████████████████▌                            | 765/1000 [04:53<01:43,  2.27it/s]"
     ]
    },
    {
     "name": "stdout",
     "output_type": "stream",
     "text": [
      "Step Limit Exceeded!\n"
     ]
    },
    {
     "name": "stderr",
     "output_type": "stream",
     "text": [
      "\r",
      " 77%|████████████████████████████████████████████████████████████████████████████████████████████▋                            | 766/1000 [04:53<01:43,  2.27it/s]"
     ]
    },
    {
     "name": "stdout",
     "output_type": "stream",
     "text": [
      "Step Limit Exceeded!\n"
     ]
    },
    {
     "name": "stderr",
     "output_type": "stream",
     "text": [
      "\r",
      " 77%|████████████████████████████████████████████████████████████████████████████████████████████▊                            | 767/1000 [04:54<01:42,  2.27it/s]"
     ]
    },
    {
     "name": "stdout",
     "output_type": "stream",
     "text": [
      "Step Limit Exceeded!\n"
     ]
    },
    {
     "name": "stderr",
     "output_type": "stream",
     "text": [
      "\r",
      " 77%|████████████████████████████████████████████████████████████████████████████████████████████▉                            | 768/1000 [04:54<01:42,  2.26it/s]"
     ]
    },
    {
     "name": "stdout",
     "output_type": "stream",
     "text": [
      "Step Limit Exceeded!\n"
     ]
    },
    {
     "name": "stderr",
     "output_type": "stream",
     "text": [
      "\r",
      " 77%|█████████████████████████████████████████████████████████████████████████████████████████████                            | 769/1000 [04:55<01:42,  2.26it/s]"
     ]
    },
    {
     "name": "stdout",
     "output_type": "stream",
     "text": [
      "Step Limit Exceeded!\n"
     ]
    },
    {
     "name": "stderr",
     "output_type": "stream",
     "text": [
      "\r",
      " 77%|█████████████████████████████████████████████████████████████████████████████████████████████▏                           | 770/1000 [04:55<01:41,  2.26it/s]"
     ]
    },
    {
     "name": "stdout",
     "output_type": "stream",
     "text": [
      "Step Limit Exceeded!\n"
     ]
    },
    {
     "name": "stderr",
     "output_type": "stream",
     "text": [
      "\r",
      " 77%|█████████████████████████████████████████████████████████████████████████████████████████████▎                           | 771/1000 [04:56<01:41,  2.27it/s]"
     ]
    },
    {
     "name": "stdout",
     "output_type": "stream",
     "text": [
      "Step Limit Exceeded!\n"
     ]
    },
    {
     "name": "stderr",
     "output_type": "stream",
     "text": [
      "\r",
      " 77%|█████████████████████████████████████████████████████████████████████████████████████████████▍                           | 772/1000 [04:56<01:40,  2.27it/s]"
     ]
    },
    {
     "name": "stdout",
     "output_type": "stream",
     "text": [
      "Step Limit Exceeded!\n"
     ]
    },
    {
     "name": "stderr",
     "output_type": "stream",
     "text": [
      "\r",
      " 77%|█████████████████████████████████████████████████████████████████████████████████████████████▌                           | 773/1000 [04:57<01:39,  2.27it/s]"
     ]
    },
    {
     "name": "stdout",
     "output_type": "stream",
     "text": [
      "Step Limit Exceeded!\n"
     ]
    },
    {
     "name": "stderr",
     "output_type": "stream",
     "text": [
      "\r",
      " 77%|█████████████████████████████████████████████████████████████████████████████████████████████▋                           | 774/1000 [04:57<01:39,  2.27it/s]"
     ]
    },
    {
     "name": "stdout",
     "output_type": "stream",
     "text": [
      "Step Limit Exceeded!\n"
     ]
    },
    {
     "name": "stderr",
     "output_type": "stream",
     "text": [
      "\r",
      " 78%|█████████████████████████████████████████████████████████████████████████████████████████████▊                           | 775/1000 [04:57<01:39,  2.27it/s]"
     ]
    },
    {
     "name": "stdout",
     "output_type": "stream",
     "text": [
      "Step Limit Exceeded!\n"
     ]
    },
    {
     "name": "stderr",
     "output_type": "stream",
     "text": [
      "\r",
      " 78%|█████████████████████████████████████████████████████████████████████████████████████████████▉                           | 776/1000 [04:58<01:38,  2.27it/s]"
     ]
    },
    {
     "name": "stdout",
     "output_type": "stream",
     "text": [
      "Step Limit Exceeded!\n"
     ]
    },
    {
     "name": "stderr",
     "output_type": "stream",
     "text": [
      "\r",
      " 78%|██████████████████████████████████████████████████████████████████████████████████████████████                           | 777/1000 [04:58<01:38,  2.27it/s]"
     ]
    },
    {
     "name": "stdout",
     "output_type": "stream",
     "text": [
      "Step Limit Exceeded!\n"
     ]
    },
    {
     "name": "stderr",
     "output_type": "stream",
     "text": [
      "\r",
      " 78%|██████████████████████████████████████████████████████████████████████████████████████████████▏                          | 778/1000 [04:59<01:37,  2.27it/s]"
     ]
    },
    {
     "name": "stdout",
     "output_type": "stream",
     "text": [
      "Step Limit Exceeded!\n"
     ]
    },
    {
     "name": "stderr",
     "output_type": "stream",
     "text": [
      "\r",
      " 78%|██████████████████████████████████████████████████████████████████████████████████████████████▎                          | 779/1000 [04:59<01:37,  2.27it/s]"
     ]
    },
    {
     "name": "stdout",
     "output_type": "stream",
     "text": [
      "Step Limit Exceeded!\n"
     ]
    },
    {
     "name": "stderr",
     "output_type": "stream",
     "text": [
      "\r",
      " 78%|██████████████████████████████████████████████████████████████████████████████████████████████▍                          | 780/1000 [05:00<01:36,  2.28it/s]"
     ]
    },
    {
     "name": "stdout",
     "output_type": "stream",
     "text": [
      "Step Limit Exceeded!\n"
     ]
    },
    {
     "name": "stderr",
     "output_type": "stream",
     "text": [
      "\r",
      " 78%|██████████████████████████████████████████████████████████████████████████████████████████████▌                          | 781/1000 [05:00<01:36,  2.28it/s]"
     ]
    },
    {
     "name": "stdout",
     "output_type": "stream",
     "text": [
      "Step Limit Exceeded!\n"
     ]
    },
    {
     "name": "stderr",
     "output_type": "stream",
     "text": [
      "\r",
      " 78%|██████████████████████████████████████████████████████████████████████████████████████████████▌                          | 782/1000 [05:00<01:35,  2.28it/s]"
     ]
    },
    {
     "name": "stdout",
     "output_type": "stream",
     "text": [
      "Step Limit Exceeded!\n"
     ]
    },
    {
     "name": "stderr",
     "output_type": "stream",
     "text": [
      "\r",
      " 78%|██████████████████████████████████████████████████████████████████████████████████████████████▋                          | 783/1000 [05:01<01:35,  2.28it/s]"
     ]
    },
    {
     "name": "stdout",
     "output_type": "stream",
     "text": [
      "Step Limit Exceeded!\n"
     ]
    },
    {
     "name": "stderr",
     "output_type": "stream",
     "text": [
      "\r",
      " 78%|██████████████████████████████████████████████████████████████████████████████████████████████▊                          | 784/1000 [05:01<01:34,  2.28it/s]"
     ]
    },
    {
     "name": "stdout",
     "output_type": "stream",
     "text": [
      "Step Limit Exceeded!\n"
     ]
    },
    {
     "name": "stderr",
     "output_type": "stream",
     "text": [
      "\r",
      " 78%|██████████████████████████████████████████████████████████████████████████████████████████████▉                          | 785/1000 [05:02<01:34,  2.28it/s]"
     ]
    },
    {
     "name": "stdout",
     "output_type": "stream",
     "text": [
      "Step Limit Exceeded!\n"
     ]
    },
    {
     "name": "stderr",
     "output_type": "stream",
     "text": [
      "\r",
      " 79%|███████████████████████████████████████████████████████████████████████████████████████████████                          | 786/1000 [05:02<01:33,  2.28it/s]"
     ]
    },
    {
     "name": "stdout",
     "output_type": "stream",
     "text": [
      "Step Limit Exceeded!\n"
     ]
    },
    {
     "name": "stderr",
     "output_type": "stream",
     "text": [
      "\r",
      " 79%|███████████████████████████████████████████████████████████████████████████████████████████████▏                         | 787/1000 [05:03<01:33,  2.28it/s]"
     ]
    },
    {
     "name": "stdout",
     "output_type": "stream",
     "text": [
      "Step Limit Exceeded!\n"
     ]
    },
    {
     "name": "stderr",
     "output_type": "stream",
     "text": [
      "\r",
      " 79%|███████████████████████████████████████████████████████████████████████████████████████████████▎                         | 788/1000 [05:03<01:33,  2.27it/s]"
     ]
    },
    {
     "name": "stdout",
     "output_type": "stream",
     "text": [
      "Step Limit Exceeded!\n"
     ]
    },
    {
     "name": "stderr",
     "output_type": "stream",
     "text": [
      "\r",
      " 79%|███████████████████████████████████████████████████████████████████████████████████████████████▍                         | 789/1000 [05:04<01:33,  2.26it/s]"
     ]
    },
    {
     "name": "stdout",
     "output_type": "stream",
     "text": [
      "Step Limit Exceeded!\n"
     ]
    },
    {
     "name": "stderr",
     "output_type": "stream",
     "text": [
      "\r",
      " 79%|███████████████████████████████████████████████████████████████████████████████████████████████▌                         | 790/1000 [05:04<01:32,  2.27it/s]"
     ]
    },
    {
     "name": "stdout",
     "output_type": "stream",
     "text": [
      "Step Limit Exceeded!\n"
     ]
    },
    {
     "name": "stderr",
     "output_type": "stream",
     "text": [
      "\r",
      " 79%|███████████████████████████████████████████████████████████████████████████████████████████████▋                         | 791/1000 [05:04<01:33,  2.24it/s]"
     ]
    },
    {
     "name": "stdout",
     "output_type": "stream",
     "text": [
      "Step Limit Exceeded!\n"
     ]
    },
    {
     "name": "stderr",
     "output_type": "stream",
     "text": [
      "\r",
      " 79%|███████████████████████████████████████████████████████████████████████████████████████████████▊                         | 792/1000 [05:05<01:33,  2.23it/s]"
     ]
    },
    {
     "name": "stdout",
     "output_type": "stream",
     "text": [
      "Step Limit Exceeded!\n"
     ]
    },
    {
     "name": "stderr",
     "output_type": "stream",
     "text": [
      "\r",
      " 79%|███████████████████████████████████████████████████████████████████████████████████████████████▉                         | 793/1000 [05:05<01:33,  2.21it/s]"
     ]
    },
    {
     "name": "stdout",
     "output_type": "stream",
     "text": [
      "Step Limit Exceeded!\n"
     ]
    },
    {
     "name": "stderr",
     "output_type": "stream",
     "text": [
      "\r",
      " 79%|████████████████████████████████████████████████████████████████████████████████████████████████                         | 794/1000 [05:06<01:32,  2.22it/s]"
     ]
    },
    {
     "name": "stdout",
     "output_type": "stream",
     "text": [
      "Step Limit Exceeded!\n"
     ]
    },
    {
     "name": "stderr",
     "output_type": "stream",
     "text": [
      "\r",
      " 80%|████████████████████████████████████████████████████████████████████████████████████████████████▏                        | 795/1000 [05:06<01:33,  2.20it/s]"
     ]
    },
    {
     "name": "stdout",
     "output_type": "stream",
     "text": [
      "Step Limit Exceeded!\n"
     ]
    },
    {
     "name": "stderr",
     "output_type": "stream",
     "text": [
      "\r",
      " 80%|████████████████████████████████████████████████████████████████████████████████████████████████▎                        | 796/1000 [05:07<01:33,  2.17it/s]"
     ]
    },
    {
     "name": "stdout",
     "output_type": "stream",
     "text": [
      "Step Limit Exceeded!\n"
     ]
    },
    {
     "name": "stderr",
     "output_type": "stream",
     "text": [
      "\r",
      " 80%|████████████████████████████████████████████████████████████████████████████████████████████████▍                        | 797/1000 [05:07<01:33,  2.17it/s]"
     ]
    },
    {
     "name": "stdout",
     "output_type": "stream",
     "text": [
      "Step Limit Exceeded!\n"
     ]
    },
    {
     "name": "stderr",
     "output_type": "stream",
     "text": [
      "\r",
      " 80%|████████████████████████████████████████████████████████████████████████████████████████████████▌                        | 798/1000 [05:08<01:32,  2.19it/s]"
     ]
    },
    {
     "name": "stdout",
     "output_type": "stream",
     "text": [
      "Step Limit Exceeded!\n"
     ]
    },
    {
     "name": "stderr",
     "output_type": "stream",
     "text": [
      "\r",
      " 80%|████████████████████████████████████████████████████████████████████████████████████████████████▋                        | 799/1000 [05:08<01:31,  2.20it/s]"
     ]
    },
    {
     "name": "stdout",
     "output_type": "stream",
     "text": [
      "Step Limit Exceeded!\n"
     ]
    },
    {
     "name": "stderr",
     "output_type": "stream",
     "text": [
      "\r",
      " 80%|████████████████████████████████████████████████████████████████████████████████████████████████▊                        | 800/1000 [05:09<01:30,  2.22it/s]"
     ]
    },
    {
     "name": "stdout",
     "output_type": "stream",
     "text": [
      "Step Limit Exceeded!\n"
     ]
    },
    {
     "name": "stderr",
     "output_type": "stream",
     "text": [
      "\r",
      " 80%|████████████████████████████████████████████████████████████████████████████████████████████████▉                        | 801/1000 [05:09<01:29,  2.23it/s]"
     ]
    },
    {
     "name": "stdout",
     "output_type": "stream",
     "text": [
      "Step Limit Exceeded!\n"
     ]
    },
    {
     "name": "stderr",
     "output_type": "stream",
     "text": [
      "\r",
      " 80%|█████████████████████████████████████████████████████████████████████████████████████████████████                        | 802/1000 [05:09<01:28,  2.24it/s]"
     ]
    },
    {
     "name": "stdout",
     "output_type": "stream",
     "text": [
      "Step Limit Exceeded!\n"
     ]
    },
    {
     "name": "stderr",
     "output_type": "stream",
     "text": [
      "\r",
      " 80%|█████████████████████████████████████████████████████████████████████████████████████████████████▏                       | 803/1000 [05:10<01:27,  2.25it/s]"
     ]
    },
    {
     "name": "stdout",
     "output_type": "stream",
     "text": [
      "Step Limit Exceeded!\n"
     ]
    },
    {
     "name": "stderr",
     "output_type": "stream",
     "text": [
      "\r",
      " 80%|█████████████████████████████████████████████████████████████████████████████████████████████████▎                       | 804/1000 [05:10<01:26,  2.26it/s]"
     ]
    },
    {
     "name": "stdout",
     "output_type": "stream",
     "text": [
      "Step Limit Exceeded!\n"
     ]
    },
    {
     "name": "stderr",
     "output_type": "stream",
     "text": [
      "\r",
      " 80%|█████████████████████████████████████████████████████████████████████████████████████████████████▍                       | 805/1000 [05:11<01:26,  2.26it/s]"
     ]
    },
    {
     "name": "stdout",
     "output_type": "stream",
     "text": [
      "Step Limit Exceeded!\n"
     ]
    },
    {
     "name": "stderr",
     "output_type": "stream",
     "text": [
      "\r",
      " 81%|█████████████████████████████████████████████████████████████████████████████████████████████████▌                       | 806/1000 [05:11<01:27,  2.21it/s]"
     ]
    },
    {
     "name": "stdout",
     "output_type": "stream",
     "text": [
      "Step Limit Exceeded!\n"
     ]
    },
    {
     "name": "stderr",
     "output_type": "stream",
     "text": [
      "\r",
      " 81%|█████████████████████████████████████████████████████████████████████████████████████████████████▋                       | 807/1000 [05:12<01:26,  2.23it/s]"
     ]
    },
    {
     "name": "stdout",
     "output_type": "stream",
     "text": [
      "Step Limit Exceeded!\n"
     ]
    },
    {
     "name": "stderr",
     "output_type": "stream",
     "text": [
      "\r",
      " 81%|█████████████████████████████████████████████████████████████████████████████████████████████████▊                       | 808/1000 [05:12<01:25,  2.23it/s]"
     ]
    },
    {
     "name": "stdout",
     "output_type": "stream",
     "text": [
      "Step Limit Exceeded!\n"
     ]
    },
    {
     "name": "stderr",
     "output_type": "stream",
     "text": [
      "\r",
      " 81%|█████████████████████████████████████████████████████████████████████████████████████████████████▉                       | 809/1000 [05:13<01:26,  2.21it/s]"
     ]
    },
    {
     "name": "stdout",
     "output_type": "stream",
     "text": [
      "Step Limit Exceeded!\n"
     ]
    },
    {
     "name": "stderr",
     "output_type": "stream",
     "text": [
      "\r",
      " 81%|██████████████████████████████████████████████████████████████████████████████████████████████████                       | 810/1000 [05:13<01:29,  2.11it/s]"
     ]
    },
    {
     "name": "stdout",
     "output_type": "stream",
     "text": [
      "Step Limit Exceeded!\n"
     ]
    },
    {
     "name": "stderr",
     "output_type": "stream",
     "text": [
      "\r",
      " 81%|██████████████████████████████████████████████████████████████████████████████████████████████████▏                      | 811/1000 [05:14<01:32,  2.05it/s]"
     ]
    },
    {
     "name": "stdout",
     "output_type": "stream",
     "text": [
      "Step Limit Exceeded!\n"
     ]
    },
    {
     "name": "stderr",
     "output_type": "stream",
     "text": [
      "\r",
      " 81%|██████████████████████████████████████████████████████████████████████████████████████████████████▎                      | 812/1000 [05:14<01:29,  2.10it/s]"
     ]
    },
    {
     "name": "stdout",
     "output_type": "stream",
     "text": [
      "Step Limit Exceeded!\n"
     ]
    },
    {
     "name": "stderr",
     "output_type": "stream",
     "text": [
      "\r",
      " 81%|██████████████████████████████████████████████████████████████████████████████████████████████████▎                      | 813/1000 [05:15<01:29,  2.08it/s]"
     ]
    },
    {
     "name": "stdout",
     "output_type": "stream",
     "text": [
      "Step Limit Exceeded!\n"
     ]
    },
    {
     "name": "stderr",
     "output_type": "stream",
     "text": [
      "\r",
      " 81%|██████████████████████████████████████████████████████████████████████████████████████████████████▍                      | 814/1000 [05:15<01:28,  2.10it/s]"
     ]
    },
    {
     "name": "stdout",
     "output_type": "stream",
     "text": [
      "Step Limit Exceeded!\n"
     ]
    },
    {
     "name": "stderr",
     "output_type": "stream",
     "text": [
      "\r",
      " 82%|██████████████████████████████████████████████████████████████████████████████████████████████████▌                      | 815/1000 [05:15<01:26,  2.14it/s]"
     ]
    },
    {
     "name": "stdout",
     "output_type": "stream",
     "text": [
      "Step Limit Exceeded!\n"
     ]
    },
    {
     "name": "stderr",
     "output_type": "stream",
     "text": [
      "\r",
      " 82%|██████████████████████████████████████████████████████████████████████████████████████████████████▋                      | 816/1000 [05:16<01:24,  2.17it/s]"
     ]
    },
    {
     "name": "stdout",
     "output_type": "stream",
     "text": [
      "Step Limit Exceeded!\n"
     ]
    },
    {
     "name": "stderr",
     "output_type": "stream",
     "text": [
      "\r",
      " 82%|██████████████████████████████████████████████████████████████████████████████████████████████████▊                      | 817/1000 [05:16<01:23,  2.19it/s]"
     ]
    },
    {
     "name": "stdout",
     "output_type": "stream",
     "text": [
      "Step Limit Exceeded!\n"
     ]
    },
    {
     "name": "stderr",
     "output_type": "stream",
     "text": [
      "\r",
      " 82%|██████████████████████████████████████████████████████████████████████████████████████████████████▉                      | 818/1000 [05:17<01:22,  2.20it/s]"
     ]
    },
    {
     "name": "stdout",
     "output_type": "stream",
     "text": [
      "Step Limit Exceeded!\n"
     ]
    },
    {
     "name": "stderr",
     "output_type": "stream",
     "text": [
      "\r",
      " 82%|███████████████████████████████████████████████████████████████████████████████████████████████████                      | 819/1000 [05:17<01:21,  2.22it/s]"
     ]
    },
    {
     "name": "stdout",
     "output_type": "stream",
     "text": [
      "Step Limit Exceeded!\n"
     ]
    },
    {
     "name": "stderr",
     "output_type": "stream",
     "text": [
      "\r",
      " 82%|███████████████████████████████████████████████████████████████████████████████████████████████████▏                     | 820/1000 [05:18<01:20,  2.23it/s]"
     ]
    },
    {
     "name": "stdout",
     "output_type": "stream",
     "text": [
      "Step Limit Exceeded!\n"
     ]
    },
    {
     "name": "stderr",
     "output_type": "stream",
     "text": [
      "\r",
      " 82%|███████████████████████████████████████████████████████████████████████████████████████████████████▎                     | 821/1000 [05:18<01:19,  2.24it/s]"
     ]
    },
    {
     "name": "stdout",
     "output_type": "stream",
     "text": [
      "Step Limit Exceeded!\n"
     ]
    },
    {
     "name": "stderr",
     "output_type": "stream",
     "text": [
      "\r",
      " 82%|███████████████████████████████████████████████████████████████████████████████████████████████████▍                     | 822/1000 [05:19<01:19,  2.25it/s]"
     ]
    },
    {
     "name": "stdout",
     "output_type": "stream",
     "text": [
      "Step Limit Exceeded!\n"
     ]
    },
    {
     "name": "stderr",
     "output_type": "stream",
     "text": [
      "\r",
      " 82%|███████████████████████████████████████████████████████████████████████████████████████████████████▌                     | 823/1000 [05:19<01:18,  2.25it/s]"
     ]
    },
    {
     "name": "stdout",
     "output_type": "stream",
     "text": [
      "Step Limit Exceeded!\n"
     ]
    },
    {
     "name": "stderr",
     "output_type": "stream",
     "text": [
      "\r",
      " 82%|███████████████████████████████████████████████████████████████████████████████████████████████████▋                     | 824/1000 [05:19<01:18,  2.25it/s]"
     ]
    },
    {
     "name": "stdout",
     "output_type": "stream",
     "text": [
      "Step Limit Exceeded!\n"
     ]
    },
    {
     "name": "stderr",
     "output_type": "stream",
     "text": [
      "\r",
      " 82%|███████████████████████████████████████████████████████████████████████████████████████████████████▊                     | 825/1000 [05:20<01:19,  2.21it/s]"
     ]
    },
    {
     "name": "stdout",
     "output_type": "stream",
     "text": [
      "Step Limit Exceeded!\n"
     ]
    },
    {
     "name": "stderr",
     "output_type": "stream",
     "text": [
      "\r",
      " 83%|███████████████████████████████████████████████████████████████████████████████████████████████████▉                     | 826/1000 [05:20<01:19,  2.18it/s]"
     ]
    },
    {
     "name": "stdout",
     "output_type": "stream",
     "text": [
      "Step Limit Exceeded!\n"
     ]
    },
    {
     "name": "stderr",
     "output_type": "stream",
     "text": [
      "\r",
      " 83%|████████████████████████████████████████████████████████████████████████████████████████████████████                     | 827/1000 [05:21<01:18,  2.20it/s]"
     ]
    },
    {
     "name": "stdout",
     "output_type": "stream",
     "text": [
      "Step Limit Exceeded!\n"
     ]
    },
    {
     "name": "stderr",
     "output_type": "stream",
     "text": [
      "\r",
      " 83%|████████████████████████████████████████████████████████████████████████████████████████████████████▏                    | 828/1000 [05:21<01:18,  2.18it/s]"
     ]
    },
    {
     "name": "stdout",
     "output_type": "stream",
     "text": [
      "Step Limit Exceeded!\n"
     ]
    },
    {
     "name": "stderr",
     "output_type": "stream",
     "text": [
      "\r",
      " 83%|████████████████████████████████████████████████████████████████████████████████████████████████████▎                    | 829/1000 [05:22<01:17,  2.20it/s]"
     ]
    },
    {
     "name": "stdout",
     "output_type": "stream",
     "text": [
      "Step Limit Exceeded!\n"
     ]
    },
    {
     "name": "stderr",
     "output_type": "stream",
     "text": [
      "\r",
      " 83%|████████████████████████████████████████████████████████████████████████████████████████████████████▍                    | 830/1000 [05:22<01:16,  2.22it/s]"
     ]
    },
    {
     "name": "stdout",
     "output_type": "stream",
     "text": [
      "Step Limit Exceeded!\n"
     ]
    },
    {
     "name": "stderr",
     "output_type": "stream",
     "text": [
      "\r",
      " 83%|████████████████████████████████████████████████████████████████████████████████████████████████████▌                    | 831/1000 [05:23<01:16,  2.21it/s]"
     ]
    },
    {
     "name": "stdout",
     "output_type": "stream",
     "text": [
      "Step Limit Exceeded!\n"
     ]
    },
    {
     "name": "stderr",
     "output_type": "stream",
     "text": [
      "\r",
      " 83%|████████████████████████████████████████████████████████████████████████████████████████████████████▋                    | 832/1000 [05:23<01:16,  2.20it/s]"
     ]
    },
    {
     "name": "stdout",
     "output_type": "stream",
     "text": [
      "Step Limit Exceeded!\n"
     ]
    },
    {
     "name": "stderr",
     "output_type": "stream",
     "text": [
      "\r",
      " 83%|████████████████████████████████████████████████████████████████████████████████████████████████████▊                    | 833/1000 [05:24<01:15,  2.21it/s]"
     ]
    },
    {
     "name": "stdout",
     "output_type": "stream",
     "text": [
      "Step Limit Exceeded!\n"
     ]
    },
    {
     "name": "stderr",
     "output_type": "stream",
     "text": [
      "\r",
      " 83%|████████████████████████████████████████████████████████████████████████████████████████████████████▉                    | 834/1000 [05:24<01:15,  2.21it/s]"
     ]
    },
    {
     "name": "stdout",
     "output_type": "stream",
     "text": [
      "Step Limit Exceeded!\n"
     ]
    },
    {
     "name": "stderr",
     "output_type": "stream",
     "text": [
      "\r",
      " 84%|█████████████████████████████████████████████████████████████████████████████████████████████████████                    | 835/1000 [05:24<01:14,  2.20it/s]"
     ]
    },
    {
     "name": "stdout",
     "output_type": "stream",
     "text": [
      "Step Limit Exceeded!\n"
     ]
    },
    {
     "name": "stderr",
     "output_type": "stream",
     "text": [
      "\r",
      " 84%|█████████████████████████████████████████████████████████████████████████████████████████████████████▏                   | 836/1000 [05:25<01:15,  2.18it/s]"
     ]
    },
    {
     "name": "stdout",
     "output_type": "stream",
     "text": [
      "Step Limit Exceeded!\n"
     ]
    },
    {
     "name": "stderr",
     "output_type": "stream",
     "text": [
      "\r",
      " 84%|█████████████████████████████████████████████████████████████████████████████████████████████████████▎                   | 837/1000 [05:25<01:15,  2.17it/s]"
     ]
    },
    {
     "name": "stdout",
     "output_type": "stream",
     "text": [
      "Step Limit Exceeded!\n"
     ]
    },
    {
     "name": "stderr",
     "output_type": "stream",
     "text": [
      "\r",
      " 84%|█████████████████████████████████████████████████████████████████████████████████████████████████████▍                   | 838/1000 [05:26<01:14,  2.18it/s]"
     ]
    },
    {
     "name": "stdout",
     "output_type": "stream",
     "text": [
      "Step Limit Exceeded!\n"
     ]
    },
    {
     "name": "stderr",
     "output_type": "stream",
     "text": [
      "\r",
      " 84%|█████████████████████████████████████████████████████████████████████████████████████████████████████▌                   | 839/1000 [05:26<01:13,  2.18it/s]"
     ]
    },
    {
     "name": "stdout",
     "output_type": "stream",
     "text": [
      "Step Limit Exceeded!\n"
     ]
    },
    {
     "name": "stderr",
     "output_type": "stream",
     "text": [
      "\r",
      " 84%|█████████████████████████████████████████████████████████████████████████████████████████████████████▋                   | 840/1000 [05:27<01:12,  2.20it/s]"
     ]
    },
    {
     "name": "stdout",
     "output_type": "stream",
     "text": [
      "Step Limit Exceeded!\n"
     ]
    },
    {
     "name": "stderr",
     "output_type": "stream",
     "text": [
      "\r",
      " 84%|█████████████████████████████████████████████████████████████████████████████████████████████████████▊                   | 841/1000 [05:27<01:12,  2.19it/s]"
     ]
    },
    {
     "name": "stdout",
     "output_type": "stream",
     "text": [
      "Step Limit Exceeded!\n"
     ]
    },
    {
     "name": "stderr",
     "output_type": "stream",
     "text": [
      "\r",
      " 84%|█████████████████████████████████████████████████████████████████████████████████████████████████████▉                   | 842/1000 [05:28<01:14,  2.13it/s]"
     ]
    },
    {
     "name": "stdout",
     "output_type": "stream",
     "text": [
      "Step Limit Exceeded!\n"
     ]
    },
    {
     "name": "stderr",
     "output_type": "stream",
     "text": [
      "\r",
      " 84%|██████████████████████████████████████████████████████████████████████████████████████████████████████                   | 843/1000 [05:28<01:15,  2.08it/s]"
     ]
    },
    {
     "name": "stdout",
     "output_type": "stream",
     "text": [
      "Step Limit Exceeded!\n"
     ]
    },
    {
     "name": "stderr",
     "output_type": "stream",
     "text": [
      "\r",
      " 84%|██████████████████████████████████████████████████████████████████████████████████████████████████████                   | 844/1000 [05:29<01:15,  2.07it/s]"
     ]
    },
    {
     "name": "stdout",
     "output_type": "stream",
     "text": [
      "Step Limit Exceeded!\n"
     ]
    },
    {
     "name": "stderr",
     "output_type": "stream",
     "text": [
      "\r",
      " 84%|██████████████████████████████████████████████████████████████████████████████████████████████████████▏                  | 845/1000 [05:29<01:13,  2.10it/s]"
     ]
    },
    {
     "name": "stdout",
     "output_type": "stream",
     "text": [
      "Step Limit Exceeded!\n"
     ]
    },
    {
     "name": "stderr",
     "output_type": "stream",
     "text": [
      "\r",
      " 85%|██████████████████████████████████████████████████████████████████████████████████████████████████████▎                  | 846/1000 [05:30<01:14,  2.07it/s]"
     ]
    },
    {
     "name": "stdout",
     "output_type": "stream",
     "text": [
      "Step Limit Exceeded!\n"
     ]
    },
    {
     "name": "stderr",
     "output_type": "stream",
     "text": [
      "\r",
      " 85%|██████████████████████████████████████████████████████████████████████████████████████████████████████▍                  | 847/1000 [05:30<01:14,  2.05it/s]"
     ]
    },
    {
     "name": "stdout",
     "output_type": "stream",
     "text": [
      "Step Limit Exceeded!\n"
     ]
    },
    {
     "name": "stderr",
     "output_type": "stream",
     "text": [
      "\r",
      " 85%|██████████████████████████████████████████████████████████████████████████████████████████████████████▌                  | 848/1000 [05:31<01:13,  2.08it/s]"
     ]
    },
    {
     "name": "stdout",
     "output_type": "stream",
     "text": [
      "Step Limit Exceeded!\n"
     ]
    },
    {
     "name": "stderr",
     "output_type": "stream",
     "text": [
      "\r",
      " 85%|██████████████████████████████████████████████████████████████████████████████████████████████████████▋                  | 849/1000 [05:31<01:12,  2.09it/s]"
     ]
    },
    {
     "name": "stdout",
     "output_type": "stream",
     "text": [
      "Step Limit Exceeded!\n"
     ]
    },
    {
     "name": "stderr",
     "output_type": "stream",
     "text": [
      "\r",
      " 85%|██████████████████████████████████████████████████████████████████████████████████████████████████████▊                  | 850/1000 [05:32<01:10,  2.14it/s]"
     ]
    },
    {
     "name": "stdout",
     "output_type": "stream",
     "text": [
      "Step Limit Exceeded!\n"
     ]
    },
    {
     "name": "stderr",
     "output_type": "stream",
     "text": [
      "\r",
      " 85%|██████████████████████████████████████████████████████████████████████████████████████████████████████▉                  | 851/1000 [05:32<01:09,  2.14it/s]"
     ]
    },
    {
     "name": "stdout",
     "output_type": "stream",
     "text": [
      "Step Limit Exceeded!\n"
     ]
    },
    {
     "name": "stderr",
     "output_type": "stream",
     "text": [
      "\r",
      " 85%|███████████████████████████████████████████████████████████████████████████████████████████████████████                  | 852/1000 [05:33<01:10,  2.10it/s]"
     ]
    },
    {
     "name": "stdout",
     "output_type": "stream",
     "text": [
      "Step Limit Exceeded!\n"
     ]
    },
    {
     "name": "stderr",
     "output_type": "stream",
     "text": [
      "\r",
      " 85%|███████████████████████████████████████████████████████████████████████████████████████████████████████▏                 | 853/1000 [05:33<01:11,  2.05it/s]"
     ]
    },
    {
     "name": "stdout",
     "output_type": "stream",
     "text": [
      "Step Limit Exceeded!\n"
     ]
    },
    {
     "name": "stderr",
     "output_type": "stream",
     "text": [
      "\r",
      " 85%|███████████████████████████████████████████████████████████████████████████████████████████████████████▎                 | 854/1000 [05:34<01:12,  2.03it/s]"
     ]
    },
    {
     "name": "stdout",
     "output_type": "stream",
     "text": [
      "Step Limit Exceeded!\n"
     ]
    },
    {
     "name": "stderr",
     "output_type": "stream",
     "text": [
      "\r",
      " 86%|███████████████████████████████████████████████████████████████████████████████████████████████████████▍                 | 855/1000 [05:34<01:10,  2.06it/s]"
     ]
    },
    {
     "name": "stdout",
     "output_type": "stream",
     "text": [
      "Step Limit Exceeded!\n"
     ]
    },
    {
     "name": "stderr",
     "output_type": "stream",
     "text": [
      "\r",
      " 86%|███████████████████████████████████████████████████████████████████████████████████████████████████████▌                 | 856/1000 [05:35<01:09,  2.08it/s]"
     ]
    },
    {
     "name": "stdout",
     "output_type": "stream",
     "text": [
      "Step Limit Exceeded!\n"
     ]
    },
    {
     "name": "stderr",
     "output_type": "stream",
     "text": [
      "\r",
      " 86%|███████████████████████████████████████████████████████████████████████████████████████████████████████▋                 | 857/1000 [05:35<01:07,  2.13it/s]"
     ]
    },
    {
     "name": "stdout",
     "output_type": "stream",
     "text": [
      "Step Limit Exceeded!\n"
     ]
    },
    {
     "name": "stderr",
     "output_type": "stream",
     "text": [
      "\r",
      " 86%|███████████████████████████████████████████████████████████████████████████████████████████████████████▊                 | 858/1000 [05:35<01:06,  2.14it/s]"
     ]
    },
    {
     "name": "stdout",
     "output_type": "stream",
     "text": [
      "Step Limit Exceeded!\n"
     ]
    },
    {
     "name": "stderr",
     "output_type": "stream",
     "text": [
      "\r",
      " 86%|███████████████████████████████████████████████████████████████████████████████████████████████████████▉                 | 859/1000 [05:36<01:06,  2.13it/s]"
     ]
    },
    {
     "name": "stdout",
     "output_type": "stream",
     "text": [
      "Step Limit Exceeded!\n"
     ]
    },
    {
     "name": "stderr",
     "output_type": "stream",
     "text": [
      "\r",
      " 86%|████████████████████████████████████████████████████████████████████████████████████████████████████████                 | 860/1000 [05:36<01:05,  2.15it/s]"
     ]
    },
    {
     "name": "stdout",
     "output_type": "stream",
     "text": [
      "Step Limit Exceeded!\n"
     ]
    },
    {
     "name": "stderr",
     "output_type": "stream",
     "text": [
      "\r",
      " 86%|████████████████████████████████████████████████████████████████████████████████████████████████████████▏                | 861/1000 [05:37<01:04,  2.16it/s]"
     ]
    },
    {
     "name": "stdout",
     "output_type": "stream",
     "text": [
      "Step Limit Exceeded!\n"
     ]
    },
    {
     "name": "stderr",
     "output_type": "stream",
     "text": [
      "\r",
      " 86%|████████████████████████████████████████████████████████████████████████████████████████████████████████▎                | 862/1000 [05:37<01:03,  2.17it/s]"
     ]
    },
    {
     "name": "stdout",
     "output_type": "stream",
     "text": [
      "Step Limit Exceeded!\n"
     ]
    },
    {
     "name": "stderr",
     "output_type": "stream",
     "text": [
      "\r",
      " 86%|████████████████████████████████████████████████████████████████████████████████████████████████████████▍                | 863/1000 [05:38<01:02,  2.20it/s]"
     ]
    },
    {
     "name": "stdout",
     "output_type": "stream",
     "text": [
      "Step Limit Exceeded!\n"
     ]
    },
    {
     "name": "stderr",
     "output_type": "stream",
     "text": [
      "\r",
      " 86%|████████████████████████████████████████████████████████████████████████████████████████████████████████▌                | 864/1000 [05:38<01:01,  2.22it/s]"
     ]
    },
    {
     "name": "stdout",
     "output_type": "stream",
     "text": [
      "Step Limit Exceeded!\n"
     ]
    },
    {
     "name": "stderr",
     "output_type": "stream",
     "text": [
      "\r",
      " 86%|████████████████████████████████████████████████████████████████████████████████████████████████████████▋                | 865/1000 [05:39<01:01,  2.21it/s]"
     ]
    },
    {
     "name": "stdout",
     "output_type": "stream",
     "text": [
      "Step Limit Exceeded!\n"
     ]
    },
    {
     "name": "stderr",
     "output_type": "stream",
     "text": [
      "\r",
      " 87%|████████████████████████████████████████████████████████████████████████████████████████████████████████▊                | 866/1000 [05:39<01:00,  2.22it/s]"
     ]
    },
    {
     "name": "stdout",
     "output_type": "stream",
     "text": [
      "Step Limit Exceeded!\n"
     ]
    },
    {
     "name": "stderr",
     "output_type": "stream",
     "text": [
      "\r",
      " 87%|████████████████████████████████████████████████████████████████████████████████████████████████████████▉                | 867/1000 [05:39<00:59,  2.24it/s]"
     ]
    },
    {
     "name": "stdout",
     "output_type": "stream",
     "text": [
      "Step Limit Exceeded!\n"
     ]
    },
    {
     "name": "stderr",
     "output_type": "stream",
     "text": [
      "\r",
      " 87%|█████████████████████████████████████████████████████████████████████████████████████████████████████████                | 868/1000 [05:40<00:58,  2.25it/s]"
     ]
    },
    {
     "name": "stdout",
     "output_type": "stream",
     "text": [
      "Step Limit Exceeded!\n"
     ]
    },
    {
     "name": "stderr",
     "output_type": "stream",
     "text": [
      "\r",
      " 87%|█████████████████████████████████████████████████████████████████████████████████████████████████████████▏               | 869/1000 [05:40<00:58,  2.24it/s]"
     ]
    },
    {
     "name": "stdout",
     "output_type": "stream",
     "text": [
      "Step Limit Exceeded!\n"
     ]
    },
    {
     "name": "stderr",
     "output_type": "stream",
     "text": [
      "\r",
      " 87%|█████████████████████████████████████████████████████████████████████████████████████████████████████████▎               | 870/1000 [05:41<00:58,  2.24it/s]"
     ]
    },
    {
     "name": "stdout",
     "output_type": "stream",
     "text": [
      "Step Limit Exceeded!\n"
     ]
    },
    {
     "name": "stderr",
     "output_type": "stream",
     "text": [
      "\r",
      " 87%|█████████████████████████████████████████████████████████████████████████████████████████████████████████▍               | 871/1000 [05:41<00:57,  2.23it/s]"
     ]
    },
    {
     "name": "stdout",
     "output_type": "stream",
     "text": [
      "Step Limit Exceeded!\n"
     ]
    },
    {
     "name": "stderr",
     "output_type": "stream",
     "text": [
      "\r",
      " 87%|█████████████████████████████████████████████████████████████████████████████████████████████████████████▌               | 872/1000 [05:42<00:57,  2.24it/s]"
     ]
    },
    {
     "name": "stdout",
     "output_type": "stream",
     "text": [
      "Step Limit Exceeded!\n"
     ]
    },
    {
     "name": "stderr",
     "output_type": "stream",
     "text": [
      "\r",
      " 87%|█████████████████████████████████████████████████████████████████████████████████████████████████████████▋               | 873/1000 [05:42<00:56,  2.25it/s]"
     ]
    },
    {
     "name": "stdout",
     "output_type": "stream",
     "text": [
      "Step Limit Exceeded!\n"
     ]
    },
    {
     "name": "stderr",
     "output_type": "stream",
     "text": [
      "\r",
      " 87%|█████████████████████████████████████████████████████████████████████████████████████████████████████████▊               | 874/1000 [05:43<00:55,  2.26it/s]"
     ]
    },
    {
     "name": "stdout",
     "output_type": "stream",
     "text": [
      "Step Limit Exceeded!\n"
     ]
    },
    {
     "name": "stderr",
     "output_type": "stream",
     "text": [
      "\r",
      " 88%|█████████████████████████████████████████████████████████████████████████████████████████████████████████▉               | 875/1000 [05:43<00:56,  2.23it/s]"
     ]
    },
    {
     "name": "stdout",
     "output_type": "stream",
     "text": [
      "Step Limit Exceeded!\n"
     ]
    },
    {
     "name": "stderr",
     "output_type": "stream",
     "text": [
      "\r",
      " 88%|█████████████████████████████████████████████████████████████████████████████████████████████████████████▉               | 876/1000 [05:43<00:55,  2.24it/s]"
     ]
    },
    {
     "name": "stdout",
     "output_type": "stream",
     "text": [
      "Step Limit Exceeded!\n"
     ]
    },
    {
     "name": "stderr",
     "output_type": "stream",
     "text": [
      "\r",
      " 88%|██████████████████████████████████████████████████████████████████████████████████████████████████████████               | 877/1000 [05:44<00:54,  2.25it/s]"
     ]
    },
    {
     "name": "stdout",
     "output_type": "stream",
     "text": [
      "Step Limit Exceeded!\n"
     ]
    },
    {
     "name": "stderr",
     "output_type": "stream",
     "text": [
      "\r",
      " 88%|██████████████████████████████████████████████████████████████████████████████████████████████████████████▏              | 878/1000 [05:44<00:54,  2.26it/s]"
     ]
    },
    {
     "name": "stdout",
     "output_type": "stream",
     "text": [
      "Step Limit Exceeded!\n"
     ]
    },
    {
     "name": "stderr",
     "output_type": "stream",
     "text": [
      "\r",
      " 88%|██████████████████████████████████████████████████████████████████████████████████████████████████████████▎              | 879/1000 [05:45<00:53,  2.25it/s]"
     ]
    },
    {
     "name": "stdout",
     "output_type": "stream",
     "text": [
      "Step Limit Exceeded!\n"
     ]
    },
    {
     "name": "stderr",
     "output_type": "stream",
     "text": [
      "\r",
      " 88%|██████████████████████████████████████████████████████████████████████████████████████████████████████████▍              | 880/1000 [05:45<00:53,  2.26it/s]"
     ]
    },
    {
     "name": "stdout",
     "output_type": "stream",
     "text": [
      "Step Limit Exceeded!\n"
     ]
    },
    {
     "name": "stderr",
     "output_type": "stream",
     "text": [
      "\r",
      " 88%|██████████████████████████████████████████████████████████████████████████████████████████████████████████▌              | 881/1000 [05:46<00:53,  2.24it/s]"
     ]
    },
    {
     "name": "stdout",
     "output_type": "stream",
     "text": [
      "Step Limit Exceeded!\n"
     ]
    },
    {
     "name": "stderr",
     "output_type": "stream",
     "text": [
      "\r",
      " 88%|██████████████████████████████████████████████████████████████████████████████████████████████████████████▋              | 882/1000 [05:46<00:52,  2.25it/s]"
     ]
    },
    {
     "name": "stdout",
     "output_type": "stream",
     "text": [
      "Step Limit Exceeded!\n"
     ]
    },
    {
     "name": "stderr",
     "output_type": "stream",
     "text": [
      "\r",
      " 88%|██████████████████████████████████████████████████████████████████████████████████████████████████████████▊              | 883/1000 [05:47<00:52,  2.21it/s]"
     ]
    },
    {
     "name": "stdout",
     "output_type": "stream",
     "text": [
      "Step Limit Exceeded!\n"
     ]
    },
    {
     "name": "stderr",
     "output_type": "stream",
     "text": [
      "\r",
      " 88%|██████████████████████████████████████████████████████████████████████████████████████████████████████████▉              | 884/1000 [05:47<00:52,  2.22it/s]"
     ]
    },
    {
     "name": "stdout",
     "output_type": "stream",
     "text": [
      "Step Limit Exceeded!\n"
     ]
    },
    {
     "name": "stderr",
     "output_type": "stream",
     "text": [
      "\r",
      " 88%|███████████████████████████████████████████████████████████████████████████████████████████████████████████              | 885/1000 [05:48<00:51,  2.24it/s]"
     ]
    },
    {
     "name": "stdout",
     "output_type": "stream",
     "text": [
      "Step Limit Exceeded!\n"
     ]
    },
    {
     "name": "stderr",
     "output_type": "stream",
     "text": [
      "\r",
      " 89%|███████████████████████████████████████████████████████████████████████████████████████████████████████████▏             | 886/1000 [05:48<00:50,  2.25it/s]"
     ]
    },
    {
     "name": "stdout",
     "output_type": "stream",
     "text": [
      "Step Limit Exceeded!\n"
     ]
    },
    {
     "name": "stderr",
     "output_type": "stream",
     "text": [
      "\r",
      " 89%|███████████████████████████████████████████████████████████████████████████████████████████████████████████▎             | 887/1000 [05:48<00:50,  2.25it/s]"
     ]
    },
    {
     "name": "stdout",
     "output_type": "stream",
     "text": [
      "Step Limit Exceeded!\n"
     ]
    },
    {
     "name": "stderr",
     "output_type": "stream",
     "text": [
      "\r",
      " 89%|███████████████████████████████████████████████████████████████████████████████████████████████████████████▍             | 888/1000 [05:49<00:49,  2.26it/s]"
     ]
    },
    {
     "name": "stdout",
     "output_type": "stream",
     "text": [
      "Step Limit Exceeded!\n"
     ]
    },
    {
     "name": "stderr",
     "output_type": "stream",
     "text": [
      "\r",
      " 89%|███████████████████████████████████████████████████████████████████████████████████████████████████████████▌             | 889/1000 [05:49<00:49,  2.26it/s]"
     ]
    },
    {
     "name": "stdout",
     "output_type": "stream",
     "text": [
      "Step Limit Exceeded!\n"
     ]
    },
    {
     "name": "stderr",
     "output_type": "stream",
     "text": [
      "\r",
      " 89%|███████████████████████████████████████████████████████████████████████████████████████████████████████████▋             | 890/1000 [05:50<00:48,  2.26it/s]"
     ]
    },
    {
     "name": "stdout",
     "output_type": "stream",
     "text": [
      "Step Limit Exceeded!\n"
     ]
    },
    {
     "name": "stderr",
     "output_type": "stream",
     "text": [
      "\r",
      " 89%|███████████████████████████████████████████████████████████████████████████████████████████████████████████▊             | 891/1000 [05:50<00:48,  2.26it/s]"
     ]
    },
    {
     "name": "stdout",
     "output_type": "stream",
     "text": [
      "Step Limit Exceeded!\n"
     ]
    },
    {
     "name": "stderr",
     "output_type": "stream",
     "text": [
      "\r",
      " 89%|███████████████████████████████████████████████████████████████████████████████████████████████████████████▉             | 892/1000 [05:51<00:47,  2.27it/s]"
     ]
    },
    {
     "name": "stdout",
     "output_type": "stream",
     "text": [
      "Step Limit Exceeded!\n"
     ]
    },
    {
     "name": "stderr",
     "output_type": "stream",
     "text": [
      "\r",
      " 89%|████████████████████████████████████████████████████████████████████████████████████████████████████████████             | 893/1000 [05:51<00:47,  2.26it/s]"
     ]
    },
    {
     "name": "stdout",
     "output_type": "stream",
     "text": [
      "Step Limit Exceeded!\n"
     ]
    },
    {
     "name": "stderr",
     "output_type": "stream",
     "text": [
      "\r",
      " 89%|████████████████████████████████████████████████████████████████████████████████████████████████████████████▏            | 894/1000 [05:51<00:46,  2.26it/s]"
     ]
    },
    {
     "name": "stdout",
     "output_type": "stream",
     "text": [
      "Step Limit Exceeded!\n"
     ]
    },
    {
     "name": "stderr",
     "output_type": "stream",
     "text": [
      "\r",
      " 90%|████████████████████████████████████████████████████████████████████████████████████████████████████████████▎            | 895/1000 [05:52<00:46,  2.27it/s]"
     ]
    },
    {
     "name": "stdout",
     "output_type": "stream",
     "text": [
      "Step Limit Exceeded!\n"
     ]
    },
    {
     "name": "stderr",
     "output_type": "stream",
     "text": [
      "\r",
      " 90%|████████████████████████████████████████████████████████████████████████████████████████████████████████████▍            | 896/1000 [05:52<00:45,  2.27it/s]"
     ]
    },
    {
     "name": "stdout",
     "output_type": "stream",
     "text": [
      "Step Limit Exceeded!\n"
     ]
    },
    {
     "name": "stderr",
     "output_type": "stream",
     "text": [
      "\r",
      " 90%|████████████████████████████████████████████████████████████████████████████████████████████████████████████▌            | 897/1000 [05:53<00:45,  2.27it/s]"
     ]
    },
    {
     "name": "stdout",
     "output_type": "stream",
     "text": [
      "Step Limit Exceeded!\n"
     ]
    },
    {
     "name": "stderr",
     "output_type": "stream",
     "text": [
      "\r",
      " 90%|████████████████████████████████████████████████████████████████████████████████████████████████████████████▋            | 898/1000 [05:53<00:44,  2.27it/s]"
     ]
    },
    {
     "name": "stdout",
     "output_type": "stream",
     "text": [
      "Step Limit Exceeded!\n"
     ]
    },
    {
     "name": "stderr",
     "output_type": "stream",
     "text": [
      "\r",
      " 90%|████████████████████████████████████████████████████████████████████████████████████████████████████████████▊            | 899/1000 [05:54<00:44,  2.27it/s]"
     ]
    },
    {
     "name": "stdout",
     "output_type": "stream",
     "text": [
      "Step Limit Exceeded!\n"
     ]
    },
    {
     "name": "stderr",
     "output_type": "stream",
     "text": [
      "\r",
      " 90%|████████████████████████████████████████████████████████████████████████████████████████████████████████████▉            | 900/1000 [05:54<00:44,  2.27it/s]"
     ]
    },
    {
     "name": "stdout",
     "output_type": "stream",
     "text": [
      "Step Limit Exceeded!\n"
     ]
    },
    {
     "name": "stderr",
     "output_type": "stream",
     "text": [
      "\r",
      " 90%|█████████████████████████████████████████████████████████████████████████████████████████████████████████████            | 901/1000 [05:55<00:43,  2.27it/s]"
     ]
    },
    {
     "name": "stdout",
     "output_type": "stream",
     "text": [
      "Step Limit Exceeded!\n"
     ]
    },
    {
     "name": "stderr",
     "output_type": "stream",
     "text": [
      "\r",
      " 90%|█████████████████████████████████████████████████████████████████████████████████████████████████████████████▏           | 902/1000 [05:55<00:43,  2.26it/s]"
     ]
    },
    {
     "name": "stdout",
     "output_type": "stream",
     "text": [
      "Step Limit Exceeded!\n"
     ]
    },
    {
     "name": "stderr",
     "output_type": "stream",
     "text": [
      "\r",
      " 90%|█████████████████████████████████████████████████████████████████████████████████████████████████████████████▎           | 903/1000 [05:55<00:43,  2.23it/s]"
     ]
    },
    {
     "name": "stdout",
     "output_type": "stream",
     "text": [
      "Step Limit Exceeded!\n"
     ]
    },
    {
     "name": "stderr",
     "output_type": "stream",
     "text": [
      "\r",
      " 90%|█████████████████████████████████████████████████████████████████████████████████████████████████████████████▍           | 904/1000 [05:56<00:43,  2.21it/s]"
     ]
    },
    {
     "name": "stdout",
     "output_type": "stream",
     "text": [
      "Step Limit Exceeded!\n"
     ]
    },
    {
     "name": "stderr",
     "output_type": "stream",
     "text": [
      "\r",
      " 90%|█████████████████████████████████████████████████████████████████████████████████████████████████████████████▌           | 905/1000 [05:56<00:42,  2.22it/s]"
     ]
    },
    {
     "name": "stdout",
     "output_type": "stream",
     "text": [
      "Step Limit Exceeded!\n"
     ]
    },
    {
     "name": "stderr",
     "output_type": "stream",
     "text": [
      "\r",
      " 91%|█████████████████████████████████████████████████████████████████████████████████████████████████████████████▋           | 906/1000 [05:57<00:42,  2.22it/s]"
     ]
    },
    {
     "name": "stdout",
     "output_type": "stream",
     "text": [
      "Step Limit Exceeded!\n"
     ]
    },
    {
     "name": "stderr",
     "output_type": "stream",
     "text": [
      "\r",
      " 91%|█████████████████████████████████████████████████████████████████████████████████████████████████████████████▋           | 907/1000 [05:57<00:41,  2.22it/s]"
     ]
    },
    {
     "name": "stdout",
     "output_type": "stream",
     "text": [
      "Step Limit Exceeded!\n"
     ]
    },
    {
     "name": "stderr",
     "output_type": "stream",
     "text": [
      "\r",
      " 91%|█████████████████████████████████████████████████████████████████████████████████████████████████████████████▊           | 908/1000 [05:58<00:41,  2.23it/s]"
     ]
    },
    {
     "name": "stdout",
     "output_type": "stream",
     "text": [
      "Step Limit Exceeded!\n"
     ]
    },
    {
     "name": "stderr",
     "output_type": "stream",
     "text": [
      "\r",
      " 91%|█████████████████████████████████████████████████████████████████████████████████████████████████████████████▉           | 909/1000 [05:58<00:40,  2.24it/s]"
     ]
    },
    {
     "name": "stdout",
     "output_type": "stream",
     "text": [
      "Step Limit Exceeded!\n"
     ]
    },
    {
     "name": "stderr",
     "output_type": "stream",
     "text": [
      "\r",
      " 91%|██████████████████████████████████████████████████████████████████████████████████████████████████████████████           | 910/1000 [05:59<00:40,  2.25it/s]"
     ]
    },
    {
     "name": "stdout",
     "output_type": "stream",
     "text": [
      "Step Limit Exceeded!\n"
     ]
    },
    {
     "name": "stderr",
     "output_type": "stream",
     "text": [
      "\r",
      " 91%|██████████████████████████████████████████████████████████████████████████████████████████████████████████████▏          | 911/1000 [05:59<00:39,  2.25it/s]"
     ]
    },
    {
     "name": "stdout",
     "output_type": "stream",
     "text": [
      "Step Limit Exceeded!\n"
     ]
    },
    {
     "name": "stderr",
     "output_type": "stream",
     "text": [
      "\r",
      " 91%|██████████████████████████████████████████████████████████████████████████████████████████████████████████████▎          | 912/1000 [05:59<00:39,  2.25it/s]"
     ]
    },
    {
     "name": "stdout",
     "output_type": "stream",
     "text": [
      "Step Limit Exceeded!\n"
     ]
    },
    {
     "name": "stderr",
     "output_type": "stream",
     "text": [
      "\r",
      " 91%|██████████████████████████████████████████████████████████████████████████████████████████████████████████████▍          | 913/1000 [06:00<00:38,  2.24it/s]"
     ]
    },
    {
     "name": "stdout",
     "output_type": "stream",
     "text": [
      "Step Limit Exceeded!\n"
     ]
    },
    {
     "name": "stderr",
     "output_type": "stream",
     "text": [
      "\r",
      " 91%|██████████████████████████████████████████████████████████████████████████████████████████████████████████████▌          | 914/1000 [06:00<00:38,  2.23it/s]"
     ]
    },
    {
     "name": "stdout",
     "output_type": "stream",
     "text": [
      "Step Limit Exceeded!\n"
     ]
    },
    {
     "name": "stderr",
     "output_type": "stream",
     "text": [
      "\r",
      " 92%|██████████████████████████████████████████████████████████████████████████████████████████████████████████████▋          | 915/1000 [06:01<00:37,  2.24it/s]"
     ]
    },
    {
     "name": "stdout",
     "output_type": "stream",
     "text": [
      "Step Limit Exceeded!\n"
     ]
    },
    {
     "name": "stderr",
     "output_type": "stream",
     "text": [
      "\r",
      " 92%|██████████████████████████████████████████████████████████████████████████████████████████████████████████████▊          | 916/1000 [06:01<00:37,  2.25it/s]"
     ]
    },
    {
     "name": "stdout",
     "output_type": "stream",
     "text": [
      "Step Limit Exceeded!\n"
     ]
    },
    {
     "name": "stderr",
     "output_type": "stream",
     "text": [
      "\r",
      " 92%|██████████████████████████████████████████████████████████████████████████████████████████████████████████████▉          | 917/1000 [06:02<00:37,  2.20it/s]"
     ]
    },
    {
     "name": "stdout",
     "output_type": "stream",
     "text": [
      "Step Limit Exceeded!\n"
     ]
    },
    {
     "name": "stderr",
     "output_type": "stream",
     "text": [
      "\r",
      " 92%|███████████████████████████████████████████████████████████████████████████████████████████████████████████████          | 918/1000 [06:02<00:38,  2.11it/s]"
     ]
    },
    {
     "name": "stdout",
     "output_type": "stream",
     "text": [
      "Step Limit Exceeded!\n"
     ]
    },
    {
     "name": "stderr",
     "output_type": "stream",
     "text": [
      "\r",
      " 92%|███████████████████████████████████████████████████████████████████████████████████████████████████████████████▏         | 919/1000 [06:03<00:39,  2.05it/s]"
     ]
    },
    {
     "name": "stdout",
     "output_type": "stream",
     "text": [
      "Step Limit Exceeded!\n"
     ]
    },
    {
     "name": "stderr",
     "output_type": "stream",
     "text": [
      "\r",
      " 92%|███████████████████████████████████████████████████████████████████████████████████████████████████████████████▎         | 920/1000 [06:03<00:39,  2.01it/s]"
     ]
    },
    {
     "name": "stdout",
     "output_type": "stream",
     "text": [
      "Step Limit Exceeded!\n"
     ]
    },
    {
     "name": "stderr",
     "output_type": "stream",
     "text": [
      "\r",
      " 92%|███████████████████████████████████████████████████████████████████████████████████████████████████████████████▍         | 921/1000 [06:04<00:39,  1.98it/s]"
     ]
    },
    {
     "name": "stdout",
     "output_type": "stream",
     "text": [
      "Step Limit Exceeded!\n"
     ]
    },
    {
     "name": "stderr",
     "output_type": "stream",
     "text": [
      "\r",
      " 92%|███████████████████████████████████████████████████████████████████████████████████████████████████████████████▌         | 922/1000 [06:04<00:38,  2.01it/s]"
     ]
    },
    {
     "name": "stdout",
     "output_type": "stream",
     "text": [
      "Step Limit Exceeded!\n"
     ]
    },
    {
     "name": "stderr",
     "output_type": "stream",
     "text": [
      "\r",
      " 92%|███████████████████████████████████████████████████████████████████████████████████████████████████████████████▋         | 923/1000 [06:05<00:37,  2.03it/s]"
     ]
    },
    {
     "name": "stdout",
     "output_type": "stream",
     "text": [
      "Step Limit Exceeded!\n"
     ]
    },
    {
     "name": "stderr",
     "output_type": "stream",
     "text": [
      "\r",
      " 92%|███████████████████████████████████████████████████████████████████████████████████████████████████████████████▊         | 924/1000 [06:05<00:36,  2.06it/s]"
     ]
    },
    {
     "name": "stdout",
     "output_type": "stream",
     "text": [
      "Step Limit Exceeded!\n"
     ]
    },
    {
     "name": "stderr",
     "output_type": "stream",
     "text": [
      "\r",
      " 92%|███████████████████████████████████████████████████████████████████████████████████████████████████████████████▉         | 925/1000 [06:06<00:36,  2.05it/s]"
     ]
    },
    {
     "name": "stdout",
     "output_type": "stream",
     "text": [
      "Step Limit Exceeded!\n"
     ]
    },
    {
     "name": "stderr",
     "output_type": "stream",
     "text": [
      "\r",
      " 93%|████████████████████████████████████████████████████████████████████████████████████████████████████████████████         | 926/1000 [06:06<00:35,  2.07it/s]"
     ]
    },
    {
     "name": "stdout",
     "output_type": "stream",
     "text": [
      "Step Limit Exceeded!\n"
     ]
    },
    {
     "name": "stderr",
     "output_type": "stream",
     "text": [
      "\r",
      " 93%|████████████████████████████████████████████████████████████████████████████████████████████████████████████████▏        | 927/1000 [06:07<00:35,  2.06it/s]"
     ]
    },
    {
     "name": "stdout",
     "output_type": "stream",
     "text": [
      "Step Limit Exceeded!\n"
     ]
    },
    {
     "name": "stderr",
     "output_type": "stream",
     "text": [
      "\r",
      " 93%|████████████████████████████████████████████████████████████████████████████████████████████████████████████████▎        | 928/1000 [06:07<00:34,  2.07it/s]"
     ]
    },
    {
     "name": "stdout",
     "output_type": "stream",
     "text": [
      "Step Limit Exceeded!\n"
     ]
    },
    {
     "name": "stderr",
     "output_type": "stream",
     "text": [
      "\r",
      " 93%|████████████████████████████████████████████████████████████████████████████████████████████████████████████████▍        | 929/1000 [06:08<00:34,  2.07it/s]"
     ]
    },
    {
     "name": "stdout",
     "output_type": "stream",
     "text": [
      "Step Limit Exceeded!\n"
     ]
    },
    {
     "name": "stderr",
     "output_type": "stream",
     "text": [
      "\r",
      " 93%|████████████████████████████████████████████████████████████████████████████████████████████████████████████████▌        | 930/1000 [06:08<00:33,  2.06it/s]"
     ]
    },
    {
     "name": "stdout",
     "output_type": "stream",
     "text": [
      "Step Limit Exceeded!\n"
     ]
    },
    {
     "name": "stderr",
     "output_type": "stream",
     "text": [
      "\r",
      " 93%|████████████████████████████████████████████████████████████████████████████████████████████████████████████████▋        | 931/1000 [06:09<00:33,  2.06it/s]"
     ]
    },
    {
     "name": "stdout",
     "output_type": "stream",
     "text": [
      "Step Limit Exceeded!\n"
     ]
    },
    {
     "name": "stderr",
     "output_type": "stream",
     "text": [
      "\r",
      " 93%|████████████████████████████████████████████████████████████████████████████████████████████████████████████████▊        | 932/1000 [06:09<00:32,  2.08it/s]"
     ]
    },
    {
     "name": "stdout",
     "output_type": "stream",
     "text": [
      "Step Limit Exceeded!\n"
     ]
    },
    {
     "name": "stderr",
     "output_type": "stream",
     "text": [
      "\r",
      " 93%|████████████████████████████████████████████████████████████████████████████████████████████████████████████████▉        | 933/1000 [06:10<00:32,  2.08it/s]"
     ]
    },
    {
     "name": "stdout",
     "output_type": "stream",
     "text": [
      "Step Limit Exceeded!\n"
     ]
    },
    {
     "name": "stderr",
     "output_type": "stream",
     "text": [
      "\r",
      " 93%|█████████████████████████████████████████████████████████████████████████████████████████████████████████████████        | 934/1000 [06:10<00:31,  2.08it/s]"
     ]
    },
    {
     "name": "stdout",
     "output_type": "stream",
     "text": [
      "Step Limit Exceeded!\n"
     ]
    },
    {
     "name": "stderr",
     "output_type": "stream",
     "text": [
      "\r",
      " 94%|█████████████████████████████████████████████████████████████████████████████████████████████████████████████████▏       | 935/1000 [06:11<00:30,  2.10it/s]"
     ]
    },
    {
     "name": "stdout",
     "output_type": "stream",
     "text": [
      "Step Limit Exceeded!\n"
     ]
    },
    {
     "name": "stderr",
     "output_type": "stream",
     "text": [
      "\r",
      " 94%|█████████████████████████████████████████████████████████████████████████████████████████████████████████████████▎       | 936/1000 [06:11<00:29,  2.14it/s]"
     ]
    },
    {
     "name": "stdout",
     "output_type": "stream",
     "text": [
      "Step Limit Exceeded!\n"
     ]
    },
    {
     "name": "stderr",
     "output_type": "stream",
     "text": [
      "\r",
      " 94%|█████████████████████████████████████████████████████████████████████████████████████████████████████████████████▍       | 937/1000 [06:11<00:29,  2.14it/s]"
     ]
    },
    {
     "name": "stdout",
     "output_type": "stream",
     "text": [
      "Step Limit Exceeded!\n"
     ]
    },
    {
     "name": "stderr",
     "output_type": "stream",
     "text": [
      "\r",
      " 94%|█████████████████████████████████████████████████████████████████████████████████████████████████████████████████▍       | 938/1000 [06:12<00:28,  2.16it/s]"
     ]
    },
    {
     "name": "stdout",
     "output_type": "stream",
     "text": [
      "Step Limit Exceeded!\n"
     ]
    },
    {
     "name": "stderr",
     "output_type": "stream",
     "text": [
      "\r",
      " 94%|█████████████████████████████████████████████████████████████████████████████████████████████████████████████████▌       | 939/1000 [06:12<00:28,  2.18it/s]"
     ]
    },
    {
     "name": "stdout",
     "output_type": "stream",
     "text": [
      "Step Limit Exceeded!\n"
     ]
    },
    {
     "name": "stderr",
     "output_type": "stream",
     "text": [
      "\r",
      " 94%|█████████████████████████████████████████████████████████████████████████████████████████████████████████████████▋       | 940/1000 [06:13<00:27,  2.17it/s]"
     ]
    },
    {
     "name": "stdout",
     "output_type": "stream",
     "text": [
      "Step Limit Exceeded!\n"
     ]
    },
    {
     "name": "stderr",
     "output_type": "stream",
     "text": [
      "\r",
      " 94%|█████████████████████████████████████████████████████████████████████████████████████████████████████████████████▊       | 941/1000 [06:13<00:27,  2.17it/s]"
     ]
    },
    {
     "name": "stdout",
     "output_type": "stream",
     "text": [
      "Step Limit Exceeded!\n"
     ]
    },
    {
     "name": "stderr",
     "output_type": "stream",
     "text": [
      "\r",
      " 94%|█████████████████████████████████████████████████████████████████████████████████████████████████████████████████▉       | 942/1000 [06:14<00:26,  2.16it/s]"
     ]
    },
    {
     "name": "stdout",
     "output_type": "stream",
     "text": [
      "Step Limit Exceeded!\n"
     ]
    },
    {
     "name": "stderr",
     "output_type": "stream",
     "text": [
      "\r",
      " 94%|██████████████████████████████████████████████████████████████████████████████████████████████████████████████████       | 943/1000 [06:14<00:26,  2.13it/s]"
     ]
    },
    {
     "name": "stdout",
     "output_type": "stream",
     "text": [
      "Step Limit Exceeded!\n"
     ]
    },
    {
     "name": "stderr",
     "output_type": "stream",
     "text": [
      "\r",
      " 94%|██████████████████████████████████████████████████████████████████████████████████████████████████████████████████▏      | 944/1000 [06:15<00:26,  2.14it/s]"
     ]
    },
    {
     "name": "stdout",
     "output_type": "stream",
     "text": [
      "Step Limit Exceeded!\n"
     ]
    },
    {
     "name": "stderr",
     "output_type": "stream",
     "text": [
      "\r",
      " 94%|██████████████████████████████████████████████████████████████████████████████████████████████████████████████████▎      | 945/1000 [06:15<00:25,  2.14it/s]"
     ]
    },
    {
     "name": "stdout",
     "output_type": "stream",
     "text": [
      "Step Limit Exceeded!\n"
     ]
    },
    {
     "name": "stderr",
     "output_type": "stream",
     "text": [
      "\r",
      " 95%|██████████████████████████████████████████████████████████████████████████████████████████████████████████████████▍      | 946/1000 [06:16<00:25,  2.13it/s]"
     ]
    },
    {
     "name": "stdout",
     "output_type": "stream",
     "text": [
      "Step Limit Exceeded!\n"
     ]
    },
    {
     "name": "stderr",
     "output_type": "stream",
     "text": [
      "\r",
      " 95%|██████████████████████████████████████████████████████████████████████████████████████████████████████████████████▌      | 947/1000 [06:16<00:25,  2.11it/s]"
     ]
    },
    {
     "name": "stdout",
     "output_type": "stream",
     "text": [
      "Step Limit Exceeded!\n"
     ]
    },
    {
     "name": "stderr",
     "output_type": "stream",
     "text": [
      "\r",
      " 95%|██████████████████████████████████████████████████████████████████████████████████████████████████████████████████▋      | 948/1000 [06:17<00:24,  2.11it/s]"
     ]
    },
    {
     "name": "stdout",
     "output_type": "stream",
     "text": [
      "Step Limit Exceeded!\n"
     ]
    },
    {
     "name": "stderr",
     "output_type": "stream",
     "text": [
      "\r",
      " 95%|██████████████████████████████████████████████████████████████████████████████████████████████████████████████████▊      | 949/1000 [06:17<00:24,  2.10it/s]"
     ]
    },
    {
     "name": "stdout",
     "output_type": "stream",
     "text": [
      "Step Limit Exceeded!\n"
     ]
    },
    {
     "name": "stderr",
     "output_type": "stream",
     "text": [
      "\r",
      " 95%|██████████████████████████████████████████████████████████████████████████████████████████████████████████████████▉      | 950/1000 [06:18<00:23,  2.12it/s]"
     ]
    },
    {
     "name": "stdout",
     "output_type": "stream",
     "text": [
      "Step Limit Exceeded!\n"
     ]
    },
    {
     "name": "stderr",
     "output_type": "stream",
     "text": [
      "\r",
      " 95%|███████████████████████████████████████████████████████████████████████████████████████████████████████████████████      | 951/1000 [06:18<00:22,  2.15it/s]"
     ]
    },
    {
     "name": "stdout",
     "output_type": "stream",
     "text": [
      "Step Limit Exceeded!\n"
     ]
    },
    {
     "name": "stderr",
     "output_type": "stream",
     "text": [
      "\r",
      " 95%|███████████████████████████████████████████████████████████████████████████████████████████████████████████████████▏     | 952/1000 [06:18<00:22,  2.18it/s]"
     ]
    },
    {
     "name": "stdout",
     "output_type": "stream",
     "text": [
      "Step Limit Exceeded!\n"
     ]
    },
    {
     "name": "stderr",
     "output_type": "stream",
     "text": [
      "\r",
      " 95%|███████████████████████████████████████████████████████████████████████████████████████████████████████████████████▎     | 953/1000 [06:19<00:21,  2.16it/s]"
     ]
    },
    {
     "name": "stdout",
     "output_type": "stream",
     "text": [
      "Step Limit Exceeded!\n"
     ]
    },
    {
     "name": "stderr",
     "output_type": "stream",
     "text": [
      "\r",
      " 95%|███████████████████████████████████████████████████████████████████████████████████████████████████████████████████▍     | 954/1000 [06:19<00:21,  2.14it/s]"
     ]
    },
    {
     "name": "stdout",
     "output_type": "stream",
     "text": [
      "Step Limit Exceeded!\n"
     ]
    },
    {
     "name": "stderr",
     "output_type": "stream",
     "text": [
      "\r",
      " 96%|███████████████████████████████████████████████████████████████████████████████████████████████████████████████████▌     | 955/1000 [06:20<00:21,  2.13it/s]"
     ]
    },
    {
     "name": "stdout",
     "output_type": "stream",
     "text": [
      "Step Limit Exceeded!\n"
     ]
    },
    {
     "name": "stderr",
     "output_type": "stream",
     "text": [
      "\r",
      " 96%|███████████████████████████████████████████████████████████████████████████████████████████████████████████████████▋     | 956/1000 [06:20<00:20,  2.11it/s]"
     ]
    },
    {
     "name": "stdout",
     "output_type": "stream",
     "text": [
      "Step Limit Exceeded!\n"
     ]
    },
    {
     "name": "stderr",
     "output_type": "stream",
     "text": [
      "\r",
      " 96%|███████████████████████████████████████████████████████████████████████████████████████████████████████████████████▊     | 957/1000 [06:21<00:20,  2.07it/s]"
     ]
    },
    {
     "name": "stdout",
     "output_type": "stream",
     "text": [
      "Step Limit Exceeded!\n"
     ]
    },
    {
     "name": "stderr",
     "output_type": "stream",
     "text": [
      "\r",
      " 96%|███████████████████████████████████████████████████████████████████████████████████████████████████████████████████▉     | 958/1000 [06:21<00:20,  2.09it/s]"
     ]
    },
    {
     "name": "stdout",
     "output_type": "stream",
     "text": [
      "Step Limit Exceeded!\n"
     ]
    },
    {
     "name": "stderr",
     "output_type": "stream",
     "text": [
      "\r",
      " 96%|████████████████████████████████████████████████████████████████████████████████████████████████████████████████████     | 959/1000 [06:22<00:20,  2.04it/s]"
     ]
    },
    {
     "name": "stdout",
     "output_type": "stream",
     "text": [
      "Step Limit Exceeded!\n"
     ]
    },
    {
     "name": "stderr",
     "output_type": "stream",
     "text": [
      "\r",
      " 96%|████████████████████████████████████████████████████████████████████████████████████████████████████████████████████▏    | 960/1000 [06:22<00:19,  2.07it/s]"
     ]
    },
    {
     "name": "stdout",
     "output_type": "stream",
     "text": [
      "Step Limit Exceeded!\n"
     ]
    },
    {
     "name": "stderr",
     "output_type": "stream",
     "text": [
      "\r",
      " 96%|████████████████████████████████████████████████████████████████████████████████████████████████████████████████████▎    | 961/1000 [06:23<00:18,  2.10it/s]"
     ]
    },
    {
     "name": "stdout",
     "output_type": "stream",
     "text": [
      "Step Limit Exceeded!\n"
     ]
    },
    {
     "name": "stderr",
     "output_type": "stream",
     "text": [
      "\r",
      " 96%|████████████████████████████████████████████████████████████████████████████████████████████████████████████████████▍    | 962/1000 [06:23<00:17,  2.11it/s]"
     ]
    },
    {
     "name": "stdout",
     "output_type": "stream",
     "text": [
      "Step Limit Exceeded!\n"
     ]
    },
    {
     "name": "stderr",
     "output_type": "stream",
     "text": [
      "\r",
      " 96%|████████████████████████████████████████████████████████████████████████████████████████████████████████████████████▌    | 963/1000 [06:24<00:17,  2.11it/s]"
     ]
    },
    {
     "name": "stdout",
     "output_type": "stream",
     "text": [
      "Step Limit Exceeded!\n"
     ]
    },
    {
     "name": "stderr",
     "output_type": "stream",
     "text": [
      "\r",
      " 96%|████████████████████████████████████████████████████████████████████████████████████████████████████████████████████▋    | 964/1000 [06:24<00:16,  2.13it/s]"
     ]
    },
    {
     "name": "stdout",
     "output_type": "stream",
     "text": [
      "Step Limit Exceeded!\n"
     ]
    },
    {
     "name": "stderr",
     "output_type": "stream",
     "text": [
      "\r",
      " 96%|████████████████████████████████████████████████████████████████████████████████████████████████████████████████████▊    | 965/1000 [06:25<00:16,  2.14it/s]"
     ]
    },
    {
     "name": "stdout",
     "output_type": "stream",
     "text": [
      "Step Limit Exceeded!\n"
     ]
    },
    {
     "name": "stderr",
     "output_type": "stream",
     "text": [
      "\r",
      " 97%|████████████████████████████████████████████████████████████████████████████████████████████████████████████████████▉    | 966/1000 [06:25<00:15,  2.15it/s]"
     ]
    },
    {
     "name": "stdout",
     "output_type": "stream",
     "text": [
      "Step Limit Exceeded!\n"
     ]
    },
    {
     "name": "stderr",
     "output_type": "stream",
     "text": [
      "\r",
      " 97%|█████████████████████████████████████████████████████████████████████████████████████████████████████████████████████    | 967/1000 [06:26<00:15,  2.16it/s]"
     ]
    },
    {
     "name": "stdout",
     "output_type": "stream",
     "text": [
      "Step Limit Exceeded!\n"
     ]
    },
    {
     "name": "stderr",
     "output_type": "stream",
     "text": [
      "\r",
      " 97%|█████████████████████████████████████████████████████████████████████████████████████████████████████████████████████▏   | 968/1000 [06:26<00:14,  2.19it/s]"
     ]
    },
    {
     "name": "stdout",
     "output_type": "stream",
     "text": [
      "Step Limit Exceeded!\n"
     ]
    },
    {
     "name": "stderr",
     "output_type": "stream",
     "text": [
      "\r",
      " 97%|█████████████████████████████████████████████████████████████████████████████████████████████████████████████████████▏   | 969/1000 [06:26<00:14,  2.21it/s]"
     ]
    },
    {
     "name": "stdout",
     "output_type": "stream",
     "text": [
      "Step Limit Exceeded!\n"
     ]
    },
    {
     "name": "stderr",
     "output_type": "stream",
     "text": [
      "\r",
      " 97%|█████████████████████████████████████████████████████████████████████████████████████████████████████████████████████▎   | 970/1000 [06:27<00:13,  2.21it/s]"
     ]
    },
    {
     "name": "stdout",
     "output_type": "stream",
     "text": [
      "Step Limit Exceeded!\n"
     ]
    },
    {
     "name": "stderr",
     "output_type": "stream",
     "text": [
      "\r",
      " 97%|█████████████████████████████████████████████████████████████████████████████████████████████████████████████████████▍   | 971/1000 [06:27<00:13,  2.18it/s]"
     ]
    },
    {
     "name": "stdout",
     "output_type": "stream",
     "text": [
      "Step Limit Exceeded!\n"
     ]
    },
    {
     "name": "stderr",
     "output_type": "stream",
     "text": [
      "\r",
      " 97%|█████████████████████████████████████████████████████████████████████████████████████████████████████████████████████▌   | 972/1000 [06:28<00:12,  2.18it/s]"
     ]
    },
    {
     "name": "stdout",
     "output_type": "stream",
     "text": [
      "Step Limit Exceeded!\n"
     ]
    },
    {
     "name": "stderr",
     "output_type": "stream",
     "text": [
      "\r",
      " 97%|█████████████████████████████████████████████████████████████████████████████████████████████████████████████████████▋   | 973/1000 [06:28<00:12,  2.15it/s]"
     ]
    },
    {
     "name": "stdout",
     "output_type": "stream",
     "text": [
      "Step Limit Exceeded!\n"
     ]
    },
    {
     "name": "stderr",
     "output_type": "stream",
     "text": [
      "\r",
      " 97%|█████████████████████████████████████████████████████████████████████████████████████████████████████████████████████▊   | 974/1000 [06:29<00:12,  2.12it/s]"
     ]
    },
    {
     "name": "stdout",
     "output_type": "stream",
     "text": [
      "Step Limit Exceeded!\n"
     ]
    },
    {
     "name": "stderr",
     "output_type": "stream",
     "text": [
      "\r",
      " 98%|█████████████████████████████████████████████████████████████████████████████████████████████████████████████████████▉   | 975/1000 [06:29<00:11,  2.12it/s]"
     ]
    },
    {
     "name": "stdout",
     "output_type": "stream",
     "text": [
      "Step Limit Exceeded!\n"
     ]
    },
    {
     "name": "stderr",
     "output_type": "stream",
     "text": [
      "\r",
      " 98%|██████████████████████████████████████████████████████████████████████████████████████████████████████████████████████   | 976/1000 [06:30<00:11,  2.07it/s]"
     ]
    },
    {
     "name": "stdout",
     "output_type": "stream",
     "text": [
      "Step Limit Exceeded!\n"
     ]
    },
    {
     "name": "stderr",
     "output_type": "stream",
     "text": [
      "\r",
      " 98%|██████████████████████████████████████████████████████████████████████████████████████████████████████████████████████▏  | 977/1000 [06:30<00:11,  2.06it/s]"
     ]
    },
    {
     "name": "stdout",
     "output_type": "stream",
     "text": [
      "Step Limit Exceeded!\n"
     ]
    },
    {
     "name": "stderr",
     "output_type": "stream",
     "text": [
      "\r",
      " 98%|██████████████████████████████████████████████████████████████████████████████████████████████████████████████████████▎  | 978/1000 [06:31<00:10,  2.04it/s]"
     ]
    },
    {
     "name": "stdout",
     "output_type": "stream",
     "text": [
      "Step Limit Exceeded!\n"
     ]
    },
    {
     "name": "stderr",
     "output_type": "stream",
     "text": [
      "\r",
      " 98%|██████████████████████████████████████████████████████████████████████████████████████████████████████████████████████▍  | 979/1000 [06:31<00:10,  2.03it/s]"
     ]
    },
    {
     "name": "stdout",
     "output_type": "stream",
     "text": [
      "Step Limit Exceeded!\n"
     ]
    },
    {
     "name": "stderr",
     "output_type": "stream",
     "text": [
      "\r",
      " 98%|██████████████████████████████████████████████████████████████████████████████████████████████████████████████████████▌  | 980/1000 [06:32<00:09,  2.08it/s]"
     ]
    },
    {
     "name": "stdout",
     "output_type": "stream",
     "text": [
      "Step Limit Exceeded!\n"
     ]
    },
    {
     "name": "stderr",
     "output_type": "stream",
     "text": [
      "\r",
      " 98%|██████████████████████████████████████████████████████████████████████████████████████████████████████████████████████▋  | 981/1000 [06:32<00:09,  2.10it/s]"
     ]
    },
    {
     "name": "stdout",
     "output_type": "stream",
     "text": [
      "Step Limit Exceeded!\n"
     ]
    },
    {
     "name": "stderr",
     "output_type": "stream",
     "text": [
      "\r",
      " 98%|██████████████████████████████████████████████████████████████████████████████████████████████████████████████████████▊  | 982/1000 [06:33<00:08,  2.11it/s]"
     ]
    },
    {
     "name": "stdout",
     "output_type": "stream",
     "text": [
      "Step Limit Exceeded!\n"
     ]
    },
    {
     "name": "stderr",
     "output_type": "stream",
     "text": [
      "\r",
      " 98%|██████████████████████████████████████████████████████████████████████████████████████████████████████████████████████▉  | 983/1000 [06:33<00:07,  2.13it/s]"
     ]
    },
    {
     "name": "stdout",
     "output_type": "stream",
     "text": [
      "Step Limit Exceeded!\n"
     ]
    },
    {
     "name": "stderr",
     "output_type": "stream",
     "text": [
      "\r",
      " 98%|███████████████████████████████████████████████████████████████████████████████████████████████████████████████████████  | 984/1000 [06:34<00:07,  2.15it/s]"
     ]
    },
    {
     "name": "stdout",
     "output_type": "stream",
     "text": [
      "Step Limit Exceeded!\n"
     ]
    },
    {
     "name": "stderr",
     "output_type": "stream",
     "text": [
      "\r",
      " 98%|███████████████████████████████████████████████████████████████████████████████████████████████████████████████████████▏ | 985/1000 [06:34<00:06,  2.16it/s]"
     ]
    },
    {
     "name": "stdout",
     "output_type": "stream",
     "text": [
      "Step Limit Exceeded!\n"
     ]
    },
    {
     "name": "stderr",
     "output_type": "stream",
     "text": [
      "\r",
      " 99%|███████████████████████████████████████████████████████████████████████████████████████████████████████████████████████▎ | 986/1000 [06:34<00:06,  2.16it/s]"
     ]
    },
    {
     "name": "stdout",
     "output_type": "stream",
     "text": [
      "Step Limit Exceeded!\n"
     ]
    },
    {
     "name": "stderr",
     "output_type": "stream",
     "text": [
      "\r",
      " 99%|███████████████████████████████████████████████████████████████████████████████████████████████████████████████████████▍ | 987/1000 [06:35<00:06,  2.16it/s]"
     ]
    },
    {
     "name": "stdout",
     "output_type": "stream",
     "text": [
      "Step Limit Exceeded!\n"
     ]
    },
    {
     "name": "stderr",
     "output_type": "stream",
     "text": [
      "\r",
      " 99%|███████████████████████████████████████████████████████████████████████████████████████████████████████████████████████▌ | 988/1000 [06:35<00:05,  2.17it/s]"
     ]
    },
    {
     "name": "stdout",
     "output_type": "stream",
     "text": [
      "Step Limit Exceeded!\n"
     ]
    },
    {
     "name": "stderr",
     "output_type": "stream",
     "text": [
      "\r",
      " 99%|███████████████████████████████████████████████████████████████████████████████████████████████████████████████████████▋ | 989/1000 [06:36<00:05,  2.18it/s]"
     ]
    },
    {
     "name": "stdout",
     "output_type": "stream",
     "text": [
      "Step Limit Exceeded!\n"
     ]
    },
    {
     "name": "stderr",
     "output_type": "stream",
     "text": [
      "\r",
      " 99%|███████████████████████████████████████████████████████████████████████████████████████████████████████████████████████▊ | 990/1000 [06:36<00:04,  2.18it/s]"
     ]
    },
    {
     "name": "stdout",
     "output_type": "stream",
     "text": [
      "Step Limit Exceeded!\n"
     ]
    },
    {
     "name": "stderr",
     "output_type": "stream",
     "text": [
      "\r",
      " 99%|███████████████████████████████████████████████████████████████████████████████████████████████████████████████████████▉ | 991/1000 [06:37<00:04,  2.19it/s]"
     ]
    },
    {
     "name": "stdout",
     "output_type": "stream",
     "text": [
      "Step Limit Exceeded!\n"
     ]
    },
    {
     "name": "stderr",
     "output_type": "stream",
     "text": [
      "\r",
      " 99%|████████████████████████████████████████████████████████████████████████████████████████████████████████████████████████ | 992/1000 [06:37<00:03,  2.18it/s]"
     ]
    },
    {
     "name": "stdout",
     "output_type": "stream",
     "text": [
      "Step Limit Exceeded!\n"
     ]
    },
    {
     "name": "stderr",
     "output_type": "stream",
     "text": [
      "\r",
      " 99%|████████████████████████████████████████████████████████████████████████████████████████████████████████████████████████▏| 993/1000 [06:38<00:03,  2.19it/s]"
     ]
    },
    {
     "name": "stdout",
     "output_type": "stream",
     "text": [
      "Step Limit Exceeded!\n"
     ]
    },
    {
     "name": "stderr",
     "output_type": "stream",
     "text": [
      "\r",
      " 99%|████████████████████████████████████████████████████████████████████████████████████████████████████████████████████████▎| 994/1000 [06:38<00:02,  2.18it/s]"
     ]
    },
    {
     "name": "stdout",
     "output_type": "stream",
     "text": [
      "Step Limit Exceeded!\n"
     ]
    },
    {
     "name": "stderr",
     "output_type": "stream",
     "text": [
      "\r",
      "100%|████████████████████████████████████████████████████████████████████████████████████████████████████████████████████████▍| 995/1000 [06:39<00:02,  2.17it/s]"
     ]
    },
    {
     "name": "stdout",
     "output_type": "stream",
     "text": [
      "Step Limit Exceeded!\n"
     ]
    },
    {
     "name": "stderr",
     "output_type": "stream",
     "text": [
      "\r",
      "100%|████████████████████████████████████████████████████████████████████████████████████████████████████████████████████████▌| 996/1000 [06:39<00:01,  2.16it/s]"
     ]
    },
    {
     "name": "stdout",
     "output_type": "stream",
     "text": [
      "Step Limit Exceeded!\n"
     ]
    },
    {
     "name": "stderr",
     "output_type": "stream",
     "text": [
      "\r",
      "100%|████████████████████████████████████████████████████████████████████████████████████████████████████████████████████████▋| 997/1000 [06:40<00:01,  2.17it/s]"
     ]
    },
    {
     "name": "stdout",
     "output_type": "stream",
     "text": [
      "Step Limit Exceeded!\n"
     ]
    },
    {
     "name": "stderr",
     "output_type": "stream",
     "text": [
      "\r",
      "100%|████████████████████████████████████████████████████████████████████████████████████████████████████████████████████████▊| 998/1000 [06:40<00:00,  2.18it/s]"
     ]
    },
    {
     "name": "stdout",
     "output_type": "stream",
     "text": [
      "Step Limit Exceeded!\n"
     ]
    },
    {
     "name": "stderr",
     "output_type": "stream",
     "text": [
      "\r",
      "100%|████████████████████████████████████████████████████████████████████████████████████████████████████████████████████████▉| 999/1000 [06:40<00:00,  2.18it/s]"
     ]
    },
    {
     "name": "stdout",
     "output_type": "stream",
     "text": [
      "Step Limit Exceeded!\n"
     ]
    },
    {
     "name": "stderr",
     "output_type": "stream",
     "text": [
      "100%|████████████████████████████████████████████████████████████████████████████████████████████████████████████████████████| 1000/1000 [06:41<00:00,  2.49it/s]"
     ]
    },
    {
     "name": "stdout",
     "output_type": "stream",
     "text": [
      "Step Limit Exceeded!\n"
     ]
    },
    {
     "name": "stderr",
     "output_type": "stream",
     "text": [
      "\n"
     ]
    }
   ],
   "source": [
    "# Actually learning the q-function\n",
    "episodes = 1000\n",
    "alpha = 0.3\n",
    "lam = 0.95\n",
    "evaluator = Sarsa(alpha, lam, accumulating_trace)\n",
    "for ep in tqdm(range(episodes)):\n",
    "    steps = play(evaluator)"
   ]
  },
  {
   "cell_type": "code",
   "execution_count": 23,
   "metadata": {},
   "outputs": [
    {
     "data": {
      "text/html": [
       "<video width=\"600\" height=\"auto\" alt=\"test\" controls><source src=\"data:video/mp4;base64,AAAAIGZ0eXBpc29tAAACAGlzb21pc28yYXZjMW1wNDEAAAAIZnJlZQAAY5VtZGF0AAACrwYF//+r3EXpvebZSLeWLNgg2SPu73gyNjQgLSBjb3JlIDE1NSByMjkxNyAwYTg0ZDk4IC0gSC4yNjQvTVBFRy00IEFWQyBjb2RlYyAtIENvcHlsZWZ0IDIwMDMtMjAxOCAtIGh0dHA6Ly93d3cudmlkZW9sYW4ub3JnL3gyNjQuaHRtbCAtIG9wdGlvbnM6IGNhYmFjPTEgcmVmPTMgZGVibG9jaz0xOjA6MCBhbmFseXNlPTB4MzoweDExMyBtZT1oZXggc3VibWU9NyBwc3k9MSBwc3lfcmQ9MS4wMDowLjAwIG1peGVkX3JlZj0xIG1lX3JhbmdlPTE2IGNocm9tYV9tZT0xIHRyZWxsaXM9MSA4eDhkY3Q9MSBjcW09MCBkZWFkem9uZT0yMSwxMSBmYXN0X3Bza2lwPTEgY2hyb21hX3FwX29mZnNldD0tMiB0aHJlYWRzPTEyIGxvb2thaGVhZF90aHJlYWRzPTIgc2xpY2VkX3RocmVhZHM9MCBucj0wIGRlY2ltYXRlPTEgaW50ZXJsYWNlZD0wIGJsdXJheV9jb21wYXQ9MCBjb25zdHJhaW5lZF9pbnRyYT0wIGJmcmFtZXM9MyBiX3B5cmFtaWQ9MiBiX2FkYXB0PTEgYl9iaWFzPTAgZGlyZWN0PTEgd2VpZ2h0Yj0xIG9wZW5fZ29wPTAgd2VpZ2h0cD0yIGtleWludD0yNTAga2V5aW50X21pbj0yNSBzY2VuZWN1dD00MCBpbnRyYV9yZWZyZXNoPTAgcmNfbG9va2FoZWFkPTQwIHJjPWNyZiBtYnRyZWU9MSBjcmY9MjMuMCBxY29tcD0wLjYwIHFwbWluPTAgcXBtYXg9NjkgcXBzdGVwPTQgaXBfcmF0aW89MS40MCBhcT0xOjEuMDAAgAAAEN1liIQAN//+9vD+BTY7mNCXEc3onTMfvxW4ujQ3vc4AAAMAAAMAAAjQi8FtY7AtjPgAACWQLfQvoBgADd3auVxz1CajEPUkyBOIeYtadKLwM9g+vtMuhgKeohpNN6O8XniZzRZT+6cre9ppjvGpUDxZHEEv4bqR+4eJiU3kYbUJOttZCzbfERTyikVusEAXqmv2yFM9kFA/+fwCkfSYIUbcFHGyWAxvhiTD33NGffistmVC5Qyvjm4SJtMGlJUgxWohmrSOwr/WGF9xsADXTr3yVC8eYKj7eBh6mr0RAFSUFNojij+RvlrbSFKQoJrHPfQPA3LHODcqsFwf1p9R4IaiUEE1wYa6nZfngiXl0WfG4QXQZ69LFj+WFT2p/s4nwtQkWHAO356tueolY2JMr6eoK6m2iUorgyOQ27o15xZcu55Xv1uzUf9UtlaH+JPgjutV50iHbb8YFgcFFgOOodJNaAbTCELzVF1N9wDPBvNBMuyCMdfKPG9pihd821EzJxaAaF5engz72jeXx7lmaMLXp3/lmA5dY0q3vUqkU9Oof+mUQ7+8UwByTauqsWEiNDX7ZTLbUgMyq/p0qH8P/ebuxnsGQxdMj+8i7PNszA2PtJCdZu8LrNxyS/0SnjGVwAAAAwATnfve2bH1PwHrUxZS93hlDyN4Bh4zpwB99XuHDY5r7JnrDE0zOHohEYyEVrxwFNkwpU/UDeE8SixKHWmzkAA58H9BZ2Di9s0Doh3Ytx/4tEU/GekNDrn3sZI635wV/DJfkHVkIT0zjlZspz9lOd+2dzQ7lkksNAmc/0x8jHHmhoPV0O+ns6zrfhtRI8LFVfZm/quO3AMCvzC4BxquxnJNze6IAMAEOWGkAjvpZrolGz48/2HdNkCjiA3S95kmOlbsRhbCgWDvH9EkTvqo6U/gptEX6F5xS5RYY3pVe1SOwI/pL71oaqnb7GYdKAIw7gPyrXhn4EIdmuE8BAfiBr9hpHar98SfZSMV/98qMMckhbmdPn9VVMXnbV6eR8g8AATkcdWaxnfjiISEvKFlC9hHZiz+z/CFyAmwmJshA1dQKcA5xIhBSqAVSO2Y5ZdynFRjJnBA4AUZV2ZSbD8gPCcj+nxrRJZoR0PhNdBye04ZXeq1S7P7GzA3LKU+MoVZOVf3HaG05/5EOEoQW7J9ZhYlJlAY02BMFTgfJ0VmGfn2UaK0oPlW1cycBM4rqIw2gZnvuAUJiukt4ZsdOI3Iz13o8PN/TnV/9Hpj8MaegQXobbmyzG666vinptMf3kbiOyBHjvZ72pZiB8Gq842jQPNHnKO7/M66oQg0F7b2yASWXSEp4hw06A/VaeNplJupB4X616nmPHuWLxPt6tWsNSNyufHtkO/VTfdNFIFhdfEHX6UCDywQE3cIPbgAAV1Z9IPXgMGAQygYdPY0Xnkc/5ID/TAQz2HvHTlbYH1C42XfZJQuFXnAVKF6f/vzca9uZ1LdyzVso2V3yx14QqpgPawE3bvPP2j2O5+PgBgE/jQ99+4v4BLUOHUaxpQ5Otb9eoHD6II1IFcCsdUt2cfiiqVe1gGEXxU5pzAaBofv66gN+pVAbvMCFxQ/ChoZQLXa0aE5U6sLFQzLKTtazLGNejM8vbyjopOXL4oBzVpCWEiNpM3+cXmI1OBtajQAACnhIdD+3+h9A5jzg7x42EsrOqe74Sj+a/cHZJfrld2esalmuv59otwmgm52scQRe61kEWRu3Molh5Sn55FZPxT5ngecs+tD6nnsQVR1HnW6kpVCBRZ+OryLcFjQeZnU/tB5OV4gkeTemCetHljIDbmbp6typpcDoEhfSGRb0xOWJj/xPg6lhVtuYPh/CayAvuKlWVPIfKqBThJ7W/Bmp+ZwsM14dgn9VyV4qZkIAvVMDHhOoqK0i5t5pbHXL9WwPi9RsXOdRIIezyqA36AnwDEoedTR/+K/p7AX2ip5o4kqMZSM+p+jZyyehmXYJXnZLL9jhEPfTVs6RQzeX8zjBDqCkpD/Ij9V4kwBKLGMOnkLTKudbousvlfKBFAVRzSy16jh5daIv6GHpLZjssYNR3eXgT8IDED1gmFWAUNpntM9jdKtQplX160UFbM7IWis08cC1dIz2JtWZXPBbCsgqN6VigxMz38dQdrDwQOD2TpoDJKvRxrCiHOUofBVwlKvCMoe7/HnLXD89YSDbAgSpfEA0qW6XJ+bSEAbnbQ+8mkrFTvMcOaN1tsPKQDHKv9Wp/7T7OzbiQVuDu4EuxJZewp2CCGfTDtDj9XIXElTG2P+/sFUN3NT4dAkuQ74TPYhG7oYIARlV9fwZFnndINV68pwNZu5gFqmd+ApZPjpRYReF6+QzPqvg39hVKcrMtTx8D1odwXewpIt3fyvkiAwSRR2MRzNbXVEPT/AAnUhwUONnGFejXq+KCtKPtm3IIZACMod80gv1+xm1pS1feUC7r7mQcRUnU2mL0o9K9rgcj0IziK2R34bJDoX02SzVeb/yPt9b8Mi+GMEK+AShPSVh5sTxFNjRXdgECTVKUXm/dnALeoVV7tdrnSwV8flHw5zujQET052H8DmaIEtrqaykBgKq6gTM9LOsQDhut3ttc96eQFXXW/pqplJnpSc+xq1Us+DF/twwGr/lOCMyf73xQ+FfGzM9okg/UXz4doQSWhJ9g1ZLu65aAudgX+nM8ODnoE68hiuoR7pkiUg9FRJkUQ6sI9VtrhGMYGeZ1oomQJ1f3TcOBQaYw2Jxn9HqHgnVfD39x+tjnAHi3e+UmEBbtRg1/nDLWlLi8GTAwjq9u0W/eQMdeDpOMkva1Q243Z/sVyC92jwphcKRolo/V9CAI8ZMD1OUNw6UisLZ59YaUAB2+1UXery1oqrhijbCoZ2AJqnXw/OPMX37Hi78lkj3qBYYGSZu6Vpz+0bJ5RFbM6K9fYuCWhvEqQeqBwJmtrGfuZmdwXp7RN2OQRQv+9BYOJ83Enx/lhIGk8+UZwiMHWUu6lyuPOMb9lNUDcoi+JURPDE5vWfX/g7C0W0h+OF7uzVO4rT13GUe92F77KkPzO1jEadtQH4/NY616HbG/UNOMuWfP638yMbj9oq/IbQ+CNyisYZi1rHyY3DbXdjgBfmbtF5OWrKZWhdGwxKtQpeH2RYqh2jc2Khfc/NRlhnYo5t3896jzkAeTTMk/kdmbC9Yxsw+5m8w92y5E8KMlxGfFdavm2SJ+0SmJ9bb31ZXjYgJY04y3oMmUBWqeeXBguMQtMN0E05+co6jXsqZk1AdDc/f275NB9XwMBssNUwtOgRTUHnckk5CgPsRGgdbPjrT3/LzZF6V+RY7oW4pfwoZN2mIzZ15C2wYZD/ZWqeBPooTtu3XAE28aGImQZDXsJ+0TKMlslGZwPDRryStcaqgswuOnf87xQFTkYid4e0+r6YHAzd0XmB3DZuEbOxCaBXfofimDrzOv+u19UbYZWxeegCbyEPjGoy/xm2ldz+oxqHKGTT/8pNvTF3Dl8h0osR2Tezvi0BBld57p+2E3//e2/76NVTgGuCLENJZOSpVreaP3UhsYQTmBIiFGL8SddhnBXMf6WkO6Wj/OzIwGWqfj/vN/kOFUt3jUn6m4HaT+iuBP9G6kHReXSUewWgevgn5f6RwABp7wuXcUsGUP1EhZLPycufFnTlA71XsNku0WmIZGtH++cPN25Do3Jt/ZtVyULNeH2pQlGoj0sOE5Jn55WIKGhzn+R5AWIa08Zx+zIQPexhelUsRWaDsudxiVso0Qfqz0em0qn8yJBIT/MVs/6sUAi/9CKQ9ol3OKF+lbU1sIigWgKiEJnUyjMP+2kdnzKbEeAtJUXaxoSaoWGUzbmJQR1aGOz/x/4ihgVAYnxHLf4TAMBNZ+RMGxNGcL2yAUzg3iq7gYfD5wABFAvHmxcQp/KTBiptKaVCEaSdge/BoynoyDXqyJLf/1Zbp7OVqHUQ++M4XkYgcVJfI1vSJFoTFr5d0j+4BWccdZ+9NrMcePCMuGif5p/1XP8f11D/2C3hsNM2hcNYk5W3vBj7A/v0jtT/SuYuNvZ6Y3viTg6zAT6n0Weh/LStt4sLiJpW0coOcv0/L44S80LYVwusRC/EEiMJmm2kL4OtdouD2nmrwvZd3EZiD0JVdIMTSoaogCsXqgMXUs5UzE9qh27+EPIALiWPnwlsSNO1cEUSb4V/ItCWvf96UjlKNeAAAuAYtXY1Z/1X8CQVsVvUC0WM72dTVeu+v0vxp4ZKyN/gqDjTTtEc8hK3qfLdiLhsK4Mnzbj3lcZH6QSmdh0x6kSXmaNG73oxM6DtFDbVq6VFPczluhG/FuB0QMccvUNO7PhTujXVsXSs7Enoz6417YPBu06pLe/3Pyv7KEsl+OVWnTn0VujOdPDOAuxb8L0LDv1xbp0D8d6batxt7DycgIXqoQ7Gs2wL3+bom/hr5cj+Mnz+63uXWq/eUnu9GqCQylIgrVj6l0k1SyYcL2J3tMso0vXfOreuk9rhUXelKgzwaJKhFN3rllsxi6tIDDk1DaYspQcHW5sGIMsxju4//QJ2P/AwGgN7+R/Ccr14Rlv6USqIj3LT8nQg0A/S4dU6bNB2Lddj5gHnH8ERyl0a8X7LPzOFp2M6iQAbV8RQz+iFSWuuSWQ2+YAAFSY0tnR/G8g/kG+/9zKo3L/UEKokSECLCK1MVA5+qYw0BYsWTvKBKp6iDeSIgf48bVErDOW3etQ7tsZNhBf3znv1Sd64pq8dgA93LmZNh+prAAnM7sNdoL3cStY8O9Nswa5sIuC60qs6M/Fzd5RKz9sJW6D/kAnEYXWoUNWKMLq+2kc0DiPeV3e0PSR8ekbM+PiNObPzSfBPsVxNV4/54WlKAotQwc8w45QylMENOXL0thqf9I4e2o91XP9z/R/bRmSF5iEHy2ziRd4vH/+Azo6SPCmUmRAF0ULNqnco7GGMR/tf0PZki/4caGqFpx31nUGU+tvhZ0uqmF3/i39NRIqNqUalJti0fxGmNXUqAm6/IUEDJvhVxSmdHOD5Czs2BU3xJcvwwsrAMIz5wxxwV++OWAwGeockysFvEp6fXkdrhLpLkec0qQmMzG0gn0jS+NELCd1V+n/ax1qwxgr6wgX1oyCxyIdY9GI4Ko8WGoZXsnrv41NJaOrB7XjvgksxdgHY/Iih1eYsgqEcmC3sKH819uH2yznNlQIAAFzTWPGNHPjZkiXXYahn4nKl8tzpscwb6kQR7gTJrNyEDP3zFGI3zjO8bQngRosFN6HZuGabjnWU0S5n+qBtacEkM9RB9fIAWTgdWG7Jxf5AdZBGrNw1oGPlag3hq87HD5/rLorDfLnTxYzVhi+Wl6PSop0o1JKm1yKqdW+LkCpKFG5xXmuyCaXsWHK+JTWJAUsSxw7UIQDu5uYbQJ2tagEp7rQ+cqrCB+dpFvebV+yS1zRZmooGpjYlZ3HF08bd7BulbiwTKuRidJubAzfuuZLRRB9ownVuPB5OipJHSBUwj4ArM3jnPGOpBOI8oMkvg9AuQar0WPsYHLNgBkqEODfKiVCjt4tFxD/aTbjF+/btWU3qRQs3/v7CqeDF+5dmbYbeaGj8XNGIz6pni8i/bEjik8SkPFHeZub6YL5SV8dMQg7qFEwo2a4rOdWfELuWIi844yvNKTkdsewQpgtC8z3oGHAr0S7ZxvKkCOprGLYjNBSjoHDbQZgBhXYCM8iiKPkAp5b+xdO0pquUymHfr7lKz390sU49xu+aJwYsRrh3Mj6CwaPT+4x8AUsAAAJ5QZokbEN//qeEAR2a4SCmAOABYdcWNR2NNpk97PNpWRMEEgsG5uI4FQEX4VZnWLLqnlzT7XFTQ0XeprNL/QLTGC4dO1Mqk78kdRrcW8dN6bZPtSTa29mQpcG5ZxxBg5LCTX1qDOgWy6krYzyBh8eEXoOL+OlnXl9lOXXgVQcGHPxH9szff6dzi8QOyJdNAu6xmsrQ8YprCv5ws5apwRO9o3+LOxQNV+04i0AEoAQIdm9/8SqXf/oQwqV4KNndPT4qdpIhASEIuIOHD0m4S8DTjRq41CuuyQv3CXKHA+t1n0+ybtOy0H9ob6JzrJTL5EEFg2imvpxg1Y7HkhcoyAKwt27ubeof5HRG61CIlS2LIFe5qc9grhMkRepuQq+E8UOxCHKRCZXQr1pYyuio2J2SHJfjTYZp3tTOwWkG5ov+UxjYvcjjYxKvfXniQOwzapp4IuPSiLPVcfjKy1soPJEi22+H35aBvdLZTgFqmXI+f0LFBs5EA+i/Bx/z5LvDEk098FHA5sL4ASsXEOvhJfOZq3HIh3hyinBNE12MkSgnvpPlnZTyeKfnkPNhuP8EDW0d/W+jzg3Ss7NSNQAgdt++KmJs4V9iFFGXnXJ2PyEFg7+nn75HVkwP4X2DAst7EcXxfkQ8oBNWwq8q1FaNBB3UvvB02yx0VhrVroFHCHdCa/ehEBI06z11JesQ41BF0m4eDobzlZAzvr1xX84FuKw5Yd38/A373yrdyvPSvCZkHx5cUP6Qz9tzqMNr8RvuiahwgaSbU3ZKo/+YJzkUtYA2qx7LljfSX0J7vz5V64WAn3mHjR5EuUy8JwaDcWboVuhgj9yw6awLxQ8IAAAA8EGeQniFfwANgP+V7ayBXEOMRKfZDvDsMLfa+Nh6a4XtnLXvcZMmyudsHgNDWdrv5fzJJ0Ocl/nCZOMR1AviGMhtO/y6XaNAAvkeyEqWXsBg5wtbZR/ojaGUhu0f5P1wA79WPq9QgAQG9hB0jNHdfBqjKjqGetem8RZ8hc41D079Urd8vuo0h/nqkEjCgXE4a4bBR8FtdbrbVKoR02sgFgGcIapraJDnXD7gnDMJUvn2vSFOrgJxG1oXxqTMrQ+spwTw2WJ/2zX4sz4j+5x/9NWlZTG++PI6lSkmwUqAMpUi4JqZO4rOVFKhsgFmMzbx5wAAALEBnmF0Qn8AEVaT2+S+wt3C9jGDBkZeDDoPnbW8Z8uc9QuIkPiPVdAnye4apFutBlnVYIWRl7xwm979bABzAs1hEBMDZNBnB9ie20w3fm+a05f5tRvZ2czx5VjN0o+HSG2oJPpeJzUjjYyzjEminz6Tv3uobYfcQ6jfep90pkfHUgY+ZcswJ4QBmtvI+rvhZpASIR6aXp0jRtaKkEIyOBwXsCc4n/ed0cvTwsWUj/W+1zQAAACbAZ5jakJ/AAZx4CZ3nRrvA+NiCo/aAgR1v2d+CsZrNABwWTbGcPQgQfz4ld4GKE4GeipUfS0xIX5RtHy7sgpSG7FFHFcWhsRIB+WLjzSe4KiOv16nqfgyGqNBgbHcl1QxJmcYeRwLasXO2AC9EwZvv6gV/qGurXt5WS3L2tx1APelZuIFczaXJ8i3XrjhMSH5TJ7M+p0eHyO40YEAAAERQZpoSahBaJlMCGf//p4QAKj7v3x3T+LGhsI0AH03tUaLhr/rCMhQAhT14LSRFwvHWY2RhzCx3nQsm0vTfpho0GXuts+22E/7rHhNUj4wnyBnm9kyvSpArh47ugvpMqZod18xCKsIHBzqIaxPNutVrnKjAEQhPuAT5min4Mk9eJjjpObZUpcAfLXhao/YSR+YnvwNdUUAndYMNqGO1BsHPInKISoZfh6HP/X8NA99vWZw54H3mOkkS2n64gAfOJ0h74c8sh5CKWR+FCITeh8nY7x2JCBWBAwuErGfYvg+4sIvU0ghRMRNgh7n9jQtimNciDkmdszb0nDU/9iOi1sYfcB4KOguwOjxTxBbJEaNBdJBAAAAzkGehkURLCv/ACKyO5P6fe19vwzGvFgPIQ028xsfNFQgnZd9yYAG0F0dNqb4pbmecEM/ZK8r8lVmbHpAx2dB92myGY4iKfxI2ApVLbvYHcNooWcI8C2LNcJHOsKkeIZ6QqAq/4K++us1/IY2MZA2THzAnce4t0f+wZpAYxYh/qs+V2eOXSlRs+LOOlcBojAQvbkDUI8s2eOV7ZXbvOKToptpOVZ+1VrfnIUiacGTzHoefLiYm9jvoBaYOTzDBJjVE580i6zNzXQuEO3cakhdAAAAqAGepXRCfwAGb8nvIuzyTzfG/RzohltStl+ncIzTWvQAXT+REn7tpeGwG+WQ0WsZe1l6eSlqiOnMoEXlLKMo/BPmM8qRL4HqtD2DJjvNqY66pdb9cXPL6wawyz3833RJfDdz/qz3D2qp0kgExH/X4LcHadGG9/xBGZBSGtqit+TjFf7J6wqzZW95hWcJtkyVIvQdn/3YZJrZdzZv116sUcYI2ENc207V0QAAAJIBnqdqQn8AAo9v4GumK4TYmL+hhjMIVY010fdNstEvwAOaF7DLOwvb+niSdSNboGJoaviLB9Bt8aLiHjqJkg9kTtCyimv2wuzsUY5dlky+8Dx6eaV1ifL3p81bjCaAFfxGirdkUD4yyVyhGaicql75ps+C+7nWzEPWBk7hiZlrZou5z+VcUeG3oO9HP90C0vpEgAAAAOtBmqlJqEFsmUwIZ//+nhAAAAMAASb4rM6hUUVwiTcdzp7QsgA4S8Yrui5Gqrd23uxQ6cjicZS/8GtE63Xa6u7nkfzm9U4EeMeJ9j7hMYXusO+sNFMnTgSJnqt0t+obHh+DKmdpUwivCCuTt0sm5f00H+00duNB4CyfBjvqFTqDnuE3M9rI26vRThuDBF3kF31EWXv5B2ek2s4SIxxVfBkFn8UN5T16+kOGzIuOlQaGbHAs5MMB3Q7UCLss2KPU9iIIUkYRfHCMutKZEJimt4oiIARuHHdbkQ0hay2hz+uow+P6GwtBmKIaz7aMAAAArkGayknhClJlMCG//qeEAAADAABNum9rHbJxU2FgpNLBDtgMjgFngSr8VABOmCf/AQLuTff57a/BsKU+EaJcxgm5tzpSa1wj68As/67nSFAUA+YUeZqgT9HmMsfXoCBEpj9B/3xH+Ws4DZiyo7lIsixLD1TNIIdNXObAQJNi/oFOOCVaZYey8+U9fr1bI2Q/+gJRHkgQYqj6moRmqCnPNZbpOfJVPqytD/Q0YcM/4QAAAShBmuxJ4Q6JlMFNEw3//qeEAAADAABPcTw+9m9EvfpfgAB14LNfs/ufMck/ZI2fe32UIB9UDJD6Oryc0xVwTYmc2tDr3qzkLiRAJrtHMf4Gvam5rRuiDeyVxDDJdfX3DzRGkPFfvm47OAbbZjmQf4itdgU+p/920Dsdlo7hA+HfAWjmazVLg80C2g2uCkKWzIfOrkrI3iv8/NSmBYMg9bhySergRzWuEobePVsuOdIDRdG3wQTBGdQEp1midioW1f81+wWAw585eh/uVQrsTQ7yJFZ5/+YTMwkgL2UOoLEhVeMP9nuc4AOWhs6AE5a4yvZzjEcuY06xnT6otw/O11VqUICaIGql5KoGcryioOdl8syuLNI9bdxW6PIM7Dw/jcxZGj56JRoksAAAAH4BnwtqQn8AAAMAAFQt94Z6k2A4AHPzfq+2H5vhfpp6VED7ETR77mfow84tRQTAJuPd73BmE4hv1+c7+4PRFxAGkfEPGCkNHvsSuAl+2HzwEBYJWEWzoJkhHANiY3W3sHWdQz7fEZOQcbkUWHCq8RSSGD1SiLCoj/QF/mXcLPwAAAF/QZsQSeEPJlMCG//+p4QAAAMAAFGhPmorcDxygB08VugANFrWa/4NkPOpo8/Tfstd7L38np6ZPwt0yoUV28wnxCxUIeuUHh51Y0ng0Gqc1L7vnujvLXCNs5pWB87tQlo7P7SIkCQc+hMh/xNVpjji0b0xCl9ETGupx2oaQsGye5i6iPfg6eD2r4pDeth0eJ6MbWhpJRfmZQlN9XAmX0j7QrWqN/ERKGIuiZqlLgDLvo1Gvwifa/I0Ms/HaNbpeWfJaxMkH61liSzobo+698gdEvmgZJIEDEkWJSTnge/xLf1enH1BewaAkHuaY3TkRNpLtRi9I/9Bfp4ZSUZgAHz3QIyYY2zcoNFsW1X+yKmIWIoKwB6OgWdFLc9VyioEtzOFRSVF/bZ75pVbZW8yxUwwX0hFUuQ+KU1XBO8Eg8pjJc1bCElwMToWOigyyKTIkKItia/80q5fCNmHM7mWU+mcFbqmqZmwoHVOaTapbWRtbanxz1LdrGfOgbSnG/AiRV0AAADaQZ8uRRE8K/8AAAMAAEN12zlg7EeAFoXPquNbfHPhoQYCjug5zL+yWxr/7CL/+t/hgwGzf4FaBwKfoEOEEFK+mQV9pDKa9ixcZAGyJXYVx10H2oebDegIM7h3DrGqeLdcBJkjkc4hkYlnL1al2PFbLcc2qDrt1Usedxfr+JbfNCZtNGFn2HjN+uBwmg5O0M+Q9MXmEhbvaYl5oTyUkQGhtbCUSyLibCSeTm4qUoBioTYQxYP3r2z2sFNlG6tO9YS4d+NbQjxoDTVLlNgxOFqh+IFYR77NW/JK25EAAACsAZ9NdEJ/AAADAABWdFv8Hcj4SYABtRzgML/GtQcI66JbA0L8Kfgy2RcuUvhuJdaWSgprSil2vcI1b+T3Rf+MdftIiKvEm1OcU6iLtDSLJcAJ22La7uh6+bsduXpc94TKN7zi3Rj7iSkY7JsSqeojFSyVN1iW8VbzFgpA8sxlz3WhmhZ+xFI89JgpjXPYgNG1IHZnFnfad/It3+ev/9ThXuxj2iEf5JyNebGw0QAAALcBn09qQn8AAAMAAFittJ9DbkXgA3jMC3ZA35sJEo+Fv+8i1wbjoDDDwAPQf/Y3rT/DLQX/z4j9EWiVqPaXWaEkbJDQ7saNy/SDkI9gZKklKtYgGaGNwqGvVz7kdJlZOF8cULhwiohQ7WnkjY4bv8c76XgtnKlqwF2WYb7RC31ZVpcqQ/B6T5yE6ISrucOBSX9sPunxtSamUO9kwymMi1qtdftSssO3uCVc4mvpQnJRTq7kDJVoWEAAAAFnQZtTSahBaJlMCG///qeEAAADAADcuqybva0ABDHH5sTANlR+DBoJ2ATwScs/LP4ZCGmTBCA3kjBNZLQ5aAYf2yNvF2TRI7DqCRUHi2PaI35hDx9u/a1tCnuC07dpOxaI8oGBOaBEFIdoaa15XXCM1CAXClIvkWIRiqkLlBm3pjAggBCe76+8xsFuifVuzulRmYOrB6uav5z7w0RC2XKDbRsTQu2m2tqzDp1regtCusjFYobcAMmItH3m7uSxlkXGv+4xpSjiHpyl/KHaR7ftws+cHk0ayCGtr5sD3zctSu5fV33BR2rouHOArUBZBioexRB1hpDGbzLK2N/T2jw6xLNR+sXQqHQDU3ZC+8CwzsNo0OewFuEwKksls6azXfIMvra+L3cwWD3HGy0ejoYSt6up11YNsVTS0MnEyKv2WF73oz5QTLk+l1Q5gQHRzAOKWxlZzOrqctAG3T4H/zj4Ki3gxvqh9WsAAADOQZ9xRREsK/8AAAMAALXXuX/awiXKtcnkxwAg5Xyarq7iDh0BfVF2XC+f4ONpMZrznzed6IXbklMDpbBk32wFzCJa4Q+VRwLydJ35m16ycB6aH9f8kY5KaGnvvSO9DITvH7kUKbGCOwQ/37D9T5xeeEsi3FcTMzIUdljB6G4K+dsCty+kx5sfIs35DbYCR7DKrE/WwywXcE7o3mivV2JKnKS9kukPLBFy3zHFBHBpu7WUeMdmdpNbFA/zj7tBmcH+cJ0+vDDFv9oMpYUgOoEAAAC+AZ+SakJ/AAADAADn7DbpBXgBumX+noY22w0g2eGC8HIoqO71lq/aqoC6akJdPcDTlv5kkM605wasxeBdPDu6o85C0pXu3gUHMvYD2ubUzQmrJL132p66AAJvCDZoGV3DOJzNE1iNwYMkaiv3YJYGFzkwJ3E7k7TQKHuBTFInxlNE2taUc3tI9gfvbRyQc/uA3WIlPDpBqP0GTsXUmVX4bvOgGbvTJlALgqCjqdDlEW9rcbmdSfbaxP31W4dBfwAAAWpBm5ZJqEFsmUwIZ//+nhAAAAMACSiGrlfFKABdROSBP50guwLcB+ODpKzkCNKCwLAPAorrvDqj6xWrDOsZqF1runP77J4saolTRTtc/hYPkHeKhI4MmvIkmtdOzSN/x0BfONPFYfgEL1bF2PjwYGauL7294znIrAWuuG4UJxqlnBEiZQ5pXgnVnFwsvTK/BBC3FEVj6TJsKR1qRBbGuOrqXF8ixVLuBPgIECpmdudjzd/R6Mo/Nd4KZ18Mtfz5v+e7cSiPTzA0ecgjeD0jAV5CDkFPYOlYh32PSLicm+tXYnrUDvJIsObstMBPyDE1HM3PlrJnYih+A2gIJ9hT5e/FHm8f1+Y5vljEiT7X1p0LaQzcmD+iTx2pIzs2yHpUCL+BwL4I36f+jgISP3BBj18qibU4wI3qVLXfWko33Uzha//IdQHwtp7l5HqFhrh/enmiRkXFgNrIs53EKBZoqot9wTFngxtxEJKQPQAAAMpBn7RFFSwr/wAAAwAB5mU08ZYBHRs8LVU7bAAKk6vkXoZOT8F3j6zIu8Rh5etW2qgUzJ6EojkxA5MzGlhw/Vk8Nre/H7OnhkFNhh7XcNHkIMTQfkYN6Q8GbzWCeTKfaiLMsVb8UfSAUfqYI5vd+sSVZjNnoekijUjJyogAmYTGN/jZG97bzlAOAjDciQ0cJP5wolyBomv8neTrqwBRYbSqSjsIuRjs1aAWtNMufLzZjyjPyY2Zlcbtbllpqp6R0j3Bkz54T9R2+y7hAAAAlAGf1WpCfwAAAwACfW60wkv14bQnZ82UHi4C/UkocTawTOyE8AIEXXr6ywmWFpL3Rrj2PqVxEiBnU9dLb+M0yhFAdDVOKKSOUMg594pM6BVtNUpnC3gjUUPyWzekaMWqOTBkZvS/VQ0FiQ/6i6QegE52kRcggMae6LRi3foycWd8QhdX0XN6S9/3lHhL+4H+gZpUW+sAAAERQZvXSahBbJlMCG///qeEAAADAAJstQyK2Y7USEkAA68FmvUk0bKklDn97fZeB/kKBnoWeWZpav5dfV5WTWe5wOaQUZUVskgWQBnLW1MrGHqiqpQ2sIVQOHOxfz43Comm5lgw7eIN5UXeuNn2voG9zEeLGlX79WNsMn5czaFIXAnk6GIk0cQBWx7xMtijRoqP7MZdQN8PiXpj3bYTeE23RgZLhWPHDA1VEflDJ5p2SsYuuBQPB21IqtKU2o+sEgcjlbBcPstAUaGTHOEbW8li/ijCkhrgZ9nQ7H2fUP3x3ggfwAno2R6X747DDn5oaDZ/SCMzC7sdKHOjSTwhj2MplnHIXVyellAp99ELdYZ3/2czAAABXkGb+0nhClJlMCG//qeEAAADAAaU1oXLctGua921WMx6AC+ox9wXoIm+slwFNX6sahySgLXg/MN4ZsIqvVqmchP9eA7nNpmrawrzQsDy24skfzFqC7l/CC8cAeb7gpY7LcyK7LduE1ZmKbSIWrvmTrqhjbJZclIc8gXol6/A3Ge4sq30g6Qdr+7WG0yVcu15GiGJs+SiWePjnK1GeKj3EMLeMfNh//cj/8b3fW1KCGe3za5zRWL4SYffJFGj52fDaz0uRXvv7RcqrkO/dvC5CGHW6wsYLtjfs15IBM29QZvmAKonJxREi7uHzNHLrCOFb10kg2plrGpOFrN/t2z/zaDvzh6vo2RPKBl1//PIDCD66r6yIjQ87Q2Jh26FNhiO7aKP4ojq1f07asb4akZbC3ifLQJiGnP+AR1Xm35dAPie7oePRzvNrVLUOlggORpTBXiugCDwjS2Yfgo43gY9AAAA2UGeGUU0TCv/AAADAA4rKMpENCHC0PYABdB2TaSzbqu3sDztiA2ZrXJWax9ig1Of+7QtJczIIE2qtqQ8T9YH+VT0jDHLqvL0t1b7CZ90OP5IFneeecA2Zt0/EmKAZe9oTOeE7YCNv5vnEZ8q02sn3Uq1uNNtJbMM5e14ZoJaH67x9lo2GGYMY4DH/t4I00bnhU6fNxB00y+Q7m2VcM4atTBsnI7c2OnRnf9t0euS5ouZkfDwL4mgaE/lIjrD9qPTCzW2I5K+T6GORiU0oL8NzG1ko2P6h4DtUuAAAACfAZ44dEJ/AAADAAbCX40lAx0ucGC2lbs6nQAO0OTK0GkjD/tHLhn4ezAAJbVnJ4dQKFooYrAywPlhRQfPv9oX93PCV2NWITNeqXP0WJg2jshoyRbY+cvVRS7a+0cvWUvmJGIheaSi9RCe6NnGYHDu91cI23yzZRqIm+Bo0Qxf9ER1oiD+ByPJlkjB+eshAMgeFIGb2fRzOnt30I9IZzahAAAAgQGeOmpCfwAAAwAG58xfTyc0smibJN4Y7JtRiBFYR9+udY6AAvZCx+HGkUTWshQu69iOlDOheZUDarsmJz+ioWTflSWocvNtrwfXlM4Y9XnpuuylwhoL25PNrFQ4Ah8G4zItLvBd2KNhaXkkPGCQ6HCaIvwYnrmKV1jZtEKiiHnUawAAARFBmj5JqEFomUwIb//+p4QAAAMAEc5dVUpCVASAEsoDOV+vuTDamnyl+fUQL/ScQxX/SZZUH/gleM+eVfWLLGKfla+v/3ciM8ElU9L4VYbbHzgZ4sdw//0tWkKKPXwmF6mXy5RNDrNmrSGmH3nyaKfusVYsapmk5EkI9QOyqo9w+1fcWUNQCSUFrcIAHbixRHX/xQ6UQzcogEz4evUejuB0hxDOXkhT9/oBxCaHqVA3V9kGfcLwPAazQsEeLY++jlGndLbYtod3rldwmWn2XITbY7e9oG7qbB6Yzrkkob/Zd9y/V71eDHdnDf1pmb564vPImjdgPz/W9ZGE6No42VHXnZNsu4ypOlRKaGu93ua83/kAAACqQZ5cRREsK/8AAAMADlqN6uyDjxVljuw/opVP8vIuy2h0kPQAQizOwPKJIZ4p4pmTJjJJBrGFuAx1CGNP8i1kjha9nWvb/P04wuaLD80VaJ/VHpX4DQ69OuyC3aOaCRIGC8qmWlJT5s5Rkw/Evd7BD6nO674iHBVd6FSk3bY1gNpWA1Uja9gniBHLIXAoq/dyDAvl0h5+Vrayy/ELlWv1ZG6I+8kfkQpfF1kAAAByAZ59akJ/AAADABLduCWgk8dTpK3GMiyIACZvzO05/HkAxf+RHKHDiLyLZP9Z5cthJKObM8+PPVzVdwpzWcs2dCPcmiOa/LPsxU/QkPK/iS2o+0GaoJYwzgqyM/AcybRLXaxZYlBBbQStmOx3CrInvM4CAAABC0GaYkmoQWyZTAhv//6nhAAAAwAv+vfgahEA1iEZyv20PU/ylaopljkzwtPsmeK4Z2FaLUatLi1F9f57eYW1srRebxRn7ZOhkH9mD8xh/X6rNvRUgG2IB+X3RXC7MbjcbFiyy565zwtWNfkWMGQ/c95wkUl7IDMS9w1KWUk72jgq6WmofIhlExKfeH/LOmh5jnL9ktYcwl/a/yMHi4YOOMsoMGmKKACUgsdeWWdETueqnsrJKprv88djdrovuo6/eB2apf2NpQCjatintEhc6RWELDOvn7s6lxALTOzulM738EmJsCQwHB4B6OJQ8IFdPkpaxK43bBmujME58TXbs1JFOjxtKlfS0kql4AAAAJpBnoBFFSwr/wAAAwAmuu2RbMsu8AJnu2NMslgt9qDth9kLm5ERMY4JVl3NLdJjwX5HlTcgA2GdmdX+KnmRe0buwaMPfSs/aGlidXdbZSZVPD4WYOGeCZNDfEdX8UhZgl7Xg0KJCO63HXk68AtkLyxhcAhvgkTxMDtapXPz5ZdF2sy/czNyz0i4gWK+7uiJkj6ee45mVYclCAGBAAAAjwGev3RCfwAAAwAwbTCIzxfXWw4mHx4AOU7aLnKnBiXMqaNxf5dnatJV3mJpmRCmpaQOQUG1jl9mSipt9bK4Fv1wmCspEnY4+Uzh8VB02XQX8QfQjlxci1brXXANzMV4xzuR/bOjC2ovMfxxPh4FZ6LgLqzL3KOMbFbzlPbpj56isU8Q/W7/a7B5H4BsNcSQAAAARgGeoWpCfwAAAwAyQmc1gAH7qEIS7eJXhqFypWvD/M+zPsq4S9hRkUaRb5MFaAUNLz4X4k/q46k6WAog4EFH/w0e+shnFdkAAADWQZqmSahBbJlMCGf//p4QAAADALr7v1g2I43yMIhH7lgUNjTP6XABqvGhLsQ1XfUKwE1/fq69o835p/z1R9Eyt9Q3QxT4hWVXX433ngUhvYY5xmVRHficBIjjhhet/wgOMLh8I07hRxFvVCXx6Ar0Avh/j/OYisFX/Qm/GK/mOJ6w+D0rHeiyxcVm64trdTucTB/qn7Q4O6OB2X0XFUVC+Afq213ffYYSKD+Cib84tuXl1Oo0cLmtkbN9rwhYVTmoozpefDoPc4G6JUMdSvRgClUOuTjegAAAAKZBnsRFFSwr/wAAAwAmshPG8XIKNRdfOABfWcDKSE2Qa34bdmr9HflEfLO70+ElYJ0VR9tWW4SrzTN83CcxPVzjKlm+TlHvEZ4G0KFE190gy4mqULvFurjGsqpc4lRAtKWs+dRtVKvedoXpHybow5ycixsyaqvv0FO5Oa3rS0Xdq8t2V40BF/4sL1zb8jNYDVtaLvYgZtPVOjBj8P+G/7nuvQBTlKjBAAAAnQGe43RCfwAAAwAySB5zQOsABK6rtYpS4zmXG9gXzu433EHtZw2kdJqMajasii5W9Y0AhVj/a8wGgfbZkqK2VwyQ6FEMMrgMfpkasKQGChZuWz7erUxJYEBKoku+dcYBr9cnNHSCMWeRQYE5+odu5iquIYaieygiSrRXCCYuQddqWqTndddvBp2S0H8WHh6EE83Um3BV6KuDhMChmEEAAACSAZ7lakJ/AAADADECo5/71qC8sb2RxQjB4GT0DIgAXO/omKWmg7Xhg6JXGxGXGLXDlLwoioZRUEHGBLOlUKSNHN02qh9a4Rv6Iq1XYCLuuwx+5QH9SjLu/iqx4V1cliQ4R4eWKX0eKTLGC0D3k1SsUX/6QouESN/WpASdNzDHBxIbBNfLSEsgiLLXtyBexiWWyrEAAAC7QZroSahBbJlMFEwz//6eEAAAAwBDum9HomeLpxvAwKv9U1W+9V5xgAqT14KqPTtnkn3mPqDSongy9qSgDifSsgSc9BXHXe54lPucanT89D/j/ktT2+p2ahNAl18bQBAMnT3D416iXzIbXKFUOMwTfXZ88X+lCMeA7Dc0J6TX78reGNOZ0+860j6d9J+kLToGcC1jQWl+ynO3c5KtPNEzhodURyb4Pm36Hdjbu7nrBGbfbDsKUrfMMKdQQQAAAJYBnwdqQn8AAAMAEliNmsABxiVVWCjLymLSSK+QM9p0be7qZlkUeI4rwWJes6V7xm0s8JaVjMxiz1gOH56wXSQKwU9GxGl+G/EsomtfaOprk1RNea7F4IY5J1lqqHCrV5cSicJvREZewIn4l+cDYnMy+f83s8RTvLIOkoOWWS29SMc+OVD9LfvMTGxLVSZx9oBFguqpVEAAAADrQZsJSeEKUmUwIZ/+nhAAAAMAGd4TnWjFRQJ/41qpzPpADldkrK8Mr1Qf9t7nkbTi7TiCRggIYyIkcBk2IwG4QQ5/reEtan3ekHuHsT1naal0HVl7KGQ4SHo6Xr4YJjIhYXKLhMaUa7zgwWwX59HUvbVWll4uqg+/jLkbyMGEUFGTjo3mL1UYOxkwIcOhG1tFiMul6XGunpKLEsY2T7R0URPAcXy5CpK/dYs4CHfvekABWLKgFlh6j6Xd20tjDBtxskXMGRyOq8JMJY5ixA9YlqldcsWK0J7bftKdJ7idIAQVv0ZvuRvRPOjtewAAANpBmypJ4Q6JlMCGf/6eEAAAAwAZPhOknTEQcKnaazaplbE+s2QU941TAAGaA2J0gsHejQZoq5+znY5qG2M3pZe+swluNPzF/7IFcite1pZko/CgbDt+2Nk1iG7XXDE4Nu49h5MZ88sRE96HA8Lc7sLjAbSOTGvEDnUKXv295yIuftTH6IoinkdpCWVVCeXwr1mVftvHvOQwLyWxB8JLZkNVpF0pbHQeexF59zhKY+NvI+f4c0WrvCTwjaqNX785Jr9v//QY25SEvHc0xYGjKjR/Pu5KoJmG5m3VgwAAAWdBm01J4Q8mUwIZ//6eEAAAAwAYn2PB1dFJcTL7fSI4BRr7feXzP09AIR5LLm4OH7plaZJHQbyPso2u4JKQuebASO68zzYS0+3PwEtUznR45p8KoBb6VcuHTg8C8XeyrjWdxqHb6Yev5LZceSoBXNkW08va86EBqWZUzs1sH/Wf+xPAnsZIz3lE8BQ/sKfKw6NzEoVnc4r+yEEVog6eMzA/j7H8nRmr8zYzXhJT94kgl/96cmYztYnrJV6/aG650Jz9952Lcbxrcu2A2MBIBU3Zlm0uOz1TDwJYfgOcBcCD98HLVU32xyl49neeks1MxTKsMsWAPwsuY2TtXVP3oGVWVEsDqQws/8U7cKrxT4bPTuj2D2CrHTSby/tLKf3sx0+2EQAcDz4stnh0TPy2r0n+pXIVRWVZqt4tLk4m9VK99X/fWT4jTqZphDPKlIuUZTI4SLlWJZQJ0MJZ0UtJlto46HJKrfydPgAAAN5Bn2tFETwr/wAAAwAFHafN4uJg/nMLcipwANp7mRZ9MqVNVKqXdYUf12PmXDzS9ibRpbNzs7LQ9BnUcE0HImwiETIO33/7InQ2NHlAzTQ+I0KvwTTlklv+i8gwmNEud5d+HQOoGgYJ0gNfQ+TAy2RhV/5KjqJ2nILaKp5pJflcqiaQALoEpmS9No3arJzB9ulece+2KLmi4aWTkitMqD1BU4d4gqPaFSp7XXjsPvXqr/iiJQOksuj3w7HPgTqYNvFyXjJke2wAFxoZjl1FG0GnIpiSOOIG9CGOugltPqAAAADQAZ+MakJ/AAADAAJ8yYiaq7BflTBFbbpoAIao9lQCbxBDkkYsqLAbu+7jOPB3DOuBLl6ki+f1Qtl8aTxTf1zFoqh7Wj1r3esFBdkun1wwR2xwtydV2pms8FARbHxHopS6lE6m5FCbVUWeHI2B7jzvCLHgoEVzWGt1fJuK5NBcjOMjL31Qs0/9Gd3NBADa8s2T1M9eJSdM+BQSh9s3yPYdlhSD6Kr+mocY3kqcN+J00q9C5Q/0SImgKzjt56zNFopLOgx0cc3aEPzg/NbtLnEvdwAAAQ1Bm45JqEFomUwIZ//+nhAAAAMAA2PCdHombiJ9D1H+fmOVEdwAHZw1TCL1KqqZtrJni3mjxf/w7Y3ns+Wpwjm65WSNBSRkeD+NYxpy5HiUAHdP6fdi+SuUASc6VgeEg9eYEOP0TzHAHXXvE9LP4ivSRqiHJyCYwJsEMPyiyN5R1WmeZc/oyoiE2Y5eLg9hmVvJwEeM1bQ/Iza/98nrb1BglviE/SNlfJ21Ad9gJLBRcTGS9X9VFOOxlgkqcGZy51uPxLPRqTRV9F50iW0/jg4mXNkcQTScZA2wAAzxi5EiZH6fDta7/w4OhmUn1tpJAWRv+wZxqwFadSPlAreHXqVEEbD1FGUb3ZNEiq9e3wAAARZBm69J4QpSZTAhv/6nhAAAAwAA2PsqJ6v/gf1D6OuVSXQgA0JBFx2my8gknl3ary77bGbhT3/yRmaNMtKvqz1NVkFnrFKAD4z4U/BZTmfxp7sEciuQWfSrPpXsmyR6/pzjwLybh+JYy5doV/+4IZwBSivVubAzAbd1H2YCEeu6753M+RTo4ML70ShYnE5drDgjwpuMx+x79EmXkUFDRWpoIyNyDyMleyuqLT4tNU5XDnJRwetjxLWn8I7S8Js3nqofEmSXtTLw8Dfkw6uw+JffuTrren8yFznkSVN98DADwByS/Ul8TqnAL2W4NhHguRqkDjkCu85/EaqNpmOIZxGU6hsAeSFxT1ISG1h06zK0OV1erLAJ6wAAAVZBm9NJ4Q6JlMCGf/6eEAAAAwABP/d+sGL99engALp+8v/GIeNf1/2GOTRafxIKrJ5Uk3azcJtJjvkXqYfbgxE5XTMbyMAmPle5WVSed7+ZPIx/YPsA2l3bGL/pShQQA23pHDk4hcTcQQm6D9ZsKFEQHeL0QR2C3BJYB7ib3nd328iHOWHqGfGq2Ep/PHdzGUvJY476c/MMLYAYs6o8NH/L8mzIDbjToPqz3lyEJmuddWtjp4EgNec8f6I68gk8wmEjKAQgShs5mgD9bYkVbCFyecJqKMhLdfh45v8tAElX14BjE4sfsYWjU97WogvCCiDmDtZtaZsys4GQgooubPPun+4L5rfFy3tMNJd/eaVpooR0d5wSGKRjcaFbeMFrt3Oh/ECssDHqskfQ83gaCSIl86C8pb9O3AjaGu17jUHIp3APH58HsWfpNGXU0rnnK7aqi/Dey34AAADpQZ/xRRE8K/8AAAMAAEFkJySrsZTKAa3phQyZAA0I3/8OrKUJWYoz2U5txGXAr+8APBIUQZrrxxtRBmjJ2zMaO15JVMDwIG+PAU3zCXppyPMzX/QMvVMne8HUdnGr/mKPPGw7jYpvlYpeGNscJFMjEUgJcKZrrXStV5lwBwyxKQEBlFtXdvJ2OkV4Ctzp4ViZTQHqNFIfE6HUvSPEf661jeTKz6UGO3xPpwHaYwD+abyzbhqq30TxQ1TVVlnqgPhYfkGsDB7fkwXZFys5Af9C7QbgB/fvsT//AzcZQ2lfFX7hEsV/h/kXQBgAAADDAZ4QdEJ/AAADAABWUThbncIvx/Ufof6B1SNrbKUuOqbWKnqxQAfqwU6ZhJ7AwllfNGaKKKR7YaUhqHnp2MH3J/TYKKsxdthdASKYburJb9VVfcGc13m6eGF/UNmpzBks46diEtCg4vdGtKL7r2zfzkTo2pquZWWTvyZKscq7lgmM4+0PM+OeXAS47PadCeziLTo51xPDkxp1E/aY4KjLE43PcTooSyoAl3gbgHtHbKRHdubxDA0VFDTvUOj/RwG0KZiBAAAAwQGeEmpCfwAAAwAAT5HNo202yU0SZA3gBNM6eIil0WtLfXI94+pW/GvCV4GqZ70A5np8HTcGnynBlGQnmcYpzb1azBct5UT56FvG/o8DzXee6mUh+q3JSbRmXWhOhR1/bi7+q9uNQfnEl7+EzYA4Nw6+nmiEK8KFXXfrIVARaLAwjDRC3rEyOTpz2waxmcBwmABPXabR505QGcLrY3GsfjBSeKoVWGvf/0nGrim0t03lR31h3DHbE4+9/9TreFTbCnMAAAFPQZoVSahBaJlMFPDP/p4QAAADAALVXxwB7y0AA0TPI3I1UsVq6U3pZnSqCOk8uRzOcA/pBj5lzk7EQK/dXPNqwofWzYdzu077jz+ATO/F9MIDATnLUHKSIgs6WT8DJJ4MK37Hq5OLURJoMdhaWSWhojIuLBuqlES2INwYV+hObFGlc8psC19pIbOjhKigMEmhQs10fFRSmvQBQ6ZB4b5QEQvgwcWX/u94d19RLR7ADYZS1kLM5aVGvz0paABUKzqqMc+q5uQ/lcov6ke1O1UDxsH8Q12VaW4Gnb54fz/SZ5MCNodKtDI3/E26ZAZO/IyF+E0L+dMZ68Acy3lPjQuU6MOkT3npbhZbAjABFtkyrWViAHvGnR98rXSYh+ixXq+Xe7OWT9xyg9WRmb6DHg1Mf0X9VOrQ8AVtXKeQ1jQZnjCc6UeOHBjXx0EXTLOT5uAAAADdAZ40akJ/AAADAADEPAUy0EbPBjfcbKsfegAX15b9XrOxgGGWam2+BJhmHjJ1F+6Ujsws6DrkvU1Qa2Fdf8mmqvaijtoIPUkL39iobzIpaxgC7a0/nIq30nQF6ktbQJ+bSDANGW7gZENh/s4HtvNAhn2B7TJ23z4xiXgXB38QWoO4koCOmWEkTSOryy7VQsEuC0QMNdtNZWJREVXVAN9E7S0r3SodL9MK5iEy+01RlF8ZGGcMl2GLNul4lJ8BR6IXuvKzih5Gati7Ubnnv2XSgEU9AQ6Vr+BICKES5aEAAAEQQZo2SeEKUmUwIZ/+nhAAAAMAAujISsBZcg7YpyWqiHAAc0bu6/29tQzcXzjw7m6590jXn4/XnHHfLjFg96IJzOqpxv3v3/UDUiCgeetLljQQ2IHgw41nNAyjlmuLKau5Lq9yOXAGjuecz8j/m6C7Ou/8JrmpexmkM9L3MRhykNnWsFHvy7/+DNprThIuzYrLveAcn2XNKSzM6GC7itd3sFWXjSiux3htGbZUsaK+TSTnAEnyps0RxLhbTWEHdieL2JljPC3VekRZ/tQITEk4Qja9XisDJ+wV0oZpaXz29TnllWK/6p7+2mlXkGXfPiBvVHQdZnOv+yI/pJPBVJcw8wKa7fh7VEUICp7zxlruingAAAGNQZpYSeEOiZTBTRMM//6eEAAAAwAS7jz76ZicnTABT/GqSeWEPZeyHA4UTgoOsJ6RMDPU73M6eMlYKRu06cbrRrWDND0x3/tqnY9J6Qg48o+qE+SbAdjbAHZ9XsXXadBF3R7SrSZ8Noqr3Vg4RdwAXn78HX4u2NkMq6vrUDB6Q2iIkXGelmD23ScjlfMKCYrPqjNG1Ytki3vSR4/MBIRlNbdpvXTVV4yNBVO9y+WPFAdy9zNo7nW5tqPAtX+APCK5ONrvRyZMcwyOpLBe2TyFiKY69YEKmoprgvb7LC4rbHZ++b8x4DPnLFuisAmP2oirEhR/SYIGTrXhbyIZxSwt7JONKHiL0A9IqmFN0WQpj8/WEqo0X2DGdzXZSz7GPFgpSNF3TVXNAZFJ+bs8nt7W5nwWYJE/Cp9rR/3/whjtCUg//WImy5cCuN3dn2CqWpU4oBTRBBISsnl3sKRbeBZIOQwONjZmtwOCp6Y8uPctPvUMD2OtQ5LevSqSSi/kkS4sZCO42AgCAvPz41f6ZwAAANsBnndqQn8AAAMABR7daY2RS8rm0PG75Wm3DPTaAB2K0S1LzBwgGioyynQgX/JR8vI2rOjEEkUGsuP9pc9zg+noQk4rZTkwFTjTwzUK22ekKm+Edp/ExAyFX4Knla/zf2TBfoVpsEZYgU33Ki78sbXCg2vlO9bfJF3bdl0evvjwOtd38Ngew1aC8o9yYXdaFpXLcbe03Qv3DIGYTBrdptGyc/rOwyHjLaLjPl7y4PJhcAJ7qO4Vni3njOu8w333EO///Agkui7sYcCWQl9cObymb/JFXJ5pY/h/eiEAAAFzQZp6SeEPJlMFPDP//p4QAAADAH7DugAE7evBaRkvx5CWWMgNU4LAf6QfrqrLpR8syR5mecSWyDmMpxnQ+RcvnpkJ9rvgxyYXuD0/6RknMtmZD9y0oLAQxlBWAYR/DuyyxooRdWmIQT5DTCOt5Hluyj1tsBDwgupd8B/epv4QTObXN+kiXevyJ+HMkpjvaXoU/3lJBnEz6SUPo/S96oD1ISgLdN6MRjUlG+IqAiHZxzSveSL1YOQKrVXHOVUq9eR8n5HW9W09YhLKoAIYb4POReAdG2bEM+1EswBMCcqWCbuFyCwMkfqJLYNYKBdygiium4kNactZOYgukdrDYzAE07B3/lkS4FBdmE5PmQZbU6HgsyatbYO/lKxrTi8iyfzwI+CFQiw8wt4kQP7YtfzVnHA9kR+osqc94De+7qBAVTnEoHDXwq9S+BELMw9skDUp/Stt3QMq3c0PRWXbPFzu2AKuiXeojd0rZ7XUkp9R53b36mAAAACyAZ6ZakJ/AAADACK7a0wksCJbPfOGoUERA9ABtFOm2upujxtunhw+RN9HdomQBCjQsHmxHk7/zUEm7lvNPS9r6hGdePa5KpOVREyQOcG5GfVCrv+BHqd/XbDbUKHV/bUCLci5tWBUuJ4K5+2JASoJxHSBhqwYUa2qe8sHTEvLaH5RI9phTiC9n+wbfUXpTVK40bIL2YfxR6IUoVUm/7AKPkbaDAudSpWVJN9Qg3YnvQGmLQAAARVBmptJ4Q8mUwIZ//6eEAAAAwFQZCaVBYKQAmdmB0RucKafUtbZz00ptpN1wibyCBUMVKV4yUOPsDj821QbnItGQt3ia463fTdXDkH+uaJKDNaByo4ekGeQMpdYqAd+4rYdT0yNpznfBeTnY6CdEjRCvxWXJ+VEx+roNzCUtK+zSmebjbImR8I50yEEontuHIC2zcD1YMrKiRlrv8kyoSD+dOzNn1wXUBmhElWVJufpolv/BXC8CBfRtCWI4Aig73PDpRT4Ab5NYhk5SSx18Snp4m1EXvvUlOQLNjB8nKIiLcwnZrIAuo8vxidhAh2R17ts1UXIvsoc96qCD0rJX80MR4mSk+0dfXLlRyhGYY1WtVWJyGXgAAABX0GavUnhDyZTBRE8M//+nhAAAAMDY652VOP8wsAIP5vfLF8ApeQU9H/rRL9sjZ5Z3KhvA8l5+fqlJo65efz/9BRgkRzG0UTAVu+b832FTG9hewzv58a1lhUUSBqFo/c8ldM3zwJ0UI/jVKOPgpM4a7oOMJj9Qm7E711gHUH5+lY1xVrABLr09zhsXnrsTq3AFfMr7qO4cyEQRx/fx7dytEaSY5tOovZQw7zTGinkvMHptJogDaZUTmF52rhAMXtpHYb9zm/Im7Gx8dgh3AY7QFE/H2AZv7UD6y86IK9UJ26NEukQjjpXBWwVLiFYJbSSm7daBffoSYfvQVqMfjWsYGi0CR7DDCYMpk9VCV6VLb4/xQ2NtOMLqtEvKtp8HaQCAc+JF5imFzslaHfp6fR+7vP0l0eCg6SPdrMPKpBF8F46l9TAm5QHHKQ0D5j1+fjv7vivXXjt+U/EaTT2q+2h6QAAALwBntxqQn8AAAMCW7gHzMhdPgBYfLfRi6GshKIK7frJ3+gYLRcRkZSEGryozztoeDMt2XYNeaaJ+Ll1kIdl3UJvhzSekV1NHb/PvkBWO7zOch0SAD5nnPakjJJcIvh0Q8gvciC++zOFPvLFLuosa71gsUgYnjPs6teuO/aAC8YyoH1k82He/ErATXp1oVbfGfQNebz/Ur1Gy9iT1Wfi8V8hTSVZBr+1rqZW+WUaC7Uo0dIYZvNYHq+dpo8grwAAANxBmt5J4Q8mUwIZ//6eEAAACKb9IVhCq6ZbV1mBzwAHPWJxvsflJSf8PRMObJ2EdDppNwSakksXrElpcZ3NwyiWjhrb8tyj+bKkiPMgW+BUVKkpsxhf/P35nthOHLqJm5/hw4b4jRhRQvNhaDdpFAtQle71REyztTEBhHpPNx3G0NglkV1WHdh8e0GqyH8wR6eudLlRyXG+j9yuqsx62gVZ1wut6nqPCKAX0NCy/SRC4A6ddjgbqcUpEQSx883t0LFTTditWoDrVK96yRF9jXyLelYzHDd8I0cAQH5AAAABXUGa4EnhDyZTBRE8M//+nhAAADua5+O6W53YANqN+rtyj5PWU7jwBY3rCwx6q44E3pFqnEW0dl+REq/m1NhttBlSxCZws7Sq8v0HugomZRluIMrYy9WM2+Afmg3HmbrKNscL06CMEFhaJ6fuaDek7OVnl98CvVZd9509kh6z45Bjl7E/lt96UOf1I0lmSqY0MzylZehXOJcLsLTtpZhA4tlGUqOvqboUjD2fG1RIhKicCA/yT8ACAg+p+ezEU8sJAuh85jyRO1QxqCm+YkH8XsrMxcYcvT2axC6wja49L4smLmDNuKbFebrx/CSpPJfpQQ3enQQwoXe45edkt83o96l47eGwepkNJMdbA+khI0+9Fh5bjUcthatI0sLfaMpyok1+qj0RShFtU7YqAwONrtn+9MWq70MVRwafoNuOH18KvlrL/f3nvrowPidmTrcvZgGCSgMoz7hvm4svAq4AAACXAZ8fakJ/AAAP48BTCQOTszWDrAd6Bqy7+MgAdZ8Kszh7VUV+WbUqCeIa6AebJk8c7xE/DVxpvYjIQV7dbc2Qha39v3RDy3QKwW0nRSDTUKLP9K10DgESOUAhtNM1XObfIX3+ljh4V5Vkj0N0jrPLZfHbZpX59NIphmEysYloiYFp+Wtt69pVU40lyN3Y8nxtQ6o9tRCpMwAAAU5BmwJJ4Q8mUwU8M//+nhAAAZPXPyit+mAEsiifgKrNdFHKPegk5jo3FGS8TGSTTHURpFNu+PjpdWdNy0OAvsBJs/wFBFoWpzTky7/itQfr3syf7+v1lS0WKCxMwSp4MOoIEDAz7qys7Qq7A34hPhPwiGpNy75xsFYEDoFhexY9cptcaEpiIR2k+SKuwI6fG+V8tjcAQWA6NP2F43tcMlqpIToMpuzOqYi4/3qp+ORg7XTxBTS3Hq9WQmZVnUba+kyyOjMS9FueOnr226AJgtyqJXCnRowznXof9dMxypx3ci9qL7yooH1iEOb/5yL4zG8j9GltmnWGgiH7nrIGKahq0Cw9HmMtmTRj9UQdWDQm7p7vfx9RcOxB3WZMamaFcCgdpv90MPiY1psJn16D8DPGKBkwfKSs0aAKceJ7cHJudPiu9+66uPr38y5z9grYAAAAigGfIWpCfwAAbp4CjZ6tepiQJpHYW4a0WgP8vABB+O8YcJu2k6hEl/B/C8rUL+dVcVKUGp4gMW6UlPTqUIEk080FcHmaf/VEAAfbj35RrRyTAfs/7IO/TJLj0dDc59u8l0zDw0WliZGnSiDhVa1Vyx5hmWgLhJj2AxvGty0MCCc/Rb89F4Z/HzyhOwAAAUVBmyRJ4Q8mUwU8M//+nhAABBSJcgGr5LLm40MqYmBDGSoXR3y5XHf3OhJ8pof6sXnIwkzR3BVzCjB0vZVzH7/HpCBrIE+cYV3sWnN/kI25Aa7v6JPeH1U/iS8//9Kr3mL5uuxMw65bJpvR1l4rSGRMaQpHBFAvJTR7zvVt4HCg9bXpRfIMGwdqqR6VpZ75bUx13A8SuHFrxvoTo/YFSCvDIFtG4skvKUYh4FQzcVC87yC25fxDl9zuuQZhfJt9IVF58Gdnj2IFlWgbQzCYonyGlAZpGMgNAVJkd065Ekg3KMawlaH6St6lDtfUZR89v37kk5n4YWJAR1cXVWt7cXlgB/zmiKo6isEQnPMPfXtJotgnQZ0H6hbP6vhTikavAYyDD+4jm/OVy2Ot5HBQH0IDkzY4ntn5AFGdSdy8hjVc2/SGhYJ2AAAAnwGfQ2pCfwABHdtZneTuYMAVvKxR2rAeiCcAHJANbYo1Bkea20+8OR9ePGaz5TLEuYsDgmJY2iybbYSiv11S/6ttpMtDsbJMrEECNabm70mgMWIm+mUzbr68oMKIMxZ/NIYtNem45VGN0soE3Rkz+ufjx1/vZxMz6OZ3wf+tf0INLZk4qZq2iwYJ/pKhPDft19f/O5+1cxahOsr9vI6pLwAAAQFBm0ZJ4Q8mUwU8M//+nhAACsV7riUqHAYnEFDHkzYzxfCwAB2h9wtAVlTWFYX8v030vj4bMnQe/tCuWbfVEaFuBSMIc9k3FNEmRb3pjAz0MuFpxBac8SfPTXQP34MapNTsuNe0EHkWUnAC5rJ+/6url0LGbJ3g9gCnKJ2AW5hIV2Eghox1CMEi1uxNNKEoC+MSWb8j0JICLOmDWAuWzTiIffFpVS0xtVHIHF0odNY0VPzdClerUI20dufZRWkly4SNFAvBlt0m6zaGdL6qM7zi/dzQE7Ju8QIZlLERzeM1/mKFXo9atQA6sKsAttSQZ7qELOhuslIi2ZSkMBewQAAxYQAAAKQBn2VqQn8AAuijBi0gAlontxnbBZwoIZhye5sPQy4F+PeXCnBPCunSz1NkwOCDECaPs9V+MlkgIfrZlj/diGDE5WrXSGoVIM6wP09zoYIWnSDYIlGrq/gCkVrhlPXH75KVHlX+T0CQzOMyzOwgN/9Op8eMOcx6jmvIQvBLt44+ZMgmuVdXMzBbpEqp1q4Yv4wGmDZf90SrTX+K++VfrCJ/ixRRiwAAAUhBm2lJ4Q8mUwIZ//6eEABHSJcgDmHwdZOeHY4Euc6ucCUuXmONBeqnuICTNc7FFHkj1CbO+CDnUmORux/OyfjgoMd0AsxC3NxGm8Qv4J7HEAA4GOJSV/de26GDb6zLXCqHQs2SN1tacI2/MDbxnueoA29TPskURynow8bZ/vjnQvcl0CE7XxrRy61xB2IAyXRbFP5pyTTdwEfJH5oDsyhvh0eUdvDudkwnf1JOG/6YXotPpbv1xVzil6iJZ5m23AFXkclSym+UkI7fKMMED4hHxhL8BeE5fb/k9OnSoFX50t0Mc2gg4004Q+PwLqKNFr6vQ4yivdRIT33SVHVjUKFA7SInDO6dy8HkiZ+um45Irdm6Uq1jLCsTDOdNhA+VwJpqRD26VFhYMqM56GO5qez352We9Zj5tB+FCeS4QlEI7EkMfPZ2AFxBAAAAn0Gfh0URPCv/AA7bJKwDNTxcWSzQGC4J4uwG8CLOEh7eUDOzgA4T0xQY80uwqkJuJmliDmjdtLAU6b/F02hUSwKe4qGLaV/pfAEbrJICjbyJd3cBDDnnSI5pYayf+yqXaCLbploeJJen5/XGAjShzk9cifGQ0tEE43XFohrblup6ktg03Q7pt0he9cKGhKW7dBkntfArn6/UOqlfIr1i9gAAAIwBn6hqQn8AE121phJfr3zUQkUz+94Y2EtZaSMrdJjyUlhvtQyk3eAAmkfZgY0IPf51kGm5/nokDcaKcr/OkpCiyTw8cHOUDjs07tuWU/ftREU3yw/UmcrBQ+rrbauRpLK4G2w9DhuwiTpGnUSv4MCM8Uv0fejp2FjW5s80xyn5Jfj6ts+LJNU0NhTK2gAAAP9Bm6pJqEFomUwIZ//+nhAARTZt5o/JRP9hsAAqT14LOwGyVnl+j0L2X2MFfzcW5raiOFxbFCNcnDF7+joL/vmYV+UdRg5LGyXbM2YVxNTmJ5CO+xg7z7R8E7oISL0pfsJQA/NnMEYwZBvHArCK+ttl1f91YSYhtoBbGMhWZw5Pzzbwf0n2q9vJ+4AoJQHW8zui/XD3fjufURLmzeFrBuzdvDQIxdQq3h1/ZEPBX4m7RJ8owUyHvIUGJaI6CmL6vj4X/5vPYIpvznlD/+V8iUm8GZxVTQLU2zQASRboHi/TCS7QaPWP97rQXuimiQBw8NTYeEPgppqJbB/cgSAAFnEAAAC7QZvLSeEKUmUwIZ/+nhAAR0R3N94pw/m2HYNN7gAOyJlph5GOrtJNBUImNZzLRYXak8oi0w/j7e/HYx6POYooY6m/Rv4RFeDLk1+x2AyxfDScRi6yeLlQ2OMbAXjvyu5Hdwde61v+7gKWG6w3w/CWjEUBayErVXxOL7Lb/tI2S3AvczwAkobQlVM27JHtlRYE0SrpIWo0BB36JbTVrEQFohzgdeBrveRURtmB2gRdY/MEMyxx/056GAAC7gAAANxBm+xJ4Q6JlMCGf/6eEAC1V0b8sYzJR/uH0AFs9eC0flcbIkiVvOZkYwvyqd5291FCFhVbHjEJesLbv+QDJ6rIRZFCYYM7JS9nG4qdU259+BdTUjih+ZRkL2XZHs4ScBHeZT4cn5Z1Xg+BExxhPPveQBpLF72at68Vi2REXbviBds16SDYnEYHQIQAqAr1GarC+YcSRcVkm7XR4Efr0AGM4/vkm49FE+uCsut9ACv4brfCacmJF5u+YFTgTmMpbrK4xXlPAJnKOQnneUbYAL2WAProJ8oN6qIAANSAAAABPUGaD0nhDyZTAhn//p4QALnXvWB7aW/Ccxvp+YYAKk9eAlVJe/iwBVDj10XLLAbAa+pdUb30OlNs/q5EAbGSiUm/6hAQQHvNxK7QDN0lp1bKIUaKFR2vJQlSIaP5HK0An5sh0N/fTEiOL9I8G7gkqgEmZZZQo8PzByJvshjOnMa4KYsGLbaUCu7OK5gMUAo1LuUXIkwQ0Y0Y2SZAPdkOGrXBqidmd10GyFazUr5o8KucUHvsUtkL55eVMWHaaGqtKKti82TKlCPpEqvRkk3uE552ilsHkEo3/xZC7vrogzRaxCKFdWxoJLZvvZLzOjS8UJluMTk445H7wjtjPaBPXZvMgdSOUet+gbPK1dJ4UzU7SvHALdxCuP/X+AoIrO6h7SdD/v5m3SCNLVx2rlNlkGDczqB4kPQL5+uAABbRAAAAuUGeLUURPCv/ACa63Kch7h+J4uQAHC81Edpccwz3slt0x5rzyDwdynhY8di7sGGaHNOfC4gXNQxlGCU2gJ5GealkQ766pzO3x3QOruf61VRq8DxQmYK1eDYY8MtL+2LAnDzyF8SUxb224URDD06J9Yf7MobPVxCRp9zSVGFV9xODg6hGNXi1gtgUMlQUKDGWOW12ij8KPzp0Q8Ybw+iY07TLIECTOsP25zGa0RS1gZvqzgBJezwk47FtAAAAtwGeTmpCfwB8XjQ/rQpEm5PwyiAB2RW+jPibMoBzZHSlkk9WSo0ozzFeeJ0gdWN8JFL7e306cn1GeWx1ENk5d+aaUQOZphgR5aQsiVi20U+6O4r+irGBlyfH4l0z/CD4KRomKxU2u+nccMrK0noq2o0qevX9crfLtD1hXiEObstdiIbLvEUjarnJ2s34VdibseP8fRnx5hjb18yArweyAo+ZT+S6YKzseF+zpk1qzOYlriAEI2DbQQAAANpBmlBJqEFomUwIZ//+nhABzvS8b81n4xQhnVUBF+6+YAHP/gtHwb44Ift629pVfKhRC+R1ELlnXLTQxJS5RKDj+g8fJy5ejd9f70JSzRV18DxRqrlPjnXG0Q8QN/qB4V6JiUTHBaVxlap63CQspbkU8mwa+a2Aq0cCE2glJX7ODoGbkW/N7Snpv9Bz/QemA2gRa0HLiQsvkeP9qtQBysl33/Pn638deXNKZjiOv/4g/8EWQqsjDer94tMcLyB47zwFrIvPr2lLVdVTaWnwuTZRIy4Qv5XPAAAgYAAAAPJBmnFJ4QpSZTAhn/6eEAHEsvxw8LkVsgAhOlwqog6T1PONZhDPImBOZv0VcX49PV3wKhdCo0FnHNvZyLiLj2GhA2QX694fn54wG5/38mqHH7Dfsfto1hy+nFSLPOqaMqQBQ8K24hpN0YLx8DzWs3X9qroazOrHJe5mv++xFJP7ScJFekGdcWMCP+wFn5cVZbRYm3+t+eIFQnosCP4oPNmS2Pqy77Jxes2AbtAz1RZpah5yaoLYUBAp9REOmFdPJ/HK+88TXfl8tIOxiwCPCYPs4ctue4XqsvYecuY6o9nbarLMLTJg+pusyiSs/u3pgAAG9AAAARZBmpVJ4Q6JlMCF//6MsAHR5wdYVzbgBbx64014rsJ3fn0I6zI5qmbkrr8zTP0Ylq7oYBCZNLpv31hty6k6raDvY/cWhk2bSbXSPY/hIi18ADFOhrgJnCims/8PE+2pnHwc3dnxYODY16TpSoqsrmwpmhPSI20QwVqjdNAG1cbqiiS3tn8MC34naQ9BJPoX/aqUxzETMCI7sjgCQUJwjjuzuXfGSo0dIxhCMbZppEIv6YsllzEWdj1UfhU69z+hBuXgoiiN70zP+ar2/hj2uSNdJUp87kq4Lf0qdnTjOZFFNStbHoD5BpgBWQpevwFDaVgjySLKHZfABS37cl05jTIuu7GKxv2z6/wQMo6E1d3v9qsyQAAKSQAAAPVBnrNFETwr/wBiGape4E7HgZzIhST5eCoAG+miBcbJK2r43kdxqUVvr9FKsF1Wc/Lw3rmHkHYB7sPrsMp8q5moCOoIZEaTGPtof6SfuneU0ktvq5LAXkTJx8HCOQUwTW5UYnEE9i3adge2IlhODFRYWhSgZAOqX8d4l7QDho2cJDBx7fIJp1iEyJgP4/xPmjQ338U8HgEO9QhKOw+em+4NOtyPjcd2WofezyrQEZrer6GRi3S1eHwnxD6rieKas+4Vca1GPsmEdrXg6JHPnhvkeTAW8qgh6eaSa0CdcjXhUWB+bTDPjoVLdpM1VdcQAhH1ubmGBAAAAJwBntJ0Qn8AfGBtKY+EdDrkADrD953Kt9wtl+v4RYzmGWCWm3vwjNk7qK5dFfT2qYMsA83vxs1X4P6KZVh4aaPAjx0pOelM6McctF4L2yLaStJfZiowNnCJgRlHgZRRvK0Zd98eT8X8b6QnElyzFuYk7YQnDWS0dMYmCo7M1R2Os6B1YYZh+g3QCf/3SHxpV0fXZbhTa7SwBpZXEkAAAACcAZ7UakJ/AHwE/UAEyBL4FH6EqlRop2IABfJX+uS7szib8cQO796NvVHIdbZb3UM0eUinJABw9xpZOGjwJd5lZQr7qlmqbYNeoFwZ/hes9OwqcYh/dM21rq1YuZ63JAZpgCB6dgBabdLmrMtEzNAb/7pBzQNmQvha4xXtiLArV3RPOzf7IwF6TJzHo5rtrfFDQqFUM06WeAIxpCHhAAABDEGa10moQWiZTBTwr/44QAcb1H0Jn7l97gBLYVD4aAEJrLWDDjKALd+3wegJfZSVgQUYCobQtlMzfY8N1BQyQiw/oS2CEwTPEmxcv8AtseY5dGxvgIJns6wiRGfGIEiFtDrkcymjO5Nl2m3X+UUz9CYkQVMHDJLWMqrYC74yf/QRZrX2SsYQow42jZvv/mRGQajzSWqf6TllZ37YqW3Fb/AsZX6FWfY+0XJSKyLzg2YX7+VpEpDbirorgGfudQc3G1YuMVs3EpEB81PyYbXPPpz7cc+11CK55oD2g6zfP4RYSFuaNLFWxGJpS6tzNLM/MYwfSfO0qxEw7JJ94PJG9AjansGWXEkPF4AACkgAAACnAZ72akJ/AHw/47Kfd9sKomLJmgAF3DpvhVnpF4xEfvg2wiIrfq77Ndh+8r5rgHlHo0iMC9dNH/KMb6Vqil9NLD701CMlOfbLswoU11vannhtZmf+eQ/iWL9yo8Ui00ytdXgJQqaKToCdMDrZmtVR0AmfykdmorZJkV9XQ3lpZu64hYOyt/0AejJVJWsJI5ObqKj2ztkUVKljNazNQUP+BatAIcS6bcEAAACoQZr4SeEKUmUwIT/98QAQ73/KPM9PU5vFSTt0AC+PKXQQnJGELiQKJ/fFDBbNd2AQ0KWyZw1rISEg4GbXOoKo1paWDMO2K7Y1pN1HkeGG+Ut4+WpQY+P0oK6KlnGD12Sh5XDPWNhhsWKJtF/rnA4LRBq/Uy+M51A84hpVp1zZrDLUQTGdiJWMXZZUvlBNggaUkob8S5HmKumVgQauAOXOrEsFRtAAAK+BAAAG321vb3YAAABsbXZoZAAAAAAAAAAAAAAAAAAAA+gAAAuXAAEAAAEAAAAAAAAAAAAAAAABAAAAAAAAAAAAAAAAAAAAAQAAAAAAAAAAAAAAAAAAQAAAAAAAAAAAAAAAAAAAAAAAAAAAAAAAAAAAAAAAAAIAAAYJdHJhawAAAFx0a2hkAAAAAwAAAAAAAAAAAAAAAQAAAAAAAAuXAAAAAAAAAAAAAAAAAAAAAAABAAAAAAAAAAAAAAAAAAAAAQAAAAAAAAAAAAAAAAAAQAAAAAJYAAABkAAAAAAAJGVkdHMAAAAcZWxzdAAAAAAAAAABAAALlwAABAAAAQAAAAAFgW1kaWEAAAAgbWRoZAAAAAAAAAAAAAAAAAAAPAAAALIAVcQAAAAAAC1oZGxyAAAAAAAAAAB2aWRlAAAAAAAAAAAAAAAAVmlkZW9IYW5kbGVyAAAABSxtaW5mAAAAFHZtaGQAAAABAAAAAAAAAAAAAAAkZGluZgAAABxkcmVmAAAAAAAAAAEAAAAMdXJsIAAAAAEAAATsc3RibAAAAJhzdHNkAAAAAAAAAAEAAACIYXZjMQAAAAAAAAABAAAAAAAAAAAAAAAAAAAAAAJYAZAASAAAAEgAAAAAAAAAAQAAAAAAAAAAAAAAAAAAAAAAAAAAAAAAAAAAAAAAAAAAABj//wAAADJhdmNDAWQAHv/hABlnZAAerNlAmDPl4QAAAwABAAADADwPFi2WAQAGaOvjyyLAAAAAGHN0dHMAAAAAAAAAAQAAAFkAAAIAAAAAFHN0c3MAAAAAAAAAAQAAAAEAAAJ4Y3R0cwAAAAAAAABNAAAAAQAABAAAAAABAAAKAAAAAAEAAAQAAAAAAQAAAAAAAAABAAACAAAAAAEAAAoAAAAAAQAABAAAAAABAAAAAAAAAAEAAAIAAAAAAgAABAAAAAABAAAGAAAAAAEAAAIAAAAAAQAACgAAAAABAAAEAAAAAAEAAAAAAAAAAQAAAgAAAAABAAAIAAAAAAIAAAIAAAAAAQAACAAAAAACAAACAAAAAAEAAAQAAAAAAQAACgAAAAABAAAEAAAAAAEAAAAAAAAAAQAAAgAAAAABAAAIAAAAAAIAAAIAAAAAAQAACgAAAAABAAAEAAAAAAEAAAAAAAAAAQAAAgAAAAABAAAKAAAAAAEAAAQAAAAAAQAAAAAAAAABAAACAAAAAAEAAAYAAAAAAQAAAgAAAAACAAAEAAAAAAEAAAgAAAAAAgAAAgAAAAACAAAEAAAAAAEAAAoAAAAAAQAABAAAAAABAAAAAAAAAAEAAAIAAAAAAQAABgAAAAABAAACAAAAAAEAAAQAAAAAAQAABgAAAAABAAACAAAAAAEAAAYAAAAAAQAAAgAAAAABAAAEAAAAAAEAAAYAAAAAAQAAAgAAAAABAAAEAAAAAAEAAAYAAAAAAQAAAgAAAAABAAAGAAAAAAEAAAIAAAAAAQAABgAAAAABAAACAAAAAAEAAAYAAAAAAQAAAgAAAAABAAAIAAAAAAIAAAIAAAAAAwAABAAAAAABAAAIAAAAAAIAAAIAAAAAAgAABAAAAAABAAAKAAAAAAEAAAQAAAAAAQAAAAAAAAABAAACAAAAAAEAAAYAAAAAAQAAAgAAAAABAAAEAAAAABxzdHNjAAAAAAAAAAEAAAABAAAAWQAAAAEAAAF4c3RzegAAAAAAAAAAAAAAWQAAE5QAAAJ9AAAA9AAAALUAAACfAAABFQAAANIAAACsAAAAlgAAAO8AAACyAAABLAAAAIIAAAGDAAAA3gAAALAAAAC7AAABawAAANIAAADCAAABbgAAAM4AAACYAAABFQAAAWIAAADdAAAAowAAAIUAAAEVAAAArgAAAHYAAAEPAAAAngAAAJMAAABKAAAA2gAAAKoAAAChAAAAlgAAAL8AAACaAAAA7wAAAN4AAAFrAAAA4gAAANQAAAERAAABGgAAAVoAAADtAAAAxwAAAMUAAAFTAAAA4QAAARQAAAGRAAAA3wAAAXcAAAC2AAABGQAAAWMAAADAAAAA4AAAAWEAAACbAAABUgAAAI4AAAFJAAAAowAAAQUAAACoAAABTAAAAKMAAACQAAABAwAAAL8AAADgAAABQQAAAL0AAAC7AAAA3gAAAPYAAAEaAAAA+QAAAKAAAACgAAABEAAAAKsAAACsAAAAFHN0Y28AAAAAAAAAAQAAADAAAABidWR0YQAAAFptZXRhAAAAAAAAACFoZGxyAAAAAAAAAABtZGlyYXBwbAAAAAAAAAAAAAAAAC1pbHN0AAAAJal0b28AAAAdZGF0YQAAAAEAAAAATGF2ZjU4LjI5LjEwMA==\" type=\"video/mp4\" /></video>"
      ],
      "text/plain": [
       "<IPython.core.display.HTML object>"
      ]
     },
     "execution_count": 23,
     "metadata": {},
     "output_type": "execute_result"
    }
   ],
   "source": [
    "car_env = wrappers.Monitor(car_env, \"./gym-results\", force=True)\n",
    "observation = car_env.reset()\n",
    "\n",
    "done = False\n",
    "while not done:\n",
    "    action_best = get_action(*observation, value_function)+1  # actions are different between the 2 environments!\n",
    "    observation, reward, done, info = car_env.step(action_best)\n",
    "car_env.close()\n",
    "\n",
    "video = io.open('./gym-results/openaigym.video.%s.video000000.mp4' % car_env.file_infix, 'r+b').read()\n",
    "encoded = base64.b64encode(video)\n",
    "HTML(data='''<video width=\"600\" height=\"auto\" alt=\"test\" controls><source src=\"data:video/mp4;base64,{0}\" type=\"video/mp4\" /></video>'''.format(encoded.decode('ascii')))"
   ]
  },
  {
   "cell_type": "code",
   "execution_count": 24,
   "metadata": {},
   "outputs": [
    {
     "name": "stderr",
     "output_type": "stream",
     "text": [
      "100%|████████████████████████████████████████████████████████████████████████████████████████████████████████████████████████████| 30/30 [00:21<00:00,  1.37it/s]\n",
      "100%|████████████████████████████████████████████████████████████████████████████████████████████████████████████████████████████| 30/30 [00:16<00:00,  1.78it/s]\n",
      "100%|████████████████████████████████████████████████████████████████████████████████████████████████████████████████████████████| 30/30 [00:15<00:00,  1.95it/s]\n",
      "100%|████████████████████████████████████████████████████████████████████████████████████████████████████████████████████████████| 30/30 [00:14<00:00,  2.03it/s]\n",
      "100%|████████████████████████████████████████████████████████████████████████████████████████████████████████████████████████████| 30/30 [00:14<00:00,  2.11it/s]\n",
      "100%|████████████████████████████████████████████████████████████████████████████████████████████████████████████████████████████| 30/30 [00:13<00:00,  2.19it/s]\n",
      "100%|████████████████████████████████████████████████████████████████████████████████████████████████████████████████████████████| 30/30 [00:13<00:00,  2.22it/s]\n",
      "100%|████████████████████████████████████████████████████████████████████████████████████████████████████████████████████████████| 30/30 [00:13<00:00,  2.24it/s]\n",
      "100%|████████████████████████████████████████████████████████████████████████████████████████████████████████████████████████████| 30/30 [00:13<00:00,  2.22it/s]\n",
      "100%|████████████████████████████████████████████████████████████████████████████████████████████████████████████████████████████| 30/30 [00:13<00:00,  2.14it/s]\n",
      "100%|████████████████████████████████████████████████████████████████████████████████████████████████████████████████████████████| 30/30 [00:35<00:00,  1.19s/it]\n",
      "100%|████████████████████████████████████████████████████████████████████████████████████████████████████████████████████████████| 30/30 [00:24<00:00,  1.22it/s]\n",
      "100%|████████████████████████████████████████████████████████████████████████████████████████████████████████████████████████████| 30/30 [00:21<00:00,  1.42it/s]\n",
      "100%|████████████████████████████████████████████████████████████████████████████████████████████████████████████████████████████| 30/30 [00:19<00:00,  1.54it/s]\n",
      "100%|████████████████████████████████████████████████████████████████████████████████████████████████████████████████████████████| 30/30 [00:18<00:00,  1.66it/s]\n",
      "100%|████████████████████████████████████████████████████████████████████████████████████████████████████████████████████████████| 30/30 [00:17<00:00,  1.74it/s]\n",
      "100%|████████████████████████████████████████████████████████████████████████████████████████████████████████████████████████████| 30/30 [00:16<00:00,  1.77it/s]\n",
      "100%|████████████████████████████████████████████████████████████████████████████████████████████████████████████████████████████| 30/30 [00:17<00:00,  1.72it/s]\n",
      "100%|████████████████████████████████████████████████████████████████████████████████████████████████████████████████████████████| 30/30 [00:18<00:00,  1.64it/s]\n",
      "100%|████████████████████████████████████████████████████████████████████████████████████████████████████████████████████████████| 30/30 [00:18<00:00,  1.61it/s]\n",
      "100%|████████████████████████████████████████████████████████████████████████████████████████████████████████████████████████████| 30/30 [00:46<00:00,  1.54s/it]\n",
      "100%|████████████████████████████████████████████████████████████████████████████████████████████████████████████████████████████| 30/30 [00:32<00:00,  1.09s/it]\n",
      "100%|████████████████████████████████████████████████████████████████████████████████████████████████████████████████████████████| 30/30 [00:28<00:00,  1.07it/s]\n",
      "100%|████████████████████████████████████████████████████████████████████████████████████████████████████████████████████████████| 30/30 [00:25<00:00,  1.19it/s]\n",
      "100%|████████████████████████████████████████████████████████████████████████████████████████████████████████████████████████████| 30/30 [00:23<00:00,  1.26it/s]\n",
      "100%|████████████████████████████████████████████████████████████████████████████████████████████████████████████████████████████| 30/30 [00:22<00:00,  1.34it/s]\n",
      "100%|████████████████████████████████████████████████████████████████████████████████████████████████████████████████████████████| 30/30 [00:22<00:00,  1.35it/s]\n",
      "100%|████████████████████████████████████████████████████████████████████████████████████████████████████████████████████████████| 30/30 [00:21<00:00,  1.39it/s]\n",
      "100%|████████████████████████████████████████████████████████████████████████████████████████████████████████████████████████████| 30/30 [00:22<00:00,  1.34it/s]\n",
      " 27%|█████████████████████████████████▎                                                                                           | 8/30 [00:06<00:17,  1.28it/s]"
     ]
    },
    {
     "name": "stdout",
     "output_type": "stream",
     "text": [
      "Step Limit Exceeded!\n"
     ]
    },
    {
     "name": "stderr",
     "output_type": "stream",
     "text": [
      "\r",
      " 30%|█████████████████████████████████████▌                                                                                       | 9/30 [00:08<00:23,  1.12s/it]"
     ]
    },
    {
     "name": "stdout",
     "output_type": "stream",
     "text": [
      "Step Limit Exceeded!\n"
     ]
    },
    {
     "name": "stderr",
     "output_type": "stream",
     "text": [
      " 40%|█████████████████████████████████████████████████▌                                                                          | 12/30 [00:10<00:16,  1.11it/s]"
     ]
    },
    {
     "name": "stdout",
     "output_type": "stream",
     "text": [
      "Step Limit Exceeded!\n",
      "Step Limit Exceeded!\n"
     ]
    },
    {
     "name": "stderr",
     "output_type": "stream",
     "text": [
      "\r",
      " 43%|█████████████████████████████████████████████████████▋                                                                      | 13/30 [00:13<00:23,  1.40s/it]"
     ]
    },
    {
     "name": "stdout",
     "output_type": "stream",
     "text": [
      "Step Limit Exceeded!\n"
     ]
    },
    {
     "name": "stderr",
     "output_type": "stream",
     "text": [
      " 83%|███████████████████████████████████████████████████████████████████████████████████████████████████████▎                    | 25/30 [00:23<00:05,  1.00s/it]"
     ]
    },
    {
     "name": "stdout",
     "output_type": "stream",
     "text": [
      "Step Limit Exceeded!\n"
     ]
    },
    {
     "name": "stderr",
     "output_type": "stream",
     "text": [
      "100%|████████████████████████████████████████████████████████████████████████████████████████████████████████████████████████████| 30/30 [00:27<00:00,  1.10it/s]\n",
      "100%|████████████████████████████████████████████████████████████████████████████████████████████████████████████████████████████| 30/30 [00:19<00:00,  1.53it/s]\n",
      "100%|████████████████████████████████████████████████████████████████████████████████████████████████████████████████████████████| 30/30 [00:16<00:00,  1.82it/s]\n",
      "100%|█████████████████████████████████████████████████████████████████████████████████████████████████████████████████████████| 30/30 [00:00<00:00, 99785.19it/s]\n",
      "100%|████████████████████████████████████████████████████████████████████████████████████████████████████████████████████████| 30/30 [00:00<00:00, 100663.30it/s]\n",
      "100%|████████████████████████████████████████████████████████████████████████████████████████████████████████████████████████| 30/30 [00:00<00:00, 110570.40it/s]\n",
      "100%|█████████████████████████████████████████████████████████████████████████████████████████████████████████████████████████| 30/30 [00:00<00:00, 94893.76it/s]\n",
      "100%|████████████████████████████████████████████████████████████████████████████████████████████████████████████████████████| 30/30 [00:00<00:00, 120180.63it/s]\n",
      "100%|████████████████████████████████████████████████████████████████████████████████████████████████████████████████████████| 30/30 [00:00<00:00, 120757.31it/s]\n",
      "100%|████████████████████████████████████████████████████████████████████████████████████████████████████████████████████████| 30/30 [00:00<00:00, 115545.56it/s]\n",
      "100%|████████████████████████████████████████████████████████████████████████████████████████████████████████████████████████| 30/30 [00:00<00:00, 101311.69it/s]\n"
     ]
    },
    {
     "data": {
      "image/png": "[encoded data removed]",
      "text/plain": [
       "<Figure size 640x480 with 1 Axes>"
      ]
     },
     "metadata": {},
     "output_type": "display_data"
    }
   ],
   "source": [
    "traceTypes = [dutch_trace, replacing_trace, replacing_trace_with_clearing, accumulating_trace]\n",
    "alphas = np.arange(0.2, 2.2, 0.2)\n",
    "episodes = 20\n",
    "runs = 30\n",
    "lam = 0.9\n",
    "rewards = np.zeros((len(traceTypes), len(alphas), runs, episodes))\n",
    "\n",
    "for traceInd, trace in enumerate(traceTypes):\n",
    "    for alphaInd, alpha in enumerate(alphas):\n",
    "        for run in tqdm(range(runs)):\n",
    "            evaluator = Sarsa(alpha, lam, trace)\n",
    "            for ep in range(episodes):\n",
    "                if trace == accumulating_trace and alpha > 0.6:\n",
    "                    steps = STEP_LIMIT\n",
    "                else:\n",
    "                    steps = play(evaluator)\n",
    "                rewards[traceInd, alphaInd, run, ep] = -steps\n",
    "\n",
    "# average over episodes\n",
    "rewards = np.mean(rewards, axis=3)\n",
    "\n",
    "# average over runs\n",
    "rewards = np.mean(rewards, axis=2)\n",
    "\n",
    "for traceInd, trace in enumerate(traceTypes):\n",
    "    plt.plot(alphas, rewards[traceInd, :], label=trace.__name__)\n",
    "plt.xlabel('alpha * # of tilings (8)')\n",
    "plt.ylabel('averaged rewards pre episode')\n",
    "plt.ylim([-550, -150])\n",
    "plt.legend()\n",
    "\n",
    "plt.show()\n",
    "plt.close()"
   ]
  },
  {
   "cell_type": "code",
   "execution_count": null,
   "metadata": {},
   "outputs": [],
   "source": []
  }
 ],
 "metadata": {
  "kernelspec": {
   "display_name": "Python 3 (ipykernel)",
   "language": "python",
   "name": "python3"
  },
  "language_info": {
   "codemirror_mode": {
    "name": "ipython",
    "version": 3
   },
   "file_extension": ".py",
   "mimetype": "text/x-python",
   "name": "python",
   "nbconvert_exporter": "python",
   "pygments_lexer": "ipython3",
   "version": "3.8.10"
  }
 },
 "nbformat": 4,
 "nbformat_minor": 1
}
